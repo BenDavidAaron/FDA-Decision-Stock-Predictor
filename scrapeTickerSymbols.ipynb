{
 "cells": [
  {
   "cell_type": "markdown",
   "metadata": {
    "deletable": true,
    "editable": true
   },
   "source": [
    "## Lets go shopping for Stock Ticker Symbols!"
   ]
  },
  {
   "cell_type": "code",
   "execution_count": 1,
   "metadata": {
    "collapsed": false,
    "deletable": true,
    "editable": true
   },
   "outputs": [],
   "source": [
    "import requests\n",
    "from retrying import retry\n",
    "from bs4 import BeautifulSoup\n",
    "import dill\n",
    "from tqdm import tqdm_notebook"
   ]
  },
  {
   "cell_type": "markdown",
   "metadata": {
    "deletable": true,
    "editable": true
   },
   "source": [
    "###### Starting from [BioPharm Catalyst](https://www.biopharmcatalyst.com/calendars/fda-calendar)\n",
    "We can use requests to pull the site, and bs4 to parse, generating a set of stock ticker symbols in `bpcTickers`"
   ]
  },
  {
   "cell_type": "code",
   "execution_count": 2,
   "metadata": {
    "collapsed": false,
    "deletable": true,
    "editable": true
   },
   "outputs": [],
   "source": [
    "bpcReq = requests.get(\"https://www.biopharmcatalyst.com/calendars/fda-calendar\")"
   ]
  },
  {
   "cell_type": "code",
   "execution_count": 3,
   "metadata": {
    "collapsed": false,
    "deletable": true,
    "editable": true
   },
   "outputs": [],
   "source": [
    "bpcSup = BeautifulSoup(bpcReq.text, \"lxml\")"
   ]
  },
  {
   "cell_type": "code",
   "execution_count": 4,
   "metadata": {
    "collapsed": false,
    "deletable": true,
    "editable": true
   },
   "outputs": [],
   "source": [
    "bpcTickers = set()\n",
    "for tag in bpcSup.find_all('a', {'class': 'ticker'}):\n",
    "    bpcTickers.add(tag.text)"
   ]
  },
  {
   "cell_type": "code",
   "execution_count": 5,
   "metadata": {
    "collapsed": false,
    "deletable": true,
    "editable": true
   },
   "outputs": [
    {
     "name": "stdout",
     "output_type": "stream",
     "text": [
      "249\n",
      "set([u'VSAR', u'AGN', u'KITE', u'AAAP', u'NBRV', u'OCUL', u'SAGE', u'BPTH', u'AGTC', u'AGEN', u'MTNB', u'SNDX', u'HSGX', u'MEIP', u'GSK', u'DARE', u'ANIK', u'RETA', u'DBVT', u'VNDA', u'BYSI', u'ONTX', u'GERN', u'CRBP', u'CHMA', u'VRTX', u'PRQR', u'AVIR', u'MYL', u'AZN', u'MBIO', u'AQXP', u'AGLE', u'NVAX', u'DRRX', u'BOLD', u'EXEL', u'SPPI', u'FLXN', u'RVNC', u'XBIT', u'MRK', u'KPTI', u'FGEN', u'PBYI', u'OTIC', u'AMRN', u'ACOR', u'CLRB', u'CEMP', u'KMPH', u'TGTX', u'ANAB', u'TNXP', u'ALRN', u'JNCE', u'JNJ', u'PSTI', u'SNY', u'ARGX', u'AMAG', u'AFMD', u'ARGS', u'GWPH', u'CNAT', u'REGN', u'GBT', u'CRMD', u'LPCN', u'SVRA', u'GTXI', u'ESPR', u'ZFGN', u'ZYNE', u'CLBS', u'LLY', u'KALA', u'PHMMF', u'PTI', u'DCTH', u'IDRA', u'VTVT', u'ARNA', u'SGMO', u'DVAX', u'ALNY', u'SGEN', u'VBLT', u'BMY', u'BHVN', u'EGRX', u'EVOK', u'VRNA', u'BCRX', u'CAPR', u'AXSM', u'GLMD', u'SMMT', u'EYEG', u'CPRX', u'RARE', u'TCON', u'HALO', u'XNCR', u'FBIO', u'NVS', u'RNN', u'FENC', u'AST', u'BTX', u'KURA', u'CBIO', u'AIMT', u'NVO', u'OGEN', u'CLDX', u'ANTH', u'EBIO', u'HRTX', u'XENT', u'SBBP', u'MRUS', u'TOCA', u'IMDZ', u'AMGN', u'SPHS', u'XLRN', u'FOLD', u'MTFB', u'MBRX', u'GEMP', u'AVEO', u'FCSC', u'ONCS', u'VRX', u'INVA', u'RDUS', u'MBVX', u'BLRX', u'MCRB', u'ONCE', u'LOXO', u'IONS', u'MDGL', u'CNCE', u'CDTX', u'VTL', u'CFRX', u'GILD', u'LJPC', u'RGNX', u'CORI', u'MNOV', u'CORT', u'GALE', u'ATRS', u'PRTA', u'CLSD', u'ABUS', u'IMGN', u'AZRX', u'ALDX', u'PRTO', u'CLSN', u'BLUE', u'MYOK', u'MRNS', u'RIGL', u'RXDX', u'EGLT', u'PLX', u'ADXS', u'VKTX', u'TBPH', u'MDWD', u'NLNK', u'EARS', u'GALT', u'AGRX', u'BLPH', u'GNMX', u'AKBA', u'NBIX', u'AXON', u'DERM', u'OCRX', u'ABIO', u'STML', u'SNNA', u'EPZM', u'PTCT', u'KMDA', u'CTIC', u'CYTK', u'FLKS', u'PTLA', u'KERX', u'ATNM', u'EIGR', u'BIIB', u'KDMN', u'MRSN', u'PTGX', u'NVCR', u'TTPH', u'MDCO', u'SCYX', u'IMRN', u'CELG', u'ATNX', u'ARRY', u'PULM', u'GTHX', u'RXII', u'OBSV', u'APRI', u'RGLS', u'AERI', u'IOVA', u'AEZS', u'ABBV', u'RDHL', u'OHRP', u'MESO', u'ALXN', u'TSRO', u'CALA', u'ICPT', u'DMTX', u'MACK', u'ADRO', u'IRWD', u'ACRS', u'CATB', u'ZGNX', u'PFE', u'ALKS', u'ACRX', u'IPCI', u'SRNE', u'FOMX', u'VICL', u'SGYP', u'NKTR', u'INCY', u'ARDX', u'SNGX', u'MRTX', u'UTHR'])\n"
     ]
    }
   ],
   "source": [
    "#Well this is every ticker on BPC\n",
    "print len(bpcTickers)\n",
    "print bpcTickers"
   ]
  },
  {
   "cell_type": "markdown",
   "metadata": {
    "deletable": true,
    "editable": true
   },
   "source": [
    "###### Lets now pull a set from another site\n",
    "How about [valinv](https://www.valinv.com/pdufa/history/1)?\n",
    "This will require requesting multiple pages"
   ]
  },
  {
   "cell_type": "code",
   "execution_count": 6,
   "metadata": {
    "collapsed": true,
    "deletable": true,
    "editable": true
   },
   "outputs": [],
   "source": [
    "import re"
   ]
  },
  {
   "cell_type": "code",
   "execution_count": 7,
   "metadata": {
    "collapsed": false,
    "deletable": true,
    "editable": true
   },
   "outputs": [],
   "source": [
    "valTickers = set()\n",
    "valTagPref = re.compile(r'/stock/[A-Z]{1,5}')\n",
    "#A RegEx for parsing Valinv's links\n",
    "maxPgNum = 4 \n",
    "#This should be the highest numbered page to be requested, plus one, from valinv's FDA calendar \n",
    "#(at time of writing there were pages 1-3 avalible)\n",
    "for pgnum in range(1,maxPgNum):\n",
    "    valReq = requests.get(\"https://www.valinv.com/pdufa/history/%s\" % pgnum)\n",
    "    valSup = BeautifulSoup(valReq.text, \"lxml\")\n",
    "    for tag in valSup.find_all('a', {'href':valTagPref}):\n",
    "        valTickers.add(tag.text)"
   ]
  },
  {
   "cell_type": "markdown",
   "metadata": {
    "deletable": true,
    "editable": true
   },
   "source": [
    "So how many ticker symbols have we gathered?"
   ]
  },
  {
   "cell_type": "markdown",
   "metadata": {
    "deletable": true,
    "editable": true
   },
   "source": [
    "###### Lets pull from another site\n",
    "How about [RTT News](http://www.rttnews.com/CorpInfo/FDACalendar.aspx?PageNum=1)?"
   ]
  },
  {
   "cell_type": "code",
   "execution_count": 8,
   "metadata": {
    "collapsed": true,
    "deletable": true,
    "editable": true
   },
   "outputs": [],
   "source": [
    "rttTickers = set()\n",
    "rttTagPref = re.compile(r'http://www\\.rttnews\\.com/symbolsearch\\.aspx\\?symbol=[A-Z]{1,5}')\n",
    "#A RegEx for parsing RTT's links\n",
    "maxPgNum = 6 \n",
    "#This should be the highest numbered page to be requested, plus one, from RTT's FDA calendar \n",
    "#(at time of writing there were pages 1-5 avalible)\n",
    "for pgnum in range(1,maxPgNum):\n",
    "    rttReq = requests.get(\"http://www.rttnews.com/CorpInfo/FDACalendar.aspx?PageNum=%s\" % pgnum)\n",
    "    rttSup = BeautifulSoup(rttReq.text, \"lxml\")\n",
    "    for tag in rttSup.find_all('a', {'href':rttTagPref}):\n",
    "        rttTickers.add(tag.text)"
   ]
  },
  {
   "cell_type": "code",
   "execution_count": 9,
   "metadata": {
    "collapsed": false,
    "deletable": true,
    "editable": true,
    "scrolled": true
   },
   "outputs": [
    {
     "name": "stdout",
     "output_type": "stream",
     "text": [
      "set([u'XENT', u'AGIO', u'KITE', u'MDCO', u'AMGN', u'PTCT', u'LLY', u'RARE', u'PTLA', u'VRX', u'HALO', u'DVAX', u'TEVA', u'LGND', u'BMY', u'ARRY', u'MYL', u'RHHBY', u'EGRX', u'KMDA', u' AZN', u'GILD', u'JAZZ', u'FLXN', u'KIND', u'NEOS', u'ATRS', u'OCUL', u'TSRO', u'MRK', u'NVS', u'RDUS', u'ADMS', u'PBYI', u'OTIC', u'CELG', u'PFE', u'ABBV', u'IRWD', u'ACRX', u'IPCI', u' AEZS', u' GSK', u'NVO', u'JNJ', u'SGYP'])\n"
     ]
    }
   ],
   "source": [
    "print(rttTickers)"
   ]
  },
  {
   "cell_type": "markdown",
   "metadata": {
    "deletable": true,
    "editable": true
   },
   "source": [
    "## SO?\n",
    "we've got every ticker symbol from the first three sites I found dealing with PDFUA dates, which companies are represented, and how many follows this title"
   ]
  },
  {
   "cell_type": "code",
   "execution_count": 10,
   "metadata": {
    "collapsed": false,
    "deletable": true,
    "editable": true
   },
   "outputs": [],
   "source": [
    "allTicks = set()\n",
    "allTicks.update(valTickers)\n",
    "allTicks.update(bpcTickers)\n",
    "allTicks.update(rttTickers)"
   ]
  },
  {
   "cell_type": "code",
   "execution_count": 11,
   "metadata": {
    "collapsed": false,
    "deletable": true,
    "editable": true,
    "scrolled": true
   },
   "outputs": [
    {
     "name": "stdout",
     "output_type": "stream",
     "text": [
      "284\n"
     ]
    }
   ],
   "source": [
    "print len(allTicks)"
   ]
  },
  {
   "cell_type": "code",
   "execution_count": 12,
   "metadata": {
    "collapsed": false,
    "deletable": true,
    "editable": true,
    "scrolled": true
   },
   "outputs": [
    {
     "name": "stdout",
     "output_type": "stream",
     "text": [
      "set([u'VSAR', u'AGN', u'KITE', u'KALA', u'SAGE', u'BPTH', u'AGEN', u'ESPR', u'XENT', u'RETA', u'IRWD', u'VNDA', u'BYSI', u'CNAT', u'ALDR', u'VRTX', u'AGLE', u'DRRX', u'EXEL', u'FLXN', u'XBIT', u'JNCE', u'MEIP', u'ADMP', u'ADMS', u'OTIC', u'BMY', u'CEMP', u'KMPH', u'ANAB', u'INVA', u'ITEK', u'JNJ', u'PSTI', u' GSK', u'SNY', u'AMAG', u'AFMD', u'GWPH', u'GBT', u'CRMD', u'LPCN', u'SVRA', u'VCEL', u'PTGX', u'ADXS', u'PHMMF', u'DCTH', u'TBPH', u'DVAX', u'SGEN', u'IOVA', u'BHVN', u'NVLS', u'EGRX', u'BCRX', u'AXSM', u'GLMD', u'CPRX', u'RARE', u'HALO', u'NLNK', u'NVS', u'RNN', u'ALDX', u'OPHT', u'KURA', u'TENX', u'NVO', u'OPK', u'EBIO', u'HRTX', u'MTNB', u'MRUS', u'SPPI', u'AMGN', u'CRBP', u'VTL', u'SMMT', u'AZN', u'VRX', u'RDUS', u'MBVX', u'BLRX', u'LOXO', u'CNCE', u'IMGN', u'CORI', u'LJPC', u'MNOV', u'GALE', u'ATRS', u'CLSD', u'INNL', u'CLSN', u' AZN', u'TXMD', u'CHRS', u' AEZS', u'PLX', u'EARS', u'AKBA', u'MYOK', u'OCRX', u'EPZM', u'PGNX', u'CYCC', u'FLKS', u'BLPH', u'ATNM', u'MRNS', u'HSGX', u'PTCT', u'CBIO', u'MDCO', u'IMRN', u'CELG', u'ATNX', u'RXII', u'APRI', u'AERI', u'NEOS', u'RDHL', u'OHRP', u'MESO', u'ANTH', u'ICPT', u'DMTX', u'ADRO', u'ACRS', u'CERC', u'ACRX', u'SRNE', u'GTHX', u'INCY', u'CALA', u'SNGX', u'SGYP', u'AAAP', u'ANIK', u'KDMN', u'ZFGN', u'AGTC', u'MRSN', u'GSK', u'DARE', u'DBVT', u'KERX', u'ONTX', u'GERN', u'CHMA', u'PRQR', u'AVIR', u'MYL', u'RXDX', u'MBIO', u'NVAX', u'SNNA', u'BOLD', u'RVNC', u'MRK', u'KPTI', u'PBYI', u'AMRN', u'FOLD', u'HTBX', u'TGTX', u'VBLT', u'ALRN', u'ARGX', u'ARGS', u'HZNP', u'REGN', u'BMRN', u'ARQL', u'GTXI', u'CTIC', u'ZYNE', u'LLY', u'PTI', u'IDRA', u'VTVT', u'SGMO', u'TEVA', u'ALNY', u'ACOR', u'TNXP', u'EVOK', u'JAZZ', u'CAPR', u'UTHR', u'EYEG', u'TCON', u'AQXP', u'AVEO', u'FBIO', u'AMPH', u'FENC', u'FCSC', u'BTX', u'LXRX', u'NVCR', u'ONCS', u'OGEN', u'CLDX', u'OCUL', u'AGIO', u'TOCA', u'IMDZ', u'SPHS', u'XLRN', u'CLRB', u'ADHD', u'MTFB', u'MBRX', u'GEMP', u'XNCR', u'AST', u'AIMT', u'LGND', u'MCRB', u'SNDX', u'IONS', u'MDGL', u'CDTX', u'GILD', u'FGEN', u'RGNX', u'SBBP', u'CORT', u'PRTA', u'ABUS', u'AZRX', u'PRTO', u'ALKS', u'BLUE', u'RIGL', u'EGLT', u'CLBS', u'VKTX', u'ARNA', u'MDWD', u'ONCE', u'VRNA', u'GALT', u'AGRX', u'GNMX', u'NBIX', u'AXON', u'DERM', u'ABIO', u'STML', u'KMDA', u'CYTK', u'PTLA', u'EIGR', u'BIIB', u'NBRV', u'TTPH', u'SCYX', u'CYTR', u'ARRY', u'AKAO', u'PULM', u'OBSV', u'RGLS', u'KIND', u'AEZS', u'ABBV', u'ALXN', u'TSRO', u'ARDX', u'MACK', u'TRVN', u'RHHBY', u'CFRX', u'CATB', u'ZGNX', u'PFE', u'IPCI', u'FOMX', u'VICL', u'NKTR', u'MRTX'])\n"
     ]
    }
   ],
   "source": [
    "print allTicks"
   ]
  },
  {
   "cell_type": "markdown",
   "metadata": {
    "deletable": true,
    "editable": true
   },
   "source": [
    "Lets pickle this for later use, so we can save my poor cloud box some RAM\n",
    "\n",
    "...we're gonna need it when we start pulling stock prices for all these companies"
   ]
  },
  {
   "cell_type": "code",
   "execution_count": 13,
   "metadata": {
    "collapsed": false,
    "deletable": true,
    "editable": true
   },
   "outputs": [],
   "source": [
    "dill.dump(allTicks, open('Set_of_Ticker_Symbols.pkl', 'w'))"
   ]
  }
 ],
 "metadata": {
  "kernelspec": {
   "display_name": "Python 2",
   "language": "python",
   "name": "python2"
  },
  "language_info": {
   "codemirror_mode": {
    "name": "ipython",
    "version": 2
   },
   "file_extension": ".py",
   "mimetype": "text/x-python",
   "name": "python",
   "nbconvert_exporter": "python",
   "pygments_lexer": "ipython2",
   "version": "2.7.13"
  }
 },
 "nbformat": 4,
 "nbformat_minor": 2
}
