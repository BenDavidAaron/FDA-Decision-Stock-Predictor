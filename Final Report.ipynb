{
 "cells": [
  {
   "cell_type": "markdown",
   "metadata": {
    "deletable": true,
    "editable": true
   },
   "source": [
    "# TDI Capstone - Final Report"
   ]
  },
  {
   "cell_type": "markdown",
   "metadata": {
    "deletable": true,
    "editable": true
   },
   "source": [
    "### Abstract:\n",
    "Phase III clincial trials have a massive effect on the market captalizatizations of pharmaceutical companies. A successful phase III trial for a novel drug allows a company to begin marketing drugs to a previously unserved clinical indication, yielding large revenue streams. In order for a drug to pass it must pass through roughly 10 years of Research and be tested on thousands (or tens of thousands) of patients. \n",
    "\n",
    "The long time scales of trials and the sheer numbers of people involved (patients, research scientists, clinicans, research coordinators, goverment regulators...), means that priveleged information regarding trial status has an unusally high level of exposure, compared to other high tech industries. [Recent research](https://academic.oup.com/jnci/article/103/20/1507/904625/Company-Stock-Prices-Before-and-After-Public) suggests that this information exposure can cause detectable movement in this public stock markets. \n",
    "\n",
    "If leaks of priveleged information can affect the valuations of pharmaceutical companies, can the movements of these valutaions be identified using Machine Learning and used to inform smarter trading decisions? "
   ]
  },
  {
   "cell_type": "markdown",
   "metadata": {
    "deletable": true,
    "editable": true
   },
   "source": [
    "### Gathering Data:"
   ]
  },
  {
   "cell_type": "markdown",
   "metadata": {
    "deletable": true,
    "editable": true
   },
   "source": [
    "To start with this problem, we need to select a range of target companies (in the pharma sector), find daily closing prices of thier stocks, and get the dates of thier relevant approval announcements. With this information, I'll attempt to extract features and train a machine learning model. \n",
    "\n",
    "Data Sources: \n",
    "* [fdaTracker.com's free PDUFA Calendar](https://www.fdatracker.com/fda-calendar/)\n",
    "* [Biopharm Catalyst's upcoming PDUFA Calendar](https://www.biopharmcatalyst.com/calendars/fda-calendar)\n",
    "* [AlphaVantage's Stock Price API](https://www.alphavantage.co/)"
   ]
  },
  {
   "cell_type": "markdown",
   "metadata": {
    "deletable": true,
    "editable": true
   },
   "source": [
    "###### First:\n",
    "First, lets get the historical PDUFA (FDA announcement) Dates:"
   ]
  },
  {
   "cell_type": "code",
   "execution_count": 1,
   "metadata": {
    "collapsed": false,
    "deletable": true,
    "editable": true
   },
   "outputs": [],
   "source": [
    "from urllib2 import urlopen\n",
    "import ics\n",
    "import re\n",
    "from datetime import datetime\n",
    "from alpha_vantage.timeseries import TimeSeries\n",
    "from tqdm import tqdm_notebook\n",
    "import numpy as np\n",
    "import pandas as pd\n",
    "import dill"
   ]
  },
  {
   "cell_type": "code",
   "execution_count": 2,
   "metadata": {
    "collapsed": false,
    "deletable": true,
    "editable": true
   },
   "outputs": [
    {
     "data": {
      "text/plain": [
       "<Calendar with 552 events>"
      ]
     },
     "execution_count": 2,
     "metadata": {},
     "output_type": "execute_result"
    }
   ],
   "source": [
    "tickerRe = re.compile(r\"\\A[A-Z]{3,4}\\W\")\n",
    "today = datetime.today()\n",
    "\n",
    "FdaUrl = \"https://calendar.google.com/calendar/ical/5dso8589486irtj53sdkr4h6ek%40group.calendar.google.com/public/basic.ics\"\n",
    "FdaCal = ics.Calendar(urlopen(FdaUrl).read().decode('iso-8859-1'))\n",
    "FdaCal"
   ]
  },
  {
   "cell_type": "code",
   "execution_count": 3,
   "metadata": {
    "collapsed": false,
    "deletable": true,
    "editable": true
   },
   "outputs": [],
   "source": [
    "past_pdufa_syms = set()\n",
    "for event in FdaCal.events:\n",
    "    matches = re.findall(tickerRe, event.name)\n",
    "    if len(matches) >=1:\n",
    "        eComp = str(matches[0]).strip().strip(\".\")\n",
    "        past_pdufa_syms.add(eComp)"
   ]
  },
  {
   "cell_type": "code",
   "execution_count": 4,
   "metadata": {
    "collapsed": false,
    "deletable": true,
    "editable": true
   },
   "outputs": [
    {
     "name": "stdout",
     "output_type": "stream",
     "text": [
      "set(['ENTA', 'AAAP', 'PAR', 'KITE', 'BSTC', 'DNDN', 'ELTP', 'ZSPH', 'GSK', 'CLVS', 'ADLR', 'XENT', 'IRWD', 'VNDA', 'RPTP', 'ACUR', 'DEPO', 'ARIA', 'CHMA', 'VRTX', 'OREX', 'THRX', 'HPTX', 'PCRX', 'ENDP', 'NAVB', 'DRRX', 'OTIC', 'EXEL', 'FLXN', 'ZGEN', 'DSCO', 'SRPT', 'PSDV', 'BCRX', 'MRK', 'ADMP', 'ADMS', 'ISTA', 'AMRN', 'BMY', 'ITMN', 'CEMP', 'KMPH', 'RLYP', 'ANAC', 'SUPN', 'JNJ', 'AERI', 'SNY', 'VION', 'AMAG', 'HZNP', 'REGN', 'SOMX', 'COLL', 'CRTX', 'LPCN', 'VCEL', 'GTXI', 'CTIC', 'LLY', 'AFFY', 'CYPB', 'HGSI', 'OCUL', 'AEGR', 'HOLX', 'OSI', 'DVAX', 'TEVA', 'SGEN', 'TTNP', 'ACOR', 'RPRX', 'EGRX', 'JAZZ', 'AUXL', 'QCOR', 'FLML', 'NEOS', 'AGRX', 'RARE', 'RDUS', 'NGSX', 'RMTI', 'NPSP', 'CLDA', 'DYAX', 'ALTH', 'ARLZ', 'VVUS', 'LXRX', 'NVO', 'MELA', 'ANX', 'SCMP', 'POZN', 'HRTX', 'ACAD', 'AGIO', 'TSRO', 'RGEN', 'FURX', 'SPPI', 'AMGN', 'ONXX', 'BMTI', 'BPAX', 'REPH', 'DOR', 'NEW', 'WCRX', 'ASTX', 'KTOV', 'ISIS', 'AVEO', 'BIOD', 'GNBT', 'VRX', 'IGXT', 'LGND', 'MDVN', 'AMLN', 'OMER', 'KMDA', 'APPA', 'OPTR', 'SLXP', 'AVNR', 'TSPT', 'GILD', 'LJPC', 'SHPG', 'GEVA', 'CORI', 'CORT', 'ATRS', 'ZGNX', 'HEB', 'NVS', 'FRX', 'EPIX', 'TXMD', 'ALIM', 'RIGL', 'CHTP', 'EGLT', 'PTIE', 'PLX', 'ARNA', 'BMRN', 'ONCE', 'IPCI', 'AZN', 'CADX', 'SRNE', 'AIS', 'NBIX', 'ABIO', 'INSV', 'INSY', 'PATH', 'PGNX', 'IMGN', 'PPDI', 'PTLA', 'KERX', 'INCY', 'BIIB', 'MAPP', 'PTCT', 'MDCO', 'CELG', 'PDLI', 'ARRY', 'AKRX', 'SNTS', 'CBRX', 'PCYC', 'APRI', 'UTHR', 'NEOL', 'AEZS', 'ABBV', 'RDHL', 'ACRS', 'ALXN', 'XNPT', 'ICPT', 'SVNT', 'ALXA', 'MACK', 'MNKD', 'IPXL', 'PFE', 'ALKS', 'ACRX', 'DCTH', 'ARDM', 'BDSI', 'PDL', 'DRTX', 'EBS', 'KYTH', 'OPK', 'SGYP'])\n"
     ]
    }
   ],
   "source": [
    "print past_pdufa_syms"
   ]
  },
  {
   "cell_type": "code",
   "execution_count": 5,
   "metadata": {
    "collapsed": false,
    "deletable": true,
    "editable": true
   },
   "outputs": [],
   "source": [
    "av_key_handle = open(\"alphavantage.apikey\", \"r\")\n",
    "ts = TimeSeries(key=av_key_handle.read().strip(), output_format='pandas')\n",
    "av_key_handle.close()"
   ]
  },
  {
   "cell_type": "code",
   "execution_count": 13,
   "metadata": {
    "collapsed": false,
    "deletable": true,
    "editable": true,
    "scrolled": true
   },
   "outputs": [
    {
     "name": "stdout",
     "output_type": "stream",
     "text": [
      "\n"
     ]
    }
   ],
   "source": [
    "dataframes = dict()\n",
    "value_errors = set()\n",
    "other_errors = set()\n",
    "for ticker in tqdm_notebook(past_pdufa_syms):\n",
    "    try:\n",
    "        df, meta = ts.get_daily(symbol=ticker, outputsize='full')\n",
    "        dataframes[meta[\"2. Symbol\"]] = df\n",
    "    except ValueError:\n",
    "        value_errors.add(ticker)\n",
    "    except:\n",
    "        other_errors.add(ticker)"
   ]
  },
  {
   "cell_type": "code",
   "execution_count": 15,
   "metadata": {
    "collapsed": false,
    "deletable": true,
    "editable": true
   },
   "outputs": [
    {
     "name": "stdout",
     "output_type": "stream",
     "text": [
      "set(['VION', 'PCYC', 'FURX', 'DNDN', 'AIS', 'GEVA', 'BPAX', 'INSV', 'ZSPH', 'ADLR', 'CBRX', 'PPDI', 'ISIS', 'CYPB', 'HGSI', 'AEGR', 'ARIA', 'THRX', 'MDVN', 'HPTX', 'APPA', 'SLXP', 'SNTS', 'AVNR', 'AUXL', 'TSPT', 'QCOR', 'FLML', 'NEOL', 'ZGEN', 'DSCO', 'XNPT', 'SVNT', 'ALXA', 'FRX', 'NGSX', 'ISTA', 'NPSP', 'CLDA', 'RPTP', 'DYAX', 'CHTP', 'ITMN', 'RLYP', 'BIOD', 'ANAC', 'DRTX', 'KYTH', 'MELA', 'ANX', 'POZN'])\n",
      "set(['ASTX', 'WCRX'])\n"
     ]
    }
   ],
   "source": [
    "print value_errors\n",
    "print other_errors"
   ]
  },
  {
   "cell_type": "code",
   "execution_count": 39,
   "metadata": {
    "collapsed": false,
    "deletable": true,
    "editable": true
   },
   "outputs": [],
   "source": [
    "dill.dump(dataframes, open('final_raw_dataframe_dict.pkl', 'w'))"
   ]
  },
  {
   "cell_type": "markdown",
   "metadata": {
    "deletable": true,
    "editable": true
   },
   "source": [
    "###### Mini Checkpoint for slow API calls"
   ]
  },
  {
   "cell_type": "code",
   "execution_count": 40,
   "metadata": {
    "collapsed": false,
    "deletable": true,
    "editable": true
   },
   "outputs": [],
   "source": [
    "dataframes = dill.load(open('final_raw_dataframe_dict.pkl', 'r'))"
   ]
  },
  {
   "cell_type": "markdown",
   "metadata": {
    "deletable": true,
    "editable": true
   },
   "source": [
    "Now we'll run through our past FDA dates and join the FDA actions to each dataframe"
   ]
  },
  {
   "cell_type": "code",
   "execution_count": 41,
   "metadata": {
    "collapsed": false,
    "deletable": true,
    "editable": true
   },
   "outputs": [],
   "source": [
    "company_list = dataframes.keys()"
   ]
  },
  {
   "cell_type": "code",
   "execution_count": 42,
   "metadata": {
    "collapsed": false,
    "deletable": true,
    "editable": true
   },
   "outputs": [
    {
     "name": "stdout",
     "output_type": "stream",
     "text": [
      "\n"
     ]
    }
   ],
   "source": [
    "price_and_fda = dict()\n",
    "for company in tqdm_notebook(company_list):\n",
    "    company_events = []\n",
    "    for event in FdaCal.events:\n",
    "        matches = re.findall(tickerRe, event.name)\n",
    "        if len(matches)>=1:\n",
    "            if company in matches[0]:\n",
    "                company_events.append((event.begin.datetime.strftime(\"%Y-%m-%d\"), True))\n",
    "    price = dataframes[company]\n",
    "    raw_dates = pd.DataFrame(company_events, columns = [\"date\", \"pdufa?\"])\n",
    "    dates = raw_dates.set_index(\"date\")\n",
    "    final = price.join(dates,rsuffix='_y')\n",
    "    final['pdufa?'].fillna(value=False, inplace = True)\n",
    "    price_and_fda[company] = final"
   ]
  },
  {
   "cell_type": "markdown",
   "metadata": {
    "deletable": true,
    "editable": true
   },
   "source": [
    "That leaves us with a dict of dataframes containing every company's stock price, and FDA action dates"
   ]
  },
  {
   "cell_type": "code",
   "execution_count": 43,
   "metadata": {
    "collapsed": false,
    "deletable": true,
    "editable": true
   },
   "outputs": [
    {
     "data": {
      "text/html": [
       "<div>\n",
       "<style>\n",
       "    .dataframe thead tr:only-child th {\n",
       "        text-align: right;\n",
       "    }\n",
       "\n",
       "    .dataframe thead th {\n",
       "        text-align: left;\n",
       "    }\n",
       "\n",
       "    .dataframe tbody tr th {\n",
       "        vertical-align: top;\n",
       "    }\n",
       "</style>\n",
       "<table border=\"1\" class=\"dataframe\">\n",
       "  <thead>\n",
       "    <tr style=\"text-align: right;\">\n",
       "      <th></th>\n",
       "      <th>volume</th>\n",
       "      <th>close</th>\n",
       "      <th>high</th>\n",
       "      <th>open</th>\n",
       "      <th>low</th>\n",
       "      <th>pdufa?</th>\n",
       "    </tr>\n",
       "  </thead>\n",
       "  <tbody>\n",
       "    <tr>\n",
       "      <th>2013-03-21</th>\n",
       "      <td>1763600.0</td>\n",
       "      <td>17.18</td>\n",
       "      <td>17.85</td>\n",
       "      <td>14.51</td>\n",
       "      <td>14.31</td>\n",
       "      <td>False</td>\n",
       "    </tr>\n",
       "    <tr>\n",
       "      <th>2013-03-22</th>\n",
       "      <td>75200.0</td>\n",
       "      <td>16.81</td>\n",
       "      <td>17.57</td>\n",
       "      <td>17.57</td>\n",
       "      <td>16.71</td>\n",
       "      <td>False</td>\n",
       "    </tr>\n",
       "    <tr>\n",
       "      <th>2013-03-25</th>\n",
       "      <td>24100.0</td>\n",
       "      <td>16.83</td>\n",
       "      <td>17.40</td>\n",
       "      <td>17.40</td>\n",
       "      <td>16.80</td>\n",
       "      <td>False</td>\n",
       "    </tr>\n",
       "  </tbody>\n",
       "</table>\n",
       "</div>"
      ],
      "text/plain": [
       "               volume  close   high   open    low  pdufa?\n",
       "2013-03-21  1763600.0  17.18  17.85  14.51  14.31   False\n",
       "2013-03-22    75200.0  16.81  17.57  17.57  16.71   False\n",
       "2013-03-25    24100.0  16.83  17.40  17.40  16.80   False"
      ]
     },
     "execution_count": 43,
     "metadata": {},
     "output_type": "execute_result"
    }
   ],
   "source": [
    "price_and_fda['ENTA'].head(3)"
   ]
  },
  {
   "cell_type": "markdown",
   "metadata": {
    "deletable": true,
    "editable": true
   },
   "source": [
    "Now that I've got a good crop of downloaded data, lets cache it for good measure. "
   ]
  },
  {
   "cell_type": "code",
   "execution_count": 187,
   "metadata": {
    "collapsed": false,
    "deletable": true,
    "editable": true
   },
   "outputs": [],
   "source": [
    "dill.dump(price_and_fda, open(\"final_Prices_and_PDUFAs.pkl\", \"w\"))"
   ]
  },
  {
   "cell_type": "markdown",
   "metadata": {
    "deletable": true,
    "editable": true
   },
   "source": [
    "### Checkpoint 1 - FDA Action Dates Joined to Equity Prices"
   ]
  },
  {
   "cell_type": "code",
   "execution_count": 188,
   "metadata": {
    "collapsed": false,
    "deletable": true,
    "editable": true
   },
   "outputs": [],
   "source": [
    "price_and_fda = dill.load(open(\"final_Prices_and_PDUFAs.pkl\", \"r\"))"
   ]
  },
  {
   "cell_type": "markdown",
   "metadata": {
    "deletable": true,
    "editable": true
   },
   "source": [
    "So thats every company's stock prices, with PDUFA dates going back to around 2006, and pricing data going back to 2001. More than enough data for our analysis. \n",
    "\n",
    "Lets unify all the prices into one frame, to construct a pharmaceutical price index. This will give us a base price to normalize our stock prices against, insulating our model from general economic events (the '08 housing crash) or events affecting the whole pharmaceutical sector (passage of new FDA regulations). "
   ]
  },
  {
   "cell_type": "code",
   "execution_count": 46,
   "metadata": {
    "collapsed": false,
    "deletable": true,
    "editable": true
   },
   "outputs": [],
   "source": [
    "price_and_fda = dill.load(open(\"Prices_and_PDUFAs_final\", \"r\"))"
   ]
  },
  {
   "cell_type": "code",
   "execution_count": 47,
   "metadata": {
    "collapsed": false,
    "deletable": true,
    "editable": true
   },
   "outputs": [],
   "source": [
    "first = True\n",
    "for ticker, comp_df in price_and_fda.iteritems():\n",
    "    if first:\n",
    "        market_df = comp_df.copy()\n",
    "        market_df.columns = [\"volume-\"+ticker,\n",
    "                             \"close-\"+ticker,\n",
    "                             \"high-\"+ticker,\n",
    "                             \"open-\"+ticker,\n",
    "                             \"low-\"+ticker,\n",
    "                             \"pdufa?-\"+ticker]\n",
    "        first = False\n",
    "    else:\n",
    "        market_df = pd.merge(market_df, comp_df, how='outer', left_index=True, right_index=True, suffixes=('', '-'+ticker))"
   ]
  },
  {
   "cell_type": "code",
   "execution_count": 48,
   "metadata": {
    "collapsed": false,
    "deletable": true,
    "editable": true
   },
   "outputs": [],
   "source": [
    "price_mean = market_df.filter(regex='close').mean(axis = 1, skipna = True)\n",
    "price_stdv = market_df.filter(regex='close').std(axis = 1, skipna = True)"
   ]
  },
  {
   "cell_type": "code",
   "execution_count": 49,
   "metadata": {
    "collapsed": true,
    "deletable": true,
    "editable": true
   },
   "outputs": [],
   "source": [
    "stats_df = pd.merge(price_mean.to_frame(),\n",
    "                    price_stdv.to_frame(), \n",
    "                    left_index=True, \n",
    "                    right_index=True, \n",
    "                    how='inner')\n",
    "stats_df.rename(columns={u'0_x':\"CP_mean\", u'0_y':\"CP_stdv\"}, inplace=True)"
   ]
  },
  {
   "cell_type": "code",
   "execution_count": 50,
   "metadata": {
    "collapsed": false,
    "deletable": true,
    "editable": true
   },
   "outputs": [
    {
     "data": {
      "text/html": [
       "<div>\n",
       "<style>\n",
       "    .dataframe thead tr:only-child th {\n",
       "        text-align: right;\n",
       "    }\n",
       "\n",
       "    .dataframe thead th {\n",
       "        text-align: left;\n",
       "    }\n",
       "\n",
       "    .dataframe tbody tr th {\n",
       "        vertical-align: top;\n",
       "    }\n",
       "</style>\n",
       "<table border=\"1\" class=\"dataframe\">\n",
       "  <thead>\n",
       "    <tr style=\"text-align: right;\">\n",
       "      <th></th>\n",
       "      <th>CP_mean</th>\n",
       "      <th>CP_stdv</th>\n",
       "    </tr>\n",
       "  </thead>\n",
       "  <tbody>\n",
       "    <tr>\n",
       "      <th>2000-01-03</th>\n",
       "      <td>28.502039</td>\n",
       "      <td>29.517285</td>\n",
       "    </tr>\n",
       "    <tr>\n",
       "      <th>2000-01-04</th>\n",
       "      <td>27.066072</td>\n",
       "      <td>28.246109</td>\n",
       "    </tr>\n",
       "    <tr>\n",
       "      <th>2000-01-05</th>\n",
       "      <td>27.154608</td>\n",
       "      <td>28.343677</td>\n",
       "    </tr>\n",
       "    <tr>\n",
       "      <th>2000-01-06</th>\n",
       "      <td>27.534455</td>\n",
       "      <td>28.559617</td>\n",
       "    </tr>\n",
       "    <tr>\n",
       "      <th>2000-01-07</th>\n",
       "      <td>29.768633</td>\n",
       "      <td>31.529028</td>\n",
       "    </tr>\n",
       "  </tbody>\n",
       "</table>\n",
       "</div>"
      ],
      "text/plain": [
       "              CP_mean    CP_stdv\n",
       "2000-01-03  28.502039  29.517285\n",
       "2000-01-04  27.066072  28.246109\n",
       "2000-01-05  27.154608  28.343677\n",
       "2000-01-06  27.534455  28.559617\n",
       "2000-01-07  29.768633  31.529028"
      ]
     },
     "execution_count": 50,
     "metadata": {},
     "output_type": "execute_result"
    }
   ],
   "source": [
    "stats_df.head()"
   ]
  },
  {
   "cell_type": "markdown",
   "metadata": {
    "deletable": true,
    "editable": true
   },
   "source": [
    "This is as good a place as any to cache the closing price index"
   ]
  },
  {
   "cell_type": "code",
   "execution_count": 51,
   "metadata": {
    "collapsed": true,
    "deletable": true,
    "editable": true
   },
   "outputs": [],
   "source": [
    "dill.dump(stats_df, open(\"close_price_stats_frame_final.pkl\", \"w\"))"
   ]
  },
  {
   "cell_type": "markdown",
   "metadata": {
    "deletable": true,
    "editable": true
   },
   "source": [
    "### Checkpoint 2"
   ]
  },
  {
   "cell_type": "code",
   "execution_count": 52,
   "metadata": {
    "collapsed": true,
    "deletable": true,
    "editable": true
   },
   "outputs": [],
   "source": [
    "stats_df = dill.load(open(\"close_price_stats_frame_final.pkl\", \"r\"))"
   ]
  },
  {
   "cell_type": "markdown",
   "metadata": {
    "deletable": true,
    "editable": true
   },
   "source": [
    "Now I have the mean and standard deviation of close prices (`stats_df`) for every day of my data coverage. This will make it easy to normalize prices for every slice of time relevant to an FDA trial. \n",
    "\n",
    "Time to cut time slices for each clinical trial and generate a population of clinical trials and normalized prices."
   ]
  },
  {
   "cell_type": "code",
   "execution_count": 53,
   "metadata": {
    "collapsed": false,
    "deletable": true,
    "editable": true,
    "scrolled": true
   },
   "outputs": [
    {
     "name": "stdout",
     "output_type": "stream",
     "text": [
      "\n"
     ]
    }
   ],
   "source": [
    "norm_data = []\n",
    "for company in tqdm_notebook(company_list):\n",
    "    df = price_and_fda[company].join(stats_df, how='left').reset_index()\n",
    "    pdufa_dates = df.index[df['pdufa?']].tolist()\n",
    "    if len(pdufa_dates) > 0:\n",
    "        for date in pdufa_dates:\n",
    "            pRange = range(date-120, date-7)\n",
    "            pCloses, pVolumes = [], []\n",
    "            for i in pRange:\n",
    "                try:\n",
    "                    close_price = df.loc[i]['close']\n",
    "                    volume = df.loc[i]['volume']\n",
    "                    mean_price = df.loc[i]['CP_mean']\n",
    "                    stdv_price = df.loc[i]['CP_stdv']\n",
    "                    pCloses.append(( df.loc[i]['index'],(close_price-mean_price)/(stdv_price) ))\n",
    "                    pVolumes.append(( df.loc[i]['index'], volume ))\n",
    "                except:\n",
    "                    pCloses.append(None)\n",
    "                    pVolumes.append(None)\n",
    "            norm_data.append((company, df.loc[date]['index'], (pCloses, pVolumes)))"
   ]
  },
  {
   "cell_type": "markdown",
   "metadata": {
    "deletable": true,
    "editable": true
   },
   "source": [
    "Well we have normalized slices, lets add the annotations from our score sheet"
   ]
  },
  {
   "cell_type": "code",
   "execution_count": 54,
   "metadata": {
    "collapsed": true,
    "deletable": true,
    "editable": true
   },
   "outputs": [],
   "source": [
    "scores = [line.split() for line in open(\"score_sheet_complete.txt\", \"r\").readlines()]"
   ]
  },
  {
   "cell_type": "code",
   "execution_count": 55,
   "metadata": {
    "collapsed": false,
    "deletable": true,
    "editable": true
   },
   "outputs": [
    {
     "name": "stdout",
     "output_type": "stream",
     "text": [
      "\n"
     ]
    }
   ],
   "source": [
    "norm_data_annotated = []\n",
    "mismatches = []\n",
    "for datum in tqdm_notebook(norm_data):\n",
    "    for score in scores:\n",
    "        if datum[0] == score [0] and datum [1] == score[1]:\n",
    "            norm_data_annotated.append((datum[0], datum[1], score[2], datum[2] ))\n",
    "            break"
   ]
  },
  {
   "cell_type": "code",
   "execution_count": 56,
   "metadata": {
    "collapsed": false,
    "deletable": true,
    "editable": true
   },
   "outputs": [],
   "source": [
    "dill.dump(norm_data_annotated, open(\"normalized_training_data.pkl\", \"w\"))"
   ]
  },
  {
   "cell_type": "markdown",
   "metadata": {
    "deletable": true,
    "editable": true
   },
   "source": [
    "### Checkpoint 3"
   ]
  },
  {
   "cell_type": "code",
   "execution_count": 57,
   "metadata": {
    "collapsed": true,
    "deletable": true,
    "editable": true
   },
   "outputs": [],
   "source": [
    "norm_data_annotated = dill.load(open(\"normalized_training_data.pkl\", \"r\"))"
   ]
  },
  {
   "cell_type": "markdown",
   "metadata": {
    "collapsed": true,
    "deletable": true,
    "editable": true
   },
   "source": [
    "Now we have normalized stock prices, in 120-7 day slices prior to FDA action dates. Lets pull those back into smaller pandas frames for feature extraction. "
   ]
  },
  {
   "cell_type": "code",
   "execution_count": 58,
   "metadata": {
    "collapsed": true,
    "deletable": true,
    "editable": true
   },
   "outputs": [],
   "source": [
    "def assemble_frame(datum):\n",
    "    df = pd.DataFrame(datum[3][0], columns=['date','norm_price'])\n",
    "    df['event'] = datum[0]+\"/\"+datum[1]\n",
    "    df['outcome'] = int(datum[2])\n",
    "    return df"
   ]
  },
  {
   "cell_type": "code",
   "execution_count": 59,
   "metadata": {
    "collapsed": false,
    "deletable": true,
    "editable": true
   },
   "outputs": [
    {
     "name": "stdout",
     "output_type": "stream",
     "text": [
      "COLL 2015-10-12 failed\n",
      "NEOS 2015-11-09 failed\n",
      "\n"
     ]
    }
   ],
   "source": [
    "first = True\n",
    "\n",
    "for line in tqdm_notebook(norm_data_annotated):\n",
    "    try:\n",
    "        if first:\n",
    "            agg_data = assemble_frame(line)\n",
    "            first = False\n",
    "        else:\n",
    "            tmp_data = assemble_frame(line)\n",
    "            agg_data = pd.concat([agg_data, tmp_data],ignore_index=True)\n",
    "    except:\n",
    "        print line[0], line[1], \"failed\""
   ]
  },
  {
   "cell_type": "code",
   "execution_count": 60,
   "metadata": {
    "collapsed": true,
    "deletable": true,
    "editable": true
   },
   "outputs": [],
   "source": [
    "agg_data['date_stamp'] = pd.to_datetime(agg_data['date'])\n",
    "event_labels = pd.factorize(agg_data['event'])\n",
    "agg_data[\"event_stamp\"] = event_labels[0]"
   ]
  },
  {
   "cell_type": "markdown",
   "metadata": {
    "deletable": true,
    "editable": true
   },
   "source": [
    "Now lets remove out the trials will null prices on some days (either due to acquisitions or bankruptcies). "
   ]
  },
  {
   "cell_type": "code",
   "execution_count": 61,
   "metadata": {
    "collapsed": true,
    "deletable": true,
    "editable": true
   },
   "outputs": [],
   "source": [
    "agg_data['null'] = pd.isnull(agg_data).apply(lambda x: sum(x) , axis=1)\n",
    "cleaned_agg = agg_data[agg_data['null'] == 0]"
   ]
  },
  {
   "cell_type": "code",
   "execution_count": 62,
   "metadata": {
    "collapsed": false,
    "deletable": true,
    "editable": true
   },
   "outputs": [
    {
     "data": {
      "text/html": [
       "<div>\n",
       "<style>\n",
       "    .dataframe thead tr:only-child th {\n",
       "        text-align: right;\n",
       "    }\n",
       "\n",
       "    .dataframe thead th {\n",
       "        text-align: left;\n",
       "    }\n",
       "\n",
       "    .dataframe tbody tr th {\n",
       "        vertical-align: top;\n",
       "    }\n",
       "</style>\n",
       "<table border=\"1\" class=\"dataframe\">\n",
       "  <thead>\n",
       "    <tr style=\"text-align: right;\">\n",
       "      <th></th>\n",
       "      <th>date</th>\n",
       "      <th>norm_price</th>\n",
       "      <th>event</th>\n",
       "      <th>outcome</th>\n",
       "      <th>date_stamp</th>\n",
       "      <th>event_stamp</th>\n",
       "      <th>null</th>\n",
       "    </tr>\n",
       "  </thead>\n",
       "  <tbody>\n",
       "    <tr>\n",
       "      <th>0</th>\n",
       "      <td>2015-12-08</td>\n",
       "      <td>-0.133607</td>\n",
       "      <td>AAAP/2016-06-01</td>\n",
       "      <td>1</td>\n",
       "      <td>2015-12-08</td>\n",
       "      <td>0</td>\n",
       "      <td>0</td>\n",
       "    </tr>\n",
       "    <tr>\n",
       "      <th>1</th>\n",
       "      <td>2015-12-09</td>\n",
       "      <td>-0.128218</td>\n",
       "      <td>AAAP/2016-06-01</td>\n",
       "      <td>1</td>\n",
       "      <td>2015-12-09</td>\n",
       "      <td>0</td>\n",
       "      <td>0</td>\n",
       "    </tr>\n",
       "    <tr>\n",
       "      <th>2</th>\n",
       "      <td>2015-12-10</td>\n",
       "      <td>-0.126670</td>\n",
       "      <td>AAAP/2016-06-01</td>\n",
       "      <td>1</td>\n",
       "      <td>2015-12-10</td>\n",
       "      <td>0</td>\n",
       "      <td>0</td>\n",
       "    </tr>\n",
       "    <tr>\n",
       "      <th>3</th>\n",
       "      <td>2015-12-11</td>\n",
       "      <td>-0.119063</td>\n",
       "      <td>AAAP/2016-06-01</td>\n",
       "      <td>1</td>\n",
       "      <td>2015-12-11</td>\n",
       "      <td>0</td>\n",
       "      <td>0</td>\n",
       "    </tr>\n",
       "    <tr>\n",
       "      <th>4</th>\n",
       "      <td>2015-12-14</td>\n",
       "      <td>-0.110840</td>\n",
       "      <td>AAAP/2016-06-01</td>\n",
       "      <td>1</td>\n",
       "      <td>2015-12-14</td>\n",
       "      <td>0</td>\n",
       "      <td>0</td>\n",
       "    </tr>\n",
       "  </tbody>\n",
       "</table>\n",
       "</div>"
      ],
      "text/plain": [
       "         date  norm_price            event  outcome date_stamp  event_stamp  \\\n",
       "0  2015-12-08   -0.133607  AAAP/2016-06-01        1 2015-12-08            0   \n",
       "1  2015-12-09   -0.128218  AAAP/2016-06-01        1 2015-12-09            0   \n",
       "2  2015-12-10   -0.126670  AAAP/2016-06-01        1 2015-12-10            0   \n",
       "3  2015-12-11   -0.119063  AAAP/2016-06-01        1 2015-12-11            0   \n",
       "4  2015-12-14   -0.110840  AAAP/2016-06-01        1 2015-12-14            0   \n",
       "\n",
       "   null  \n",
       "0     0  \n",
       "1     0  \n",
       "2     0  \n",
       "3     0  \n",
       "4     0  "
      ]
     },
     "execution_count": 62,
     "metadata": {},
     "output_type": "execute_result"
    }
   ],
   "source": [
    "cleaned_agg.head()"
   ]
  },
  {
   "cell_type": "code",
   "execution_count": 63,
   "metadata": {
    "collapsed": true,
    "deletable": true,
    "editable": true
   },
   "outputs": [],
   "source": [
    "dill.dump(cleaned_agg, open('final_cleaned_price_slices.pkl', 'w'))"
   ]
  },
  {
   "cell_type": "markdown",
   "metadata": {
    "deletable": true,
    "editable": true
   },
   "source": [
    "### Checkpoint 3 - Training data preprocessed"
   ]
  },
  {
   "cell_type": "code",
   "execution_count": 64,
   "metadata": {
    "collapsed": true,
    "deletable": true,
    "editable": true
   },
   "outputs": [],
   "source": [
    "cleaned_agg = dill.load(open('final_cleaned_price_slices.pkl', 'r'))"
   ]
  },
  {
   "cell_type": "markdown",
   "metadata": {
    "deletable": true,
    "editable": true
   },
   "source": [
    "That's a ready to extract package of every clinical trial scraped. Lets go ahead and make up a test and train split now, while its easy and convinent."
   ]
  },
  {
   "cell_type": "code",
   "execution_count": 65,
   "metadata": {
    "collapsed": false,
    "deletable": true,
    "editable": true
   },
   "outputs": [],
   "source": [
    "from sklearn.cross_validation import train_test_split"
   ]
  },
  {
   "cell_type": "code",
   "execution_count": 96,
   "metadata": {
    "collapsed": false,
    "deletable": true,
    "editable": true
   },
   "outputs": [],
   "source": [
    "train_data, test_data = train_test_split(norm_data_annotated, train_size = .9)"
   ]
  },
  {
   "cell_type": "code",
   "execution_count": 97,
   "metadata": {
    "collapsed": false,
    "deletable": true,
    "editable": true
   },
   "outputs": [
    {
     "name": "stdout",
     "output_type": "stream",
     "text": [
      "COLL 2015-10-12 failed\n",
      "NEOS 2015-11-09 failed\n",
      "\n"
     ]
    }
   ],
   "source": [
    "first = True\n",
    "\n",
    "for line in tqdm_notebook(train_data):\n",
    "    try:\n",
    "        if first:\n",
    "            train_df = assemble_frame(line)\n",
    "            first = False\n",
    "        else:\n",
    "            tmp_df = assemble_frame(line)\n",
    "            train_df = pd.concat([train_df, tmp_df],ignore_index=True)\n",
    "    except:\n",
    "        print line[0], line[1], \"failed\"\n",
    "\n",
    "train_df['date_stamp'] = pd.to_datetime(train_df['date'])\n",
    "event_labels = pd.factorize(train_df['event'])\n",
    "train_df[\"event_stamp\"] = event_labels[0]\n",
    "\n",
    "train_df['null'] = pd.isnull(train_df).apply(lambda x: sum(x) , axis=1)\n",
    "train_clean = train_df[train_df['null'] == 0]"
   ]
  },
  {
   "cell_type": "code",
   "execution_count": 98,
   "metadata": {
    "collapsed": false,
    "deletable": true,
    "editable": true
   },
   "outputs": [
    {
     "name": "stdout",
     "output_type": "stream",
     "text": [
      "\n"
     ]
    }
   ],
   "source": [
    "first = True\n",
    "\n",
    "for line in tqdm_notebook(test_data):\n",
    "    try:\n",
    "        if first:\n",
    "            test_df = assemble_frame(line)\n",
    "            first = False\n",
    "        else:\n",
    "            tmp_df = assemble_frame(line)\n",
    "            test_df = pd.concat([test_df, tmp_df],ignore_index=True)\n",
    "    except:\n",
    "        print line[0], line[1], \"failed\"\n",
    "test_df['date_stamp'] = pd.to_datetime(test_df['date'])\n",
    "event_labels = pd.factorize(test_df['event'])\n",
    "test_df[\"event_stamp\"] = event_labels[0]\n",
    "\n",
    "test_df['null'] = pd.isnull(test_df).apply(lambda x: sum(x) , axis=1)\n",
    "test_clean = test_df[test_df['null'] == 0]"
   ]
  },
  {
   "cell_type": "markdown",
   "metadata": {
    "deletable": true,
    "editable": true
   },
   "source": [
    "Thats two parts of a bifurcated dataframe. May as well cache it. "
   ]
  },
  {
   "cell_type": "code",
   "execution_count": 99,
   "metadata": {
    "collapsed": true,
    "deletable": true,
    "editable": true
   },
   "outputs": [],
   "source": [
    "dill.dump(train_clean, open(\"final_train_df.pkl\", \"w\"))\n",
    "dill.dump(test_clean, open(\"final_test_df.pkl\", \"w\"))"
   ]
  },
  {
   "cell_type": "markdown",
   "metadata": {
    "deletable": true,
    "editable": true
   },
   "source": [
    "### Checkpoint 4 - Test Train Split"
   ]
  },
  {
   "cell_type": "code",
   "execution_count": 100,
   "metadata": {
    "collapsed": false,
    "deletable": true,
    "editable": true
   },
   "outputs": [],
   "source": [
    "train_clean = dill.load(open(\"final_train_df.pkl\", \"r\"))\n",
    "test_clean = dill.load(open(\"final_test_df.pkl\", \"r\"))"
   ]
  },
  {
   "cell_type": "markdown",
   "metadata": {
    "collapsed": true,
    "deletable": true,
    "editable": true
   },
   "source": [
    "Now for the serious work, extracting features from the pricing data in each case. \n",
    "\n",
    "I'll be using [tsfresh](http://tsfresh.readthedocs.io/en/latest/text/quick_start.html) to do the hard computing here, and then selecting the most relevant features. While I am able to compute almost 800 features for these data points, I'm going to narrow down to around ten of the most meaningful or important features. "
   ]
  },
  {
   "cell_type": "code",
   "execution_count": 101,
   "metadata": {
    "collapsed": false,
    "deletable": true,
    "editable": true
   },
   "outputs": [],
   "source": [
    "from tsfresh import extract_features"
   ]
  },
  {
   "cell_type": "code",
   "execution_count": 102,
   "metadata": {
    "collapsed": false,
    "deletable": true,
    "editable": true
   },
   "outputs": [
    {
     "name": "stderr",
     "output_type": "stream",
     "text": [
      "Feature Extraction: 100%|██████████| 209/209 [00:00<00:00, 25615.38it/s]\n"
     ]
    }
   ],
   "source": [
    "train_feats = extract_features(train_clean[['norm_price', 'event_stamp', 'date_stamp']], \n",
    "                              column_id=\"event_stamp\", column_sort=\"date_stamp\", \n",
    "                              column_value=\"norm_price\", n_jobs=0).dropna(axis=1)"
   ]
  },
  {
   "cell_type": "code",
   "execution_count": 103,
   "metadata": {
    "collapsed": false,
    "deletable": true,
    "editable": true,
    "scrolled": false
   },
   "outputs": [
    {
     "data": {
      "text/html": [
       "<div>\n",
       "<style>\n",
       "    .dataframe thead tr:only-child th {\n",
       "        text-align: right;\n",
       "    }\n",
       "\n",
       "    .dataframe thead th {\n",
       "        text-align: left;\n",
       "    }\n",
       "\n",
       "    .dataframe tbody tr th {\n",
       "        vertical-align: top;\n",
       "    }\n",
       "</style>\n",
       "<table border=\"1\" class=\"dataframe\">\n",
       "  <thead>\n",
       "    <tr style=\"text-align: right;\">\n",
       "      <th>variable</th>\n",
       "      <th>norm_price__abs_energy</th>\n",
       "      <th>norm_price__absolute_sum_of_changes</th>\n",
       "      <th>norm_price__agg_autocorrelation__f_agg_\"mean\"</th>\n",
       "      <th>norm_price__agg_autocorrelation__f_agg_\"median\"</th>\n",
       "      <th>norm_price__agg_autocorrelation__f_agg_\"var\"</th>\n",
       "      <th>norm_price__agg_linear_trend__f_agg_\"max\"__chunk_len_10__attr_\"intercept\"</th>\n",
       "      <th>norm_price__agg_linear_trend__f_agg_\"max\"__chunk_len_10__attr_\"rvalue\"</th>\n",
       "      <th>norm_price__agg_linear_trend__f_agg_\"max\"__chunk_len_10__attr_\"slope\"</th>\n",
       "      <th>norm_price__agg_linear_trend__f_agg_\"max\"__chunk_len_10__attr_\"stderr\"</th>\n",
       "      <th>norm_price__agg_linear_trend__f_agg_\"max\"__chunk_len_50__attr_\"intercept\"</th>\n",
       "      <th>...</th>\n",
       "      <th>norm_price__time_reversal_asymmetry_statistic__lag_1</th>\n",
       "      <th>norm_price__time_reversal_asymmetry_statistic__lag_2</th>\n",
       "      <th>norm_price__time_reversal_asymmetry_statistic__lag_3</th>\n",
       "      <th>norm_price__value_count__value_-inf</th>\n",
       "      <th>norm_price__value_count__value_0</th>\n",
       "      <th>norm_price__value_count__value_1</th>\n",
       "      <th>norm_price__value_count__value_inf</th>\n",
       "      <th>norm_price__value_count__value_nan</th>\n",
       "      <th>norm_price__variance</th>\n",
       "      <th>norm_price__variance_larger_than_standard_deviation</th>\n",
       "    </tr>\n",
       "    <tr>\n",
       "      <th>id</th>\n",
       "      <th></th>\n",
       "      <th></th>\n",
       "      <th></th>\n",
       "      <th></th>\n",
       "      <th></th>\n",
       "      <th></th>\n",
       "      <th></th>\n",
       "      <th></th>\n",
       "      <th></th>\n",
       "      <th></th>\n",
       "      <th></th>\n",
       "      <th></th>\n",
       "      <th></th>\n",
       "      <th></th>\n",
       "      <th></th>\n",
       "      <th></th>\n",
       "      <th></th>\n",
       "      <th></th>\n",
       "      <th></th>\n",
       "      <th></th>\n",
       "      <th></th>\n",
       "    </tr>\n",
       "  </thead>\n",
       "  <tbody>\n",
       "    <tr>\n",
       "      <th>0</th>\n",
       "      <td>8.267646</td>\n",
       "      <td>0.632868</td>\n",
       "      <td>0.338676</td>\n",
       "      <td>0.291667</td>\n",
       "      <td>0.089200</td>\n",
       "      <td>-0.193869</td>\n",
       "      <td>-0.807651</td>\n",
       "      <td>-0.011369</td>\n",
       "      <td>0.002625</td>\n",
       "      <td>-0.209200</td>\n",
       "      <td>...</td>\n",
       "      <td>-5.965052e-04</td>\n",
       "      <td>-0.001119</td>\n",
       "      <td>-0.001715</td>\n",
       "      <td>0.0</td>\n",
       "      <td>0.0</td>\n",
       "      <td>0.0</td>\n",
       "      <td>0.0</td>\n",
       "      <td>0.0</td>\n",
       "      <td>0.002520</td>\n",
       "      <td>0.0</td>\n",
       "    </tr>\n",
       "    <tr>\n",
       "      <th>1</th>\n",
       "      <td>0.050117</td>\n",
       "      <td>0.364996</td>\n",
       "      <td>0.216699</td>\n",
       "      <td>0.061411</td>\n",
       "      <td>0.115088</td>\n",
       "      <td>-0.011717</td>\n",
       "      <td>0.330647</td>\n",
       "      <td>0.001689</td>\n",
       "      <td>0.001524</td>\n",
       "      <td>0.019494</td>\n",
       "      <td>...</td>\n",
       "      <td>5.207836e-07</td>\n",
       "      <td>0.000002</td>\n",
       "      <td>0.000002</td>\n",
       "      <td>0.0</td>\n",
       "      <td>0.0</td>\n",
       "      <td>0.0</td>\n",
       "      <td>0.0</td>\n",
       "      <td>0.0</td>\n",
       "      <td>0.000323</td>\n",
       "      <td>0.0</td>\n",
       "    </tr>\n",
       "    <tr>\n",
       "      <th>2</th>\n",
       "      <td>6.148967</td>\n",
       "      <td>1.010344</td>\n",
       "      <td>0.110301</td>\n",
       "      <td>0.130618</td>\n",
       "      <td>0.115312</td>\n",
       "      <td>-0.219150</td>\n",
       "      <td>0.246763</td>\n",
       "      <td>0.003207</td>\n",
       "      <td>0.003983</td>\n",
       "      <td>-0.111155</td>\n",
       "      <td>...</td>\n",
       "      <td>-9.008112e-05</td>\n",
       "      <td>-0.000130</td>\n",
       "      <td>-0.000176</td>\n",
       "      <td>0.0</td>\n",
       "      <td>0.0</td>\n",
       "      <td>0.0</td>\n",
       "      <td>0.0</td>\n",
       "      <td>0.0</td>\n",
       "      <td>0.001734</td>\n",
       "      <td>0.0</td>\n",
       "    </tr>\n",
       "    <tr>\n",
       "      <th>3</th>\n",
       "      <td>706.617635</td>\n",
       "      <td>2.724921</td>\n",
       "      <td>0.062402</td>\n",
       "      <td>-0.030932</td>\n",
       "      <td>0.079144</td>\n",
       "      <td>2.515227</td>\n",
       "      <td>0.432196</td>\n",
       "      <td>0.007583</td>\n",
       "      <td>0.005003</td>\n",
       "      <td>2.611413</td>\n",
       "      <td>...</td>\n",
       "      <td>4.545126e-02</td>\n",
       "      <td>0.089641</td>\n",
       "      <td>0.125181</td>\n",
       "      <td>0.0</td>\n",
       "      <td>0.0</td>\n",
       "      <td>0.0</td>\n",
       "      <td>0.0</td>\n",
       "      <td>0.0</td>\n",
       "      <td>0.006103</td>\n",
       "      <td>0.0</td>\n",
       "    </tr>\n",
       "    <tr>\n",
       "      <th>4</th>\n",
       "      <td>4.240612</td>\n",
       "      <td>0.662200</td>\n",
       "      <td>-0.015751</td>\n",
       "      <td>-0.165876</td>\n",
       "      <td>0.104243</td>\n",
       "      <td>-0.178728</td>\n",
       "      <td>-0.017051</td>\n",
       "      <td>-0.000079</td>\n",
       "      <td>0.001462</td>\n",
       "      <td>-0.167307</td>\n",
       "      <td>...</td>\n",
       "      <td>1.025592e-05</td>\n",
       "      <td>0.000026</td>\n",
       "      <td>0.000052</td>\n",
       "      <td>0.0</td>\n",
       "      <td>0.0</td>\n",
       "      <td>0.0</td>\n",
       "      <td>0.0</td>\n",
       "      <td>0.0</td>\n",
       "      <td>0.000349</td>\n",
       "      <td>0.0</td>\n",
       "    </tr>\n",
       "  </tbody>\n",
       "</table>\n",
       "<p>5 rows × 622 columns</p>\n",
       "</div>"
      ],
      "text/plain": [
       "variable  norm_price__abs_energy  norm_price__absolute_sum_of_changes  \\\n",
       "id                                                                      \n",
       "0                       8.267646                             0.632868   \n",
       "1                       0.050117                             0.364996   \n",
       "2                       6.148967                             1.010344   \n",
       "3                     706.617635                             2.724921   \n",
       "4                       4.240612                             0.662200   \n",
       "\n",
       "variable  norm_price__agg_autocorrelation__f_agg_\"mean\"  \\\n",
       "id                                                        \n",
       "0                                              0.338676   \n",
       "1                                              0.216699   \n",
       "2                                              0.110301   \n",
       "3                                              0.062402   \n",
       "4                                             -0.015751   \n",
       "\n",
       "variable  norm_price__agg_autocorrelation__f_agg_\"median\"  \\\n",
       "id                                                          \n",
       "0                                                0.291667   \n",
       "1                                                0.061411   \n",
       "2                                                0.130618   \n",
       "3                                               -0.030932   \n",
       "4                                               -0.165876   \n",
       "\n",
       "variable  norm_price__agg_autocorrelation__f_agg_\"var\"  \\\n",
       "id                                                       \n",
       "0                                             0.089200   \n",
       "1                                             0.115088   \n",
       "2                                             0.115312   \n",
       "3                                             0.079144   \n",
       "4                                             0.104243   \n",
       "\n",
       "variable  norm_price__agg_linear_trend__f_agg_\"max\"__chunk_len_10__attr_\"intercept\"  \\\n",
       "id                                                                                    \n",
       "0                                                 -0.193869                           \n",
       "1                                                 -0.011717                           \n",
       "2                                                 -0.219150                           \n",
       "3                                                  2.515227                           \n",
       "4                                                 -0.178728                           \n",
       "\n",
       "variable  norm_price__agg_linear_trend__f_agg_\"max\"__chunk_len_10__attr_\"rvalue\"  \\\n",
       "id                                                                                 \n",
       "0                                                 -0.807651                        \n",
       "1                                                  0.330647                        \n",
       "2                                                  0.246763                        \n",
       "3                                                  0.432196                        \n",
       "4                                                 -0.017051                        \n",
       "\n",
       "variable  norm_price__agg_linear_trend__f_agg_\"max\"__chunk_len_10__attr_\"slope\"  \\\n",
       "id                                                                                \n",
       "0                                                 -0.011369                       \n",
       "1                                                  0.001689                       \n",
       "2                                                  0.003207                       \n",
       "3                                                  0.007583                       \n",
       "4                                                 -0.000079                       \n",
       "\n",
       "variable  norm_price__agg_linear_trend__f_agg_\"max\"__chunk_len_10__attr_\"stderr\"  \\\n",
       "id                                                                                 \n",
       "0                                                  0.002625                        \n",
       "1                                                  0.001524                        \n",
       "2                                                  0.003983                        \n",
       "3                                                  0.005003                        \n",
       "4                                                  0.001462                        \n",
       "\n",
       "variable  norm_price__agg_linear_trend__f_agg_\"max\"__chunk_len_50__attr_\"intercept\"  \\\n",
       "id                                                                                    \n",
       "0                                                 -0.209200                           \n",
       "1                                                  0.019494                           \n",
       "2                                                 -0.111155                           \n",
       "3                                                  2.611413                           \n",
       "4                                                 -0.167307                           \n",
       "\n",
       "variable                         ...                           \\\n",
       "id                               ...                            \n",
       "0                                ...                            \n",
       "1                                ...                            \n",
       "2                                ...                            \n",
       "3                                ...                            \n",
       "4                                ...                            \n",
       "\n",
       "variable  norm_price__time_reversal_asymmetry_statistic__lag_1  \\\n",
       "id                                                               \n",
       "0                                             -5.965052e-04      \n",
       "1                                              5.207836e-07      \n",
       "2                                             -9.008112e-05      \n",
       "3                                              4.545126e-02      \n",
       "4                                              1.025592e-05      \n",
       "\n",
       "variable  norm_price__time_reversal_asymmetry_statistic__lag_2  \\\n",
       "id                                                               \n",
       "0                                                 -0.001119      \n",
       "1                                                  0.000002      \n",
       "2                                                 -0.000130      \n",
       "3                                                  0.089641      \n",
       "4                                                  0.000026      \n",
       "\n",
       "variable  norm_price__time_reversal_asymmetry_statistic__lag_3  \\\n",
       "id                                                               \n",
       "0                                                 -0.001715      \n",
       "1                                                  0.000002      \n",
       "2                                                 -0.000176      \n",
       "3                                                  0.125181      \n",
       "4                                                  0.000052      \n",
       "\n",
       "variable  norm_price__value_count__value_-inf  \\\n",
       "id                                              \n",
       "0                                         0.0   \n",
       "1                                         0.0   \n",
       "2                                         0.0   \n",
       "3                                         0.0   \n",
       "4                                         0.0   \n",
       "\n",
       "variable  norm_price__value_count__value_0  norm_price__value_count__value_1  \\\n",
       "id                                                                             \n",
       "0                                      0.0                               0.0   \n",
       "1                                      0.0                               0.0   \n",
       "2                                      0.0                               0.0   \n",
       "3                                      0.0                               0.0   \n",
       "4                                      0.0                               0.0   \n",
       "\n",
       "variable  norm_price__value_count__value_inf  \\\n",
       "id                                             \n",
       "0                                        0.0   \n",
       "1                                        0.0   \n",
       "2                                        0.0   \n",
       "3                                        0.0   \n",
       "4                                        0.0   \n",
       "\n",
       "variable  norm_price__value_count__value_nan  norm_price__variance  \\\n",
       "id                                                                   \n",
       "0                                        0.0              0.002520   \n",
       "1                                        0.0              0.000323   \n",
       "2                                        0.0              0.001734   \n",
       "3                                        0.0              0.006103   \n",
       "4                                        0.0              0.000349   \n",
       "\n",
       "variable  norm_price__variance_larger_than_standard_deviation  \n",
       "id                                                             \n",
       "0                                                       0.0    \n",
       "1                                                       0.0    \n",
       "2                                                       0.0    \n",
       "3                                                       0.0    \n",
       "4                                                       0.0    \n",
       "\n",
       "[5 rows x 622 columns]"
      ]
     },
     "execution_count": 103,
     "metadata": {},
     "output_type": "execute_result"
    }
   ],
   "source": [
    "train_feats.head()"
   ]
  },
  {
   "cell_type": "code",
   "execution_count": 104,
   "metadata": {
    "collapsed": false,
    "deletable": true,
    "editable": true
   },
   "outputs": [],
   "source": [
    "train_y =\\\n",
    "train_df[['event_stamp', 'outcome']]\\\n",
    ".groupby('event_stamp')\\\n",
    ".head(1).set_index('event_stamp')['outcome']"
   ]
  },
  {
   "cell_type": "code",
   "execution_count": 105,
   "metadata": {
    "collapsed": false,
    "deletable": true,
    "editable": true
   },
   "outputs": [
    {
     "data": {
      "text/plain": [
       "event_stamp\n",
       "0    0\n",
       "1    1\n",
       "2    0\n",
       "3    1\n",
       "4    0\n",
       "Name: outcome, dtype: int64"
      ]
     },
     "execution_count": 105,
     "metadata": {},
     "output_type": "execute_result"
    }
   ],
   "source": [
    "train_y.head()"
   ]
  },
  {
   "cell_type": "code",
   "execution_count": 106,
   "metadata": {
    "collapsed": false,
    "deletable": true,
    "editable": true
   },
   "outputs": [
    {
     "name": "stderr",
     "output_type": "stream",
     "text": [
      "Feature Extraction: 100%|██████████| 24/24 [00:00<00:00, 22201.87it/s]\n"
     ]
    }
   ],
   "source": [
    "test_feats = extract_features(test_clean[['norm_price', 'event_stamp', 'date_stamp']], \n",
    "                              column_id=\"event_stamp\", column_sort=\"date_stamp\", \n",
    "                              column_value=\"norm_price\", n_jobs=0).dropna(axis=1)"
   ]
  },
  {
   "cell_type": "code",
   "execution_count": 107,
   "metadata": {
    "collapsed": false,
    "deletable": true,
    "editable": true
   },
   "outputs": [
    {
     "data": {
      "text/plain": [
       "(24, 622)"
      ]
     },
     "execution_count": 107,
     "metadata": {},
     "output_type": "execute_result"
    }
   ],
   "source": [
    "test_feats.shape"
   ]
  },
  {
   "cell_type": "code",
   "execution_count": 108,
   "metadata": {
    "collapsed": true,
    "deletable": true,
    "editable": true
   },
   "outputs": [],
   "source": [
    "test_y =\\\n",
    "test_df[['event_stamp', 'outcome']]\\\n",
    ".groupby('event_stamp')\\\n",
    ".head(1).set_index('event_stamp')['outcome']"
   ]
  },
  {
   "cell_type": "code",
   "execution_count": 109,
   "metadata": {
    "collapsed": false,
    "deletable": true,
    "editable": true
   },
   "outputs": [
    {
     "data": {
      "text/plain": [
       "(24,)"
      ]
     },
     "execution_count": 109,
     "metadata": {},
     "output_type": "execute_result"
    }
   ],
   "source": [
    "test_y.shape"
   ]
  },
  {
   "cell_type": "code",
   "execution_count": 110,
   "metadata": {
    "collapsed": true,
    "deletable": true,
    "editable": true
   },
   "outputs": [],
   "source": [
    "dill.dump(train_feats, open('final_train_features.pkl','w'))\n",
    "dill.dump(test_feats, open('final_test_features.pkl','w'))"
   ]
  },
  {
   "cell_type": "markdown",
   "metadata": {
    "deletable": true,
    "editable": true
   },
   "source": [
    "### Checkpoint 4 - Extracted Features"
   ]
  },
  {
   "cell_type": "code",
   "execution_count": 111,
   "metadata": {
    "collapsed": true,
    "deletable": true,
    "editable": true
   },
   "outputs": [],
   "source": [
    "train_feats = dill.load(open(\"final_train_features.pkl\", \"r\"))\n",
    "test_feats = dill.load(open(\"final_test_features.pkl\", \"r\"))"
   ]
  },
  {
   "cell_type": "markdown",
   "metadata": {
    "deletable": true,
    "editable": true
   },
   "source": [
    "Now its time to pick out 10 or so meaningful features from the 622 possible features. Time for some reading. Then itll be time to apply those to a classification model. "
   ]
  },
  {
   "cell_type": "code",
   "execution_count": 112,
   "metadata": {
    "collapsed": false,
    "deletable": true,
    "editable": true
   },
   "outputs": [
    {
     "name": "stdout",
     "output_type": "stream",
     "text": [
      "norm_price__abs_energy\n",
      "norm_price__absolute_sum_of_changes\n",
      "norm_price__agg_autocorrelation__f_agg_\"mean\"\n",
      "norm_price__agg_autocorrelation__f_agg_\"median\"\n",
      "norm_price__agg_autocorrelation__f_agg_\"var\"\n",
      "norm_price__agg_linear_trend__f_agg_\"max\"__chunk_len_10__attr_\"intercept\"\n",
      "norm_price__agg_linear_trend__f_agg_\"max\"__chunk_len_10__attr_\"rvalue\"\n",
      "norm_price__agg_linear_trend__f_agg_\"max\"__chunk_len_10__attr_\"slope\"\n",
      "norm_price__agg_linear_trend__f_agg_\"max\"__chunk_len_10__attr_\"stderr\"\n",
      "norm_price__agg_linear_trend__f_agg_\"max\"__chunk_len_50__attr_\"intercept\"\n",
      "norm_price__agg_linear_trend__f_agg_\"max\"__chunk_len_50__attr_\"rvalue\"\n",
      "norm_price__agg_linear_trend__f_agg_\"max\"__chunk_len_50__attr_\"slope\"\n",
      "norm_price__agg_linear_trend__f_agg_\"max\"__chunk_len_50__attr_\"stderr\"\n",
      "norm_price__agg_linear_trend__f_agg_\"max\"__chunk_len_5__attr_\"intercept\"\n",
      "norm_price__agg_linear_trend__f_agg_\"max\"__chunk_len_5__attr_\"rvalue\"\n",
      "norm_price__agg_linear_trend__f_agg_\"max\"__chunk_len_5__attr_\"slope\"\n",
      "norm_price__agg_linear_trend__f_agg_\"max\"__chunk_len_5__attr_\"stderr\"\n",
      "norm_price__agg_linear_trend__f_agg_\"mean\"__chunk_len_10__attr_\"intercept\"\n",
      "norm_price__agg_linear_trend__f_agg_\"mean\"__chunk_len_10__attr_\"rvalue\"\n",
      "norm_price__agg_linear_trend__f_agg_\"mean\"__chunk_len_10__attr_\"slope\"\n",
      "norm_price__agg_linear_trend__f_agg_\"mean\"__chunk_len_10__attr_\"stderr\"\n",
      "norm_price__agg_linear_trend__f_agg_\"mean\"__chunk_len_50__attr_\"intercept\"\n",
      "norm_price__agg_linear_trend__f_agg_\"mean\"__chunk_len_50__attr_\"rvalue\"\n",
      "norm_price__agg_linear_trend__f_agg_\"mean\"__chunk_len_50__attr_\"slope\"\n",
      "norm_price__agg_linear_trend__f_agg_\"mean\"__chunk_len_50__attr_\"stderr\"\n",
      "norm_price__agg_linear_trend__f_agg_\"mean\"__chunk_len_5__attr_\"intercept\"\n",
      "norm_price__agg_linear_trend__f_agg_\"mean\"__chunk_len_5__attr_\"rvalue\"\n",
      "norm_price__agg_linear_trend__f_agg_\"mean\"__chunk_len_5__attr_\"slope\"\n",
      "norm_price__agg_linear_trend__f_agg_\"mean\"__chunk_len_5__attr_\"stderr\"\n",
      "norm_price__agg_linear_trend__f_agg_\"min\"__chunk_len_10__attr_\"intercept\"\n",
      "norm_price__agg_linear_trend__f_agg_\"min\"__chunk_len_10__attr_\"rvalue\"\n",
      "norm_price__agg_linear_trend__f_agg_\"min\"__chunk_len_10__attr_\"slope\"\n",
      "norm_price__agg_linear_trend__f_agg_\"min\"__chunk_len_10__attr_\"stderr\"\n",
      "norm_price__agg_linear_trend__f_agg_\"min\"__chunk_len_50__attr_\"intercept\"\n",
      "norm_price__agg_linear_trend__f_agg_\"min\"__chunk_len_50__attr_\"rvalue\"\n",
      "norm_price__agg_linear_trend__f_agg_\"min\"__chunk_len_50__attr_\"slope\"\n",
      "norm_price__agg_linear_trend__f_agg_\"min\"__chunk_len_50__attr_\"stderr\"\n",
      "norm_price__agg_linear_trend__f_agg_\"min\"__chunk_len_5__attr_\"intercept\"\n",
      "norm_price__agg_linear_trend__f_agg_\"min\"__chunk_len_5__attr_\"rvalue\"\n",
      "norm_price__agg_linear_trend__f_agg_\"min\"__chunk_len_5__attr_\"slope\"\n",
      "norm_price__agg_linear_trend__f_agg_\"min\"__chunk_len_5__attr_\"stderr\"\n",
      "norm_price__agg_linear_trend__f_agg_\"var\"__chunk_len_10__attr_\"intercept\"\n",
      "norm_price__agg_linear_trend__f_agg_\"var\"__chunk_len_10__attr_\"rvalue\"\n",
      "norm_price__agg_linear_trend__f_agg_\"var\"__chunk_len_10__attr_\"slope\"\n",
      "norm_price__agg_linear_trend__f_agg_\"var\"__chunk_len_10__attr_\"stderr\"\n",
      "norm_price__agg_linear_trend__f_agg_\"var\"__chunk_len_50__attr_\"intercept\"\n",
      "norm_price__agg_linear_trend__f_agg_\"var\"__chunk_len_50__attr_\"rvalue\"\n",
      "norm_price__agg_linear_trend__f_agg_\"var\"__chunk_len_50__attr_\"slope\"\n",
      "norm_price__agg_linear_trend__f_agg_\"var\"__chunk_len_50__attr_\"stderr\"\n",
      "norm_price__agg_linear_trend__f_agg_\"var\"__chunk_len_5__attr_\"intercept\"\n",
      "norm_price__agg_linear_trend__f_agg_\"var\"__chunk_len_5__attr_\"rvalue\"\n",
      "norm_price__agg_linear_trend__f_agg_\"var\"__chunk_len_5__attr_\"slope\"\n",
      "norm_price__agg_linear_trend__f_agg_\"var\"__chunk_len_5__attr_\"stderr\"\n",
      "norm_price__approximate_entropy__m_2__r_0.1\n",
      "norm_price__approximate_entropy__m_2__r_0.3\n",
      "norm_price__approximate_entropy__m_2__r_0.5\n",
      "norm_price__approximate_entropy__m_2__r_0.7\n",
      "norm_price__approximate_entropy__m_2__r_0.9\n",
      "norm_price__ar_coefficient__k_10__coeff_0\n",
      "norm_price__ar_coefficient__k_10__coeff_1\n",
      "norm_price__ar_coefficient__k_10__coeff_2\n",
      "norm_price__ar_coefficient__k_10__coeff_3\n",
      "norm_price__ar_coefficient__k_10__coeff_4\n",
      "norm_price__augmented_dickey_fuller__attr_\"pvalue\"\n",
      "norm_price__augmented_dickey_fuller__attr_\"teststat\"\n",
      "norm_price__augmented_dickey_fuller__attr_\"usedlag\"\n",
      "norm_price__autocorrelation__lag_0\n",
      "norm_price__autocorrelation__lag_1\n",
      "norm_price__autocorrelation__lag_2\n",
      "norm_price__autocorrelation__lag_3\n",
      "norm_price__autocorrelation__lag_4\n",
      "norm_price__autocorrelation__lag_5\n",
      "norm_price__autocorrelation__lag_6\n",
      "norm_price__autocorrelation__lag_7\n",
      "norm_price__autocorrelation__lag_8\n",
      "norm_price__autocorrelation__lag_9\n",
      "norm_price__binned_entropy__max_bins_10\n",
      "norm_price__c3__lag_1\n",
      "norm_price__c3__lag_2\n",
      "norm_price__c3__lag_3\n",
      "norm_price__change_quantiles__f_agg_\"mean\"__isabs_False__qh_0.2__ql_0.0\n",
      "norm_price__change_quantiles__f_agg_\"mean\"__isabs_False__qh_0.2__ql_0.2\n",
      "norm_price__change_quantiles__f_agg_\"mean\"__isabs_False__qh_0.2__ql_0.4\n",
      "norm_price__change_quantiles__f_agg_\"mean\"__isabs_False__qh_0.2__ql_0.6\n",
      "norm_price__change_quantiles__f_agg_\"mean\"__isabs_False__qh_0.2__ql_0.8\n",
      "norm_price__change_quantiles__f_agg_\"mean\"__isabs_False__qh_0.4__ql_0.0\n",
      "norm_price__change_quantiles__f_agg_\"mean\"__isabs_False__qh_0.4__ql_0.2\n",
      "norm_price__change_quantiles__f_agg_\"mean\"__isabs_False__qh_0.4__ql_0.4\n",
      "norm_price__change_quantiles__f_agg_\"mean\"__isabs_False__qh_0.4__ql_0.6\n",
      "norm_price__change_quantiles__f_agg_\"mean\"__isabs_False__qh_0.4__ql_0.8\n",
      "norm_price__change_quantiles__f_agg_\"mean\"__isabs_False__qh_0.6__ql_0.0\n",
      "norm_price__change_quantiles__f_agg_\"mean\"__isabs_False__qh_0.6__ql_0.2\n",
      "norm_price__change_quantiles__f_agg_\"mean\"__isabs_False__qh_0.6__ql_0.4\n",
      "norm_price__change_quantiles__f_agg_\"mean\"__isabs_False__qh_0.6__ql_0.6\n",
      "norm_price__change_quantiles__f_agg_\"mean\"__isabs_False__qh_0.6__ql_0.8\n",
      "norm_price__change_quantiles__f_agg_\"mean\"__isabs_False__qh_0.8__ql_0.0\n",
      "norm_price__change_quantiles__f_agg_\"mean\"__isabs_False__qh_0.8__ql_0.2\n",
      "norm_price__change_quantiles__f_agg_\"mean\"__isabs_False__qh_0.8__ql_0.4\n",
      "norm_price__change_quantiles__f_agg_\"mean\"__isabs_False__qh_0.8__ql_0.6\n",
      "norm_price__change_quantiles__f_agg_\"mean\"__isabs_False__qh_0.8__ql_0.8\n",
      "norm_price__change_quantiles__f_agg_\"mean\"__isabs_False__qh_1.0__ql_0.0\n",
      "norm_price__change_quantiles__f_agg_\"mean\"__isabs_False__qh_1.0__ql_0.2\n",
      "norm_price__change_quantiles__f_agg_\"mean\"__isabs_False__qh_1.0__ql_0.4\n",
      "norm_price__change_quantiles__f_agg_\"mean\"__isabs_False__qh_1.0__ql_0.6\n",
      "norm_price__change_quantiles__f_agg_\"mean\"__isabs_False__qh_1.0__ql_0.8\n",
      "norm_price__change_quantiles__f_agg_\"mean\"__isabs_True__qh_0.2__ql_0.0\n",
      "norm_price__change_quantiles__f_agg_\"mean\"__isabs_True__qh_0.2__ql_0.2\n",
      "norm_price__change_quantiles__f_agg_\"mean\"__isabs_True__qh_0.2__ql_0.4\n",
      "norm_price__change_quantiles__f_agg_\"mean\"__isabs_True__qh_0.2__ql_0.6\n",
      "norm_price__change_quantiles__f_agg_\"mean\"__isabs_True__qh_0.2__ql_0.8\n",
      "norm_price__change_quantiles__f_agg_\"mean\"__isabs_True__qh_0.4__ql_0.0\n",
      "norm_price__change_quantiles__f_agg_\"mean\"__isabs_True__qh_0.4__ql_0.2\n",
      "norm_price__change_quantiles__f_agg_\"mean\"__isabs_True__qh_0.4__ql_0.4\n",
      "norm_price__change_quantiles__f_agg_\"mean\"__isabs_True__qh_0.4__ql_0.6\n",
      "norm_price__change_quantiles__f_agg_\"mean\"__isabs_True__qh_0.4__ql_0.8\n",
      "norm_price__change_quantiles__f_agg_\"mean\"__isabs_True__qh_0.6__ql_0.0\n",
      "norm_price__change_quantiles__f_agg_\"mean\"__isabs_True__qh_0.6__ql_0.2\n",
      "norm_price__change_quantiles__f_agg_\"mean\"__isabs_True__qh_0.6__ql_0.4\n",
      "norm_price__change_quantiles__f_agg_\"mean\"__isabs_True__qh_0.6__ql_0.6\n",
      "norm_price__change_quantiles__f_agg_\"mean\"__isabs_True__qh_0.6__ql_0.8\n",
      "norm_price__change_quantiles__f_agg_\"mean\"__isabs_True__qh_0.8__ql_0.0\n",
      "norm_price__change_quantiles__f_agg_\"mean\"__isabs_True__qh_0.8__ql_0.2\n",
      "norm_price__change_quantiles__f_agg_\"mean\"__isabs_True__qh_0.8__ql_0.4\n",
      "norm_price__change_quantiles__f_agg_\"mean\"__isabs_True__qh_0.8__ql_0.6\n",
      "norm_price__change_quantiles__f_agg_\"mean\"__isabs_True__qh_0.8__ql_0.8\n",
      "norm_price__change_quantiles__f_agg_\"mean\"__isabs_True__qh_1.0__ql_0.0\n",
      "norm_price__change_quantiles__f_agg_\"mean\"__isabs_True__qh_1.0__ql_0.2\n",
      "norm_price__change_quantiles__f_agg_\"mean\"__isabs_True__qh_1.0__ql_0.4\n",
      "norm_price__change_quantiles__f_agg_\"mean\"__isabs_True__qh_1.0__ql_0.6\n",
      "norm_price__change_quantiles__f_agg_\"mean\"__isabs_True__qh_1.0__ql_0.8\n",
      "norm_price__change_quantiles__f_agg_\"var\"__isabs_False__qh_0.2__ql_0.0\n",
      "norm_price__change_quantiles__f_agg_\"var\"__isabs_False__qh_0.2__ql_0.2\n",
      "norm_price__change_quantiles__f_agg_\"var\"__isabs_False__qh_0.2__ql_0.4\n",
      "norm_price__change_quantiles__f_agg_\"var\"__isabs_False__qh_0.2__ql_0.6\n",
      "norm_price__change_quantiles__f_agg_\"var\"__isabs_False__qh_0.2__ql_0.8\n",
      "norm_price__change_quantiles__f_agg_\"var\"__isabs_False__qh_0.4__ql_0.0\n",
      "norm_price__change_quantiles__f_agg_\"var\"__isabs_False__qh_0.4__ql_0.2\n",
      "norm_price__change_quantiles__f_agg_\"var\"__isabs_False__qh_0.4__ql_0.4\n",
      "norm_price__change_quantiles__f_agg_\"var\"__isabs_False__qh_0.4__ql_0.6\n",
      "norm_price__change_quantiles__f_agg_\"var\"__isabs_False__qh_0.4__ql_0.8\n",
      "norm_price__change_quantiles__f_agg_\"var\"__isabs_False__qh_0.6__ql_0.0\n",
      "norm_price__change_quantiles__f_agg_\"var\"__isabs_False__qh_0.6__ql_0.2\n",
      "norm_price__change_quantiles__f_agg_\"var\"__isabs_False__qh_0.6__ql_0.4\n",
      "norm_price__change_quantiles__f_agg_\"var\"__isabs_False__qh_0.6__ql_0.6\n",
      "norm_price__change_quantiles__f_agg_\"var\"__isabs_False__qh_0.6__ql_0.8\n",
      "norm_price__change_quantiles__f_agg_\"var\"__isabs_False__qh_0.8__ql_0.0\n",
      "norm_price__change_quantiles__f_agg_\"var\"__isabs_False__qh_0.8__ql_0.2\n",
      "norm_price__change_quantiles__f_agg_\"var\"__isabs_False__qh_0.8__ql_0.4\n",
      "norm_price__change_quantiles__f_agg_\"var\"__isabs_False__qh_0.8__ql_0.6\n",
      "norm_price__change_quantiles__f_agg_\"var\"__isabs_False__qh_0.8__ql_0.8\n",
      "norm_price__change_quantiles__f_agg_\"var\"__isabs_False__qh_1.0__ql_0.0\n",
      "norm_price__change_quantiles__f_agg_\"var\"__isabs_False__qh_1.0__ql_0.2\n",
      "norm_price__change_quantiles__f_agg_\"var\"__isabs_False__qh_1.0__ql_0.4\n",
      "norm_price__change_quantiles__f_agg_\"var\"__isabs_False__qh_1.0__ql_0.6\n",
      "norm_price__change_quantiles__f_agg_\"var\"__isabs_False__qh_1.0__ql_0.8\n",
      "norm_price__change_quantiles__f_agg_\"var\"__isabs_True__qh_0.2__ql_0.0\n",
      "norm_price__change_quantiles__f_agg_\"var\"__isabs_True__qh_0.2__ql_0.2\n",
      "norm_price__change_quantiles__f_agg_\"var\"__isabs_True__qh_0.2__ql_0.4\n",
      "norm_price__change_quantiles__f_agg_\"var\"__isabs_True__qh_0.2__ql_0.6\n",
      "norm_price__change_quantiles__f_agg_\"var\"__isabs_True__qh_0.2__ql_0.8\n",
      "norm_price__change_quantiles__f_agg_\"var\"__isabs_True__qh_0.4__ql_0.0\n",
      "norm_price__change_quantiles__f_agg_\"var\"__isabs_True__qh_0.4__ql_0.2\n",
      "norm_price__change_quantiles__f_agg_\"var\"__isabs_True__qh_0.4__ql_0.4\n",
      "norm_price__change_quantiles__f_agg_\"var\"__isabs_True__qh_0.4__ql_0.6\n",
      "norm_price__change_quantiles__f_agg_\"var\"__isabs_True__qh_0.4__ql_0.8\n",
      "norm_price__change_quantiles__f_agg_\"var\"__isabs_True__qh_0.6__ql_0.0\n",
      "norm_price__change_quantiles__f_agg_\"var\"__isabs_True__qh_0.6__ql_0.2\n",
      "norm_price__change_quantiles__f_agg_\"var\"__isabs_True__qh_0.6__ql_0.4\n",
      "norm_price__change_quantiles__f_agg_\"var\"__isabs_True__qh_0.6__ql_0.6\n",
      "norm_price__change_quantiles__f_agg_\"var\"__isabs_True__qh_0.6__ql_0.8\n",
      "norm_price__change_quantiles__f_agg_\"var\"__isabs_True__qh_0.8__ql_0.0\n",
      "norm_price__change_quantiles__f_agg_\"var\"__isabs_True__qh_0.8__ql_0.2\n",
      "norm_price__change_quantiles__f_agg_\"var\"__isabs_True__qh_0.8__ql_0.4\n",
      "norm_price__change_quantiles__f_agg_\"var\"__isabs_True__qh_0.8__ql_0.6\n",
      "norm_price__change_quantiles__f_agg_\"var\"__isabs_True__qh_0.8__ql_0.8\n",
      "norm_price__change_quantiles__f_agg_\"var\"__isabs_True__qh_1.0__ql_0.0\n",
      "norm_price__change_quantiles__f_agg_\"var\"__isabs_True__qh_1.0__ql_0.2\n",
      "norm_price__change_quantiles__f_agg_\"var\"__isabs_True__qh_1.0__ql_0.4\n",
      "norm_price__change_quantiles__f_agg_\"var\"__isabs_True__qh_1.0__ql_0.6\n",
      "norm_price__change_quantiles__f_agg_\"var\"__isabs_True__qh_1.0__ql_0.8\n",
      "norm_price__cid_ce__normalize_False\n",
      "norm_price__cid_ce__normalize_True\n",
      "norm_price__count_above_mean\n",
      "norm_price__count_below_mean\n",
      "norm_price__cwt_coefficients__widths_(2, 5, 10, 20)__coeff_0__w_10\n",
      "norm_price__cwt_coefficients__widths_(2, 5, 10, 20)__coeff_0__w_2\n",
      "norm_price__cwt_coefficients__widths_(2, 5, 10, 20)__coeff_0__w_20\n",
      "norm_price__cwt_coefficients__widths_(2, 5, 10, 20)__coeff_0__w_5\n",
      "norm_price__cwt_coefficients__widths_(2, 5, 10, 20)__coeff_10__w_10\n",
      "norm_price__cwt_coefficients__widths_(2, 5, 10, 20)__coeff_10__w_2\n",
      "norm_price__cwt_coefficients__widths_(2, 5, 10, 20)__coeff_10__w_20\n",
      "norm_price__cwt_coefficients__widths_(2, 5, 10, 20)__coeff_10__w_5\n",
      "norm_price__cwt_coefficients__widths_(2, 5, 10, 20)__coeff_11__w_10\n",
      "norm_price__cwt_coefficients__widths_(2, 5, 10, 20)__coeff_11__w_2\n",
      "norm_price__cwt_coefficients__widths_(2, 5, 10, 20)__coeff_11__w_20\n",
      "norm_price__cwt_coefficients__widths_(2, 5, 10, 20)__coeff_11__w_5\n",
      "norm_price__cwt_coefficients__widths_(2, 5, 10, 20)__coeff_12__w_10\n",
      "norm_price__cwt_coefficients__widths_(2, 5, 10, 20)__coeff_12__w_2\n",
      "norm_price__cwt_coefficients__widths_(2, 5, 10, 20)__coeff_12__w_20\n",
      "norm_price__cwt_coefficients__widths_(2, 5, 10, 20)__coeff_12__w_5\n",
      "norm_price__cwt_coefficients__widths_(2, 5, 10, 20)__coeff_13__w_10\n",
      "norm_price__cwt_coefficients__widths_(2, 5, 10, 20)__coeff_13__w_2\n",
      "norm_price__cwt_coefficients__widths_(2, 5, 10, 20)__coeff_13__w_20\n",
      "norm_price__cwt_coefficients__widths_(2, 5, 10, 20)__coeff_13__w_5\n",
      "norm_price__cwt_coefficients__widths_(2, 5, 10, 20)__coeff_14__w_10\n",
      "norm_price__cwt_coefficients__widths_(2, 5, 10, 20)__coeff_14__w_2\n",
      "norm_price__cwt_coefficients__widths_(2, 5, 10, 20)__coeff_14__w_20\n",
      "norm_price__cwt_coefficients__widths_(2, 5, 10, 20)__coeff_14__w_5\n",
      "norm_price__cwt_coefficients__widths_(2, 5, 10, 20)__coeff_1__w_10\n",
      "norm_price__cwt_coefficients__widths_(2, 5, 10, 20)__coeff_1__w_2\n",
      "norm_price__cwt_coefficients__widths_(2, 5, 10, 20)__coeff_1__w_20\n",
      "norm_price__cwt_coefficients__widths_(2, 5, 10, 20)__coeff_1__w_5\n",
      "norm_price__cwt_coefficients__widths_(2, 5, 10, 20)__coeff_2__w_10\n",
      "norm_price__cwt_coefficients__widths_(2, 5, 10, 20)__coeff_2__w_2\n",
      "norm_price__cwt_coefficients__widths_(2, 5, 10, 20)__coeff_2__w_20\n",
      "norm_price__cwt_coefficients__widths_(2, 5, 10, 20)__coeff_2__w_5\n",
      "norm_price__cwt_coefficients__widths_(2, 5, 10, 20)__coeff_3__w_10\n",
      "norm_price__cwt_coefficients__widths_(2, 5, 10, 20)__coeff_3__w_2\n",
      "norm_price__cwt_coefficients__widths_(2, 5, 10, 20)__coeff_3__w_20\n",
      "norm_price__cwt_coefficients__widths_(2, 5, 10, 20)__coeff_3__w_5\n",
      "norm_price__cwt_coefficients__widths_(2, 5, 10, 20)__coeff_4__w_10\n",
      "norm_price__cwt_coefficients__widths_(2, 5, 10, 20)__coeff_4__w_2\n",
      "norm_price__cwt_coefficients__widths_(2, 5, 10, 20)__coeff_4__w_20\n",
      "norm_price__cwt_coefficients__widths_(2, 5, 10, 20)__coeff_4__w_5\n",
      "norm_price__cwt_coefficients__widths_(2, 5, 10, 20)__coeff_5__w_10\n",
      "norm_price__cwt_coefficients__widths_(2, 5, 10, 20)__coeff_5__w_2\n",
      "norm_price__cwt_coefficients__widths_(2, 5, 10, 20)__coeff_5__w_20\n",
      "norm_price__cwt_coefficients__widths_(2, 5, 10, 20)__coeff_5__w_5\n",
      "norm_price__cwt_coefficients__widths_(2, 5, 10, 20)__coeff_6__w_10\n",
      "norm_price__cwt_coefficients__widths_(2, 5, 10, 20)__coeff_6__w_2\n",
      "norm_price__cwt_coefficients__widths_(2, 5, 10, 20)__coeff_6__w_20\n",
      "norm_price__cwt_coefficients__widths_(2, 5, 10, 20)__coeff_6__w_5\n",
      "norm_price__cwt_coefficients__widths_(2, 5, 10, 20)__coeff_7__w_10\n",
      "norm_price__cwt_coefficients__widths_(2, 5, 10, 20)__coeff_7__w_2\n",
      "norm_price__cwt_coefficients__widths_(2, 5, 10, 20)__coeff_7__w_20\n",
      "norm_price__cwt_coefficients__widths_(2, 5, 10, 20)__coeff_7__w_5\n",
      "norm_price__cwt_coefficients__widths_(2, 5, 10, 20)__coeff_8__w_10\n",
      "norm_price__cwt_coefficients__widths_(2, 5, 10, 20)__coeff_8__w_2\n",
      "norm_price__cwt_coefficients__widths_(2, 5, 10, 20)__coeff_8__w_20\n",
      "norm_price__cwt_coefficients__widths_(2, 5, 10, 20)__coeff_8__w_5\n",
      "norm_price__cwt_coefficients__widths_(2, 5, 10, 20)__coeff_9__w_10\n",
      "norm_price__cwt_coefficients__widths_(2, 5, 10, 20)__coeff_9__w_2\n",
      "norm_price__cwt_coefficients__widths_(2, 5, 10, 20)__coeff_9__w_20\n",
      "norm_price__cwt_coefficients__widths_(2, 5, 10, 20)__coeff_9__w_5\n",
      "norm_price__energy_ratio_by_chunks__num_segments_10__segment_focus_0\n",
      "norm_price__energy_ratio_by_chunks__num_segments_10__segment_focus_1\n",
      "norm_price__energy_ratio_by_chunks__num_segments_10__segment_focus_2\n",
      "norm_price__energy_ratio_by_chunks__num_segments_10__segment_focus_3\n",
      "norm_price__energy_ratio_by_chunks__num_segments_10__segment_focus_4\n",
      "norm_price__energy_ratio_by_chunks__num_segments_10__segment_focus_5\n",
      "norm_price__energy_ratio_by_chunks__num_segments_10__segment_focus_6\n",
      "norm_price__energy_ratio_by_chunks__num_segments_10__segment_focus_7\n",
      "norm_price__energy_ratio_by_chunks__num_segments_10__segment_focus_8\n",
      "norm_price__energy_ratio_by_chunks__num_segments_10__segment_focus_9\n",
      "norm_price__fft_aggregated__aggtype_\"centroid\"\n",
      "norm_price__fft_aggregated__aggtype_\"kurtosis\"\n",
      "norm_price__fft_aggregated__aggtype_\"skew\"\n",
      "norm_price__fft_aggregated__aggtype_\"variance\"\n",
      "norm_price__fft_coefficient__coeff_0__attr_\"abs\"\n",
      "norm_price__fft_coefficient__coeff_0__attr_\"angle\"\n",
      "norm_price__fft_coefficient__coeff_0__attr_\"imag\"\n",
      "norm_price__fft_coefficient__coeff_0__attr_\"real\"\n",
      "norm_price__fft_coefficient__coeff_10__attr_\"abs\"\n",
      "norm_price__fft_coefficient__coeff_10__attr_\"angle\"\n",
      "norm_price__fft_coefficient__coeff_10__attr_\"imag\"\n",
      "norm_price__fft_coefficient__coeff_10__attr_\"real\"\n",
      "norm_price__fft_coefficient__coeff_11__attr_\"abs\"\n",
      "norm_price__fft_coefficient__coeff_11__attr_\"angle\"\n",
      "norm_price__fft_coefficient__coeff_11__attr_\"imag\"\n",
      "norm_price__fft_coefficient__coeff_11__attr_\"real\"\n",
      "norm_price__fft_coefficient__coeff_12__attr_\"abs\"\n",
      "norm_price__fft_coefficient__coeff_12__attr_\"angle\"\n",
      "norm_price__fft_coefficient__coeff_12__attr_\"imag\"\n",
      "norm_price__fft_coefficient__coeff_12__attr_\"real\"\n",
      "norm_price__fft_coefficient__coeff_13__attr_\"abs\"\n",
      "norm_price__fft_coefficient__coeff_13__attr_\"angle\"\n",
      "norm_price__fft_coefficient__coeff_13__attr_\"imag\"\n",
      "norm_price__fft_coefficient__coeff_13__attr_\"real\"\n",
      "norm_price__fft_coefficient__coeff_14__attr_\"abs\"\n",
      "norm_price__fft_coefficient__coeff_14__attr_\"angle\"\n",
      "norm_price__fft_coefficient__coeff_14__attr_\"imag\"\n",
      "norm_price__fft_coefficient__coeff_14__attr_\"real\"\n",
      "norm_price__fft_coefficient__coeff_15__attr_\"abs\"\n",
      "norm_price__fft_coefficient__coeff_15__attr_\"angle\"\n",
      "norm_price__fft_coefficient__coeff_15__attr_\"imag\"\n",
      "norm_price__fft_coefficient__coeff_15__attr_\"real\"\n",
      "norm_price__fft_coefficient__coeff_16__attr_\"abs\"\n",
      "norm_price__fft_coefficient__coeff_16__attr_\"angle\"\n",
      "norm_price__fft_coefficient__coeff_16__attr_\"imag\"\n",
      "norm_price__fft_coefficient__coeff_16__attr_\"real\"\n",
      "norm_price__fft_coefficient__coeff_17__attr_\"abs\"\n",
      "norm_price__fft_coefficient__coeff_17__attr_\"angle\"\n",
      "norm_price__fft_coefficient__coeff_17__attr_\"imag\"\n",
      "norm_price__fft_coefficient__coeff_17__attr_\"real\"\n",
      "norm_price__fft_coefficient__coeff_18__attr_\"abs\"\n",
      "norm_price__fft_coefficient__coeff_18__attr_\"angle\"\n",
      "norm_price__fft_coefficient__coeff_18__attr_\"imag\"\n",
      "norm_price__fft_coefficient__coeff_18__attr_\"real\"\n",
      "norm_price__fft_coefficient__coeff_19__attr_\"abs\"\n",
      "norm_price__fft_coefficient__coeff_19__attr_\"angle\"\n",
      "norm_price__fft_coefficient__coeff_19__attr_\"imag\"\n",
      "norm_price__fft_coefficient__coeff_19__attr_\"real\"\n",
      "norm_price__fft_coefficient__coeff_1__attr_\"abs\"\n",
      "norm_price__fft_coefficient__coeff_1__attr_\"angle\"\n",
      "norm_price__fft_coefficient__coeff_1__attr_\"imag\"\n",
      "norm_price__fft_coefficient__coeff_1__attr_\"real\"\n",
      "norm_price__fft_coefficient__coeff_20__attr_\"abs\"\n",
      "norm_price__fft_coefficient__coeff_20__attr_\"angle\"\n",
      "norm_price__fft_coefficient__coeff_20__attr_\"imag\"\n",
      "norm_price__fft_coefficient__coeff_20__attr_\"real\"\n",
      "norm_price__fft_coefficient__coeff_21__attr_\"abs\"\n",
      "norm_price__fft_coefficient__coeff_21__attr_\"angle\"\n",
      "norm_price__fft_coefficient__coeff_21__attr_\"imag\"\n",
      "norm_price__fft_coefficient__coeff_21__attr_\"real\"\n",
      "norm_price__fft_coefficient__coeff_22__attr_\"abs\"\n",
      "norm_price__fft_coefficient__coeff_22__attr_\"angle\"\n",
      "norm_price__fft_coefficient__coeff_22__attr_\"imag\"\n",
      "norm_price__fft_coefficient__coeff_22__attr_\"real\"\n",
      "norm_price__fft_coefficient__coeff_23__attr_\"abs\"\n",
      "norm_price__fft_coefficient__coeff_23__attr_\"angle\"\n",
      "norm_price__fft_coefficient__coeff_23__attr_\"imag\"\n",
      "norm_price__fft_coefficient__coeff_23__attr_\"real\"\n",
      "norm_price__fft_coefficient__coeff_24__attr_\"abs\"\n",
      "norm_price__fft_coefficient__coeff_24__attr_\"angle\"\n",
      "norm_price__fft_coefficient__coeff_24__attr_\"imag\"\n",
      "norm_price__fft_coefficient__coeff_24__attr_\"real\"\n",
      "norm_price__fft_coefficient__coeff_25__attr_\"abs\"\n",
      "norm_price__fft_coefficient__coeff_25__attr_\"angle\"\n",
      "norm_price__fft_coefficient__coeff_25__attr_\"imag\"\n",
      "norm_price__fft_coefficient__coeff_25__attr_\"real\"\n",
      "norm_price__fft_coefficient__coeff_26__attr_\"abs\"\n",
      "norm_price__fft_coefficient__coeff_26__attr_\"angle\"\n",
      "norm_price__fft_coefficient__coeff_26__attr_\"imag\"\n",
      "norm_price__fft_coefficient__coeff_26__attr_\"real\"\n",
      "norm_price__fft_coefficient__coeff_27__attr_\"abs\"\n",
      "norm_price__fft_coefficient__coeff_27__attr_\"angle\"\n",
      "norm_price__fft_coefficient__coeff_27__attr_\"imag\"\n",
      "norm_price__fft_coefficient__coeff_27__attr_\"real\"\n",
      "norm_price__fft_coefficient__coeff_28__attr_\"abs\"\n",
      "norm_price__fft_coefficient__coeff_28__attr_\"angle\"\n",
      "norm_price__fft_coefficient__coeff_28__attr_\"imag\"\n",
      "norm_price__fft_coefficient__coeff_28__attr_\"real\"\n",
      "norm_price__fft_coefficient__coeff_29__attr_\"abs\"\n",
      "norm_price__fft_coefficient__coeff_29__attr_\"angle\"\n",
      "norm_price__fft_coefficient__coeff_29__attr_\"imag\"\n",
      "norm_price__fft_coefficient__coeff_29__attr_\"real\"\n",
      "norm_price__fft_coefficient__coeff_2__attr_\"abs\"\n",
      "norm_price__fft_coefficient__coeff_2__attr_\"angle\"\n",
      "norm_price__fft_coefficient__coeff_2__attr_\"imag\"\n",
      "norm_price__fft_coefficient__coeff_2__attr_\"real\"\n",
      "norm_price__fft_coefficient__coeff_30__attr_\"abs\"\n",
      "norm_price__fft_coefficient__coeff_30__attr_\"angle\"\n",
      "norm_price__fft_coefficient__coeff_30__attr_\"imag\"\n",
      "norm_price__fft_coefficient__coeff_30__attr_\"real\"\n",
      "norm_price__fft_coefficient__coeff_31__attr_\"abs\"\n",
      "norm_price__fft_coefficient__coeff_31__attr_\"angle\"\n",
      "norm_price__fft_coefficient__coeff_31__attr_\"imag\"\n",
      "norm_price__fft_coefficient__coeff_31__attr_\"real\"\n",
      "norm_price__fft_coefficient__coeff_32__attr_\"abs\"\n",
      "norm_price__fft_coefficient__coeff_32__attr_\"angle\"\n",
      "norm_price__fft_coefficient__coeff_32__attr_\"imag\"\n",
      "norm_price__fft_coefficient__coeff_32__attr_\"real\"\n",
      "norm_price__fft_coefficient__coeff_33__attr_\"abs\"\n",
      "norm_price__fft_coefficient__coeff_33__attr_\"angle\"\n",
      "norm_price__fft_coefficient__coeff_33__attr_\"imag\"\n",
      "norm_price__fft_coefficient__coeff_33__attr_\"real\"\n",
      "norm_price__fft_coefficient__coeff_34__attr_\"abs\"\n",
      "norm_price__fft_coefficient__coeff_34__attr_\"angle\"\n",
      "norm_price__fft_coefficient__coeff_34__attr_\"imag\"\n",
      "norm_price__fft_coefficient__coeff_34__attr_\"real\"\n",
      "norm_price__fft_coefficient__coeff_35__attr_\"abs\"\n",
      "norm_price__fft_coefficient__coeff_35__attr_\"angle\"\n",
      "norm_price__fft_coefficient__coeff_35__attr_\"imag\"\n",
      "norm_price__fft_coefficient__coeff_35__attr_\"real\"\n",
      "norm_price__fft_coefficient__coeff_36__attr_\"abs\"\n",
      "norm_price__fft_coefficient__coeff_36__attr_\"angle\"\n",
      "norm_price__fft_coefficient__coeff_36__attr_\"imag\"\n",
      "norm_price__fft_coefficient__coeff_36__attr_\"real\"\n",
      "norm_price__fft_coefficient__coeff_37__attr_\"abs\"\n",
      "norm_price__fft_coefficient__coeff_37__attr_\"angle\"\n",
      "norm_price__fft_coefficient__coeff_37__attr_\"imag\"\n",
      "norm_price__fft_coefficient__coeff_37__attr_\"real\"\n",
      "norm_price__fft_coefficient__coeff_38__attr_\"abs\"\n",
      "norm_price__fft_coefficient__coeff_38__attr_\"angle\"\n",
      "norm_price__fft_coefficient__coeff_38__attr_\"imag\"\n",
      "norm_price__fft_coefficient__coeff_38__attr_\"real\"\n",
      "norm_price__fft_coefficient__coeff_39__attr_\"abs\"\n",
      "norm_price__fft_coefficient__coeff_39__attr_\"angle\"\n",
      "norm_price__fft_coefficient__coeff_39__attr_\"imag\"\n",
      "norm_price__fft_coefficient__coeff_39__attr_\"real\"\n",
      "norm_price__fft_coefficient__coeff_3__attr_\"abs\"\n",
      "norm_price__fft_coefficient__coeff_3__attr_\"angle\"\n",
      "norm_price__fft_coefficient__coeff_3__attr_\"imag\"\n",
      "norm_price__fft_coefficient__coeff_3__attr_\"real\"\n",
      "norm_price__fft_coefficient__coeff_40__attr_\"abs\"\n",
      "norm_price__fft_coefficient__coeff_40__attr_\"angle\"\n",
      "norm_price__fft_coefficient__coeff_40__attr_\"imag\"\n",
      "norm_price__fft_coefficient__coeff_40__attr_\"real\"\n",
      "norm_price__fft_coefficient__coeff_41__attr_\"abs\"\n",
      "norm_price__fft_coefficient__coeff_41__attr_\"angle\"\n",
      "norm_price__fft_coefficient__coeff_41__attr_\"imag\"\n",
      "norm_price__fft_coefficient__coeff_41__attr_\"real\"\n",
      "norm_price__fft_coefficient__coeff_42__attr_\"abs\"\n",
      "norm_price__fft_coefficient__coeff_42__attr_\"angle\"\n",
      "norm_price__fft_coefficient__coeff_42__attr_\"imag\"\n",
      "norm_price__fft_coefficient__coeff_42__attr_\"real\"\n",
      "norm_price__fft_coefficient__coeff_43__attr_\"abs\"\n",
      "norm_price__fft_coefficient__coeff_43__attr_\"angle\"\n",
      "norm_price__fft_coefficient__coeff_43__attr_\"imag\"\n",
      "norm_price__fft_coefficient__coeff_43__attr_\"real\"\n",
      "norm_price__fft_coefficient__coeff_44__attr_\"abs\"\n",
      "norm_price__fft_coefficient__coeff_44__attr_\"angle\"\n",
      "norm_price__fft_coefficient__coeff_44__attr_\"imag\"\n",
      "norm_price__fft_coefficient__coeff_44__attr_\"real\"\n",
      "norm_price__fft_coefficient__coeff_45__attr_\"abs\"\n",
      "norm_price__fft_coefficient__coeff_45__attr_\"angle\"\n",
      "norm_price__fft_coefficient__coeff_45__attr_\"imag\"\n",
      "norm_price__fft_coefficient__coeff_45__attr_\"real\"\n",
      "norm_price__fft_coefficient__coeff_46__attr_\"abs\"\n",
      "norm_price__fft_coefficient__coeff_46__attr_\"angle\"\n",
      "norm_price__fft_coefficient__coeff_46__attr_\"imag\"\n",
      "norm_price__fft_coefficient__coeff_46__attr_\"real\"\n",
      "norm_price__fft_coefficient__coeff_47__attr_\"abs\"\n",
      "norm_price__fft_coefficient__coeff_47__attr_\"angle\"\n",
      "norm_price__fft_coefficient__coeff_47__attr_\"imag\"\n",
      "norm_price__fft_coefficient__coeff_47__attr_\"real\"\n",
      "norm_price__fft_coefficient__coeff_48__attr_\"abs\"\n",
      "norm_price__fft_coefficient__coeff_48__attr_\"angle\"\n",
      "norm_price__fft_coefficient__coeff_48__attr_\"imag\"\n",
      "norm_price__fft_coefficient__coeff_48__attr_\"real\"\n",
      "norm_price__fft_coefficient__coeff_49__attr_\"abs\"\n",
      "norm_price__fft_coefficient__coeff_49__attr_\"angle\"\n",
      "norm_price__fft_coefficient__coeff_49__attr_\"imag\"\n",
      "norm_price__fft_coefficient__coeff_49__attr_\"real\"\n",
      "norm_price__fft_coefficient__coeff_4__attr_\"abs\"\n",
      "norm_price__fft_coefficient__coeff_4__attr_\"angle\"\n",
      "norm_price__fft_coefficient__coeff_4__attr_\"imag\"\n",
      "norm_price__fft_coefficient__coeff_4__attr_\"real\"\n",
      "norm_price__fft_coefficient__coeff_50__attr_\"abs\"\n",
      "norm_price__fft_coefficient__coeff_50__attr_\"angle\"\n",
      "norm_price__fft_coefficient__coeff_50__attr_\"imag\"\n",
      "norm_price__fft_coefficient__coeff_50__attr_\"real\"\n",
      "norm_price__fft_coefficient__coeff_51__attr_\"abs\"\n",
      "norm_price__fft_coefficient__coeff_51__attr_\"angle\"\n",
      "norm_price__fft_coefficient__coeff_51__attr_\"imag\"\n",
      "norm_price__fft_coefficient__coeff_51__attr_\"real\"\n",
      "norm_price__fft_coefficient__coeff_52__attr_\"abs\"\n",
      "norm_price__fft_coefficient__coeff_52__attr_\"angle\"\n",
      "norm_price__fft_coefficient__coeff_52__attr_\"imag\"\n",
      "norm_price__fft_coefficient__coeff_52__attr_\"real\"\n",
      "norm_price__fft_coefficient__coeff_53__attr_\"abs\"\n",
      "norm_price__fft_coefficient__coeff_53__attr_\"angle\"\n",
      "norm_price__fft_coefficient__coeff_53__attr_\"imag\"\n",
      "norm_price__fft_coefficient__coeff_53__attr_\"real\"\n",
      "norm_price__fft_coefficient__coeff_54__attr_\"abs\"\n",
      "norm_price__fft_coefficient__coeff_54__attr_\"angle\"\n",
      "norm_price__fft_coefficient__coeff_54__attr_\"imag\"\n",
      "norm_price__fft_coefficient__coeff_54__attr_\"real\"\n",
      "norm_price__fft_coefficient__coeff_55__attr_\"abs\"\n",
      "norm_price__fft_coefficient__coeff_55__attr_\"angle\"\n",
      "norm_price__fft_coefficient__coeff_55__attr_\"imag\"\n",
      "norm_price__fft_coefficient__coeff_55__attr_\"real\"\n",
      "norm_price__fft_coefficient__coeff_56__attr_\"abs\"\n",
      "norm_price__fft_coefficient__coeff_56__attr_\"angle\"\n",
      "norm_price__fft_coefficient__coeff_56__attr_\"imag\"\n",
      "norm_price__fft_coefficient__coeff_56__attr_\"real\"\n",
      "norm_price__fft_coefficient__coeff_5__attr_\"abs\"\n",
      "norm_price__fft_coefficient__coeff_5__attr_\"angle\"\n",
      "norm_price__fft_coefficient__coeff_5__attr_\"imag\"\n",
      "norm_price__fft_coefficient__coeff_5__attr_\"real\"\n",
      "norm_price__fft_coefficient__coeff_6__attr_\"abs\"\n",
      "norm_price__fft_coefficient__coeff_6__attr_\"angle\"\n",
      "norm_price__fft_coefficient__coeff_6__attr_\"imag\"\n",
      "norm_price__fft_coefficient__coeff_6__attr_\"real\"\n",
      "norm_price__fft_coefficient__coeff_7__attr_\"abs\"\n",
      "norm_price__fft_coefficient__coeff_7__attr_\"angle\"\n",
      "norm_price__fft_coefficient__coeff_7__attr_\"imag\"\n",
      "norm_price__fft_coefficient__coeff_7__attr_\"real\"\n",
      "norm_price__fft_coefficient__coeff_8__attr_\"abs\"\n",
      "norm_price__fft_coefficient__coeff_8__attr_\"angle\"\n",
      "norm_price__fft_coefficient__coeff_8__attr_\"imag\"\n",
      "norm_price__fft_coefficient__coeff_8__attr_\"real\"\n",
      "norm_price__fft_coefficient__coeff_9__attr_\"abs\"\n",
      "norm_price__fft_coefficient__coeff_9__attr_\"angle\"\n",
      "norm_price__fft_coefficient__coeff_9__attr_\"imag\"\n",
      "norm_price__fft_coefficient__coeff_9__attr_\"real\"\n",
      "norm_price__first_location_of_maximum\n",
      "norm_price__first_location_of_minimum\n",
      "norm_price__friedrich_coefficients__m_3__r_30__coeff_0\n",
      "norm_price__friedrich_coefficients__m_3__r_30__coeff_1\n",
      "norm_price__friedrich_coefficients__m_3__r_30__coeff_2\n",
      "norm_price__friedrich_coefficients__m_3__r_30__coeff_3\n",
      "norm_price__has_duplicate\n",
      "norm_price__has_duplicate_max\n",
      "norm_price__has_duplicate_min\n",
      "norm_price__index_mass_quantile__q_0.1\n",
      "norm_price__index_mass_quantile__q_0.2\n",
      "norm_price__index_mass_quantile__q_0.3\n",
      "norm_price__index_mass_quantile__q_0.4\n",
      "norm_price__index_mass_quantile__q_0.6\n",
      "norm_price__index_mass_quantile__q_0.7\n",
      "norm_price__index_mass_quantile__q_0.8\n",
      "norm_price__index_mass_quantile__q_0.9\n",
      "norm_price__kurtosis\n",
      "norm_price__large_standard_deviation__r_0.05\n",
      "norm_price__large_standard_deviation__r_0.1\n",
      "norm_price__large_standard_deviation__r_0.15\n",
      "norm_price__large_standard_deviation__r_0.2\n",
      "norm_price__large_standard_deviation__r_0.25\n",
      "norm_price__large_standard_deviation__r_0.3\n",
      "norm_price__large_standard_deviation__r_0.35\n",
      "norm_price__large_standard_deviation__r_0.4\n",
      "norm_price__large_standard_deviation__r_0.45\n",
      "norm_price__large_standard_deviation__r_0.5\n",
      "norm_price__large_standard_deviation__r_0.55\n",
      "norm_price__large_standard_deviation__r_0.6\n",
      "norm_price__large_standard_deviation__r_0.65\n",
      "norm_price__large_standard_deviation__r_0.7\n",
      "norm_price__large_standard_deviation__r_0.75\n",
      "norm_price__large_standard_deviation__r_0.8\n",
      "norm_price__large_standard_deviation__r_0.85\n",
      "norm_price__large_standard_deviation__r_0.9\n",
      "norm_price__large_standard_deviation__r_0.95\n",
      "norm_price__last_location_of_maximum\n",
      "norm_price__last_location_of_minimum\n",
      "norm_price__length\n",
      "norm_price__linear_trend__attr_\"intercept\"\n",
      "norm_price__linear_trend__attr_\"pvalue\"\n",
      "norm_price__linear_trend__attr_\"rvalue\"\n",
      "norm_price__linear_trend__attr_\"slope\"\n",
      "norm_price__linear_trend__attr_\"stderr\"\n",
      "norm_price__longest_strike_above_mean\n",
      "norm_price__longest_strike_below_mean\n",
      "norm_price__max_langevin_fixed_point__m_3__r_30\n",
      "norm_price__maximum\n",
      "norm_price__mean\n",
      "norm_price__mean_abs_change\n",
      "norm_price__mean_change\n",
      "norm_price__mean_second_derivative_central\n",
      "norm_price__median\n",
      "norm_price__minimum\n",
      "norm_price__number_crossing_m__m_-1\n",
      "norm_price__number_crossing_m__m_0\n",
      "norm_price__number_crossing_m__m_1\n",
      "norm_price__number_cwt_peaks__n_1\n",
      "norm_price__number_cwt_peaks__n_5\n",
      "norm_price__number_peaks__n_1\n",
      "norm_price__number_peaks__n_10\n",
      "norm_price__number_peaks__n_3\n",
      "norm_price__number_peaks__n_5\n",
      "norm_price__number_peaks__n_50\n",
      "norm_price__partial_autocorrelation__lag_0\n",
      "norm_price__partial_autocorrelation__lag_1\n",
      "norm_price__partial_autocorrelation__lag_2\n",
      "norm_price__partial_autocorrelation__lag_3\n",
      "norm_price__partial_autocorrelation__lag_4\n",
      "norm_price__partial_autocorrelation__lag_5\n",
      "norm_price__partial_autocorrelation__lag_6\n",
      "norm_price__partial_autocorrelation__lag_7\n",
      "norm_price__partial_autocorrelation__lag_8\n",
      "norm_price__partial_autocorrelation__lag_9\n",
      "norm_price__percentage_of_reoccurring_datapoints_to_all_datapoints\n",
      "norm_price__percentage_of_reoccurring_values_to_all_values\n",
      "norm_price__quantile__q_0.1\n",
      "norm_price__quantile__q_0.2\n",
      "norm_price__quantile__q_0.3\n",
      "norm_price__quantile__q_0.4\n",
      "norm_price__quantile__q_0.6\n",
      "norm_price__quantile__q_0.7\n",
      "norm_price__quantile__q_0.8\n",
      "norm_price__quantile__q_0.9\n",
      "norm_price__range_count__max_1__min_-1\n",
      "norm_price__ratio_beyond_r_sigma__r_0.5\n",
      "norm_price__ratio_beyond_r_sigma__r_1\n",
      "norm_price__ratio_beyond_r_sigma__r_1.5\n",
      "norm_price__ratio_beyond_r_sigma__r_10\n",
      "norm_price__ratio_beyond_r_sigma__r_2\n",
      "norm_price__ratio_beyond_r_sigma__r_2.5\n",
      "norm_price__ratio_beyond_r_sigma__r_3\n",
      "norm_price__ratio_beyond_r_sigma__r_5\n",
      "norm_price__ratio_beyond_r_sigma__r_6\n",
      "norm_price__ratio_beyond_r_sigma__r_7\n",
      "norm_price__ratio_value_number_to_time_series_length\n",
      "norm_price__sample_entropy\n",
      "norm_price__skewness\n",
      "norm_price__spkt_welch_density__coeff_2\n",
      "norm_price__spkt_welch_density__coeff_5\n",
      "norm_price__spkt_welch_density__coeff_8\n",
      "norm_price__standard_deviation\n",
      "norm_price__sum_of_reoccurring_data_points\n",
      "norm_price__sum_of_reoccurring_values\n",
      "norm_price__sum_values\n",
      "norm_price__symmetry_looking__r_0.0\n",
      "norm_price__symmetry_looking__r_0.05\n",
      "norm_price__symmetry_looking__r_0.1\n",
      "norm_price__symmetry_looking__r_0.15\n",
      "norm_price__symmetry_looking__r_0.2\n",
      "norm_price__symmetry_looking__r_0.25\n",
      "norm_price__symmetry_looking__r_0.3\n",
      "norm_price__symmetry_looking__r_0.35\n",
      "norm_price__symmetry_looking__r_0.4\n",
      "norm_price__symmetry_looking__r_0.45\n",
      "norm_price__symmetry_looking__r_0.5\n",
      "norm_price__symmetry_looking__r_0.55\n",
      "norm_price__symmetry_looking__r_0.6\n",
      "norm_price__symmetry_looking__r_0.65\n",
      "norm_price__symmetry_looking__r_0.7\n",
      "norm_price__symmetry_looking__r_0.75\n",
      "norm_price__symmetry_looking__r_0.8\n",
      "norm_price__symmetry_looking__r_0.85\n",
      "norm_price__symmetry_looking__r_0.9\n",
      "norm_price__symmetry_looking__r_0.95\n",
      "norm_price__time_reversal_asymmetry_statistic__lag_1\n",
      "norm_price__time_reversal_asymmetry_statistic__lag_2\n",
      "norm_price__time_reversal_asymmetry_statistic__lag_3\n",
      "norm_price__value_count__value_-inf\n",
      "norm_price__value_count__value_0\n",
      "norm_price__value_count__value_1\n",
      "norm_price__value_count__value_inf\n",
      "norm_price__value_count__value_nan\n",
      "norm_price__variance\n",
      "norm_price__variance_larger_than_standard_deviation\n"
     ]
    }
   ],
   "source": [
    "print\"\\n\".join(list(train_feats.columns.values))"
   ]
  },
  {
   "cell_type": "code",
   "execution_count": 159,
   "metadata": {
    "collapsed": true,
    "deletable": true,
    "editable": true
   },
   "outputs": [],
   "source": [
    "features_of_interest = ['norm_price__mean',\n",
    "                        'norm_price__median',\n",
    "                        'norm_price__mean_change',\n",
    "                        #'norm_price__mean_abs_change',\n",
    "                        'norm_price__first_location_of_maximum',\n",
    "                        'norm_price__first_location_of_minimum',\n",
    "                        'norm_price__linear_trend__attr_\"slope\"',\n",
    "                        'norm_price__count_above_mean',\n",
    "                        'norm_price__count_below_mean'\n",
    "                       ]"
   ]
  },
  {
   "cell_type": "code",
   "execution_count": 160,
   "metadata": {
    "collapsed": false,
    "deletable": true,
    "editable": true
   },
   "outputs": [
    {
     "name": "stdout",
     "output_type": "stream",
     "text": [
      "(209, 8)\n"
     ]
    },
    {
     "data": {
      "text/html": [
       "<div>\n",
       "<style>\n",
       "    .dataframe thead tr:only-child th {\n",
       "        text-align: right;\n",
       "    }\n",
       "\n",
       "    .dataframe thead th {\n",
       "        text-align: left;\n",
       "    }\n",
       "\n",
       "    .dataframe tbody tr th {\n",
       "        vertical-align: top;\n",
       "    }\n",
       "</style>\n",
       "<table border=\"1\" class=\"dataframe\">\n",
       "  <thead>\n",
       "    <tr style=\"text-align: right;\">\n",
       "      <th>variable</th>\n",
       "      <th>norm_price__mean</th>\n",
       "      <th>norm_price__median</th>\n",
       "      <th>norm_price__mean_change</th>\n",
       "      <th>norm_price__first_location_of_maximum</th>\n",
       "      <th>norm_price__first_location_of_minimum</th>\n",
       "      <th>norm_price__linear_trend__attr_\"slope\"</th>\n",
       "      <th>norm_price__count_above_mean</th>\n",
       "      <th>norm_price__count_below_mean</th>\n",
       "    </tr>\n",
       "    <tr>\n",
       "      <th>id</th>\n",
       "      <th></th>\n",
       "      <th></th>\n",
       "      <th></th>\n",
       "      <th></th>\n",
       "      <th></th>\n",
       "      <th></th>\n",
       "      <th></th>\n",
       "      <th></th>\n",
       "    </tr>\n",
       "  </thead>\n",
       "  <tbody>\n",
       "    <tr>\n",
       "      <th>0</th>\n",
       "      <td>-0.265791</td>\n",
       "      <td>-0.249245</td>\n",
       "      <td>-0.001468</td>\n",
       "      <td>0.353982</td>\n",
       "      <td>0.991150</td>\n",
       "      <td>-0.001221</td>\n",
       "      <td>79.0</td>\n",
       "      <td>34.0</td>\n",
       "    </tr>\n",
       "    <tr>\n",
       "      <th>1</th>\n",
       "      <td>-0.010960</td>\n",
       "      <td>-0.008207</td>\n",
       "      <td>0.000124</td>\n",
       "      <td>0.283186</td>\n",
       "      <td>0.097345</td>\n",
       "      <td>0.000295</td>\n",
       "      <td>70.0</td>\n",
       "      <td>43.0</td>\n",
       "    </tr>\n",
       "    <tr>\n",
       "      <th>2</th>\n",
       "      <td>-0.229526</td>\n",
       "      <td>-0.226107</td>\n",
       "      <td>-0.001035</td>\n",
       "      <td>0.000000</td>\n",
       "      <td>0.380531</td>\n",
       "      <td>0.000399</td>\n",
       "      <td>60.0</td>\n",
       "      <td>53.0</td>\n",
       "    </tr>\n",
       "    <tr>\n",
       "      <th>3</th>\n",
       "      <td>2.499430</td>\n",
       "      <td>2.514329</td>\n",
       "      <td>0.001829</td>\n",
       "      <td>0.805310</td>\n",
       "      <td>0.008850</td>\n",
       "      <td>0.001168</td>\n",
       "      <td>66.0</td>\n",
       "      <td>47.0</td>\n",
       "    </tr>\n",
       "    <tr>\n",
       "      <th>4</th>\n",
       "      <td>-0.192816</td>\n",
       "      <td>-0.190763</td>\n",
       "      <td>0.000123</td>\n",
       "      <td>0.946903</td>\n",
       "      <td>0.725664</td>\n",
       "      <td>-0.000093</td>\n",
       "      <td>58.0</td>\n",
       "      <td>55.0</td>\n",
       "    </tr>\n",
       "  </tbody>\n",
       "</table>\n",
       "</div>"
      ],
      "text/plain": [
       "variable  norm_price__mean  norm_price__median  norm_price__mean_change  \\\n",
       "id                                                                        \n",
       "0                -0.265791           -0.249245                -0.001468   \n",
       "1                -0.010960           -0.008207                 0.000124   \n",
       "2                -0.229526           -0.226107                -0.001035   \n",
       "3                 2.499430            2.514329                 0.001829   \n",
       "4                -0.192816           -0.190763                 0.000123   \n",
       "\n",
       "variable  norm_price__first_location_of_maximum  \\\n",
       "id                                                \n",
       "0                                      0.353982   \n",
       "1                                      0.283186   \n",
       "2                                      0.000000   \n",
       "3                                      0.805310   \n",
       "4                                      0.946903   \n",
       "\n",
       "variable  norm_price__first_location_of_minimum  \\\n",
       "id                                                \n",
       "0                                      0.991150   \n",
       "1                                      0.097345   \n",
       "2                                      0.380531   \n",
       "3                                      0.008850   \n",
       "4                                      0.725664   \n",
       "\n",
       "variable  norm_price__linear_trend__attr_\"slope\"  \\\n",
       "id                                                 \n",
       "0                                      -0.001221   \n",
       "1                                       0.000295   \n",
       "2                                       0.000399   \n",
       "3                                       0.001168   \n",
       "4                                      -0.000093   \n",
       "\n",
       "variable  norm_price__count_above_mean  norm_price__count_below_mean  \n",
       "id                                                                    \n",
       "0                                 79.0                          34.0  \n",
       "1                                 70.0                          43.0  \n",
       "2                                 60.0                          53.0  \n",
       "3                                 66.0                          47.0  \n",
       "4                                 58.0                          55.0  "
      ]
     },
     "execution_count": 160,
     "metadata": {},
     "output_type": "execute_result"
    }
   ],
   "source": [
    "print train_feats[features_of_interest].shape\n",
    "train_feats[features_of_interest].head()"
   ]
  },
  {
   "cell_type": "code",
   "execution_count": 161,
   "metadata": {
    "collapsed": false,
    "deletable": true,
    "editable": true
   },
   "outputs": [
    {
     "name": "stdout",
     "output_type": "stream",
     "text": [
      "(24, 8)\n"
     ]
    },
    {
     "data": {
      "text/html": [
       "<div>\n",
       "<style>\n",
       "    .dataframe thead tr:only-child th {\n",
       "        text-align: right;\n",
       "    }\n",
       "\n",
       "    .dataframe thead th {\n",
       "        text-align: left;\n",
       "    }\n",
       "\n",
       "    .dataframe tbody tr th {\n",
       "        vertical-align: top;\n",
       "    }\n",
       "</style>\n",
       "<table border=\"1\" class=\"dataframe\">\n",
       "  <thead>\n",
       "    <tr style=\"text-align: right;\">\n",
       "      <th>variable</th>\n",
       "      <th>norm_price__mean</th>\n",
       "      <th>norm_price__median</th>\n",
       "      <th>norm_price__mean_change</th>\n",
       "      <th>norm_price__first_location_of_maximum</th>\n",
       "      <th>norm_price__first_location_of_minimum</th>\n",
       "      <th>norm_price__linear_trend__attr_\"slope\"</th>\n",
       "      <th>norm_price__count_above_mean</th>\n",
       "      <th>norm_price__count_below_mean</th>\n",
       "    </tr>\n",
       "    <tr>\n",
       "      <th>id</th>\n",
       "      <th></th>\n",
       "      <th></th>\n",
       "      <th></th>\n",
       "      <th></th>\n",
       "      <th></th>\n",
       "      <th></th>\n",
       "      <th></th>\n",
       "      <th></th>\n",
       "    </tr>\n",
       "  </thead>\n",
       "  <tbody>\n",
       "    <tr>\n",
       "      <th>0</th>\n",
       "      <td>-0.421011</td>\n",
       "      <td>-0.409471</td>\n",
       "      <td>-0.000908</td>\n",
       "      <td>0.557522</td>\n",
       "      <td>0.929204</td>\n",
       "      <td>-0.000749</td>\n",
       "      <td>81.0</td>\n",
       "      <td>32.0</td>\n",
       "    </tr>\n",
       "    <tr>\n",
       "      <th>1</th>\n",
       "      <td>-0.231476</td>\n",
       "      <td>-0.232116</td>\n",
       "      <td>-0.000483</td>\n",
       "      <td>0.539823</td>\n",
       "      <td>0.256637</td>\n",
       "      <td>-0.000024</td>\n",
       "      <td>56.0</td>\n",
       "      <td>57.0</td>\n",
       "    </tr>\n",
       "    <tr>\n",
       "      <th>2</th>\n",
       "      <td>-0.557929</td>\n",
       "      <td>-0.558836</td>\n",
       "      <td>0.000011</td>\n",
       "      <td>0.955752</td>\n",
       "      <td>0.628319</td>\n",
       "      <td>-0.000100</td>\n",
       "      <td>51.0</td>\n",
       "      <td>62.0</td>\n",
       "    </tr>\n",
       "    <tr>\n",
       "      <th>3</th>\n",
       "      <td>-0.251067</td>\n",
       "      <td>-0.240050</td>\n",
       "      <td>0.000064</td>\n",
       "      <td>0.123894</td>\n",
       "      <td>0.699115</td>\n",
       "      <td>-0.000282</td>\n",
       "      <td>82.0</td>\n",
       "      <td>31.0</td>\n",
       "    </tr>\n",
       "    <tr>\n",
       "      <th>4</th>\n",
       "      <td>-0.284424</td>\n",
       "      <td>-0.289434</td>\n",
       "      <td>-0.000335</td>\n",
       "      <td>0.318584</td>\n",
       "      <td>0.867257</td>\n",
       "      <td>-0.000814</td>\n",
       "      <td>54.0</td>\n",
       "      <td>59.0</td>\n",
       "    </tr>\n",
       "  </tbody>\n",
       "</table>\n",
       "</div>"
      ],
      "text/plain": [
       "variable  norm_price__mean  norm_price__median  norm_price__mean_change  \\\n",
       "id                                                                        \n",
       "0                -0.421011           -0.409471                -0.000908   \n",
       "1                -0.231476           -0.232116                -0.000483   \n",
       "2                -0.557929           -0.558836                 0.000011   \n",
       "3                -0.251067           -0.240050                 0.000064   \n",
       "4                -0.284424           -0.289434                -0.000335   \n",
       "\n",
       "variable  norm_price__first_location_of_maximum  \\\n",
       "id                                                \n",
       "0                                      0.557522   \n",
       "1                                      0.539823   \n",
       "2                                      0.955752   \n",
       "3                                      0.123894   \n",
       "4                                      0.318584   \n",
       "\n",
       "variable  norm_price__first_location_of_minimum  \\\n",
       "id                                                \n",
       "0                                      0.929204   \n",
       "1                                      0.256637   \n",
       "2                                      0.628319   \n",
       "3                                      0.699115   \n",
       "4                                      0.867257   \n",
       "\n",
       "variable  norm_price__linear_trend__attr_\"slope\"  \\\n",
       "id                                                 \n",
       "0                                      -0.000749   \n",
       "1                                      -0.000024   \n",
       "2                                      -0.000100   \n",
       "3                                      -0.000282   \n",
       "4                                      -0.000814   \n",
       "\n",
       "variable  norm_price__count_above_mean  norm_price__count_below_mean  \n",
       "id                                                                    \n",
       "0                                 81.0                          32.0  \n",
       "1                                 56.0                          57.0  \n",
       "2                                 51.0                          62.0  \n",
       "3                                 82.0                          31.0  \n",
       "4                                 54.0                          59.0  "
      ]
     },
     "execution_count": 161,
     "metadata": {},
     "output_type": "execute_result"
    }
   ],
   "source": [
    "print test_feats[features_of_interest].shape\n",
    "test_feats[features_of_interest].head()"
   ]
  },
  {
   "cell_type": "markdown",
   "metadata": {
    "deletable": true,
    "editable": true
   },
   "source": [
    "Thats our split data, with our features of interest. Lets begin Modeling. "
   ]
  },
  {
   "cell_type": "code",
   "execution_count": 166,
   "metadata": {
    "collapsed": false,
    "deletable": true,
    "editable": true
   },
   "outputs": [],
   "source": [
    "from sklearn.preprocessing import StandardScaler\n",
    "from sklearn.svm import SVC\n",
    "from sklearn.model_selection import GridSearchCV, cross_val_score\n",
    "from sklearn.metrics import accuracy_score"
   ]
  },
  {
   "cell_type": "code",
   "execution_count": 178,
   "metadata": {
    "collapsed": false,
    "deletable": true,
    "editable": true
   },
   "outputs": [],
   "source": [
    "scaler = StandardScaler()\n",
    "classifier = SVC(C=1, coef0=1, degree=1)\n",
    "params = {\"C\":range(1,5),\n",
    "          \"degree\":range(1,3),\n",
    "          \"coef0\":range(1,3)\n",
    "         }\n",
    "classifier_gs = GridSearchCV(classifier, params)"
   ]
  },
  {
   "cell_type": "code",
   "execution_count": 179,
   "metadata": {
    "collapsed": false,
    "deletable": true,
    "editable": true
   },
   "outputs": [
    {
     "data": {
      "text/plain": [
       "GridSearchCV(cv=None, error_score='raise',\n",
       "       estimator=SVC(C=1, cache_size=200, class_weight=None, coef0=1,\n",
       "  decision_function_shape='ovr', degree=1, gamma='auto', kernel='rbf',\n",
       "  max_iter=-1, probability=False, random_state=None, shrinking=True,\n",
       "  tol=0.001, verbose=False),\n",
       "       fit_params=None, iid=True, n_jobs=1,\n",
       "       param_grid={'C': [1, 2, 3, 4], 'coef0': [1, 2], 'degree': [1, 2]},\n",
       "       pre_dispatch='2*n_jobs', refit=True, return_train_score=True,\n",
       "       scoring=None, verbose=0)"
      ]
     },
     "execution_count": 179,
     "metadata": {},
     "output_type": "execute_result"
    }
   ],
   "source": [
    "classifier_gs.fit(scaler.fit_transform(train_feats), train_y)"
   ]
  },
  {
   "cell_type": "code",
   "execution_count": 180,
   "metadata": {
    "collapsed": false,
    "deletable": true,
    "editable": true
   },
   "outputs": [
    {
     "data": {
      "text/plain": [
       "{'C': 1, 'coef0': 1, 'degree': 1}"
      ]
     },
     "execution_count": 180,
     "metadata": {},
     "output_type": "execute_result"
    }
   ],
   "source": [
    "classifier_gs.best_params_"
   ]
  },
  {
   "cell_type": "code",
   "execution_count": 181,
   "metadata": {
    "collapsed": false,
    "deletable": true,
    "editable": true
   },
   "outputs": [
    {
     "data": {
      "text/plain": [
       "array([ 0.66666667,  0.75      ,  0.71428571])"
      ]
     },
     "execution_count": 181,
     "metadata": {},
     "output_type": "execute_result"
    }
   ],
   "source": [
    "cross_val_score(classifier, scaler.transform(test_feats), y=test_y)"
   ]
  },
  {
   "cell_type": "markdown",
   "metadata": {},
   "source": [
    "Thats a trained and cross validated model. Lets pickle it for safe keeping."
   ]
  },
  {
   "cell_type": "code",
   "execution_count": 185,
   "metadata": {
    "collapsed": true
   },
   "outputs": [],
   "source": [
    "dill.dump(classifier, open(\"final_trained_svc.pkl\",\"w\"))"
   ]
  },
  {
   "cell_type": "markdown",
   "metadata": {},
   "source": [
    "### Checkpoint 5 - Trained Model"
   ]
  },
  {
   "cell_type": "code",
   "execution_count": 186,
   "metadata": {
    "collapsed": false
   },
   "outputs": [],
   "source": [
    "classifier = dill.load(open(\"final_trained_svc.pkl\",\"r\"))"
   ]
  },
  {
   "cell_type": "markdown",
   "metadata": {},
   "source": [
    "Now that we have a working predictor, lets play with some visualizations to show how powerful is can be."
   ]
  },
  {
   "cell_type": "code",
   "execution_count": null,
   "metadata": {
    "collapsed": true
   },
   "outputs": [],
   "source": []
  }
 ],
 "metadata": {
  "kernelspec": {
   "display_name": "Python 2",
   "language": "python",
   "name": "python2"
  },
  "language_info": {
   "codemirror_mode": {
    "name": "ipython",
    "version": 2
   },
   "file_extension": ".py",
   "mimetype": "text/x-python",
   "name": "python",
   "nbconvert_exporter": "python",
   "pygments_lexer": "ipython2",
   "version": "2.7.13"
  }
 },
 "nbformat": 4,
 "nbformat_minor": 2
}
