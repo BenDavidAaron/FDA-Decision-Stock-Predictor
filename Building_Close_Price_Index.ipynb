{
 "cells": [
  {
   "cell_type": "code",
   "execution_count": 2,
   "metadata": {
    "collapsed": true,
    "deletable": true,
    "editable": true
   },
   "outputs": [],
   "source": [
    "import dill\n",
    "import numpy as np\n",
    "import pandas as pd"
   ]
  },
  {
   "cell_type": "code",
   "execution_count": 3,
   "metadata": {
    "collapsed": true,
    "deletable": true,
    "editable": true
   },
   "outputs": [],
   "source": [
    "company_dataframes = dill.load(open('Prices_and_FDA_Dates.pkl', 'r'))"
   ]
  },
  {
   "cell_type": "code",
   "execution_count": 4,
   "metadata": {
    "collapsed": false,
    "deletable": true,
    "editable": true
   },
   "outputs": [],
   "source": [
    "df1 = company_dataframes['AAAP']\n",
    "df1_small = df1.loc['2016-06-12':'2016-06-25']\n",
    "df2 = company_dataframes['ABBV']\n",
    "df2_small = df2.loc['2016-06-12':'2016-06-25']\n",
    "df2.columns = ['a','b','c','d','e','f']"
   ]
  },
  {
   "cell_type": "code",
   "execution_count": 5,
   "metadata": {
    "collapsed": false,
    "deletable": true,
    "editable": true
   },
   "outputs": [],
   "source": [
    "sector_close = company_dataframes['ABIO'].index"
   ]
  },
  {
   "cell_type": "code",
   "execution_count": 18,
   "metadata": {
    "collapsed": false,
    "deletable": true,
    "editable": true
   },
   "outputs": [
    {
     "name": "stdout",
     "output_type": "stream",
     "text": [
      "ENTA\n",
      "AAAP\n",
      "PAR\n",
      "KITE\n",
      "BSTC\n",
      "FLML\n",
      "DNDN\n",
      "ACAD\n",
      "ZSPH\n",
      "GSK\n",
      "CLVS\n",
      "ADLR\n",
      "IRWD\n",
      "VNDA\n",
      "RPTP\n",
      "ACUR\n",
      "DEPO\n",
      "XENT\n",
      "CHMA\n",
      "VRTX\n",
      "ARIA\n",
      "OREX\n",
      "THRX\n",
      "HPTX\n",
      "PCRX\n",
      "ENDP\n",
      "NAVB\n",
      "DRRX\n",
      "EXEL\n",
      "FLXN\n",
      "MNKD\n",
      "SRPT\n",
      "PSDV\n",
      "MRK\n",
      "ADMP\n",
      "ADMS\n",
      "OTIC\n",
      "AMRN\n",
      "ACOR\n",
      "ITMN\n",
      "CEMP\n",
      "KMPH\n",
      "RLYP\n",
      "ANAC\n",
      "SUPN\n",
      "JNJ\n",
      "SNY\n",
      "AMAG\n",
      "HZNP\n",
      "REGN\n",
      "SOMX\n",
      "COLL\n",
      "CRTX\n",
      "LPCN\n",
      "VCEL\n",
      "GTXI\n",
      "CTIC\n",
      "LLY\n",
      "AUXL\n",
      "DCTH\n",
      "OCUL\n",
      "AEGR\n",
      "PCYC\n",
      "OSI\n",
      "DVAX\n",
      "TEVA\n",
      "SGEN\n",
      "BMY\n",
      "RPRX\n",
      "EGRX\n",
      "BCRX\n",
      "AFFY\n",
      "JAZZ\n",
      "UTHR\n",
      "RARE\n",
      "RDUS\n",
      "IPXL\n",
      "NGSX\n",
      "RMTI\n",
      "NPSP\n",
      "ALTH\n",
      "VVUS\n",
      "LXRX\n",
      "NVO\n",
      "MELA\n",
      "SCMP\n",
      "POZN\n",
      "HRTX\n",
      "ELTP\n",
      "AGIO\n",
      "XNPT\n",
      "RGEN\n",
      "AVNR\n",
      "SPPI\n",
      "AMGN\n",
      "ONXX\n",
      "BMTI\n",
      "REPH\n",
      "DOR\n",
      "NEW\n",
      "WCRX\n",
      "ASTX\n",
      "KTOV\n",
      "ISIS\n",
      "AVEO\n",
      "GNBT\n",
      "VRX\n",
      "IGXT\n",
      "LGND\n",
      "MDVN\n",
      "AMLN\n",
      "OMER\n",
      "OPTR\n",
      "SLXP\n",
      "IMGN\n",
      "GILD\n",
      "LJPC\n",
      "SHPG\n",
      "GEVA\n",
      "CORI\n",
      "CORT\n",
      "ATRS\n",
      "ZGNX\n",
      "HEB\n",
      "FRX\n",
      "EPIX\n",
      "TXMD\n",
      "ALIM\n",
      "RIGL\n",
      "CHTP\n",
      "EGLT\n",
      "PTIE\n",
      "PLX\n",
      "ARNA\n",
      "BMRN\n",
      "ONCE\n",
      "AGRX\n",
      "CADX\n",
      "ARDM\n",
      "NBIX\n",
      "AZN\n",
      "ABIO\n",
      "INSV\n",
      "PATH\n",
      "INSY\n",
      "PGNX\n",
      "KMDA\n",
      "PTLA\n",
      "KERX\n",
      "INCY\n",
      "BIIB\n",
      "BDSI\n",
      "PTCT\n",
      "MDCO\n",
      "QCOR\n",
      "ABBV\n",
      "CELG\n",
      "PDLI\n",
      "ARRY\n",
      "AKRX\n",
      "DRTX\n",
      "HOLX\n",
      "APRI\n",
      "AERI\n",
      "AEZS\n",
      "NEOS\n",
      "RDHL\n",
      "ALXN\n",
      "TSRO\n",
      "ICPT\n",
      "ALXA\n",
      "MACK\n",
      "ACRS\n",
      "ARLZ\n",
      "PFE\n",
      "ALKS\n",
      "ACRX\n",
      "IPCI\n",
      "SRNE\n",
      "MAPP\n",
      "PDL\n",
      "TTNP\n",
      "EBS\n",
      "KYTH\n",
      "OPK\n",
      "SGYP\n"
     ]
    }
   ],
   "source": [
    "first = True\n",
    "for ticker, comp_df in company_dataframes.iteritems():\n",
    "    print ticker\n",
    "    if first:\n",
    "        market_df = comp_df\n",
    "        market_df.columns = [\"volume-\"+ticker,\"close-\"+ticker,\"high-\"+ticker,\"open-\"+ticker,\"low-\"+ticker,\"pdufa-\"+ticker]\n",
    "        first = False\n",
    "    else:\n",
    "        #comp_df.columns = [\"volume-\"+ticker,\"close-\"+ticker,\"high-\"+ticker,\"open-\"+ticker,\"low-\"+ticker,\"pdufa-\"+ticker]\n",
    "        market_df = pd.merge(market_df, comp_df, how='outer', left_index=True, right_index=True, suffixes=('', '-'+ticker))"
   ]
  },
  {
   "cell_type": "code",
   "execution_count": 7,
   "metadata": {
    "collapsed": false,
    "deletable": true,
    "editable": true
   },
   "outputs": [],
   "source": [
    "pharma_stock_index = market_df.filter(regex='close').mean(axis = 1, skipna=True)"
   ]
  },
  {
   "cell_type": "code",
   "execution_count": 8,
   "metadata": {
    "collapsed": false,
    "deletable": true,
    "editable": true
   },
   "outputs": [],
   "source": [
    "result = pd.merge(market_df, pharma_stock_index.to_frame(), left_index=True, right_index=True, how='inner')"
   ]
  },
  {
   "cell_type": "code",
   "execution_count": 22,
   "metadata": {
    "collapsed": false,
    "deletable": true,
    "editable": true
   },
   "outputs": [],
   "source": [
    "result.rename(columns={0:'Close_Price_Index'}, inplace=True)"
   ]
  },
  {
   "cell_type": "code",
   "execution_count": 27,
   "metadata": {
    "collapsed": false,
    "deletable": true,
    "editable": true
   },
   "outputs": [],
   "source": [
    "CPI = result['Close_Price_Index']"
   ]
  },
  {
   "cell_type": "code",
   "execution_count": 25,
   "metadata": {
    "collapsed": true,
    "deletable": true,
    "editable": true
   },
   "outputs": [],
   "source": [
    "dill.dump(result, open(\"dataframe_with_avg_price.pkl\", \"w\"))"
   ]
  },
  {
   "cell_type": "code",
   "execution_count": 28,
   "metadata": {
    "collapsed": false,
    "deletable": true,
    "editable": true
   },
   "outputs": [],
   "source": [
    "dill.dump(CPI, open(\"close_price_series.pkl\", \"w\"))"
   ]
  },
  {
   "cell_type": "code",
   "execution_count": 29,
   "metadata": {
    "collapsed": false
   },
   "outputs": [
    {
     "data": {
      "text/plain": [
       "2000-01-03    27.105697\n",
       "2000-01-04    25.714626\n",
       "2000-01-05    25.839977\n",
       "2000-01-06    26.257429\n",
       "2000-01-07    28.418530\n",
       "2000-01-10    29.682323\n",
       "2000-01-11    29.124288\n",
       "2000-01-12    28.900803\n",
       "2000-01-13    29.900409\n",
       "2000-01-14    30.369091\n",
       "2000-01-18    30.573311\n",
       "2000-01-19    31.521000\n",
       "2000-01-20    31.686902\n",
       "2000-01-21    32.574053\n",
       "2000-01-24    31.603583\n",
       "2000-01-25    31.171758\n",
       "2000-01-26    31.573591\n",
       "2000-01-27    30.780606\n",
       "2000-01-28    29.986258\n",
       "2000-01-31    29.302308\n",
       "2000-02-01    29.794932\n",
       "2000-02-02    30.406386\n",
       "2000-02-03    31.289833\n",
       "2000-02-04    31.859924\n",
       "2000-02-07    32.929098\n",
       "2000-02-08    34.547371\n",
       "2000-02-09    34.626833\n",
       "2000-02-10    35.371856\n",
       "2000-02-11    35.461826\n",
       "2000-02-14    35.772818\n",
       "                ...    \n",
       "2017-08-25    34.822801\n",
       "2017-08-28    35.664894\n",
       "2017-08-29    35.663518\n",
       "2017-08-30    35.989440\n",
       "2017-08-31    36.788699\n",
       "2017-09-01    36.804418\n",
       "2017-09-05    36.731590\n",
       "2017-09-06    36.976773\n",
       "2017-09-07    36.967663\n",
       "2017-09-08    36.660766\n",
       "2017-09-11    36.792872\n",
       "2017-09-12    36.749220\n",
       "2017-09-13    36.487773\n",
       "2017-09-14    36.363674\n",
       "2017-09-15    36.267245\n",
       "2017-09-18    36.506305\n",
       "2017-09-19    36.254929\n",
       "2017-09-20    36.355709\n",
       "2017-09-21    36.145943\n",
       "2017-09-22    35.842043\n",
       "2017-09-25    36.149663\n",
       "2017-09-26    35.760007\n",
       "2017-09-27    36.001213\n",
       "2017-09-28    36.075791\n",
       "2017-09-29    36.463504\n",
       "2017-10-02    37.233053\n",
       "2017-10-03    37.138699\n",
       "2017-10-04    37.239156\n",
       "2017-10-05    37.460993\n",
       "2017-10-06    37.539296\n",
       "Name: Close_Price_Index, Length: 4470, dtype: float64"
      ]
     },
     "execution_count": 29,
     "metadata": {},
     "output_type": "execute_result"
    }
   ],
   "source": [
    "CPI"
   ]
  },
  {
   "cell_type": "code",
   "execution_count": null,
   "metadata": {
    "collapsed": true
   },
   "outputs": [],
   "source": []
  }
 ],
 "metadata": {
  "kernelspec": {
   "display_name": "Python 2",
   "language": "python",
   "name": "python2"
  },
  "language_info": {
   "codemirror_mode": {
    "name": "ipython",
    "version": 2
   },
   "file_extension": ".py",
   "mimetype": "text/x-python",
   "name": "python",
   "nbconvert_exporter": "python",
   "pygments_lexer": "ipython2",
   "version": "2.7.13"
  }
 },
 "nbformat": 4,
 "nbformat_minor": 2
}
