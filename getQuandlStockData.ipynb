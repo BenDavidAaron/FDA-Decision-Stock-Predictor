{
 "cells": [
  {
   "cell_type": "markdown",
   "metadata": {
    "deletable": true,
    "editable": true
   },
   "source": [
    "# Getting Stock Data\n",
    "First, lets import all the stuff we'll need to get pricing data"
   ]
  },
  {
   "cell_type": "code",
   "execution_count": 1,
   "metadata": {
    "collapsed": false,
    "deletable": true,
    "editable": true
   },
   "outputs": [],
   "source": [
    "import numpy as np\n",
    "import pandas as pd\n",
    "import dill\n",
    "import quandl\n",
    "from sqlalchemy import create_engine, inspect\n",
    "from tqdm import tqdm_notebook"
   ]
  },
  {
   "cell_type": "markdown",
   "metadata": {
    "deletable": true,
    "editable": true
   },
   "source": [
    "Second things second, lets get our set of ticker symbols out of the pickle jar, and into a sorted list"
   ]
  },
  {
   "cell_type": "code",
   "execution_count": 2,
   "metadata": {
    "collapsed": false,
    "deletable": true,
    "editable": true
   },
   "outputs": [],
   "source": [
    "tickSymbs = sorted(dill.load(open('setOfTickerSymbols.pkl', 'r')))"
   ]
  },
  {
   "cell_type": "markdown",
   "metadata": {
    "deletable": true,
    "editable": true
   },
   "source": [
    "Now lets open my Quandl API key from its hidden and ignored file (so nobody scrapes it off this github repo)"
   ]
  },
  {
   "cell_type": "code",
   "execution_count": 3,
   "metadata": {
    "collapsed": false,
    "deletable": true,
    "editable": true
   },
   "outputs": [],
   "source": [
    "quandl_key_handle = open(\"quandl.apikey\", \"r\")\n",
    "quandl.ApiConfig.api_key = quandl_key_handle.read()\n",
    "quandl_key_handle.close()"
   ]
  },
  {
   "cell_type": "markdown",
   "metadata": {
    "deletable": true,
    "editable": true
   },
   "source": [
    "#### Now lets download some pricing data!\n",
    "...straight to a sqlite database now, no more dicts!"
   ]
  },
  {
   "cell_type": "code",
   "execution_count": 14,
   "metadata": {
    "collapsed": false,
    "deletable": true,
    "editable": true
   },
   "outputs": [],
   "source": [
    "engine = create_engine('sqlite:///capstone.db')"
   ]
  },
  {
   "cell_type": "code",
   "execution_count": 15,
   "metadata": {
    "collapsed": false,
    "deletable": true,
    "editable": true,
    "scrolled": true
   },
   "outputs": [
    {
     "name": "stdout",
     "output_type": "stream",
     "text": [
      "\n"
     ]
    }
   ],
   "source": [
    "dlFails = []\n",
    "dlWins = []\n",
    "for ticker in tqdm_notebook(tickSymbs):\n",
    "    try:\n",
    "        #tickerDF = quandl.get(\"WIKI/%s\" % ticker)\n",
    "        quandl.get(\"WIKI/%s\" % ticker).to_sql(ticker, engine, if_exists = 'replace')\n",
    "    except:\n",
    "        dlFails.append(ticker)\n",
    "    else:\n",
    "        dlWins.append(ticker)"
   ]
  },
  {
   "cell_type": "markdown",
   "metadata": {
    "deletable": true,
    "editable": true
   },
   "source": [
    "So I was able to download about 1/3 of my tickers of interest from Quandl. Lets make sure that the API request and `pandas.to_sql()` method actually did what I intended."
   ]
  },
  {
   "cell_type": "code",
   "execution_count": 17,
   "metadata": {
    "collapsed": false,
    "deletable": true,
    "editable": true,
    "scrolled": false
   },
   "outputs": [
    {
     "name": "stdout",
     "output_type": "stream",
     "text": [
      "ABBV ACOR ACRX ADMS AERI AGEN AGIO AGN AGTC AKAO AKBA ALDR ALKS ALNY ALXN AMAG AMGN ANIK ARNA ARQL ARRY ATNM ATRS AVEO BCRX BIIB BLUE BMRN BMY BPTH BTX CELG CEMP CLDX CORT CTIC CYTK CYTR DVAX EBIO EGLT EPZM ESPR EXEL FCSC FLXN FOLD GALE GALT GERN GILD GTXI HALO HRTX HZNP ICPT IDRA IMGN INCY IRWD JNJ KERX KPTI LGND LLY LXRX MACK MDCO MEIP MRK MRTX MYL NBIX NKTR NLNK NVAX OHRP OPHT OPK PBYI PFE PGNX PRTA PTCT PTLA RARE REGN RGLS RIGL RVNC SGEN SGMO SGYP SPPI SRPT STML TBPH TGTX TSRO TTPH TXMD UTHR VICL VNDA VRTX VRX VSAR VTL XLRN XNCR ZGNX\n"
     ]
    }
   ],
   "source": [
    "inspector = inspect(engine)\n",
    "print \" \".join(inspector.get_table_names())"
   ]
  },
  {
   "cell_type": "markdown",
   "metadata": {
    "deletable": true,
    "editable": true
   },
   "source": [
    "So now we have a sqlite DB with _some_ of the stock histories we wanted. Lets start feature extractions.\n",
    "If needed, I'll buy premium DB access from Quandl and get the whole NYSE. "
   ]
  }
 ],
 "metadata": {
  "kernelspec": {
   "display_name": "Python 2",
   "language": "python",
   "name": "python2"
  },
  "language_info": {
   "codemirror_mode": {
    "name": "ipython",
    "version": 2
   },
   "file_extension": ".py",
   "mimetype": "text/x-python",
   "name": "python",
   "nbconvert_exporter": "python",
   "pygments_lexer": "ipython2",
   "version": "2.7.13"
  }
 },
 "nbformat": 4,
 "nbformat_minor": 2
}
