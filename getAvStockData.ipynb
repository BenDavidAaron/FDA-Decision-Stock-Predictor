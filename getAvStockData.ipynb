{
 "cells": [
  {
   "cell_type": "markdown",
   "metadata": {
    "deletable": true,
    "editable": true
   },
   "source": [
    "# Getting __more__ stock data"
   ]
  },
  {
   "cell_type": "code",
   "execution_count": 1,
   "metadata": {
    "collapsed": true,
    "deletable": true,
    "editable": true
   },
   "outputs": [],
   "source": [
    "import numpy as np\n",
    "import pandas as pd\n",
    "import dill\n",
    "from sqlalchemy import create_engine, inspect\n",
    "from tqdm import tqdm_notebook\n",
    "from alpha_vantage.timeseries import TimeSeries"
   ]
  },
  {
   "cell_type": "markdown",
   "metadata": {
    "deletable": true,
    "editable": true
   },
   "source": [
    "So I'm going to try another API provider, [Alpha Vantage](https://www.alphavantage.co/documentation/), to see if they offer a more complete listing of end of day stock prices. The number to beat is 110 companies.\n",
    "\n",
    "...Lets get started by importing our set of tickers"
   ]
  },
  {
   "cell_type": "code",
   "execution_count": 2,
   "metadata": {
    "collapsed": true,
    "deletable": true,
    "editable": true
   },
   "outputs": [],
   "source": [
    "tickSymbs = sorted(dill.load(open('setOfTickerSymbols.pkl', 'r')))"
   ]
  },
  {
   "cell_type": "markdown",
   "metadata": {
    "deletable": true,
    "editable": true
   },
   "source": [
    "...and our Alpha Vantage API key, from an ignored file not pushed to my public repo"
   ]
  },
  {
   "cell_type": "code",
   "execution_count": 3,
   "metadata": {
    "collapsed": true,
    "deletable": true,
    "editable": true
   },
   "outputs": [],
   "source": [
    "av_key_handle = open(\"alphavantage.apikey\", \"r\")\n",
    "ts = TimeSeries(key=av_key_handle.read().strip(), output_format='pandas')\n",
    "av_key_handle.close()"
   ]
  },
  {
   "cell_type": "markdown",
   "metadata": {
    "deletable": true,
    "editable": true
   },
   "source": [
    "...finally we can connect to the sqlite database and start pulling down data"
   ]
  },
  {
   "cell_type": "code",
   "execution_count": 4,
   "metadata": {
    "collapsed": true,
    "deletable": true,
    "editable": true
   },
   "outputs": [],
   "source": [
    "engine = create_engine('sqlite:///capstone.db')"
   ]
  },
  {
   "cell_type": "code",
   "execution_count": 5,
   "metadata": {
    "collapsed": false,
    "deletable": true,
    "editable": true
   },
   "outputs": [
    {
     "name": "stdout",
     "output_type": "stream",
     "text": [
      "\n"
     ]
    }
   ],
   "source": [
    "losers = []\n",
    "winners = []\n",
    "for ticker in tqdm_notebook(tickSymbs):\n",
    "    try:\n",
    "        df, meta = ts.get_daily(symbol=ticker, outputsize='full')\n",
    "        df.to_sql(meta[\"2. Symbol\"], engine, if_exists = 'replace')\n",
    "    except:\n",
    "        losers.append(ticker)\n",
    "    else:\n",
    "        winners.append(meta[\"2. Symbol\"])\n",
    "        '''print meta[\"2. Symbol\"]\n",
    "        print df.head()\n",
    "        print df.tail()'''"
   ]
  },
  {
   "cell_type": "code",
   "execution_count": 6,
   "metadata": {
    "collapsed": false,
    "deletable": true,
    "editable": true
   },
   "outputs": [
    {
     "name": "stdout",
     "output_type": "stream",
     "text": [
      "277 ['AAAP', 'ABBV', 'ABIO', 'ACOR', 'ACRS', 'ACRX', 'ADHD', 'ADMP', 'ADMS', 'ADRO', 'ADXS', 'AERI', 'AEZS', 'AFMD', 'AGEN', 'AGIO', 'AGLE', 'AGN', 'AGRX', 'AGTC', 'AIMT', 'AKAO', 'AKBA', 'ALDR', 'ALDX', 'ALKS', 'ALNY', 'ALRN', 'ALXN', 'AMAG', 'AMGN', 'AMPH', 'AMRN', 'ANAB', 'ANIK', 'ANTH', 'APRI', 'AQXP', 'ARDM', 'ARDX', 'ARGS', 'ARGX', 'ARNA', 'ARQL', 'ARRY', 'AST', 'ATNM', 'ATNX', 'ATRS', 'AVEO', 'AVIR', 'AXON', 'AXSM', 'AZN', 'AZRX', 'BHVN', 'BIIB', 'BLPH', 'BLRX', 'BLUE', 'BMRN', 'BMY', 'BOLD', 'BPTH', 'BTX', 'BYSI', 'CALA', 'CAPR', 'CATB', 'CBIO', 'CDTX', 'CELG', 'CEMP', 'CERC', 'CFRX', 'CHMA', 'CHRS', 'CLBS', 'CLDX', 'CLRB', 'CLSD', 'CLSN', 'CNAT', 'CNCE', 'CORI', 'CORT', 'CPRX', 'CRBP', 'CRMD', 'CTIC', 'CYCC', 'CYTK', 'CYTR', 'DARE', 'DBVT', 'DCTH', 'DERM', 'DMTX', 'DRRX', 'DVAX', 'EARS', 'EBIO', 'EGLT', 'EGRX', 'EIGR', 'EPZM', 'ESPR', 'EVOK', 'EXEL', 'EYEG', 'FBIO', 'FCSC', 'FENC', 'FGEN', 'FLKS', 'FLXN', 'FOLD', 'FOMX', 'GALE', 'GALT', 'GBT', 'GEMP', 'GERN', 'GILD', 'GLMD', 'GNMX', 'GSK', 'GTHX', 'GTXI', 'GWPH', 'HALO', 'HRTX', 'HSGX', 'HTBX', 'HZNP', 'ICPT', 'IDRA', 'IMDZ', 'IMGN', 'IMRN', 'INCY', 'INNL', 'INVA', 'IONS', 'IOVA', 'IPCI', 'IRWD', 'ITEK', 'JAZZ', 'JNCE', 'JNJ', 'KALA', 'KDMN', 'KERX', 'KITE', 'KMDA', 'KMPH', 'KPTI', 'KURA', 'LGND', 'LJPC', 'LLY', 'LOXO', 'LPCN', 'LXRX', 'MACK', 'MBIO', 'MBRX', 'MBVX', 'MCRB', 'MDCO', 'MDGL', 'MDWD', 'MEIP', 'MESO', 'MNOV', 'MRK', 'MRNS', 'MRSN', 'MRTX', 'MRUS', 'MTFB', 'MTNB', 'MYL', 'MYOK', 'NBIX', 'NBRV', 'NEOS', 'NKTR', 'NLNK', 'NVAX', 'NVCR', 'NVLS', 'NVO', 'NVS', 'OBSV', 'OCRX', 'OCUL', 'OGEN', 'OHRP', 'ONCE', 'ONCS', 'ONTX', 'OPHT', 'OPK', 'OTIC', 'PBYI', 'PFE', 'PGNX', 'PHMMF', 'PLX', 'PRTA', 'PRTO', 'PSTI', 'PTCT', 'PTGX', 'PTI', 'PTLA', 'PULM', 'RARE', 'RDHL', 'RDUS', 'REGN', 'RETA', 'RGLS', 'RGNX', 'RIGL', 'RNN', 'RVNC', 'RXDX', 'RXII', 'SAGE', 'SBBP', 'SCYX', 'SGEN', 'SGMO', 'SGYP', 'SMMT', 'SNDX', 'SNGX', 'SNNA', 'SNY', 'SPHS', 'SPPI', 'SRNE', 'SRPT', 'STML', 'SVRA', 'TBPH', 'TCON', 'TENX', 'TEVA', 'TGTX', 'TNXP', 'TOCA', 'TRVN', 'TSRO', 'TTPH', 'TXMD', 'UTHR', 'VBLT', 'VCEL', 'VICL', 'VKTX', 'VNDA', 'VRNA', 'VRTX', 'VRX', 'VTL', 'VTVT', 'XBIT', 'XENT', 'XLRN', 'XNCR', 'ZFGN', 'ZGNX', 'ZYNE']\n",
      "1 [u'KIND']\n"
     ]
    }
   ],
   "source": [
    "print len(winners), winners\n",
    "print len(losers), losers"
   ]
  },
  {
   "cell_type": "markdown",
   "metadata": {
    "deletable": true,
    "editable": true
   },
   "source": [
    "Lets check in the morning how she did, how far back can she read and what % of companies were successfully pulled?"
   ]
  }
 ],
 "metadata": {
  "kernelspec": {
   "display_name": "Python 2",
   "language": "python",
   "name": "python2"
  },
  "language_info": {
   "codemirror_mode": {
    "name": "ipython",
    "version": 2
   },
   "file_extension": ".py",
   "mimetype": "text/x-python",
   "name": "python",
   "nbconvert_exporter": "python",
   "pygments_lexer": "ipython2",
   "version": "2.7.13"
  }
 },
 "nbformat": 4,
 "nbformat_minor": 2
}
