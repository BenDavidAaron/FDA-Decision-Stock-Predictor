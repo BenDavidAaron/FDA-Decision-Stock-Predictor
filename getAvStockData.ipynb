{
 "cells": [
  {
   "cell_type": "markdown",
   "metadata": {
    "deletable": true,
    "editable": true
   },
   "source": [
    "# Getting __more__ stock data"
   ]
  },
  {
   "cell_type": "code",
   "execution_count": 1,
   "metadata": {
    "collapsed": true,
    "deletable": true,
    "editable": true
   },
   "outputs": [],
   "source": [
    "import numpy as np\n",
    "import pandas as pd\n",
    "import dill\n",
    "from sqlalchemy import create_engine, inspect\n",
    "from tqdm import tqdm_notebook\n",
    "from alpha_vantage.timeseries import TimeSeries"
   ]
  },
  {
   "cell_type": "markdown",
   "metadata": {
    "deletable": true,
    "editable": true
   },
   "source": [
    "So I'm going to try another API provider, [Alpha Vantage](https://www.alphavantage.co/documentation/), to see if they offer a more complete listing of end of day stock prices. The number to beat is 110 companies.\n",
    "\n",
    "...Lets get started by importing our set of tickers"
   ]
  },
  {
   "cell_type": "code",
   "execution_count": 2,
   "metadata": {
    "collapsed": false,
    "deletable": true,
    "editable": true
   },
   "outputs": [],
   "source": [
    "future_Ticks = dill.load(open('future_ticker_symbols.pkl', 'r'))"
   ]
  },
  {
   "cell_type": "code",
   "execution_count": 3,
   "metadata": {
    "collapsed": true
   },
   "outputs": [],
   "source": [
    "past_Ticks = dill.load(open('past_ticker_symbols.pkl', 'r'))"
   ]
  },
  {
   "cell_type": "code",
   "execution_count": 4,
   "metadata": {
    "collapsed": false
   },
   "outputs": [],
   "source": [
    "tickSymbs = future_Ticks.union(past_Ticks)"
   ]
  },
  {
   "cell_type": "markdown",
   "metadata": {
    "deletable": true,
    "editable": true
   },
   "source": [
    "...and our Alpha Vantage API key, from an ignored file not pushed to my public repo"
   ]
  },
  {
   "cell_type": "code",
   "execution_count": 5,
   "metadata": {
    "collapsed": true,
    "deletable": true,
    "editable": true
   },
   "outputs": [],
   "source": [
    "av_key_handle = open(\"alphavantage.apikey\", \"r\")\n",
    "ts = TimeSeries(key=av_key_handle.read().strip(), output_format='pandas')\n",
    "av_key_handle.close()"
   ]
  },
  {
   "cell_type": "markdown",
   "metadata": {
    "deletable": true,
    "editable": true
   },
   "source": [
    "...finally we can connect to the sqlite database and start pulling down data"
   ]
  },
  {
   "cell_type": "code",
   "execution_count": 6,
   "metadata": {
    "collapsed": true,
    "deletable": true,
    "editable": true
   },
   "outputs": [],
   "source": [
    "engine = create_engine('sqlite:///capstone.db')"
   ]
  },
  {
   "cell_type": "code",
   "execution_count": 7,
   "metadata": {
    "collapsed": false,
    "deletable": true,
    "editable": true
   },
   "outputs": [
    {
     "name": "stdout",
     "output_type": "stream",
     "text": [
      "\n"
     ]
    }
   ],
   "source": [
    "losers = []\n",
    "winners = []\n",
    "for ticker in tqdm_notebook(tickSymbs):\n",
    "    try:\n",
    "        df, meta = ts.get_daily(symbol=ticker, outputsize='full')\n",
    "        df.to_sql(meta[\"2. Symbol\"], engine, if_exists = 'replace')\n",
    "    except:\n",
    "        losers.append(ticker)\n",
    "    else:\n",
    "        winners.append(meta[\"2. Symbol\"])\n",
    "        '''print meta[\"2. Symbol\"]\n",
    "        print df.head()\n",
    "        print df.tail()'''"
   ]
  },
  {
   "cell_type": "code",
   "execution_count": 9,
   "metadata": {
    "collapsed": false,
    "deletable": true,
    "editable": true
   },
   "outputs": [
    {
     "name": "stdout",
     "output_type": "stream",
     "text": [
      "361 ['ENTA', 'AGN', 'LIFE', 'KITE', 'BSTC', 'AAAP', 'FLML', 'SAGE', 'PAR', 'BPTH', 'AGEN', 'ESPR', 'RETA', 'IRWD', 'VNDA', 'RPTP', 'BYSI', 'ACUR', 'DEPO', 'ARIA', 'CNAT', 'ALDR', 'VRTX', 'THRX', 'HPTX', 'AGLE', 'DRRX', 'EXEL', 'FLXN', 'XBIT', 'JNCE', 'MEIP', 'ADMP', 'ADMS', 'OTIC', 'ACOR', 'CEMP', 'KMPH', 'RLYP', 'ANAB', 'TNXP', 'ITEK', 'JNJ', 'PSTI', 'SNY', 'AMAG', 'AFMD', 'GWPH', 'GBT', 'CRTX', 'CRMD', 'LPCN', 'SVRA', 'VCEL', 'PTGX', 'ADXS', 'PHMMF', 'DCTH', 'AEGR', 'TBPH', 'DVAX', 'SGEN', 'IOVA', 'BHVN', 'NVLS', 'EGRX', 'QCOR', 'AFFY', 'BCRX', 'AXSM', 'GLMD', 'CPRX', 'DBVT', 'RDUS', 'IPXL', 'NGSX', 'RMTI', 'NVS', 'RNN', 'DYAX', 'ALTH', 'ALDX', 'OPHT', 'KURA', 'CBIO', 'NVO', 'MELA', 'OPK', 'EBIO', 'HRTX', 'ONTX', 'MRUS', 'SPPI', 'AMGN', 'CRBP', 'DOR', 'WCRX', 'KTOV', 'SMMT', 'AZN', 'VRX', 'CADX', 'EPIX', 'IGXT', 'HALO', 'MBVX', 'BLRX', 'OREX', 'OPTR', 'LOXO', 'SNDX', 'CNCE', 'IMGN', 'LJPC', 'MNOV', 'GALE', 'ATRS', 'CLSD', 'HEB', 'INNL', 'CLSN', 'TXMD', 'CHRS', 'ALIM', 'GNBT', 'PLX', 'EARS', 'ENDP', 'AKBA', 'MYOK', 'NAVB', 'OCRX', 'INSV', 'INSY', 'EPZM', 'PTCT', 'CYCC', 'FLKS', 'BLPH', 'ATNM', 'MRNS', 'HSGX', 'PGNX', 'TENX', 'MDCO', 'AVNR', 'IMRN', 'CELG', 'ATNX', 'AKRX', 'RXII', 'VTGN', 'PCYC', 'APRI', 'AERI', 'NEOS', 'RDHL', 'CYTK', 'MESO', 'OCUL', 'XNPT', 'ICPT', 'DMTX', 'ADRO', 'ACRS', 'CERC', 'ACRX', 'SRNE', 'SCMP', 'REPH', 'MAPP', 'DRTX', 'INCY', 'ARDX', 'SNGX', 'POZN', 'SGYP', 'PSDV', 'KALA', 'ANIK', 'NBRV', 'ZFGN', 'DNDN', 'AGTC', 'MTNB', 'MRSN', 'ZSPH', 'GSK', 'CLVS', 'ADLR', 'DARE', 'RARE', 'XENT', 'GERN', 'CHMA', 'ASTX', 'AVIR', 'MYL', 'RXDX', 'MBIO', 'PCRX', 'NVAX', 'SNNA', 'BOLD', 'RVNC', 'MRK', 'KPTI', 'ARLZ', 'PBYI', 'AMRN', 'SRPT', 'ITMN', 'ARQL', 'PDLI', 'TGTX', 'VBLT', 'SUPN', 'ALRN', 'ARGX', 'ARGS', 'HZNP', 'REGN', 'SOMX', 'COLL', 'BMRN', 'HTBX', 'GTXI', 'CTIC', 'PULM', 'LLY', 'PTI', 'IDRA', 'VTVT', 'SGMO', 'OSI', 'TEVA', 'ALNY', 'BMY', 'RPRX', 'INVA', 'ANAC', 'EVOK', 'AUXL', 'JAZZ', 'UTHR', 'EYEG', 'AEZS', 'TCON', 'AQXP', 'XNCR', 'FBIO', 'AMPH', 'NPSP', 'CLDA', 'FENC', 'VVUS', 'BTX', 'LXRX', 'NVCR', 'AIMT', 'OGEN', 'GTHX', 'ANTH', 'ACAD', 'AGIO', 'SBBP', 'RGEN', 'TOCA', 'IMDZ', 'SPHS', 'ONXX', 'XLRN', 'CLRB', 'BMTI', 'ADHD', 'NEW', 'PDL', 'MBRX', 'GEMP', 'ISIS', 'AVEO', 'AST', 'ONCS', 'LGND', 'GEVA', 'MDVN', 'MCRB', 'ONCE', 'IONS', 'MDGL', 'CDTX', 'GILD', 'FGEN', 'SHPG', 'RGNX', 'VTL', 'CORT', 'AMLN', 'PRTA', 'OMER', 'ELTP', 'FRX', 'PRTO', 'ALKS', 'BLUE', 'RIGL', 'CHTP', 'MNKD', 'EGLT', 'PTIE', 'CLBS', 'VKTX', 'ARNA', 'MDWD', 'NLNK', 'VRNA', 'GALT', 'SVNT', 'AGRX', 'SLXP', 'GNMX', 'ARDM', 'DERM', 'ABIO', 'STML', 'PATH', 'KMDA', 'OHRP', 'PTLA', 'EIGR', 'BIIB', 'KDMN', 'TTPH', 'SCYX', 'CYTR', 'ARRY', 'AKAO', 'HOLX', 'OBSV', 'RGLS', 'EBS', 'CORI', 'ABBV', 'ALXN', 'TSRO', 'CALA', 'ALXA', 'MACK', 'TRVN', 'CFRX', 'ZGNX', 'PFE', 'CLDX', 'IPCI', 'FOMX', 'VICL', 'BDSI', 'NKTR', 'TTNP', 'KYTH', 'MRTX']\n",
      "21 ['ZGEN', 'HGSI', 'ANX', 'BPAX', 'AIS', 'PPDI', 'CBRX', u'KERX', 'ISTA', 'DSCO', 'VION', 'FURX', 'BIOD', 'APPA', 'TSPT', u'NBIX', u'AXON', 'SNTS', u'KIND', 'CYPB', 'NEOL.']\n"
     ]
    }
   ],
   "source": [
    "print len(winners), winners\n",
    "print len(losers), losers"
   ]
  },
  {
   "cell_type": "markdown",
   "metadata": {
    "deletable": true,
    "editable": true
   },
   "source": [
    "Lets check in the morning how she did, how far back can she read and what % of companies were successfully pulled?"
   ]
  }
 ],
 "metadata": {
  "kernelspec": {
   "display_name": "Python 2",
   "language": "python",
   "name": "python2"
  },
  "language_info": {
   "codemirror_mode": {
    "name": "ipython",
    "version": 2
   },
   "file_extension": ".py",
   "mimetype": "text/x-python",
   "name": "python",
   "nbconvert_exporter": "python",
   "pygments_lexer": "ipython2",
   "version": "2.7.13"
  }
 },
 "nbformat": 4,
 "nbformat_minor": 2
}
