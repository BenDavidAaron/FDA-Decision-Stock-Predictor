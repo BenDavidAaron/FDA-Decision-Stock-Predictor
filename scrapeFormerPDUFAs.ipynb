{
 "cells": [
  {
   "cell_type": "markdown",
   "metadata": {
    "deletable": true,
    "editable": true
   },
   "source": [
    "# Finding historical PDUFA dates:\n",
    "After getting in touch with the maintainers of [FDA Tracker](https://www.fdatracker.com/fda-calendar/), I had a better understanding of the resources at hand. Unfortunately, the FDA does not publish PDUFA dates. Some groups do however, and I was able to use thier google calendar to streamline the process. \n",
    "\n",
    "After validating the model, I can hopefully justify the time commitment to scrape 278 individual pharmaceutial companies websites, or begin keeping a running database of PDUFA dates scraped in my other notebook, `scrapingFuturePdufas.ipynb`."
   ]
  },
  {
   "cell_type": "code",
   "execution_count": 1,
   "metadata": {
    "collapsed": true,
    "deletable": true,
    "editable": true
   },
   "outputs": [],
   "source": [
    "%matplotlib inline\n",
    "import matplotlib\n",
    "import matplotlib.pyplot as plt"
   ]
  },
  {
   "cell_type": "code",
   "execution_count": 2,
   "metadata": {
    "collapsed": true,
    "deletable": true,
    "editable": true
   },
   "outputs": [],
   "source": [
    "import numpy as np\n",
    "import pandas as pd\n",
    "from sqlalchemy import create_engine, inspect\n",
    "from datetime import datetime\n",
    "from tqdm import tqdm_notebook\n",
    "import dill"
   ]
  },
  {
   "cell_type": "code",
   "execution_count": 3,
   "metadata": {
    "collapsed": true,
    "deletable": true,
    "editable": true
   },
   "outputs": [],
   "source": [
    "engine = create_engine('sqlite:///training_data.db')"
   ]
  },
  {
   "cell_type": "markdown",
   "metadata": {
    "deletable": true,
    "editable": true
   },
   "source": [
    "First things first, lets import the needed librararies for working with the DB\n",
    "\n",
    "...and one for working with the [.ics formatted list of historical FDA dates](https://calendar.google.com/calendar/ical/5dso8589486irtj53sdkr4h6ek%40group.calendar.google.com/public/basic.ics) which I [pulled down from google calendar](https://support.google.com/calendar/answer/37111?hl=en). "
   ]
  },
  {
   "cell_type": "code",
   "execution_count": 4,
   "metadata": {
    "collapsed": false,
    "deletable": true,
    "editable": true,
    "scrolled": true
   },
   "outputs": [],
   "source": [
    "from urllib2 import urlopen\n",
    "import ics"
   ]
  },
  {
   "cell_type": "markdown",
   "metadata": {
    "deletable": true,
    "editable": true
   },
   "source": [
    "...Lets open up that calendar"
   ]
  },
  {
   "cell_type": "code",
   "execution_count": 5,
   "metadata": {
    "collapsed": true,
    "deletable": true,
    "editable": true
   },
   "outputs": [],
   "source": [
    "FdaUrl = \"https://calendar.google.com/calendar/ical/5dso8589486irtj53sdkr4h6ek%40group.calendar.google.com/public/basic.ics\""
   ]
  },
  {
   "cell_type": "code",
   "execution_count": 6,
   "metadata": {
    "collapsed": false,
    "deletable": true,
    "editable": true,
    "scrolled": true
   },
   "outputs": [],
   "source": [
    "FdaCal = ics.Calendar(urlopen(FdaUrl).read().decode('iso-8859-1'))"
   ]
  },
  {
   "cell_type": "code",
   "execution_count": 7,
   "metadata": {
    "collapsed": false,
    "deletable": true,
    "editable": true,
    "scrolled": false
   },
   "outputs": [
    {
     "data": {
      "text/plain": [
       "<Calendar with 544 events>"
      ]
     },
     "execution_count": 7,
     "metadata": {},
     "output_type": "execute_result"
    }
   ],
   "source": [
    "FdaCal"
   ]
  },
  {
   "cell_type": "markdown",
   "metadata": {
    "collapsed": true,
    "deletable": true,
    "editable": true
   },
   "source": [
    "So I'm gonna need to get the stock ticker symbols out of each event name, and the start/end dates, which appear mostly to be all day one day events. Sounds like a job for...\n",
    "###### REGULAR EXPRESSIONS DUM-DA-DUM"
   ]
  },
  {
   "cell_type": "code",
   "execution_count": 8,
   "metadata": {
    "collapsed": true,
    "deletable": true,
    "editable": true
   },
   "outputs": [],
   "source": [
    "import re"
   ]
  },
  {
   "cell_type": "code",
   "execution_count": 9,
   "metadata": {
    "collapsed": true,
    "deletable": true,
    "editable": true
   },
   "outputs": [],
   "source": [
    "tickerRe = re.compile(r\"\\A[A-Z]{3,4}\\W\")"
   ]
  },
  {
   "cell_type": "code",
   "execution_count": 20,
   "metadata": {
    "collapsed": false,
    "deletable": true,
    "editable": true
   },
   "outputs": [
    {
     "ename": "IndentationError",
     "evalue": "expected an indented block (<ipython-input-20-7da83bb9d921>, line 12)",
     "output_type": "error",
     "traceback": [
      "\u001b[0;36m  File \u001b[0;32m\"<ipython-input-20-7da83bb9d921>\"\u001b[0;36m, line \u001b[0;32m12\u001b[0m\n\u001b[0;31m    \u001b[0m\n\u001b[0m    ^\u001b[0m\n\u001b[0;31mIndentationError\u001b[0m\u001b[0;31m:\u001b[0m expected an indented block\n"
     ]
    }
   ],
   "source": [
    "past_pdufa = []\n",
    "for event in FdaCal.events:\n",
    "    matches = re.findall(tickerRe, event.name)\n",
    "    if len(matches) >=1:\n",
    "        eDate = event.begin.datetime.strftime(\"%Y-%m-%d\")\n",
    "        '''eYr = event.begin.datetime.year\n",
    "        eMn = event.begin.datetime.month\n",
    "        eDy = event.begin.datetime.day'''\n",
    "        eComp = str(matches[0]).strip()\n",
    "        past_pdufa.append(('pdufa',eComp, eDate))\n",
    "        for i in range(119):\n",
    "            "
   ]
  },
  {
   "cell_type": "markdown",
   "metadata": {
    "deletable": true,
    "editable": true
   },
   "source": [
    "So we have a list of tuples containing a stock ticker and an FDA action date"
   ]
  },
  {
   "cell_type": "markdown",
   "metadata": {
    "deletable": true,
    "editable": true
   },
   "source": [
    "I'm going to grab the symbols and feed those into a pickle, so we can pass them back to the API downloading notebook."
   ]
  },
  {
   "cell_type": "code",
   "execution_count": 11,
   "metadata": {
    "collapsed": true,
    "deletable": true,
    "editable": true
   },
   "outputs": [],
   "source": [
    "past_ticks = set(x[0] for x in past_pdufa)"
   ]
  },
  {
   "cell_type": "code",
   "execution_count": 12,
   "metadata": {
    "collapsed": false,
    "deletable": true,
    "editable": true
   },
   "outputs": [],
   "source": [
    "dill.dump(past_ticks, open('past_ticker_symbols.pkl', 'w'))"
   ]
  },
  {
   "cell_type": "markdown",
   "metadata": {
    "deletable": true,
    "editable": true
   },
   "source": [
    "So here is our list of **(475)** stock tickers in the past PDUFA dataset, including a few strings that slipped past the regex like `NEW` and `INC`. I'm going to run this list of ticker symbols against AlphaVantage to finish rounding out my training dataset. That _should_ clean them out and I can begin feature extraction tommorow."
   ]
  },
  {
   "cell_type": "markdown",
   "metadata": {
    "deletable": true,
    "editable": true
   },
   "source": [
    "Now lets go ahead and convert the ugly list of tuples to a nice pandas DF and write it to our SQLite DB"
   ]
  },
  {
   "cell_type": "code",
   "execution_count": 16,
   "metadata": {
    "collapsed": false,
    "deletable": true,
    "editable": true
   },
   "outputs": [
    {
     "ename": "NameError",
     "evalue": "name 'FDA_Trkr_Events' is not defined",
     "output_type": "error",
     "traceback": [
      "\u001b[0;31m---------------------------------------------------------------------------\u001b[0m",
      "\u001b[0;31mNameError\u001b[0m                                 Traceback (most recent call last)",
      "\u001b[0;32m<ipython-input-16-989cda904f37>\u001b[0m in \u001b[0;36m<module>\u001b[0;34m()\u001b[0m\n\u001b[0;32m----> 1\u001b[0;31m \u001b[0mhist_pdufas\u001b[0m \u001b[0;34m=\u001b[0m \u001b[0mpd\u001b[0m\u001b[0;34m.\u001b[0m\u001b[0mDataFrame\u001b[0m\u001b[0;34m(\u001b[0m\u001b[0mFDA_Trkr_Events\u001b[0m\u001b[0;34m,\u001b[0m \u001b[0mcolumns\u001b[0m \u001b[0;34m=\u001b[0m \u001b[0;34m[\u001b[0m\u001b[0;34m'event'\u001b[0m\u001b[0;34m,\u001b[0m\u001b[0;34m'Ticker'\u001b[0m\u001b[0;34m,\u001b[0m \u001b[0;34m'Date'\u001b[0m\u001b[0;34m]\u001b[0m\u001b[0;34m)\u001b[0m\u001b[0;34m\u001b[0m\u001b[0m\n\u001b[0m",
      "\u001b[0;31mNameError\u001b[0m: name 'FDA_Trkr_Events' is not defined"
     ]
    }
   ],
   "source": [
    "hist_pdufas = pd.DataFrame(past_pdufa, columns = ['event','Ticker', 'Date'])"
   ]
  },
  {
   "cell_type": "code",
   "execution_count": 17,
   "metadata": {
    "collapsed": false,
    "deletable": true,
    "editable": true,
    "scrolled": false
   },
   "outputs": [
    {
     "data": {
      "text/html": [
       "<div>\n",
       "<style>\n",
       "    .dataframe thead tr:only-child th {\n",
       "        text-align: right;\n",
       "    }\n",
       "\n",
       "    .dataframe thead th {\n",
       "        text-align: left;\n",
       "    }\n",
       "\n",
       "    .dataframe tbody tr th {\n",
       "        vertical-align: top;\n",
       "    }\n",
       "</style>\n",
       "<table border=\"1\" class=\"dataframe\">\n",
       "  <thead>\n",
       "    <tr style=\"text-align: right;\">\n",
       "      <th></th>\n",
       "      <th>event</th>\n",
       "      <th>Ticker</th>\n",
       "      <th>Date</th>\n",
       "    </tr>\n",
       "  </thead>\n",
       "  <tbody>\n",
       "    <tr>\n",
       "      <th>0</th>\n",
       "      <td>pdufa</td>\n",
       "      <td>NEW</td>\n",
       "      <td>2006-10-06</td>\n",
       "    </tr>\n",
       "    <tr>\n",
       "      <th>1</th>\n",
       "      <td>pdufa</td>\n",
       "      <td>DOR</td>\n",
       "      <td>2007-07-21</td>\n",
       "    </tr>\n",
       "    <tr>\n",
       "      <th>2</th>\n",
       "      <td>pdufa</td>\n",
       "      <td>SPPI</td>\n",
       "      <td>2007-08-15</td>\n",
       "    </tr>\n",
       "    <tr>\n",
       "      <th>3</th>\n",
       "      <td>pdufa</td>\n",
       "      <td>NBIX</td>\n",
       "      <td>2007-08-21</td>\n",
       "    </tr>\n",
       "    <tr>\n",
       "      <th>4</th>\n",
       "      <td>pdufa</td>\n",
       "      <td>ZGEN</td>\n",
       "      <td>2007-10-18</td>\n",
       "    </tr>\n",
       "    <tr>\n",
       "      <th>5</th>\n",
       "      <td>pdufa</td>\n",
       "      <td>DOR</td>\n",
       "      <td>2007-10-21</td>\n",
       "    </tr>\n",
       "    <tr>\n",
       "      <th>6</th>\n",
       "      <td>pdufa</td>\n",
       "      <td>REGN</td>\n",
       "      <td>2007-11-29</td>\n",
       "    </tr>\n",
       "    <tr>\n",
       "      <th>7</th>\n",
       "      <td>pdufa</td>\n",
       "      <td>NBIX</td>\n",
       "      <td>2007-12-12</td>\n",
       "    </tr>\n",
       "    <tr>\n",
       "      <th>8</th>\n",
       "      <td>pdufa</td>\n",
       "      <td>JAZZ</td>\n",
       "      <td>2007-12-22</td>\n",
       "    </tr>\n",
       "    <tr>\n",
       "      <th>9</th>\n",
       "      <td>pdufa</td>\n",
       "      <td>PCYC</td>\n",
       "      <td>2007-12-31</td>\n",
       "    </tr>\n",
       "    <tr>\n",
       "      <th>10</th>\n",
       "      <td>pdufa</td>\n",
       "      <td>PGNX</td>\n",
       "      <td>2008-01-30</td>\n",
       "    </tr>\n",
       "    <tr>\n",
       "      <th>11</th>\n",
       "      <td>pdufa</td>\n",
       "      <td>ADLR</td>\n",
       "      <td>2008-02-10</td>\n",
       "    </tr>\n",
       "    <tr>\n",
       "      <th>12</th>\n",
       "      <td>pdufa</td>\n",
       "      <td>JAZZ</td>\n",
       "      <td>2008-02-29</td>\n",
       "    </tr>\n",
       "    <tr>\n",
       "      <th>13</th>\n",
       "      <td>pdufa</td>\n",
       "      <td>POZN</td>\n",
       "      <td>2008-04-15</td>\n",
       "    </tr>\n",
       "    <tr>\n",
       "      <th>14</th>\n",
       "      <td>pdufa</td>\n",
       "      <td>PGNX</td>\n",
       "      <td>2008-04-30</td>\n",
       "    </tr>\n",
       "    <tr>\n",
       "      <th>15</th>\n",
       "      <td>pdufa</td>\n",
       "      <td>DSCO</td>\n",
       "      <td>2008-05-01</td>\n",
       "    </tr>\n",
       "    <tr>\n",
       "      <th>16</th>\n",
       "      <td>pdufa</td>\n",
       "      <td>SLXP</td>\n",
       "      <td>2008-05-16</td>\n",
       "    </tr>\n",
       "    <tr>\n",
       "      <th>17</th>\n",
       "      <td>pdufa</td>\n",
       "      <td>AKRX</td>\n",
       "      <td>2008-06-02</td>\n",
       "    </tr>\n",
       "    <tr>\n",
       "      <th>18</th>\n",
       "      <td>pdufa</td>\n",
       "      <td>LGND</td>\n",
       "      <td>2008-06-19</td>\n",
       "    </tr>\n",
       "    <tr>\n",
       "      <th>19</th>\n",
       "      <td>pdufa</td>\n",
       "      <td>THRX</td>\n",
       "      <td>2008-07-21</td>\n",
       "    </tr>\n",
       "    <tr>\n",
       "      <th>20</th>\n",
       "      <td>pdufa</td>\n",
       "      <td>VNDA</td>\n",
       "      <td>2008-07-27</td>\n",
       "    </tr>\n",
       "    <tr>\n",
       "      <th>21</th>\n",
       "      <td>pdufa</td>\n",
       "      <td>BDSI</td>\n",
       "      <td>2008-08-31</td>\n",
       "    </tr>\n",
       "    <tr>\n",
       "      <th>22</th>\n",
       "      <td>pdufa</td>\n",
       "      <td>TSPT</td>\n",
       "      <td>2008-09-30</td>\n",
       "    </tr>\n",
       "    <tr>\n",
       "      <th>23</th>\n",
       "      <td>pdufa</td>\n",
       "      <td>CYPB</td>\n",
       "      <td>2008-10-18</td>\n",
       "    </tr>\n",
       "    <tr>\n",
       "      <th>24</th>\n",
       "      <td>pdufa</td>\n",
       "      <td>PPDI</td>\n",
       "      <td>2008-10-27</td>\n",
       "    </tr>\n",
       "    <tr>\n",
       "      <th>25</th>\n",
       "      <td>pdufa</td>\n",
       "      <td>SOMX</td>\n",
       "      <td>2008-12-01</td>\n",
       "    </tr>\n",
       "    <tr>\n",
       "      <th>26</th>\n",
       "      <td>pdufa</td>\n",
       "      <td>EPIX</td>\n",
       "      <td>2008-12-31</td>\n",
       "    </tr>\n",
       "    <tr>\n",
       "      <th>27</th>\n",
       "      <td>pdufa</td>\n",
       "      <td>ACUR</td>\n",
       "      <td>2009-02-22</td>\n",
       "    </tr>\n",
       "    <tr>\n",
       "      <th>28</th>\n",
       "      <td>pdufa</td>\n",
       "      <td>HEB</td>\n",
       "      <td>2009-02-25</td>\n",
       "    </tr>\n",
       "    <tr>\n",
       "      <th>29</th>\n",
       "      <td>pdufa</td>\n",
       "      <td>BSTC</td>\n",
       "      <td>2009-02-27</td>\n",
       "    </tr>\n",
       "    <tr>\n",
       "      <th>...</th>\n",
       "      <td>...</td>\n",
       "      <td>...</td>\n",
       "      <td>...</td>\n",
       "    </tr>\n",
       "    <tr>\n",
       "      <th>446</th>\n",
       "      <td>pdufa</td>\n",
       "      <td>GILD</td>\n",
       "      <td>2017-11-29</td>\n",
       "    </tr>\n",
       "    <tr>\n",
       "      <th>447</th>\n",
       "      <td>pdufa</td>\n",
       "      <td>AMGN</td>\n",
       "      <td>2017-12-02</td>\n",
       "    </tr>\n",
       "    <tr>\n",
       "      <th>448</th>\n",
       "      <td>pdufa</td>\n",
       "      <td>SGEN</td>\n",
       "      <td>2017-12-16</td>\n",
       "    </tr>\n",
       "    <tr>\n",
       "      <th>449</th>\n",
       "      <td>pdufa</td>\n",
       "      <td>ACRS</td>\n",
       "      <td>2017-12-24</td>\n",
       "    </tr>\n",
       "    <tr>\n",
       "      <th>450</th>\n",
       "      <td>pdufa</td>\n",
       "      <td>AGRX</td>\n",
       "      <td>2017-12-26</td>\n",
       "    </tr>\n",
       "    <tr>\n",
       "      <th>451</th>\n",
       "      <td>pdufa</td>\n",
       "      <td>CORI</td>\n",
       "      <td>2017-12-26</td>\n",
       "    </tr>\n",
       "    <tr>\n",
       "      <th>452</th>\n",
       "      <td>pdufa</td>\n",
       "      <td>VRX</td>\n",
       "      <td>2017-12-27</td>\n",
       "    </tr>\n",
       "    <tr>\n",
       "      <th>453</th>\n",
       "      <td>pdufa</td>\n",
       "      <td>AEZS</td>\n",
       "      <td>2017-12-30</td>\n",
       "    </tr>\n",
       "    <tr>\n",
       "      <th>454</th>\n",
       "      <td>pdufa</td>\n",
       "      <td>XENT</td>\n",
       "      <td>2018-01-07</td>\n",
       "    </tr>\n",
       "    <tr>\n",
       "      <th>455</th>\n",
       "      <td>pdufa</td>\n",
       "      <td>ONCE</td>\n",
       "      <td>2018-01-12</td>\n",
       "    </tr>\n",
       "    <tr>\n",
       "      <th>456</th>\n",
       "      <td>pdufa</td>\n",
       "      <td>SGYP</td>\n",
       "      <td>2018-01-24</td>\n",
       "    </tr>\n",
       "    <tr>\n",
       "      <th>457</th>\n",
       "      <td>pdufa</td>\n",
       "      <td>AAAP</td>\n",
       "      <td>2018-01-26</td>\n",
       "    </tr>\n",
       "    <tr>\n",
       "      <th>458</th>\n",
       "      <td>pdufa</td>\n",
       "      <td>ARDM</td>\n",
       "      <td>2018-01-26</td>\n",
       "    </tr>\n",
       "    <tr>\n",
       "      <th>459</th>\n",
       "      <td>pdufa</td>\n",
       "      <td>AMAG</td>\n",
       "      <td>2018-02-02</td>\n",
       "    </tr>\n",
       "    <tr>\n",
       "      <th>460</th>\n",
       "      <td>pdufa</td>\n",
       "      <td>AMGN</td>\n",
       "      <td>2018-02-03</td>\n",
       "    </tr>\n",
       "    <tr>\n",
       "      <th>461</th>\n",
       "      <td>pdufa</td>\n",
       "      <td>LPCN</td>\n",
       "      <td>2018-02-08</td>\n",
       "    </tr>\n",
       "    <tr>\n",
       "      <th>462</th>\n",
       "      <td>pdufa</td>\n",
       "      <td>AMAG</td>\n",
       "      <td>2018-02-14</td>\n",
       "    </tr>\n",
       "    <tr>\n",
       "      <th>463</th>\n",
       "      <td>pdufa</td>\n",
       "      <td>APRI</td>\n",
       "      <td>2018-02-17</td>\n",
       "    </tr>\n",
       "    <tr>\n",
       "      <th>464</th>\n",
       "      <td>pdufa</td>\n",
       "      <td>KMPH</td>\n",
       "      <td>2018-02-23</td>\n",
       "    </tr>\n",
       "    <tr>\n",
       "      <th>465</th>\n",
       "      <td>pdufa</td>\n",
       "      <td>AERI</td>\n",
       "      <td>2018-02-28</td>\n",
       "    </tr>\n",
       "    <tr>\n",
       "      <th>466</th>\n",
       "      <td>pdufa</td>\n",
       "      <td>LJPC</td>\n",
       "      <td>2018-02-28</td>\n",
       "    </tr>\n",
       "    <tr>\n",
       "      <th>467</th>\n",
       "      <td>pdufa</td>\n",
       "      <td>BMRN</td>\n",
       "      <td>2018-02-28</td>\n",
       "    </tr>\n",
       "    <tr>\n",
       "      <th>468</th>\n",
       "      <td>pdufa</td>\n",
       "      <td>SRNE</td>\n",
       "      <td>2018-02-28</td>\n",
       "    </tr>\n",
       "    <tr>\n",
       "      <th>469</th>\n",
       "      <td>pdufa</td>\n",
       "      <td>OTIC</td>\n",
       "      <td>2018-03-02</td>\n",
       "    </tr>\n",
       "    <tr>\n",
       "      <th>470</th>\n",
       "      <td>pdufa</td>\n",
       "      <td>RIGL</td>\n",
       "      <td>2018-04-17</td>\n",
       "    </tr>\n",
       "    <tr>\n",
       "      <th>471</th>\n",
       "      <td>pdufa</td>\n",
       "      <td>AMGN</td>\n",
       "      <td>2018-04-30</td>\n",
       "    </tr>\n",
       "    <tr>\n",
       "      <th>472</th>\n",
       "      <td>pdufa</td>\n",
       "      <td>AMGN</td>\n",
       "      <td>2018-05-17</td>\n",
       "    </tr>\n",
       "    <tr>\n",
       "      <th>473</th>\n",
       "      <td>pdufa</td>\n",
       "      <td>REPH</td>\n",
       "      <td>2018-05-26</td>\n",
       "    </tr>\n",
       "    <tr>\n",
       "      <th>474</th>\n",
       "      <td>pdufa</td>\n",
       "      <td>KTOV</td>\n",
       "      <td>2018-05-31</td>\n",
       "    </tr>\n",
       "    <tr>\n",
       "      <th>475</th>\n",
       "      <td>pdufa</td>\n",
       "      <td>ARRY</td>\n",
       "      <td>2018-06-30</td>\n",
       "    </tr>\n",
       "  </tbody>\n",
       "</table>\n",
       "<p>476 rows × 3 columns</p>\n",
       "</div>"
      ],
      "text/plain": [
       "     event Ticker        Date\n",
       "0    pdufa    NEW  2006-10-06\n",
       "1    pdufa    DOR  2007-07-21\n",
       "2    pdufa   SPPI  2007-08-15\n",
       "3    pdufa   NBIX  2007-08-21\n",
       "4    pdufa   ZGEN  2007-10-18\n",
       "5    pdufa    DOR  2007-10-21\n",
       "6    pdufa   REGN  2007-11-29\n",
       "7    pdufa   NBIX  2007-12-12\n",
       "8    pdufa   JAZZ  2007-12-22\n",
       "9    pdufa   PCYC  2007-12-31\n",
       "10   pdufa   PGNX  2008-01-30\n",
       "11   pdufa   ADLR  2008-02-10\n",
       "12   pdufa   JAZZ  2008-02-29\n",
       "13   pdufa   POZN  2008-04-15\n",
       "14   pdufa   PGNX  2008-04-30\n",
       "15   pdufa   DSCO  2008-05-01\n",
       "16   pdufa   SLXP  2008-05-16\n",
       "17   pdufa   AKRX  2008-06-02\n",
       "18   pdufa   LGND  2008-06-19\n",
       "19   pdufa   THRX  2008-07-21\n",
       "20   pdufa   VNDA  2008-07-27\n",
       "21   pdufa   BDSI  2008-08-31\n",
       "22   pdufa   TSPT  2008-09-30\n",
       "23   pdufa   CYPB  2008-10-18\n",
       "24   pdufa   PPDI  2008-10-27\n",
       "25   pdufa   SOMX  2008-12-01\n",
       "26   pdufa   EPIX  2008-12-31\n",
       "27   pdufa   ACUR  2009-02-22\n",
       "28   pdufa    HEB  2009-02-25\n",
       "29   pdufa   BSTC  2009-02-27\n",
       "..     ...    ...         ...\n",
       "446  pdufa   GILD  2017-11-29\n",
       "447  pdufa   AMGN  2017-12-02\n",
       "448  pdufa   SGEN  2017-12-16\n",
       "449  pdufa   ACRS  2017-12-24\n",
       "450  pdufa   AGRX  2017-12-26\n",
       "451  pdufa   CORI  2017-12-26\n",
       "452  pdufa    VRX  2017-12-27\n",
       "453  pdufa   AEZS  2017-12-30\n",
       "454  pdufa   XENT  2018-01-07\n",
       "455  pdufa   ONCE  2018-01-12\n",
       "456  pdufa   SGYP  2018-01-24\n",
       "457  pdufa   AAAP  2018-01-26\n",
       "458  pdufa   ARDM  2018-01-26\n",
       "459  pdufa   AMAG  2018-02-02\n",
       "460  pdufa   AMGN  2018-02-03\n",
       "461  pdufa   LPCN  2018-02-08\n",
       "462  pdufa   AMAG  2018-02-14\n",
       "463  pdufa   APRI  2018-02-17\n",
       "464  pdufa   KMPH  2018-02-23\n",
       "465  pdufa   AERI  2018-02-28\n",
       "466  pdufa   LJPC  2018-02-28\n",
       "467  pdufa   BMRN  2018-02-28\n",
       "468  pdufa   SRNE  2018-02-28\n",
       "469  pdufa   OTIC  2018-03-02\n",
       "470  pdufa   RIGL  2018-04-17\n",
       "471  pdufa   AMGN  2018-04-30\n",
       "472  pdufa   AMGN  2018-05-17\n",
       "473  pdufa   REPH  2018-05-26\n",
       "474  pdufa   KTOV  2018-05-31\n",
       "475  pdufa   ARRY  2018-06-30\n",
       "\n",
       "[476 rows x 3 columns]"
      ]
     },
     "execution_count": 17,
     "metadata": {},
     "output_type": "execute_result"
    }
   ],
   "source": [
    "hist_pdufas"
   ]
  },
  {
   "cell_type": "markdown",
   "metadata": {
    "deletable": true,
    "editable": true
   },
   "source": [
    "SQLite cant accept date formatting so I'm gonna see how the stock series are stored by date and just copy thier style"
   ]
  },
  {
   "cell_type": "code",
   "execution_count": 19,
   "metadata": {
    "collapsed": false,
    "deletable": true,
    "editable": true
   },
   "outputs": [],
   "source": [
    "hist_pdufas.to_sql(\"FDA_Trkr_events\", engine, if_exists = 'replace')"
   ]
  },
  {
   "cell_type": "markdown",
   "metadata": {
    "deletable": true,
    "editable": true
   },
   "source": [
    "Thats a harmonized date Format, "
   ]
  }
 ],
 "metadata": {
  "kernelspec": {
   "display_name": "Python 2",
   "language": "python",
   "name": "python2"
  },
  "language_info": {
   "codemirror_mode": {
    "name": "ipython",
    "version": 2
   },
   "file_extension": ".py",
   "mimetype": "text/x-python",
   "name": "python",
   "nbconvert_exporter": "python",
   "pygments_lexer": "ipython2",
   "version": "2.7.13"
  }
 },
 "nbformat": 4,
 "nbformat_minor": 2
}
