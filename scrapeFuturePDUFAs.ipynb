{
 "cells": [
  {
   "cell_type": "markdown",
   "metadata": {
    "deletable": true,
    "editable": true
   },
   "source": [
    "# getting started\n",
    "I'm having a delay finding historic dates (need to hear back from an investment guy with a database). In the meantime lets set up a pipeline to get future dates from [BioPharmCatalyst](https://www.biopharmcatalyst.com/calendars/fda-calendar) and [RTT News](http://www.rttnews.com/CorpInfo/FDACalendar.aspx?PageNum=1)\n",
    "So when all this finally is deployable, we'll need a list of future PDUFA dates to predict on, lets scrape them from biopharm catalyst and RTT news."
   ]
  },
  {
   "cell_type": "code",
   "execution_count": 1,
   "metadata": {
    "collapsed": true,
    "deletable": true,
    "editable": true
   },
   "outputs": [],
   "source": [
    "import requests\n",
    "import numpy as np\n",
    "import pandas as pd\n",
    "from bs4 import BeautifulSoup\n",
    "from tqdm import tqdm_notebook\n",
    "from sqlalchemy import create_engine, inspect\n",
    "from datetime import datetime"
   ]
  },
  {
   "cell_type": "markdown",
   "metadata": {
    "deletable": true,
    "editable": true
   },
   "source": [
    "So this is going to be a lot like getting stock tickers, but with a bit more surgery. I'm intending to treat this data the same way, by passing it into a pandas dataframe containing the FDA action, and writing these to SQLite. "
   ]
  },
  {
   "cell_type": "code",
   "execution_count": 2,
   "metadata": {
    "collapsed": true,
    "deletable": true,
    "editable": true
   },
   "outputs": [],
   "source": [
    "bpcReq = requests.get(\"https://www.biopharmcatalyst.com/calendars/fda-calendar\")"
   ]
  },
  {
   "cell_type": "code",
   "execution_count": 3,
   "metadata": {
    "collapsed": true,
    "deletable": true,
    "editable": true
   },
   "outputs": [],
   "source": [
    "bpcSup = BeautifulSoup(bpcReq.text, \"lxml\")"
   ]
  },
  {
   "cell_type": "code",
   "execution_count": 4,
   "metadata": {
    "collapsed": false
   },
   "outputs": [],
   "source": [
    "eventDF = pd.DataFrame"
   ]
  },
  {
   "cell_type": "code",
   "execution_count": 8,
   "metadata": {
    "collapsed": false
   },
   "outputs": [
    {
     "name": "stdout",
     "output_type": "stream",
     "text": [
      "2017-10-06 FLXN\n",
      "2017-10-09 MYL\n",
      "2017-10-12 ACRX\n",
      "2017-10-12 ONCE\n",
      "2017-10-13 AERI\n",
      "2017-10-14 NBIX\n",
      "2017-10-15 JNJ\n",
      "2017-10-17 ATRS\n",
      "2017-10-20 ATRS\n",
      "2017-10-21 JNJ\n",
      "2017-10-21 JNJ\n",
      "2017-10-23 ALXN\n",
      "2017-10-24 AGEN\n",
      "2017-10-24 GSK\n",
      "2017-10-24 PTCT\n",
      "2017-10-25 TSRO\n",
      "2017-10-28 JNJ\n",
      "2017-10-30 EGRX\n",
      "2017-11-06 KERX\n",
      "2017-11-07 PFE\n",
      "2017-11-09 BMY\n",
      "2017-11-10 DVAX\n",
      "2017-11-12 HRTX\n",
      "2017-11-16 RARE\n",
      "2017-11-29 KITE\n",
      "2017-12-02 AMGN\n",
      "2017-12-03 MYL\n",
      "2017-12-05 GSK\n",
      "2017-12-05 JNJ\n",
      "2017-12-05 NVO\n",
      "2017-12-16 SGEN\n",
      "2017-12-24 ACRS\n",
      "2017-12-26 AGRX\n",
      "2017-12-26 CORI\n",
      "2017-12-27 VRX\n",
      "2017-12-30 AEZS\n",
      "2017-12-31 AZN\n",
      "2017-12-31 MRK\n",
      "2017-12-31 PFE\n",
      "2018-01-07 XENT\n",
      "2018-01-10 LLY\n",
      "2018-01-24 SGYP\n",
      "2018-01-26 AAAP\n",
      "2018-01-26 ARDM\n",
      "2018-01-28 SCMP\n",
      "2018-02-01 AZN\n",
      "2018-02-02 AMAG\n",
      "2018-02-02 PTLA\n",
      "2018-02-03 AMGN\n",
      "2018-02-08 LPCN\n",
      "2018-02-12 GILD\n",
      "2018-02-14 AMAG\n",
      "2018-02-17 APRI\n",
      "2018-02-23 KMPH\n",
      "2018-02-28 LJPC\n",
      "2018-02-28 SRNE\n",
      "2018-02-28 VRTX\n",
      "2018-03-05 BMY\n",
      "2018-03-13 PFE\n",
      "2018-04-17 RIGL\n",
      "2018-04-30 AMGN\n",
      "2018-05-17 AMGN\n",
      "2018-05-17 NVS\n",
      "2018-05-31 KTOV\n",
      "2018-06-30 ARRY\n",
      "2018-07-28 REPH\n",
      "\n"
     ]
    }
   ],
   "source": [
    "for tr_el in tqdm_notebook(bpcSup.findAll('tr')[1:]): #start from row 1 to exclude header row\n",
    "    row = tr_el.find_all('td')\n",
    "    if 'pdufa' in row[3]['data-value']: #This currently only finds PDUFA dates, but it could be easily expanded\n",
    "        evTck = row[0].find('a').text.strip() #leftmost column element, returns text\n",
    "        evDay = datetime.strptime(row[4].find('time').text, '%m/%d/%Y') #\n",
    "        print evDay.date(), evTck\n",
    "        "
   ]
  },
  {
   "cell_type": "code",
   "execution_count": null,
   "metadata": {
    "collapsed": true
   },
   "outputs": [],
   "source": []
  }
 ],
 "metadata": {
  "kernelspec": {
   "display_name": "Python 2",
   "language": "python",
   "name": "python2"
  },
  "language_info": {
   "codemirror_mode": {
    "name": "ipython",
    "version": 2
   },
   "file_extension": ".py",
   "mimetype": "text/x-python",
   "name": "python",
   "nbconvert_exporter": "python",
   "pygments_lexer": "ipython2",
   "version": "2.7.13"
  }
 },
 "nbformat": 4,
 "nbformat_minor": 2
}
