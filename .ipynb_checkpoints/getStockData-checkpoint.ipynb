{
 "cells": [
  {
   "cell_type": "markdown",
   "metadata": {
    "deletable": true,
    "editable": true
   },
   "source": [
    "# Getting Stock Data\n",
    "First, lets import all the stuff we'll need to get pricing data"
   ]
  },
  {
   "cell_type": "code",
   "execution_count": 2,
   "metadata": {
    "collapsed": false,
    "deletable": true,
    "editable": true
   },
   "outputs": [],
   "source": [
    "import numpy as np\n",
    "import pandas as pd\n",
    "import dill\n",
    "import quandl"
   ]
  },
  {
   "cell_type": "markdown",
   "metadata": {
    "deletable": true,
    "editable": true
   },
   "source": [
    "Second things second, lets get our set of ticker symbols out of the pickle jar, and into a sorted list"
   ]
  },
  {
   "cell_type": "code",
   "execution_count": 4,
   "metadata": {
    "collapsed": false,
    "deletable": true,
    "editable": true
   },
   "outputs": [],
   "source": [
    "tickSymbs = sorted(dill.load(open('Set_of_Ticker_Symbols.pkl', 'r')))"
   ]
  },
  {
   "cell_type": "markdown",
   "metadata": {
    "deletable": true,
    "editable": true
   },
   "source": [
    "Now lets open my Quandl API key from its hidden and ignored file (so nobody scrapes it off this github repo)"
   ]
  },
  {
   "cell_type": "code",
   "execution_count": 5,
   "metadata": {
    "collapsed": false,
    "deletable": true,
    "editable": true
   },
   "outputs": [],
   "source": [
    "quandl_key_handle = open(\".quandlKey\", \"r\")\n",
    "qKey = quandl_key_handle.read()\n",
    "quandl_key_handle.close()"
   ]
  },
  {
   "cell_type": "code",
   "execution_count": 6,
   "metadata": {
    "collapsed": true
   },
   "outputs": [],
   "source": [
    "stock_dfs = {} #putting dataframes in a dict cause I will learn SQL tonight"
   ]
  },
  {
   "cell_type": "code",
   "execution_count": null,
   "metadata": {
    "collapsed": false,
    "scrolled": false
   },
   "outputs": [
    {
     "name": "stdout",
     "output_type": "stream",
     "text": [
      "Couldn't find AAAP\n",
      "Couldn't find ABIO\n",
      "Couldn't find ABUS\n",
      "Couldn't find ACRS\n",
      "Couldn't find ADHD\n",
      "Couldn't find ADMP\n",
      "Couldn't find ADRO\n",
      "Couldn't find ADXS\n",
      "Couldn't find AEZS\n",
      "Couldn't find AFMD\n",
      "Couldn't find AGLE\n",
      "Couldn't find AGRX\n",
      "Couldn't find AIMT\n",
      "Couldn't find ALDX\n",
      "Couldn't find ALRN\n",
      "Couldn't find AMPH\n",
      "Couldn't find AMRN\n",
      "Couldn't find ANAB\n",
      "Couldn't find ANTH\n",
      "Couldn't find APRI\n",
      "Couldn't find AQXP\n",
      "Couldn't find ARDX\n",
      "Couldn't find ARGS\n",
      "Couldn't find ARGX\n",
      "Couldn't find AST\n",
      "Couldn't find ATNX\n",
      "Couldn't find AVIR\n",
      "Couldn't find AXON\n",
      "Couldn't find AXSM\n",
      "Couldn't find AZN\n",
      "Couldn't find AZRX\n",
      "Couldn't find BHVN\n",
      "Couldn't find BLPH\n",
      "Couldn't find BLRX\n"
     ]
    }
   ],
   "source": [
    "for tick in tickSymbs:\n",
    "    try:\n",
    "        stock_dfs[tick] = quandl.get(\"WIKI/%s\" %tick, api_key = qKey)\n",
    "    except:\n",
    "        print \"Couldn't find %s\" % tick"
   ]
  },
  {
   "cell_type": "code",
   "execution_count": null,
   "metadata": {
    "collapsed": true
   },
   "outputs": [],
   "source": [
    "stock_dfs"
   ]
  },
  {
   "cell_type": "code",
   "execution_count": null,
   "metadata": {
    "collapsed": true
   },
   "outputs": [],
   "source": []
  }
 ],
 "metadata": {
  "kernelspec": {
   "display_name": "Python 2",
   "language": "python",
   "name": "python2"
  },
  "language_info": {
   "codemirror_mode": {
    "name": "ipython",
    "version": 2
   },
   "file_extension": ".py",
   "mimetype": "text/x-python",
   "name": "python",
   "nbconvert_exporter": "python",
   "pygments_lexer": "ipython2",
   "version": "2.7.13"
  }
 },
 "nbformat": 4,
 "nbformat_minor": 2
}
