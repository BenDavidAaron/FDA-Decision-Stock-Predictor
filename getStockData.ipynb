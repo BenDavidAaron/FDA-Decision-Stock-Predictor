{
 "cells": [
  {
   "cell_type": "markdown",
   "metadata": {},
   "source": [
    "# Getting Stock Data\n",
    "First, lets import all the stuff we'll need to get pricing data"
   ]
  },
  {
   "cell_type": "code",
   "execution_count": 1,
   "metadata": {
    "collapsed": false,
    "deletable": true,
    "editable": true
   },
   "outputs": [],
   "source": [
    "import numpy as np\n",
    "import pandas as pd\n",
    "import dill\n",
    "import quandl as qd\n"
   ]
  },
  {
   "cell_type": "markdown",
   "metadata": {},
   "source": [
    "Second things second, lets get our set of ticker symbols out of the pickle jar"
   ]
  },
  {
   "cell_type": "code",
   "execution_count": 7,
   "metadata": {
    "collapsed": true
   },
   "outputs": [],
   "source": [
    "tickSymbs = dill.load(open('Set_of_Ticker_Symbols.pkl', 'r'))"
   ]
  },
  {
   "cell_type": "code",
   "execution_count": 8,
   "metadata": {
    "collapsed": false
   },
   "outputs": [
    {
     "name": "stdout",
     "output_type": "stream",
     "text": [
      "set([u'VSAR', u'AGN', u'KITE', u'JAZZ', u'KALA', u'NBRV', u'MRK', u'SAGE', u'BPTH', u'AGTC', u'AGEN', u'MRSN', u'ESPR', u'DARE', u'ANIK', u'RETA', u'RARE', u'VNDA', u'BYSI', u'XENT', u'CNAT', u'ALDR', u'DBVT', u'VRTX', u'PRQR', u'AAAP', u'MYL', u'RXDX', u'MBIO', u'AQXP', u'AGLE', u'NVAX', u'DRRX', u'BOLD', u'EXEL', u'IMDZ', u'ALRN', u'FLXN', u'RVNC', u'XNCR', u'XBIT', u'ZFGN', u'JNCE', u'MEIP', u'ADMP', u'CYTR', u'ADMS', u'PBYI', u'OTIC', u'AMRN', u'IOVA', u'CLRB', u'KIND', u'HTBX', u'CEMP', u'KMPH', u'AST', u'TGTX', u'ANAB', u'BHVN', u'ITEK', u'JNJ', u'PSTI', u'SNY', u'ARGX', u'ONCE', u'AMAG', u'AFMD', u'ALXN', u'AXON', u'ARGS', u'HZNP', u'GWPH', u'FGEN', u'REGN', u'GBT', u'BMRN', u'CRMD', u'ARQL', u'LPCN', u'SVRA', u'VCEL', u'GTXI', u'PTGX', u'MRTX', u'ZYNE', u'CLBS', u'LLY', u'MTFB', u'PHMMF', u'PTI', u'DCTH', u'IDRA', u'VTVT', u'ARNA', u'SGMO', u'GALT', u'DVAX', u'TEVA', u'ALNY', u'EIGR', u'SGEN', u'VBLT', u'BMY', u'INVA', u'NVLS', u'EGRX', u'EVOK', u'BIIB', u'VRNA', u'BCRX', u'NBIX', u'CAPR', u'AXSM', u'GLMD', u'GEMP', u'EYEG', u'CPRX', u'IRWD', u'AEZS', u'TCON', u'MDWD', u'RDUS', u'AVEO', u'FBIO', u'AMPH', u'NVS', u'RNN', u'FENC', u'ABBV', u'KPTI', u'ALDX', u'OPHT', u'LXRX', u'KURA', u'TENX', u'AIMT', u'NVO', u'GSK', u'OGEN', u' GSK', u'OPK', u'EBIO', u'HRTX', u'MTNB', u'AGIO', u'SBBP', u'MRUS', u'TOCA', u'SPPI', u'AMGN', u'SPHS', u'CRBP', u'XLRN', u'FOLD', u'ADHD', u'CHMA', u'KERX', u'MBRX', u'SMMT', u'ACOR', u'FCSC', u'ONCS', u'VRX', u'HALO', u'MBVX', u'BLRX', u'AVIR', u'KMDA', u'MCRB', u'LGND', u'LOXO', u'SNDX', u'MDGL', u'CNCE', u'IMGN', u'NVCR', u'CFRX', u'GILD', u'LJPC', u'RGNX', u'VTL', u'MNOV', u'CORT', u'GALE', u'ATRS', u'PRTA', u'CLSD', u'ABUS', u'AZRX', u'INNL', u'PRTO', u'CLSN', u'ALKS', u'BLUE', u' AZN', u'ARDX', u'TXMD', u'CHRS', u'RIGL', u'CLDX', u'EGLT', u' AEZS', u'PLX', u'ADXS', u'VKTX', u'TBPH', u'UTHR', u'NLNK', u'EARS', u'ONTX', u'AZN', u'IONS', u'GNMX', u'AKBA', u'BTX', u'MYOK', u'DERM', u'OCRX', u'ABIO', u'STML', u'SNNA', u'EPZM', u'PGNX', u'CYCC', u'CDTX', u'CTIC', u'OHRP', u'FLKS', u'PTLA', u'BLPH', u'ATNM', u'MRNS', u'OCUL', u'KDMN', u'HSGX', u'PTCT', u'CBIO', u'TTPH', u'MDCO', u'SCYX', u'IMRN', u'CELG', u'ATNX', u'ARRY', u'AKAO', u'PULM', u'RXII', u'OBSV', u'APRI', u'RGLS', u'AERI', u'CORI', u'NEOS', u'RDHL', u'CYTK', u'MESO', u'ANTH', u'TSRO', u'AGRX', u'ICPT', u'DMTX', u'MACK', u'ADRO', u'RHHBY', u'ACRS', u'CATB', u'ZGNX', u'PFE', u'CERC', u'TRVN', u'ACRX', u'IPCI', u'SRNE', u'FOMX', u'VICL', u'GTHX', u'NKTR', u'GERN', u'INCY', u'CALA', u'SNGX', u'SGYP', u'TNXP'])\n"
     ]
    }
   ],
   "source": [
    "print tickSymbs"
   ]
  },
  {
   "cell_type": "markdown",
   "metadata": {},
   "source": [
    "Now lets open my Quandl API key from its hidden and ignored file so nobody scrapes it off my github repo"
   ]
  },
  {
   "cell_type": "code",
   "execution_count": 4,
   "metadata": {
    "collapsed": false,
    "deletable": true,
    "editable": true
   },
   "outputs": [],
   "source": [
    "quandl_key_handle = open(\".quandlKey\", \"r\")\n",
    "quandl_api_key = quandl_key_handle.read()\n",
    "quandl_key_handle.close()"
   ]
  },
  {
   "cell_type": "code",
   "execution_count": null,
   "metadata": {
    "collapsed": true
   },
   "outputs": [],
   "source": []
  }
 ],
 "metadata": {
  "kernelspec": {
   "display_name": "Python 2",
   "language": "python",
   "name": "python2"
  },
  "language_info": {
   "codemirror_mode": {
    "name": "ipython",
    "version": 2
   },
   "file_extension": ".py",
   "mimetype": "text/x-python",
   "name": "python",
   "nbconvert_exporter": "python",
   "pygments_lexer": "ipython2",
   "version": "2.7.13"
  }
 },
 "nbformat": 4,
 "nbformat_minor": 2
}
