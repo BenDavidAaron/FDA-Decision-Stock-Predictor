{
 "cells": [
  {
   "cell_type": "code",
   "execution_count": 2,
   "metadata": {
    "collapsed": true,
    "deletable": true,
    "editable": true
   },
   "outputs": [],
   "source": [
    "import numpy as np\n",
    "import pandas as pd\n",
    "from datetime import datetime\n",
    "from tqdm import tqdm_notebook\n",
    "import dill\n",
    "from tqdm import tqdm_notebook\n",
    "from alpha_vantage.timeseries import TimeSeries"
   ]
  },
  {
   "cell_type": "markdown",
   "metadata": {
    "deletable": true,
    "editable": true
   },
   "source": [
    "After attempting to do things _correctly_ with SQL, I realized I would burn a lot of time teaching myself how to process relatively little data. So I've decided to collect all my data gathering into one notebook, and use Pandas instead of SQLite, because I can stand that up _adequately and quickly_."
   ]
  },
  {
   "cell_type": "markdown",
   "metadata": {
    "deletable": true,
    "editable": true
   },
   "source": [
    "First, lets get the historical PDUFA Dates"
   ]
  },
  {
   "cell_type": "code",
   "execution_count": 3,
   "metadata": {
    "collapsed": true,
    "deletable": true,
    "editable": true
   },
   "outputs": [],
   "source": [
    "from urllib2 import urlopen\n",
    "import ics\n",
    "import re\n",
    "tickerRe = re.compile(r\"\\A[A-Z]{3,4}\\W\")\n",
    "today = datetime.today()"
   ]
  },
  {
   "cell_type": "code",
   "execution_count": 4,
   "metadata": {
    "collapsed": true,
    "deletable": true,
    "editable": true
   },
   "outputs": [],
   "source": [
    "FdaUrl = \"https://calendar.google.com/calendar/ical/5dso8589486irtj53sdkr4h6ek%40group.calendar.google.com/public/basic.ics\""
   ]
  },
  {
   "cell_type": "code",
   "execution_count": 5,
   "metadata": {
    "collapsed": true,
    "deletable": true,
    "editable": true
   },
   "outputs": [],
   "source": [
    "FdaCal = ics.Calendar(urlopen(FdaUrl).read().decode('iso-8859-1'))"
   ]
  },
  {
   "cell_type": "code",
   "execution_count": 6,
   "metadata": {
    "collapsed": false,
    "deletable": true,
    "editable": true
   },
   "outputs": [
    {
     "data": {
      "text/plain": [
       "<Calendar with 551 events>"
      ]
     },
     "execution_count": 6,
     "metadata": {},
     "output_type": "execute_result"
    }
   ],
   "source": [
    "FdaCal"
   ]
  },
  {
   "cell_type": "code",
   "execution_count": 7,
   "metadata": {
    "collapsed": false,
    "deletable": true,
    "editable": true
   },
   "outputs": [
    {
     "name": "stdout",
     "output_type": "stream",
     "text": [
      "\n"
     ]
    }
   ],
   "source": [
    "past_pdufa_syms = set()\n",
    "for event in tqdm_notebook(FdaCal.events):\n",
    "    matches = re.findall(tickerRe, event.name)\n",
    "    if len(matches) >=1:\n",
    "        eComp = str(matches[0]).strip().strip(\".\")\n",
    "        past_pdufa_syms.add(eComp)"
   ]
  },
  {
   "cell_type": "markdown",
   "metadata": {
    "deletable": true,
    "editable": true
   },
   "source": [
    "Thats all the ticker symbols in the past PDUFA list. Lets run the Alpha vantage API."
   ]
  },
  {
   "cell_type": "code",
   "execution_count": 8,
   "metadata": {
    "collapsed": false,
    "deletable": true,
    "editable": true,
    "scrolled": true
   },
   "outputs": [],
   "source": [
    "av_key_handle = open(\"alphavantage.apikey\", \"r\")\n",
    "ts = TimeSeries(key=av_key_handle.read().strip(), output_format='pandas')\n",
    "av_key_handle.close()"
   ]
  },
  {
   "cell_type": "code",
   "execution_count": 9,
   "metadata": {
    "collapsed": false,
    "deletable": true,
    "editable": true
   },
   "outputs": [],
   "source": [
    "dataframes = dict()"
   ]
  },
  {
   "cell_type": "code",
   "execution_count": 10,
   "metadata": {
    "collapsed": false,
    "deletable": true,
    "editable": true
   },
   "outputs": [
    {
     "name": "stdout",
     "output_type": "stream",
     "text": [
      "\n"
     ]
    }
   ],
   "source": [
    "fails = set()\n",
    "wins = set()\n",
    "for ticker in tqdm_notebook(past_pdufa_syms):\n",
    "    try:\n",
    "        df, meta = ts.get_daily(symbol=ticker, outputsize='full')\n",
    "        dataframes[meta[\"2. Symbol\"]] = df\n",
    "    except:\n",
    "        fails.add(ticker)\n",
    "    else:\n",
    "        wins.add(meta[\"2. Symbol\"])"
   ]
  },
  {
   "cell_type": "code",
   "execution_count": 11,
   "metadata": {
    "collapsed": false,
    "deletable": true,
    "editable": true
   },
   "outputs": [
    {
     "name": "stdout",
     "output_type": "stream",
     "text": [
      "52 155\n"
     ]
    }
   ],
   "source": [
    "print len(fails), len(wins)"
   ]
  },
  {
   "cell_type": "markdown",
   "metadata": {
    "deletable": true,
    "editable": true
   },
   "source": [
    "Now we'll run through our past FDA dates and join the FDA actions to each dataframe"
   ]
  },
  {
   "cell_type": "code",
   "execution_count": 12,
   "metadata": {
    "collapsed": false,
    "deletable": true,
    "editable": true
   },
   "outputs": [],
   "source": [
    "companies = dataframes.keys()"
   ]
  },
  {
   "cell_type": "code",
   "execution_count": 13,
   "metadata": {
    "collapsed": false,
    "deletable": true,
    "editable": true
   },
   "outputs": [
    {
     "name": "stdout",
     "output_type": "stream",
     "text": [
      "\n"
     ]
    }
   ],
   "source": [
    "price_and_fda = dict()\n",
    "for company in tqdm_notebook(companies):\n",
    "    company_events = []\n",
    "    for event in FdaCal.events:\n",
    "        matches = re.findall(tickerRe, event.name)\n",
    "        if len(matches)>=1:\n",
    "            if company in matches[0]:\n",
    "                #print company, event.name, event.begin\n",
    "                company_events.append((event.begin.datetime.strftime(\"%Y-%m-%d\"), True))\n",
    "    price = dataframes[company]\n",
    "    raw_dates = pd.DataFrame(company_events, columns = [\"date\", \"pdufa?\"])\n",
    "    dates = raw_dates.set_index(\"date\")\n",
    "    #print dates\n",
    "    #print price\n",
    "    final = price.join(dates,rsuffix='_y')\n",
    "    final['pdufa?'].fillna(value=False, inplace = True)\n",
    "    price_and_fda[company] = final\n",
    "    \n",
    "                "
   ]
  },
  {
   "cell_type": "markdown",
   "metadata": {
    "deletable": true,
    "editable": true
   },
   "source": [
    "So I know this code is seriously inelegant. However since this is just for gathering training data (and I'm far more competent with pandas than SQL) I decided that Programmer time is more needed than computer time in this case."
   ]
  },
  {
   "cell_type": "code",
   "execution_count": 14,
   "metadata": {
    "collapsed": false,
    "deletable": true,
    "editable": true
   },
   "outputs": [
    {
     "data": {
      "text/plain": [
       "2000-01-03    False\n",
       "2000-01-04    False\n",
       "2000-01-05    False\n",
       "2000-01-06    False\n",
       "2000-01-07    False\n",
       "2000-01-10    False\n",
       "2000-01-11    False\n",
       "2000-01-12    False\n",
       "2000-01-13    False\n",
       "2000-01-14    False\n",
       "2000-01-18    False\n",
       "2000-01-19    False\n",
       "2000-01-20    False\n",
       "2000-01-21    False\n",
       "2000-01-24    False\n",
       "2000-01-25    False\n",
       "2000-01-26    False\n",
       "2000-01-27    False\n",
       "2000-01-28    False\n",
       "2000-01-31    False\n",
       "2000-02-01    False\n",
       "2000-02-02    False\n",
       "2000-02-03    False\n",
       "2000-02-04    False\n",
       "2000-02-07    False\n",
       "2000-02-08    False\n",
       "2000-02-09    False\n",
       "2000-02-10    False\n",
       "2000-02-11    False\n",
       "2000-02-14    False\n",
       "              ...  \n",
       "2017-09-25    False\n",
       "2017-09-26    False\n",
       "2017-09-27    False\n",
       "2017-09-28    False\n",
       "2017-09-29    False\n",
       "2017-10-02    False\n",
       "2017-10-03    False\n",
       "2017-10-04    False\n",
       "2017-10-05    False\n",
       "2017-10-06    False\n",
       "2017-10-09    False\n",
       "2017-10-10    False\n",
       "2017-10-11    False\n",
       "2017-10-12    False\n",
       "2017-10-13    False\n",
       "2017-10-16    False\n",
       "2017-10-17    False\n",
       "2017-10-18    False\n",
       "2017-10-19    False\n",
       "2017-10-20    False\n",
       "2017-10-23    False\n",
       "2017-10-24    False\n",
       "2017-10-25    False\n",
       "2017-10-26    False\n",
       "2017-10-27    False\n",
       "2017-10-30    False\n",
       "2017-10-31    False\n",
       "2017-11-01    False\n",
       "2017-11-02    False\n",
       "2017-11-03    False\n",
       "Name: pdufa?, Length: 4490, dtype: bool"
      ]
     },
     "execution_count": 14,
     "metadata": {},
     "output_type": "execute_result"
    }
   ],
   "source": [
    "price_and_fda['MRK']['pdufa?']"
   ]
  },
  {
   "cell_type": "code",
   "execution_count": 15,
   "metadata": {
    "collapsed": true,
    "deletable": true,
    "editable": true
   },
   "outputs": [],
   "source": [
    "dill.dump(price_and_fda, open(\"Prices_and_FDA_Dates.pkl\", \"w\"))"
   ]
  },
  {
   "cell_type": "code",
   "execution_count": null,
   "metadata": {
    "collapsed": true
   },
   "outputs": [],
   "source": []
  }
 ],
 "metadata": {
  "kernelspec": {
   "display_name": "Python 2",
   "language": "python",
   "name": "python2"
  },
  "language_info": {
   "codemirror_mode": {
    "name": "ipython",
    "version": 2
   },
   "file_extension": ".py",
   "mimetype": "text/x-python",
   "name": "python",
   "nbconvert_exporter": "python",
   "pygments_lexer": "ipython2",
   "version": "2.7.13"
  }
 },
 "nbformat": 4,
 "nbformat_minor": 2
}
