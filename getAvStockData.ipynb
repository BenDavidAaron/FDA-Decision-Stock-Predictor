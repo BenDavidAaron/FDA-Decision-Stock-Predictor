{
 "cells": [
  {
   "cell_type": "markdown",
   "metadata": {
    "deletable": true,
    "editable": true
   },
   "source": [
    "# Getting __more__ stock data"
   ]
  },
  {
   "cell_type": "code",
   "execution_count": 1,
   "metadata": {
    "collapsed": true,
    "deletable": true,
    "editable": true
   },
   "outputs": [],
   "source": [
    "import numpy as np\n",
    "import pandas as pd\n",
    "import dill\n",
    "from sqlalchemy import create_engine, inspect\n",
    "from tqdm import tqdm_notebook\n",
    "from alpha_vantage.timeseries import TimeSeries"
   ]
  },
  {
   "cell_type": "markdown",
   "metadata": {
    "deletable": true,
    "editable": true
   },
   "source": [
    "So I'm going to try another API provider, [Alpha Vantage](https://www.alphavantage.co/documentation/), to see if they offer a more complete listing of end of day stock prices. The number to beat is 110 companies.\n",
    "\n",
    "...Lets get started by importing our set of tickers"
   ]
  },
  {
   "cell_type": "code",
   "execution_count": 2,
   "metadata": {
    "collapsed": false,
    "deletable": true,
    "editable": true
   },
   "outputs": [],
   "source": [
    "future_Ticks = dill.load(open('future_ticker_symbols.pkl', 'r'))"
   ]
  },
  {
   "cell_type": "code",
   "execution_count": 3,
   "metadata": {
    "collapsed": true,
    "deletable": true,
    "editable": true
   },
   "outputs": [],
   "source": [
    "past_Ticks = dill.load(open('past_ticker_symbols.pkl', 'r'))"
   ]
  },
  {
   "cell_type": "code",
   "execution_count": 4,
   "metadata": {
    "collapsed": false,
    "deletable": true,
    "editable": true
   },
   "outputs": [],
   "source": [
    "tickSymbs = future_Ticks.union(past_Ticks)"
   ]
  },
  {
   "cell_type": "markdown",
   "metadata": {
    "deletable": true,
    "editable": true
   },
   "source": [
    "...and our Alpha Vantage API key, from an ignored file not pushed to my public repo"
   ]
  },
  {
   "cell_type": "code",
   "execution_count": 5,
   "metadata": {
    "collapsed": true,
    "deletable": true,
    "editable": true
   },
   "outputs": [],
   "source": [
    "av_key_handle = open(\"alphavantage.apikey\", \"r\")\n",
    "ts = TimeSeries(key=av_key_handle.read().strip(), output_format='pandas')\n",
    "av_key_handle.close()"
   ]
  },
  {
   "cell_type": "markdown",
   "metadata": {
    "deletable": true,
    "editable": true
   },
   "source": [
    "...finally we can connect to the sqlite database and start pulling down data"
   ]
  },
  {
   "cell_type": "code",
   "execution_count": 6,
   "metadata": {
    "collapsed": true,
    "deletable": true,
    "editable": true
   },
   "outputs": [],
   "source": [
    "engine = create_engine('sqlite:///training_data.db')"
   ]
  },
  {
   "cell_type": "code",
   "execution_count": 7,
   "metadata": {
    "collapsed": false,
    "deletable": true,
    "editable": true
   },
   "outputs": [
    {
     "name": "stdout",
     "output_type": "stream",
     "text": [
      "\n"
     ]
    }
   ],
   "source": [
    "losers = []\n",
    "winners = []\n",
    "for ticker in tqdm_notebook(tickSymbs):\n",
    "    try:\n",
    "        df, meta = ts.get_daily(symbol=ticker, outputsize='full')\n",
    "        df.to_sql(meta[\"2. Symbol\"], engine, if_exists = 'replace')\n",
    "    except:\n",
    "        losers.append(ticker)\n",
    "    else:\n",
    "        winners.append(meta[\"2. Symbol\"])"
   ]
  },
  {
   "cell_type": "code",
   "execution_count": 9,
   "metadata": {
    "collapsed": false,
    "deletable": true,
    "editable": true
   },
   "outputs": [
    {
     "name": "stdout",
     "output_type": "stream",
     "text": [
      "361 ['ENTA', 'AGN', 'LIFE', 'KITE', 'BSTC', 'AAAP', 'FLML', 'SAGE', 'PAR', 'BPTH', 'AGEN', 'ESPR', 'RETA', 'IRWD', 'VNDA', 'RPTP', 'BYSI', 'ACUR', 'DEPO', 'ARIA', 'CNAT', 'ALDR', 'VRTX', 'THRX', 'HPTX', 'AGLE', 'DRRX', 'EXEL', 'FLXN', 'XBIT', 'JNCE', 'MEIP', 'ADMP', 'ADMS', 'OTIC', 'ACOR', 'CEMP', 'KMPH', 'RLYP', 'ANAB', 'TNXP', 'ITEK', 'JNJ', 'PSTI', 'SNY', 'AMAG', 'AFMD', 'GWPH', 'GBT', 'CRTX', 'CRMD', 'LPCN', 'SVRA', 'VCEL', 'PTGX', 'ADXS', 'PHMMF', 'DCTH', 'AEGR', 'TBPH', 'DVAX', 'SGEN', 'IOVA', 'BHVN', 'NVLS', 'EGRX', 'QCOR', 'AFFY', 'BCRX', 'AXSM', 'GLMD', 'CPRX', 'DBVT', 'RDUS', 'IPXL', 'NGSX', 'RMTI', 'NVS', 'RNN', 'DYAX', 'ALTH', 'ALDX', 'OPHT', 'KURA', 'CBIO', 'NVO', 'MELA', 'OPK', 'EBIO', 'HRTX', 'ONTX', 'MRUS', 'SPPI', 'AMGN', 'CRBP', 'DOR', 'WCRX', 'KTOV', 'SMMT', 'AZN', 'VRX', 'CADX', 'EPIX', 'IGXT', 'HALO', 'MBVX', 'BLRX', 'OREX', 'OPTR', 'LOXO', 'SNDX', 'CNCE', 'IMGN', 'LJPC', 'MNOV', 'GALE', 'ATRS', 'CLSD', 'HEB', 'INNL', 'CLSN', 'TXMD', 'CHRS', 'ALIM', 'GNBT', 'PLX', 'EARS', 'ENDP', 'AKBA', 'MYOK', 'NAVB', 'OCRX', 'INSV', 'INSY', 'EPZM', 'PTCT', 'CYCC', 'FLKS', 'BLPH', 'ATNM', 'MRNS', 'HSGX', 'PGNX', 'TENX', 'MDCO', 'AVNR', 'IMRN', 'CELG', 'ATNX', 'AKRX', 'RXII', 'VTGN', 'PCYC', 'APRI', 'AERI', 'NEOS', 'RDHL', 'CYTK', 'MESO', 'OCUL', 'XNPT', 'ICPT', 'DMTX', 'ADRO', 'ACRS', 'CERC', 'ACRX', 'SRNE', 'SCMP', 'REPH', 'MAPP', 'DRTX', 'INCY', 'ARDX', 'SNGX', 'POZN', 'SGYP', 'PSDV', 'KALA', 'ANIK', 'NBRV', 'ZFGN', 'DNDN', 'AGTC', 'MTNB', 'MRSN', 'ZSPH', 'GSK', 'CLVS', 'ADLR', 'DARE', 'RARE', 'XENT', 'GERN', 'CHMA', 'ASTX', 'AVIR', 'MYL', 'RXDX', 'MBIO', 'PCRX', 'NVAX', 'SNNA', 'BOLD', 'RVNC', 'MRK', 'KPTI', 'ARLZ', 'PBYI', 'AMRN', 'SRPT', 'ITMN', 'ARQL', 'PDLI', 'TGTX', 'VBLT', 'SUPN', 'ALRN', 'ARGX', 'ARGS', 'HZNP', 'REGN', 'SOMX', 'COLL', 'BMRN', 'HTBX', 'GTXI', 'CTIC', 'PULM', 'LLY', 'PTI', 'IDRA', 'VTVT', 'SGMO', 'OSI', 'TEVA', 'ALNY', 'BMY', 'RPRX', 'INVA', 'ANAC', 'EVOK', 'AUXL', 'JAZZ', 'UTHR', 'EYEG', 'AEZS', 'TCON', 'AQXP', 'XNCR', 'FBIO', 'AMPH', 'NPSP', 'CLDA', 'FENC', 'VVUS', 'BTX', 'LXRX', 'NVCR', 'AIMT', 'OGEN', 'GTHX', 'ANTH', 'ACAD', 'AGIO', 'SBBP', 'RGEN', 'TOCA', 'IMDZ', 'SPHS', 'ONXX', 'XLRN', 'CLRB', 'BMTI', 'ADHD', 'NEW', 'PDL', 'MBRX', 'GEMP', 'ISIS', 'AVEO', 'AST', 'ONCS', 'LGND', 'GEVA', 'MDVN', 'MCRB', 'ONCE', 'IONS', 'MDGL', 'CDTX', 'GILD', 'FGEN', 'SHPG', 'RGNX', 'VTL', 'CORT', 'AMLN', 'PRTA', 'OMER', 'ELTP', 'FRX', 'PRTO', 'ALKS', 'BLUE', 'RIGL', 'CHTP', 'MNKD', 'EGLT', 'PTIE', 'CLBS', 'VKTX', 'ARNA', 'MDWD', 'NLNK', 'VRNA', 'GALT', 'SVNT', 'AGRX', 'SLXP', 'GNMX', 'ARDM', 'DERM', 'ABIO', 'STML', 'PATH', 'KMDA', 'OHRP', 'PTLA', 'EIGR', 'BIIB', 'KDMN', 'TTPH', 'SCYX', 'CYTR', 'ARRY', 'AKAO', 'HOLX', 'OBSV', 'RGLS', 'EBS', 'CORI', 'ABBV', 'ALXN', 'TSRO', 'CALA', 'ALXA', 'MACK', 'TRVN', 'CFRX', 'ZGNX', 'PFE', 'CLDX', 'IPCI', 'FOMX', 'VICL', 'BDSI', 'NKTR', 'TTNP', 'KYTH', 'MRTX']\n",
      "21 ['ZGEN', 'HGSI', 'ANX', 'BPAX', 'AIS', 'PPDI', 'CBRX', u'KERX', 'ISTA', 'DSCO', 'VION', 'FURX', 'BIOD', 'APPA', 'TSPT', u'NBIX', u'AXON', 'SNTS', u'KIND', 'CYPB', 'NEOL.']\n"
     ]
    }
   ],
   "source": [
    "print len(winners), winners\n",
    "print len(losers), losers"
   ]
  },
  {
   "cell_type": "markdown",
   "metadata": {
    "deletable": true,
    "editable": true
   },
   "source": [
    "Lets check in the morning how she did, how far back can she read and what % of companies were successfully pulled?"
   ]
  },
  {
   "cell_type": "code",
   "execution_count": 9,
   "metadata": {
    "collapsed": false,
    "deletable": true,
    "editable": true
   },
   "outputs": [
    {
     "name": "stdout",
     "output_type": "stream",
     "text": [
      "361\n",
      "[u'AAAP', u'ABBV', u'ABIO', u'ACAD', u'ACOR', u'ACRS', u'ACRX', u'ACUR', u'ADHD', u'ADLR', u'ADMP', u'ADMS', u'ADRO', u'ADXS', u'AEGR', u'AERI', u'AEZS', u'AFFY', u'AFMD', u'AGEN', u'AGIO', u'AGLE', u'AGN', u'AGRX', u'AGTC', u'AIMT', u'AKAO', u'AKBA', u'AKRX', u'ALDR', u'ALDX', u'ALIM', u'ALKS', u'ALNY', u'ALRN', u'ALTH', u'ALXA', u'ALXN', u'AMAG', u'AMGN', u'AMLN', u'AMPH', u'AMRN', u'ANAB', u'ANAC', u'ANIK', u'ANTH', u'APRI', u'AQXP', u'ARDM', u'ARDX', u'ARGS', u'ARGX', u'ARIA', u'ARLZ', u'ARNA', u'ARQL', u'ARRY', u'AST', u'ASTX', u'ATNM', u'ATNX', u'ATRS', u'AUXL', u'AVEO', u'AVIR', u'AVNR', u'AXON', u'AXSM', u'AZN', u'BCRX', u'BDSI', u'BHVN', u'BIIB', u'BLPH', u'BLRX', u'BLUE', u'BMRN', u'BMTI', u'BMY', u'BOLD', u'BPTH', u'BSTC', u'BTX', u'BYSI', u'CADX', u'CALA', u'CBIO', u'CDTX', u'CELG', u'CEMP', u'CERC', u'CFRX', u'CHMA', u'CHRS', u'CHTP', u'CLBS', u'CLDA', u'CLDX', u'CLRB', u'CLSD', u'CLSN', u'CLVS', u'CNAT', u'CNCE', u'COLL', u'CORI', u'CORT', u'CPRX', u'CRBP', u'CRMD', u'CRTX', u'CTIC', u'CYCC', u'CYTK', u'CYTR', u'DARE', u'DBVT', u'DCTH', u'DEPO', u'DERM', u'DMTX', u'DNDN', u'DOR', u'DRRX', u'DRTX', u'DVAX', u'EARS', u'EBIO', u'EBS', u'EGLT', u'EGRX', u'EIGR', u'ELTP', u'ENDP', u'ENTA', u'EPIX', u'EPZM', u'ESPR', u'EVOK', u'EXEL', u'EYEG', u'FBIO', u'FENC', u'FGEN', u'FLKS', u'FLML', u'FLXN', u'FOMX', u'FRX', u'GALE', u'GALT', u'GBT', u'GEMP', u'GERN', u'GEVA', u'GILD', u'GLMD', u'GNBT', u'GNMX', u'GSK', u'GTHX', u'GTXI', u'GWPH', u'HALO', u'HEB', u'HOLX', u'HPTX', u'HRTX', u'HSGX', u'HTBX', u'HZNP', u'ICPT', u'IDRA', u'IGXT', u'IMDZ', u'IMGN', u'IMRN', u'INCY', u'INNL', u'INSV', u'INSY', u'INVA', u'IONS', u'IOVA', u'IPCI', u'IPXL', u'IRWD', u'ISIS', u'ITEK', u'ITMN', u'JAZZ', u'JNCE', u'JNJ', u'KALA', u'KDMN', u'KERX', u'KITE', u'KMDA', u'KMPH', u'KPTI', u'KTOV', u'KURA', u'KYTH', u'LGND', u'LIFE', u'LJPC', u'LLY', u'LOXO', u'LPCN', u'LXRX', u'MACK', u'MAPP', u'MBIO', u'MBRX', u'MBVX', u'MCRB', u'MDCO', u'MDGL', u'MDVN', u'MDWD', u'MEIP', u'MELA', u'MESO', u'MNKD', u'MNOV', u'MRK', u'MRNS', u'MRSN', u'MRTX', u'MRUS', u'MTNB', u'MYL', u'MYOK', u'NAVB', u'NBRV', u'NEOS', u'NEW', u'NGSX', u'NKTR', u'NLNK', u'NPSP', u'NVAX', u'NVCR', u'NVLS', u'NVO', u'NVS', u'OBSV', u'OCRX', u'OCUL', u'OGEN', u'OHRP', u'OMER', u'ONCE', u'ONCS', u'ONTX', u'ONXX', u'OPHT', u'OPK', u'OPTR', u'OREX', u'OSI', u'OTIC', u'PAR', u'PATH', u'PBYI', u'PCRX', u'PCYC', u'PDL', u'PDLI', u'PFE', u'PGNX', u'PHMMF', u'PLX', u'POZN', u'PRTA', u'PRTO', u'PSDV', u'PSTI', u'PTCT', u'PTGX', u'PTI', u'PTIE', u'PTLA', u'PULM', u'QCOR', u'RARE', u'RDHL', u'RDUS', u'REGN', u'REPH', u'RETA', u'RGEN', u'RGLS', u'RGNX', u'RIGL', u'RLYP', u'RMTI', u'RNN', u'RPRX', u'RPTP', u'RVNC', u'RXDX', u'RXII', u'SAGE', u'SBBP', u'SCMP', u'SCYX', u'SGEN', u'SGMO', u'SGYP', u'SHPG', u'SLXP', u'SMMT', u'SNDX', u'SNGX', u'SNNA', u'SNY', u'SOMX', u'SPHS', u'SPPI', u'SRNE', u'SRPT', u'STML', u'SUPN', u'SVRA', u'TBPH', u'TCON', u'TENX', u'TEVA', u'THRX', u'TNXP', u'TOCA', u'TRVN', u'TSRO', u'TTNP', u'TTPH', u'TXMD', u'UTHR', u'VBLT', u'VCEL', u'VICL', u'VKTX', u'VNDA', u'VRNA', u'VRTX', u'VRX', u'VTGN', u'VTL', u'VTVT', u'VVUS', u'WCRX', u'XBIT', u'XENT', u'XLRN', u'XNCR', u'XNPT', u'ZFGN', u'ZGNX', u'ZSPH', u'historical_pdufas']\n"
     ]
    }
   ],
   "source": [
    "inspector = inspect(engine)\n",
    "print len(inspector.get_table_names())\n",
    "print inspector.get_table_names()"
   ]
  },
  {
   "cell_type": "code",
   "execution_count": null,
   "metadata": {
    "collapsed": true
   },
   "outputs": [],
   "source": []
  }
 ],
 "metadata": {
  "kernelspec": {
   "display_name": "Python 2",
   "language": "python",
   "name": "python2"
  },
  "language_info": {
   "codemirror_mode": {
    "name": "ipython",
    "version": 2
   },
   "file_extension": ".py",
   "mimetype": "text/x-python",
   "name": "python",
   "nbconvert_exporter": "python",
   "pygments_lexer": "ipython2",
   "version": "2.7.13"
  }
 },
 "nbformat": 4,
 "nbformat_minor": 2
}
