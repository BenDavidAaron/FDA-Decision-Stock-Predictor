{
 "cells": [
  {
   "cell_type": "markdown",
   "metadata": {
    "deletable": true,
    "editable": true
   },
   "source": [
    "## Lets go shopping for Stock Ticker Symbols!"
   ]
  },
  {
   "cell_type": "code",
   "execution_count": 1,
   "metadata": {
    "collapsed": false,
    "deletable": true,
    "editable": true
   },
   "outputs": [],
   "source": [
    "import requests\n",
    "from retrying import retry\n",
    "from bs4 import BeautifulSoup\n",
    "import dill\n",
    "from tqdm import tqdm_notebook"
   ]
  },
  {
   "cell_type": "markdown",
   "metadata": {
    "deletable": true,
    "editable": true
   },
   "source": [
    "###### Starting from [BioPharm Catalyst](https://www.biopharmcatalyst.com/calendars/fda-calendar)\n",
    "We can use requests to pull the site, and bs4 to parse, generating a set of stock ticker symbols in `bpcTickers`"
   ]
  },
  {
   "cell_type": "code",
   "execution_count": 2,
   "metadata": {
    "collapsed": false,
    "deletable": true,
    "editable": true
   },
   "outputs": [],
   "source": [
    "bpcReq = requests.get(\"https://www.biopharmcatalyst.com/calendars/fda-calendar\")"
   ]
  },
  {
   "cell_type": "code",
   "execution_count": 3,
   "metadata": {
    "collapsed": false,
    "deletable": true,
    "editable": true
   },
   "outputs": [],
   "source": [
    "bpcSup = BeautifulSoup(bpcReq.text, \"lxml\")"
   ]
  },
  {
   "cell_type": "code",
   "execution_count": 4,
   "metadata": {
    "collapsed": false,
    "deletable": true,
    "editable": true
   },
   "outputs": [],
   "source": [
    "bpcTickers = set()\n",
    "for tag in bpcSup.find_all('a', {'class': 'ticker'}):\n",
    "    bpcTickers.add(tag.text)"
   ]
  },
  {
   "cell_type": "markdown",
   "metadata": {
    "deletable": true,
    "editable": true
   },
   "source": [
    "###### Lets now pull a set from another site\n",
    "How about [valinv](https://www.valinv.com/pdufa/history/1)?\n",
    "This will require requesting multiple pages"
   ]
  },
  {
   "cell_type": "code",
   "execution_count": 5,
   "metadata": {
    "collapsed": true,
    "deletable": true,
    "editable": true
   },
   "outputs": [],
   "source": [
    "import re"
   ]
  },
  {
   "cell_type": "code",
   "execution_count": 6,
   "metadata": {
    "collapsed": false,
    "deletable": true,
    "editable": true
   },
   "outputs": [],
   "source": [
    "valTickers = set()\n",
    "valTagPref = re.compile(r'/stock/[A-Z]{1,5}')\n",
    "#A RegEx for parsing Valinv's links\n",
    "maxPgNum = 4 \n",
    "#This should be the highest numbered page to be requested, plus one, from valinv's FDA calendar \n",
    "#(at time of writing there were pages 1-3 avalible)\n",
    "for pgnum in range(1,maxPgNum):\n",
    "    valReq = requests.get(\"https://www.valinv.com/pdufa/history/%s\" % pgnum)\n",
    "    valSup = BeautifulSoup(valReq.text, \"lxml\")\n",
    "    for tag in valSup.find_all('a', {'href':valTagPref}):\n",
    "        valTickers.add(tag.text)"
   ]
  },
  {
   "cell_type": "markdown",
   "metadata": {
    "deletable": true,
    "editable": true
   },
   "source": [
    "So how many ticker symbols have we gathered?"
   ]
  },
  {
   "cell_type": "markdown",
   "metadata": {
    "deletable": true,
    "editable": true
   },
   "source": [
    "###### Lets pull from another site\n",
    "How about [RTT News](http://www.rttnews.com/CorpInfo/FDACalendar.aspx?PageNum=1)?"
   ]
  },
  {
   "cell_type": "code",
   "execution_count": 13,
   "metadata": {
    "collapsed": true,
    "deletable": true,
    "editable": true
   },
   "outputs": [],
   "source": [
    "rttTickers = set()\n",
    "rttTagPref = re.compile(r'http://www\\.rttnews\\.com/symbolsearch\\.aspx\\?symbol=[A-Z]{1,5}')\n",
    "#A RegEx for parsing RTT's links\n",
    "maxPgNum = 6 \n",
    "#This should be the highest numbered page to be requested, plus one, from RTT's FDA calendar \n",
    "#(at time of writing there were pages 1-5 avalible)\n",
    "for pgnum in range(1,maxPgNum):\n",
    "    rttReq = requests.get(\"http://www.rttnews.com/CorpInfo/FDACalendar.aspx?PageNum=%s\" % pgnum)\n",
    "    rttSup = BeautifulSoup(rttReq.text, \"lxml\")\n",
    "    for tag in rttSup.find_all('a', {'href':rttTagPref}):\n",
    "        rttTickers.add(tag.text)"
   ]
  },
  {
   "cell_type": "code",
   "execution_count": 14,
   "metadata": {
    "collapsed": false,
    "deletable": true,
    "editable": true,
    "scrolled": true
   },
   "outputs": [
    {
     "name": "stdout",
     "output_type": "stream",
     "text": [
      "set([u'XENT', u'AGIO', u'KITE', u'MDCO', u'AMGN', u'PTCT', u'LLY', u'RARE', u'PTLA', u'VRX', u'HALO', u'DVAX', u'TEVA', u'LGND', u'BMY', u'ARRY', u'MYL', u'RHHBY', u'EGRX', u'KMDA', u' AZN', u'GILD', u'JAZZ', u'FLXN', u'KIND', u'NEOS', u'ATRS', u'OCUL', u'TSRO', u'MRK', u'NVS', u'RDUS', u'ADMS', u'PBYI', u'OTIC', u'CELG', u'PFE', u'ABBV', u'IRWD', u'ACRX', u'IPCI', u' AEZS', u' GSK', u'NVO', u'JNJ', u'SGYP'])\n"
     ]
    }
   ],
   "source": [
    "print(rttTickers)"
   ]
  },
  {
   "cell_type": "markdown",
   "metadata": {
    "deletable": true,
    "editable": true
   },
   "source": [
    "###### ...SO?\n",
    "we've got every ticker symbol from the first three sites I found dealing with PDFUA dates, which companies are represented, and how many follows this title"
   ]
  },
  {
   "cell_type": "code",
   "execution_count": 15,
   "metadata": {
    "collapsed": false,
    "deletable": true,
    "editable": true
   },
   "outputs": [],
   "source": [
    "allTicks = set()\n",
    "allTicks.update(valTickers)\n",
    "allTicks.update(bpcTickers)\n",
    "allTicks.update(rttTickers)"
   ]
  },
  {
   "cell_type": "code",
   "execution_count": 19,
   "metadata": {
    "collapsed": false,
    "deletable": true,
    "editable": true,
    "scrolled": true
   },
   "outputs": [
    {
     "name": "stdout",
     "output_type": "stream",
     "text": [
      "284\n"
     ]
    }
   ],
   "source": [
    "print len(allTicks)"
   ]
  },
  {
   "cell_type": "markdown",
   "metadata": {
    "deletable": true,
    "editable": true
   },
   "source": [
    "Okay so we've got our symbols, quandl had issues because some had whitespace. Lets just nip this in the bud back here and be done with it."
   ]
  },
  {
   "cell_type": "code",
   "execution_count": 17,
   "metadata": {
    "collapsed": false,
    "deletable": true,
    "editable": true
   },
   "outputs": [],
   "source": [
    "cleanTicks = set()\n",
    "for tick in allTicks:\n",
    "    cleanTicks.add(tick.strip())"
   ]
  },
  {
   "cell_type": "markdown",
   "metadata": {
    "deletable": true,
    "editable": true
   },
   "source": [
    "Lets pickle this for later use, so we can save my poor cloud box some RAM\n",
    "\n",
    "...we're gonna need it when we start pulling stock prices for all these companies"
   ]
  },
  {
   "cell_type": "code",
   "execution_count": 18,
   "metadata": {
    "collapsed": false,
    "deletable": true,
    "editable": true
   },
   "outputs": [],
   "source": [
    "dill.dump(cleanTicks, open('Set_of_Ticker_Symbols.pkl', 'w'))"
   ]
  },
  {
   "cell_type": "markdown",
   "metadata": {
    "deletable": true,
    "editable": true
   },
   "source": [
    "Thats all to see here folks"
   ]
  }
 ],
 "metadata": {
  "kernelspec": {
   "display_name": "Python 2",
   "language": "python",
   "name": "python2"
  },
  "language_info": {
   "codemirror_mode": {
    "name": "ipython",
    "version": 2
   },
   "file_extension": ".py",
   "mimetype": "text/x-python",
   "name": "python",
   "nbconvert_exporter": "python",
   "pygments_lexer": "ipython2",
   "version": "2.7.13"
  }
 },
 "nbformat": 4,
 "nbformat_minor": 2
}
