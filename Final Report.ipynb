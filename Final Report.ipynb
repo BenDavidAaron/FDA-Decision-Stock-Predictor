{
 "cells": [
  {
   "cell_type": "markdown",
   "metadata": {
    "deletable": true,
    "editable": true
   },
   "source": [
    "# TDI Capstone - Final Report"
   ]
  },
  {
   "cell_type": "markdown",
   "metadata": {
    "deletable": true,
    "editable": true
   },
   "source": [
    "### Abstract:\n",
    "Phase III clincial trials have a massive effect on the market captalizatizations of pharmaceutical companies. A successful phase III trial for a novel drug allows a company to begin marketing drugs to a previously unserved clinical indication, yielding large revenue streams. In order for a drug to pass it must pass through roughly 10 years of Research and be tested on thousands (or tens of thousands) of patients. \n",
    "\n",
    "The long time scales of trials and the sheer numbers of people involved (patients, research scientists, clinicans, research coordinators, goverment regulators...), means that priveleged information regarding trial status has an unusally high level of exposure, compared to other high tech industries. [Recent research](https://academic.oup.com/jnci/article/103/20/1507/904625/Company-Stock-Prices-Before-and-After-Public) suggests that this information exposure can cause detectable movement in this public stock markets. \n",
    "\n",
    "If leaks of priveleged information can affect the valuations of pharmaceutical companies, can the movements of these valutaions be identified using Machine Learning and used to inform smarter trading decisions? "
   ]
  },
  {
   "cell_type": "markdown",
   "metadata": {
    "deletable": true,
    "editable": true
   },
   "source": [
    "### Gathering Data:"
   ]
  },
  {
   "cell_type": "markdown",
   "metadata": {
    "deletable": true,
    "editable": true
   },
   "source": [
    "To start with this problem, we need to select a range of target companies (in the pharma sector), find daily closing prices of thier stocks, and get the dates of thier relevant approval announcements. With this information, I'll attempt to extract features and train a machine learning model. \n",
    "\n",
    "Data Sources: \n",
    "* [fdaTracker.com's free PDUFA Calendar](https://www.fdatracker.com/fda-calendar/)\n",
    "* [Biopharm Catalyst's upcoming PDUFA Calendar](https://www.biopharmcatalyst.com/calendars/fda-calendar)\n",
    "* [AlphaVantage's Stock Price API](https://www.alphavantage.co/)"
   ]
  },
  {
   "cell_type": "markdown",
   "metadata": {
    "deletable": true,
    "editable": true
   },
   "source": [
    "###### First:\n",
    "First, lets get the historical PDUFA (FDA announcement) Dates:"
   ]
  },
  {
   "cell_type": "code",
   "execution_count": 1,
   "metadata": {
    "collapsed": false,
    "deletable": true,
    "editable": true
   },
   "outputs": [],
   "source": [
    "from urllib2 import urlopen\n",
    "import ics\n",
    "import re\n",
    "from datetime import datetime, timedelta\n",
    "from alpha_vantage.timeseries import TimeSeries\n",
    "from tqdm import tqdm_notebook\n",
    "import numpy as np\n",
    "import pandas as pd\n",
    "import dill\n",
    "from random import randint"
   ]
  },
  {
   "cell_type": "code",
   "execution_count": 2,
   "metadata": {
    "collapsed": false,
    "deletable": true,
    "editable": true
   },
   "outputs": [
    {
     "data": {
      "text/plain": [
       "<Calendar with 552 events>"
      ]
     },
     "execution_count": 2,
     "metadata": {},
     "output_type": "execute_result"
    }
   ],
   "source": [
    "tickerRe = re.compile(r\"\\A[A-Z]{3,4}\\W\")\n",
    "today = datetime.today()\n",
    "\n",
    "FdaUrl = \"https://calendar.google.com/calendar/ical/5dso8589486irtj53sdkr4h6ek%40group.calendar.google.com/public/basic.ics\"\n",
    "FdaCal = ics.Calendar(urlopen(FdaUrl).read().decode('iso-8859-1'))\n",
    "FdaCal"
   ]
  },
  {
   "cell_type": "code",
   "execution_count": 3,
   "metadata": {
    "collapsed": false,
    "deletable": true,
    "editable": true
   },
   "outputs": [],
   "source": [
    "past_pdufa_syms = set()\n",
    "for event in FdaCal.events:\n",
    "    matches = re.findall(tickerRe, event.name)\n",
    "    if len(matches) >=1:\n",
    "        eComp = str(matches[0]).strip().strip(\".\")\n",
    "        past_pdufa_syms.add(eComp)"
   ]
  },
  {
   "cell_type": "code",
   "execution_count": 4,
   "metadata": {
    "collapsed": false,
    "deletable": true,
    "editable": true
   },
   "outputs": [
    {
     "name": "stdout",
     "output_type": "stream",
     "text": [
      "set(['ENTA', 'AAAP', 'PAR', 'KITE', 'BSTC', 'DNDN', 'ELTP', 'ZSPH', 'GSK', 'CLVS', 'ADLR', 'XENT', 'IRWD', 'VNDA', 'RPTP', 'ACUR', 'DEPO', 'ARIA', 'CHMA', 'VRTX', 'OREX', 'THRX', 'HPTX', 'PCRX', 'ENDP', 'NAVB', 'DRRX', 'OTIC', 'EXEL', 'FLXN', 'ZGEN', 'DSCO', 'SRPT', 'PSDV', 'BCRX', 'MRK', 'ADMP', 'ADMS', 'ISTA', 'AMRN', 'BMY', 'ITMN', 'CEMP', 'KMPH', 'RLYP', 'ANAC', 'SUPN', 'JNJ', 'AERI', 'SNY', 'VION', 'AMAG', 'HZNP', 'REGN', 'SOMX', 'COLL', 'CRTX', 'LPCN', 'VCEL', 'GTXI', 'CTIC', 'LLY', 'AFFY', 'CYPB', 'HGSI', 'OCUL', 'AEGR', 'HOLX', 'OSI', 'DVAX', 'TEVA', 'SGEN', 'TTNP', 'ACOR', 'RPRX', 'EGRX', 'JAZZ', 'AUXL', 'QCOR', 'FLML', 'NEOS', 'AGRX', 'RARE', 'RDUS', 'NGSX', 'RMTI', 'NPSP', 'CLDA', 'DYAX', 'ALTH', 'ARLZ', 'VVUS', 'LXRX', 'NVO', 'MELA', 'ANX', 'SCMP', 'POZN', 'HRTX', 'ACAD', 'AGIO', 'TSRO', 'RGEN', 'FURX', 'SPPI', 'AMGN', 'ONXX', 'BMTI', 'BPAX', 'REPH', 'DOR', 'NEW', 'WCRX', 'ASTX', 'KTOV', 'ISIS', 'AVEO', 'BIOD', 'GNBT', 'VRX', 'IGXT', 'LGND', 'MDVN', 'AMLN', 'OMER', 'KMDA', 'APPA', 'OPTR', 'SLXP', 'AVNR', 'TSPT', 'GILD', 'LJPC', 'SHPG', 'GEVA', 'CORI', 'CORT', 'ATRS', 'ZGNX', 'HEB', 'NVS', 'FRX', 'EPIX', 'TXMD', 'ALIM', 'RIGL', 'CHTP', 'EGLT', 'PTIE', 'PLX', 'ARNA', 'BMRN', 'ONCE', 'IPCI', 'AZN', 'CADX', 'SRNE', 'AIS', 'NBIX', 'DERM', 'ABIO', 'INSV', 'INSY', 'PATH', 'PGNX', 'IMGN', 'PPDI', 'PTLA', 'KERX', 'INCY', 'BIIB', 'MAPP', 'PTCT', 'MDCO', 'CELG', 'PDLI', 'ARRY', 'AKRX', 'SNTS', 'CBRX', 'PCYC', 'APRI', 'UTHR', 'NEOL', 'AEZS', 'ABBV', 'RDHL', 'ACRS', 'ALXN', 'XNPT', 'ICPT', 'SVNT', 'ALXA', 'MACK', 'MNKD', 'IPXL', 'PFE', 'ALKS', 'ACRX', 'DCTH', 'ARDM', 'BDSI', 'PDL', 'DRTX', 'EBS', 'KYTH', 'OPK', 'SGYP'])\n"
     ]
    }
   ],
   "source": [
    "print past_pdufa_syms"
   ]
  },
  {
   "cell_type": "code",
   "execution_count": 5,
   "metadata": {
    "collapsed": false,
    "deletable": true,
    "editable": true
   },
   "outputs": [],
   "source": [
    "av_key_handle = open(\"alphavantage.apikey\", \"r\")\n",
    "ts = TimeSeries(key=av_key_handle.read().strip(), output_format='pandas')\n",
    "av_key_handle.close()"
   ]
  },
  {
   "cell_type": "code",
   "execution_count": 6,
   "metadata": {
    "collapsed": false,
    "deletable": true,
    "editable": true,
    "scrolled": true
   },
   "outputs": [
    {
     "name": "stdout",
     "output_type": "stream",
     "text": [
      "\n"
     ]
    }
   ],
   "source": [
    "dataframes = dict()\n",
    "value_errors = set()\n",
    "other_errors = set()\n",
    "for ticker in tqdm_notebook(past_pdufa_syms):\n",
    "    try:\n",
    "        df, meta = ts.get_daily(symbol=ticker, outputsize='full')\n",
    "        dataframes[meta[\"2. Symbol\"]] = df\n",
    "    except ValueError:\n",
    "        value_errors.add(ticker)\n",
    "    except:\n",
    "        other_errors.add(ticker)"
   ]
  },
  {
   "cell_type": "code",
   "execution_count": 7,
   "metadata": {
    "collapsed": false,
    "deletable": true,
    "editable": true
   },
   "outputs": [
    {
     "name": "stdout",
     "output_type": "stream",
     "text": [
      "set(['VION', 'FURX', 'DNDN', 'GEVA', 'BPAX', 'INSV', 'ZSPH', 'WCRX', 'ADLR', 'CBRX', 'PPDI', 'ISIS', 'CYPB', 'HGSI', 'PCYC', 'THRX', 'MDVN', 'HPTX', 'APPA', 'SLXP', 'SNTS', 'AVNR', 'AUXL', 'TSPT', 'QCOR', 'FLML', 'NEOL', 'ZGEN', 'DSCO', 'XNPT', 'SVNT', 'ALXA', 'FRX', 'NGSX', 'ISTA', 'NPSP', 'CLDA', 'BIOD', 'DYAX', 'CHTP', 'ITMN', 'RLYP', 'ANAC', 'DRTX', 'KYTH', 'MELA', 'ANX', 'POZN'])\n",
      "set([])\n"
     ]
    }
   ],
   "source": [
    "print value_errors\n",
    "print other_errors"
   ]
  },
  {
   "cell_type": "code",
   "execution_count": 8,
   "metadata": {
    "collapsed": false,
    "deletable": true,
    "editable": true
   },
   "outputs": [],
   "source": [
    "dill.dump(dataframes, open('final_raw_dataframe_dict.pkl', 'w'))"
   ]
  },
  {
   "cell_type": "markdown",
   "metadata": {
    "deletable": true,
    "editable": true
   },
   "source": [
    "###### Mini Checkpoint for slow API calls"
   ]
  },
  {
   "cell_type": "code",
   "execution_count": 9,
   "metadata": {
    "collapsed": false,
    "deletable": true,
    "editable": true,
    "scrolled": true
   },
   "outputs": [],
   "source": [
    "dataframes = dill.load(open('final_raw_dataframe_dict.pkl', 'r'))"
   ]
  },
  {
   "cell_type": "markdown",
   "metadata": {
    "deletable": true,
    "editable": true
   },
   "source": [
    "Now we'll run through our past FDA dates and join the FDA actions to each dataframe"
   ]
  },
  {
   "cell_type": "code",
   "execution_count": 10,
   "metadata": {
    "collapsed": false,
    "deletable": true,
    "editable": true
   },
   "outputs": [],
   "source": [
    "company_list = dataframes.keys()"
   ]
  },
  {
   "cell_type": "code",
   "execution_count": 11,
   "metadata": {
    "collapsed": false,
    "deletable": true,
    "editable": true
   },
   "outputs": [
    {
     "name": "stdout",
     "output_type": "stream",
     "text": [
      "\n"
     ]
    }
   ],
   "source": [
    "price_and_fda = dict()\n",
    "for company in tqdm_notebook(company_list):\n",
    "    company_events = []\n",
    "    for event in FdaCal.events:\n",
    "        matches = re.findall(tickerRe, event.name)\n",
    "        if len(matches)>=1:\n",
    "            if company in matches[0]:\n",
    "                company_events.append((event.begin.datetime.strftime(\"%Y-%m-%d\"), True))\n",
    "    price = dataframes[company]\n",
    "    raw_dates = pd.DataFrame(company_events, columns = [\"date\", \"pdufa?\"])\n",
    "    dates = raw_dates.set_index(\"date\")\n",
    "    final = price.join(dates,rsuffix='_y')\n",
    "    final['pdufa?'].fillna(value=False, inplace = True)\n",
    "    price_and_fda[company] = final"
   ]
  },
  {
   "cell_type": "markdown",
   "metadata": {
    "deletable": true,
    "editable": true
   },
   "source": [
    "That leaves us with a dict of dataframes containing every company's stock price, and FDA action dates"
   ]
  },
  {
   "cell_type": "code",
   "execution_count": 12,
   "metadata": {
    "collapsed": false,
    "deletable": true,
    "editable": true
   },
   "outputs": [
    {
     "data": {
      "text/html": [
       "<div>\n",
       "<style>\n",
       "    .dataframe thead tr:only-child th {\n",
       "        text-align: right;\n",
       "    }\n",
       "\n",
       "    .dataframe thead th {\n",
       "        text-align: left;\n",
       "    }\n",
       "\n",
       "    .dataframe tbody tr th {\n",
       "        vertical-align: top;\n",
       "    }\n",
       "</style>\n",
       "<table border=\"1\" class=\"dataframe\">\n",
       "  <thead>\n",
       "    <tr style=\"text-align: right;\">\n",
       "      <th></th>\n",
       "      <th>volume</th>\n",
       "      <th>close</th>\n",
       "      <th>high</th>\n",
       "      <th>open</th>\n",
       "      <th>low</th>\n",
       "      <th>pdufa?</th>\n",
       "    </tr>\n",
       "  </thead>\n",
       "  <tbody>\n",
       "    <tr>\n",
       "      <th>2013-03-21</th>\n",
       "      <td>1763600.0</td>\n",
       "      <td>17.18</td>\n",
       "      <td>17.85</td>\n",
       "      <td>14.51</td>\n",
       "      <td>14.31</td>\n",
       "      <td>False</td>\n",
       "    </tr>\n",
       "    <tr>\n",
       "      <th>2013-03-22</th>\n",
       "      <td>75200.0</td>\n",
       "      <td>16.81</td>\n",
       "      <td>17.57</td>\n",
       "      <td>17.57</td>\n",
       "      <td>16.71</td>\n",
       "      <td>False</td>\n",
       "    </tr>\n",
       "    <tr>\n",
       "      <th>2013-03-25</th>\n",
       "      <td>24100.0</td>\n",
       "      <td>16.83</td>\n",
       "      <td>17.40</td>\n",
       "      <td>17.40</td>\n",
       "      <td>16.80</td>\n",
       "      <td>False</td>\n",
       "    </tr>\n",
       "  </tbody>\n",
       "</table>\n",
       "</div>"
      ],
      "text/plain": [
       "               volume  close   high   open    low  pdufa?\n",
       "2013-03-21  1763600.0  17.18  17.85  14.51  14.31   False\n",
       "2013-03-22    75200.0  16.81  17.57  17.57  16.71   False\n",
       "2013-03-25    24100.0  16.83  17.40  17.40  16.80   False"
      ]
     },
     "execution_count": 12,
     "metadata": {},
     "output_type": "execute_result"
    }
   ],
   "source": [
    "price_and_fda['ENTA'].head(3)"
   ]
  },
  {
   "cell_type": "markdown",
   "metadata": {
    "deletable": true,
    "editable": true
   },
   "source": [
    "Now that I've got a good crop of downloaded data, lets cache it for good measure. "
   ]
  },
  {
   "cell_type": "code",
   "execution_count": 13,
   "metadata": {
    "collapsed": false,
    "deletable": true,
    "editable": true
   },
   "outputs": [],
   "source": [
    "dill.dump(price_and_fda, open(\"final_Prices_and_PDUFAs.pkl\", \"w\"))"
   ]
  },
  {
   "cell_type": "markdown",
   "metadata": {
    "deletable": true,
    "editable": true
   },
   "source": [
    "### Checkpoint 1 - FDA Action Dates Joined to Equity Prices"
   ]
  },
  {
   "cell_type": "code",
   "execution_count": 14,
   "metadata": {
    "collapsed": false,
    "deletable": true,
    "editable": true
   },
   "outputs": [],
   "source": [
    "price_and_fda = dill.load(open(\"final_Prices_and_PDUFAs.pkl\", \"r\"))"
   ]
  },
  {
   "cell_type": "markdown",
   "metadata": {
    "deletable": true,
    "editable": true
   },
   "source": [
    "So thats every company's stock prices, with PDUFA dates going back to around 2006, and pricing data going back to 2001. More than enough data for our analysis. \n",
    "\n",
    "Lets unify all the prices into one frame, to construct a pharmaceutical price index. This will give us a base price to normalize our stock prices against, insulating our model from general economic events (the '08 housing crash) or events affecting the whole pharmaceutical sector (passage of new FDA regulations). "
   ]
  },
  {
   "cell_type": "code",
   "execution_count": 15,
   "metadata": {
    "collapsed": false,
    "deletable": true,
    "editable": true
   },
   "outputs": [],
   "source": [
    "first = True\n",
    "for ticker, comp_df in price_and_fda.iteritems():\n",
    "    if first:\n",
    "        market_df = comp_df.copy()\n",
    "        market_df.columns = [\"volume-\"+ticker,\n",
    "                             \"close-\"+ticker,\n",
    "                             \"high-\"+ticker,\n",
    "                             \"open-\"+ticker,\n",
    "                             \"low-\"+ticker,\n",
    "                             \"pdufa?-\"+ticker]\n",
    "        first = False\n",
    "    else:\n",
    "        market_df = pd.merge(market_df, comp_df, how='outer', left_index=True, right_index=True, suffixes=('', '-'+ticker))"
   ]
  },
  {
   "cell_type": "code",
   "execution_count": 16,
   "metadata": {
    "collapsed": false,
    "deletable": true,
    "editable": true
   },
   "outputs": [],
   "source": [
    "price_mean = market_df.filter(regex='close').mean(axis = 1, skipna = True)\n",
    "price_stdv = market_df.filter(regex='close').std(axis = 1, skipna = True)"
   ]
  },
  {
   "cell_type": "code",
   "execution_count": 17,
   "metadata": {
    "collapsed": true,
    "deletable": true,
    "editable": true
   },
   "outputs": [],
   "source": [
    "stats_df = pd.merge(price_mean.to_frame(),\n",
    "                    price_stdv.to_frame(), \n",
    "                    left_index=True, \n",
    "                    right_index=True, \n",
    "                    how='inner')\n",
    "stats_df.rename(columns={u'0_x':\"CP_mean\", u'0_y':\"CP_stdv\"}, inplace=True)"
   ]
  },
  {
   "cell_type": "code",
   "execution_count": 18,
   "metadata": {
    "collapsed": false,
    "deletable": true,
    "editable": true
   },
   "outputs": [
    {
     "data": {
      "text/html": [
       "<div>\n",
       "<style>\n",
       "    .dataframe thead tr:only-child th {\n",
       "        text-align: right;\n",
       "    }\n",
       "\n",
       "    .dataframe thead th {\n",
       "        text-align: left;\n",
       "    }\n",
       "\n",
       "    .dataframe tbody tr th {\n",
       "        vertical-align: top;\n",
       "    }\n",
       "</style>\n",
       "<table border=\"1\" class=\"dataframe\">\n",
       "  <thead>\n",
       "    <tr style=\"text-align: right;\">\n",
       "      <th></th>\n",
       "      <th>CP_mean</th>\n",
       "      <th>CP_stdv</th>\n",
       "    </tr>\n",
       "  </thead>\n",
       "  <tbody>\n",
       "    <tr>\n",
       "      <th>2000-01-03</th>\n",
       "      <td>26.047255</td>\n",
       "      <td>28.436582</td>\n",
       "    </tr>\n",
       "    <tr>\n",
       "      <th>2000-01-04</th>\n",
       "      <td>24.696149</td>\n",
       "      <td>27.097988</td>\n",
       "    </tr>\n",
       "    <tr>\n",
       "      <th>2000-01-05</th>\n",
       "      <td>24.816816</td>\n",
       "      <td>27.233825</td>\n",
       "    </tr>\n",
       "    <tr>\n",
       "      <th>2000-01-06</th>\n",
       "      <td>25.208395</td>\n",
       "      <td>27.425298</td>\n",
       "    </tr>\n",
       "    <tr>\n",
       "      <th>2000-01-07</th>\n",
       "      <td>27.311931</td>\n",
       "      <td>30.537949</td>\n",
       "    </tr>\n",
       "  </tbody>\n",
       "</table>\n",
       "</div>"
      ],
      "text/plain": [
       "              CP_mean    CP_stdv\n",
       "2000-01-03  26.047255  28.436582\n",
       "2000-01-04  24.696149  27.097988\n",
       "2000-01-05  24.816816  27.233825\n",
       "2000-01-06  25.208395  27.425298\n",
       "2000-01-07  27.311931  30.537949"
      ]
     },
     "execution_count": 18,
     "metadata": {},
     "output_type": "execute_result"
    }
   ],
   "source": [
    "stats_df.head()"
   ]
  },
  {
   "cell_type": "markdown",
   "metadata": {
    "deletable": true,
    "editable": true
   },
   "source": [
    "This is as good a place as any to cache the closing price index"
   ]
  },
  {
   "cell_type": "code",
   "execution_count": 19,
   "metadata": {
    "collapsed": true,
    "deletable": true,
    "editable": true
   },
   "outputs": [],
   "source": [
    "dill.dump(stats_df, open(\"close_price_stats_frame_final.pkl\", \"w\"))"
   ]
  },
  {
   "cell_type": "markdown",
   "metadata": {
    "deletable": true,
    "editable": true
   },
   "source": [
    "### Checkpoint 2"
   ]
  },
  {
   "cell_type": "code",
   "execution_count": 20,
   "metadata": {
    "collapsed": true,
    "deletable": true,
    "editable": true
   },
   "outputs": [],
   "source": [
    "stats_df = dill.load(open(\"close_price_stats_frame_final.pkl\", \"r\"))"
   ]
  },
  {
   "cell_type": "markdown",
   "metadata": {
    "deletable": true,
    "editable": true
   },
   "source": [
    "Now I have the mean and standard deviation of close prices (`stats_df`) for every day of my data coverage. This will make it easy to normalize prices for every slice of time relevant to an FDA trial. \n",
    "\n",
    "Time to cut time slices for each clinical trial and generate a population of clinical trials and normalized prices."
   ]
  },
  {
   "cell_type": "code",
   "execution_count": 21,
   "metadata": {
    "collapsed": false,
    "deletable": true,
    "editable": true,
    "scrolled": true
   },
   "outputs": [
    {
     "name": "stdout",
     "output_type": "stream",
     "text": [
      "\n"
     ]
    }
   ],
   "source": [
    "norm_data = []\n",
    "for company in tqdm_notebook(company_list):\n",
    "    df = price_and_fda[company].join(stats_df, how='left').reset_index()\n",
    "    pdufa_dates = df.index[df['pdufa?']].tolist()\n",
    "    if len(pdufa_dates) > 0:\n",
    "        for date in pdufa_dates:\n",
    "            pRange = range(date-120, date-7)\n",
    "            pCloses, pVolumes = [], []\n",
    "            for i in pRange:\n",
    "                try:\n",
    "                    close_price = df.loc[i]['close']\n",
    "                    volume = df.loc[i]['volume']\n",
    "                    mean_price = df.loc[i]['CP_mean']\n",
    "                    stdv_price = df.loc[i]['CP_stdv']\n",
    "                    pCloses.append(( df.loc[i]['index'],(close_price-mean_price)/(stdv_price) ))\n",
    "                    pVolumes.append(( df.loc[i]['index'], volume ))\n",
    "                except:\n",
    "                    pCloses.append(None)\n",
    "                    pVolumes.append(None)\n",
    "            norm_data.append((company, df.loc[date]['index'], (pCloses, pVolumes)))"
   ]
  },
  {
   "cell_type": "markdown",
   "metadata": {
    "deletable": true,
    "editable": true
   },
   "source": [
    "Well we have normalized slices, lets add the annotations from our score sheet"
   ]
  },
  {
   "cell_type": "code",
   "execution_count": 22,
   "metadata": {
    "collapsed": true,
    "deletable": true,
    "editable": true
   },
   "outputs": [],
   "source": [
    "scores = [line.split() for line in open(\"score_sheet_complete.txt\", \"r\").readlines()]"
   ]
  },
  {
   "cell_type": "code",
   "execution_count": 23,
   "metadata": {
    "collapsed": false,
    "deletable": true,
    "editable": true
   },
   "outputs": [
    {
     "name": "stdout",
     "output_type": "stream",
     "text": [
      "\n"
     ]
    }
   ],
   "source": [
    "norm_data_annotated = []\n",
    "mismatches = []\n",
    "for datum in tqdm_notebook(norm_data):\n",
    "    for score in scores:\n",
    "        if datum[0] == score [0] and datum [1] == score[1]:\n",
    "            norm_data_annotated.append((datum[0], datum[1], score[2], datum[2] ))\n",
    "            break"
   ]
  },
  {
   "cell_type": "code",
   "execution_count": 24,
   "metadata": {
    "collapsed": false,
    "deletable": true,
    "editable": true
   },
   "outputs": [],
   "source": [
    "dill.dump(norm_data_annotated, open(\"normalized_training_data.pkl\", \"w\"))"
   ]
  },
  {
   "cell_type": "markdown",
   "metadata": {
    "deletable": true,
    "editable": true
   },
   "source": [
    "### Checkpoint 3"
   ]
  },
  {
   "cell_type": "code",
   "execution_count": 25,
   "metadata": {
    "collapsed": true,
    "deletable": true,
    "editable": true
   },
   "outputs": [],
   "source": [
    "norm_data_annotated = dill.load(open(\"normalized_training_data.pkl\", \"r\"))"
   ]
  },
  {
   "cell_type": "markdown",
   "metadata": {
    "collapsed": true,
    "deletable": true,
    "editable": true
   },
   "source": [
    "Now we have normalized stock prices, in 120-7 day slices prior to FDA action dates. Lets pull those back into smaller pandas frames for feature extraction. "
   ]
  },
  {
   "cell_type": "code",
   "execution_count": 26,
   "metadata": {
    "collapsed": true,
    "deletable": true,
    "editable": true
   },
   "outputs": [],
   "source": [
    "def assemble_frame(datum):\n",
    "    df = pd.DataFrame(datum[3][0], columns=['date','norm_price'])\n",
    "    df['event'] = datum[0]+\"/\"+datum[1]\n",
    "    df['outcome'] = int(datum[2])\n",
    "    return df"
   ]
  },
  {
   "cell_type": "code",
   "execution_count": 27,
   "metadata": {
    "collapsed": false,
    "deletable": true,
    "editable": true
   },
   "outputs": [
    {
     "name": "stdout",
     "output_type": "stream",
     "text": [
      "COLL 2015-10-12 failed\n",
      "NEOS 2015-11-09 failed\n",
      "\n"
     ]
    }
   ],
   "source": [
    "first = True\n",
    "\n",
    "for line in tqdm_notebook(norm_data_annotated):\n",
    "    try:\n",
    "        if first:\n",
    "            agg_data = assemble_frame(line)\n",
    "            first = False\n",
    "        else:\n",
    "            tmp_data = assemble_frame(line)\n",
    "            agg_data = pd.concat([agg_data, tmp_data],ignore_index=True)\n",
    "    except:\n",
    "        print line[0], line[1], \"failed\""
   ]
  },
  {
   "cell_type": "code",
   "execution_count": 28,
   "metadata": {
    "collapsed": true,
    "deletable": true,
    "editable": true
   },
   "outputs": [],
   "source": [
    "agg_data['date_stamp'] = pd.to_datetime(agg_data['date'])\n",
    "event_labels = pd.factorize(agg_data['event'])\n",
    "agg_data[\"event_stamp\"] = event_labels[0]"
   ]
  },
  {
   "cell_type": "markdown",
   "metadata": {
    "deletable": true,
    "editable": true
   },
   "source": [
    "Now lets remove out the trials will null prices on some days (either due to acquisitions or bankruptcies). "
   ]
  },
  {
   "cell_type": "code",
   "execution_count": 29,
   "metadata": {
    "collapsed": true,
    "deletable": true,
    "editable": true
   },
   "outputs": [],
   "source": [
    "agg_data['null'] = pd.isnull(agg_data).apply(lambda x: sum(x) , axis=1)\n",
    "cleaned_agg = agg_data[agg_data['null'] == 0]"
   ]
  },
  {
   "cell_type": "code",
   "execution_count": 30,
   "metadata": {
    "collapsed": false,
    "deletable": true,
    "editable": true
   },
   "outputs": [
    {
     "data": {
      "text/html": [
       "<div>\n",
       "<style>\n",
       "    .dataframe thead tr:only-child th {\n",
       "        text-align: right;\n",
       "    }\n",
       "\n",
       "    .dataframe thead th {\n",
       "        text-align: left;\n",
       "    }\n",
       "\n",
       "    .dataframe tbody tr th {\n",
       "        vertical-align: top;\n",
       "    }\n",
       "</style>\n",
       "<table border=\"1\" class=\"dataframe\">\n",
       "  <thead>\n",
       "    <tr style=\"text-align: right;\">\n",
       "      <th></th>\n",
       "      <th>date</th>\n",
       "      <th>norm_price</th>\n",
       "      <th>event</th>\n",
       "      <th>outcome</th>\n",
       "      <th>date_stamp</th>\n",
       "      <th>event_stamp</th>\n",
       "      <th>null</th>\n",
       "    </tr>\n",
       "  </thead>\n",
       "  <tbody>\n",
       "    <tr>\n",
       "      <th>0</th>\n",
       "      <td>2015-12-08</td>\n",
       "      <td>-0.125217</td>\n",
       "      <td>AAAP/2016-06-01</td>\n",
       "      <td>1</td>\n",
       "      <td>2015-12-08</td>\n",
       "      <td>0</td>\n",
       "      <td>0</td>\n",
       "    </tr>\n",
       "    <tr>\n",
       "      <th>1</th>\n",
       "      <td>2015-12-09</td>\n",
       "      <td>-0.119686</td>\n",
       "      <td>AAAP/2016-06-01</td>\n",
       "      <td>1</td>\n",
       "      <td>2015-12-09</td>\n",
       "      <td>0</td>\n",
       "      <td>0</td>\n",
       "    </tr>\n",
       "    <tr>\n",
       "      <th>2</th>\n",
       "      <td>2015-12-10</td>\n",
       "      <td>-0.118359</td>\n",
       "      <td>AAAP/2016-06-01</td>\n",
       "      <td>1</td>\n",
       "      <td>2015-12-10</td>\n",
       "      <td>0</td>\n",
       "      <td>0</td>\n",
       "    </tr>\n",
       "    <tr>\n",
       "      <th>3</th>\n",
       "      <td>2015-12-11</td>\n",
       "      <td>-0.110503</td>\n",
       "      <td>AAAP/2016-06-01</td>\n",
       "      <td>1</td>\n",
       "      <td>2015-12-11</td>\n",
       "      <td>0</td>\n",
       "      <td>0</td>\n",
       "    </tr>\n",
       "    <tr>\n",
       "      <th>4</th>\n",
       "      <td>2015-12-14</td>\n",
       "      <td>-0.102528</td>\n",
       "      <td>AAAP/2016-06-01</td>\n",
       "      <td>1</td>\n",
       "      <td>2015-12-14</td>\n",
       "      <td>0</td>\n",
       "      <td>0</td>\n",
       "    </tr>\n",
       "  </tbody>\n",
       "</table>\n",
       "</div>"
      ],
      "text/plain": [
       "         date  norm_price            event  outcome date_stamp  event_stamp  \\\n",
       "0  2015-12-08   -0.125217  AAAP/2016-06-01        1 2015-12-08            0   \n",
       "1  2015-12-09   -0.119686  AAAP/2016-06-01        1 2015-12-09            0   \n",
       "2  2015-12-10   -0.118359  AAAP/2016-06-01        1 2015-12-10            0   \n",
       "3  2015-12-11   -0.110503  AAAP/2016-06-01        1 2015-12-11            0   \n",
       "4  2015-12-14   -0.102528  AAAP/2016-06-01        1 2015-12-14            0   \n",
       "\n",
       "   null  \n",
       "0     0  \n",
       "1     0  \n",
       "2     0  \n",
       "3     0  \n",
       "4     0  "
      ]
     },
     "execution_count": 30,
     "metadata": {},
     "output_type": "execute_result"
    }
   ],
   "source": [
    "cleaned_agg.head()"
   ]
  },
  {
   "cell_type": "code",
   "execution_count": 31,
   "metadata": {
    "collapsed": true,
    "deletable": true,
    "editable": true
   },
   "outputs": [],
   "source": [
    "dill.dump(cleaned_agg, open('final_cleaned_price_slices.pkl', 'w'))"
   ]
  },
  {
   "cell_type": "markdown",
   "metadata": {
    "deletable": true,
    "editable": true
   },
   "source": [
    "### Checkpoint 3 - Training data preprocessed"
   ]
  },
  {
   "cell_type": "code",
   "execution_count": 32,
   "metadata": {
    "collapsed": true,
    "deletable": true,
    "editable": true
   },
   "outputs": [],
   "source": [
    "cleaned_agg = dill.load(open('final_cleaned_price_slices.pkl', 'r'))"
   ]
  },
  {
   "cell_type": "markdown",
   "metadata": {
    "deletable": true,
    "editable": true
   },
   "source": [
    "That's a ready to extract package of every clinical trial scraped. Lets go ahead and make up a test and train split now, while its easy and convinent."
   ]
  },
  {
   "cell_type": "code",
   "execution_count": 33,
   "metadata": {
    "collapsed": false,
    "deletable": true,
    "editable": true
   },
   "outputs": [
    {
     "name": "stderr",
     "output_type": "stream",
     "text": [
      "/opt/conda/lib/python2.7/site-packages/sklearn/cross_validation.py:41: DeprecationWarning: This module was deprecated in version 0.18 in favor of the model_selection module into which all the refactored classes and functions are moved. Also note that the interface of the new CV iterators are different from that of this module. This module will be removed in 0.20.\n",
      "  \"This module will be removed in 0.20.\", DeprecationWarning)\n"
     ]
    }
   ],
   "source": [
    "from sklearn.cross_validation import train_test_split"
   ]
  },
  {
   "cell_type": "code",
   "execution_count": 34,
   "metadata": {
    "collapsed": false,
    "deletable": true,
    "editable": true
   },
   "outputs": [],
   "source": [
    "train_data, test_data = train_test_split(norm_data_annotated, train_size = .9)"
   ]
  },
  {
   "cell_type": "code",
   "execution_count": 35,
   "metadata": {
    "collapsed": false,
    "deletable": true,
    "editable": true
   },
   "outputs": [
    {
     "name": "stdout",
     "output_type": "stream",
     "text": [
      "COLL 2015-10-12 failed\n",
      "NEOS 2015-11-09 failed\n",
      "\n"
     ]
    }
   ],
   "source": [
    "first = True\n",
    "\n",
    "for line in tqdm_notebook(train_data):\n",
    "    try:\n",
    "        if first:\n",
    "            train_df = assemble_frame(line)\n",
    "            first = False\n",
    "        else:\n",
    "            tmp_df = assemble_frame(line)\n",
    "            train_df = pd.concat([train_df, tmp_df],ignore_index=True)\n",
    "    except:\n",
    "        print line[0], line[1], \"failed\"\n",
    "\n",
    "train_df['date_stamp'] = pd.to_datetime(train_df['date'])\n",
    "event_labels = pd.factorize(train_df['event'])\n",
    "train_df[\"event_stamp\"] = event_labels[0]\n",
    "\n",
    "train_df['null'] = pd.isnull(train_df).apply(lambda x: sum(x) , axis=1)\n",
    "train_clean = train_df[train_df['null'] == 0]"
   ]
  },
  {
   "cell_type": "code",
   "execution_count": 36,
   "metadata": {
    "collapsed": false,
    "deletable": true,
    "editable": true
   },
   "outputs": [
    {
     "name": "stdout",
     "output_type": "stream",
     "text": [
      "\n"
     ]
    }
   ],
   "source": [
    "first = True\n",
    "\n",
    "for line in tqdm_notebook(test_data):\n",
    "    try:\n",
    "        if first:\n",
    "            test_df = assemble_frame(line)\n",
    "            first = False\n",
    "        else:\n",
    "            tmp_df = assemble_frame(line)\n",
    "            test_df = pd.concat([test_df, tmp_df],ignore_index=True)\n",
    "    except:\n",
    "        print line[0], line[1], \"failed\"\n",
    "test_df['date_stamp'] = pd.to_datetime(test_df['date'])\n",
    "event_labels = pd.factorize(test_df['event'])\n",
    "test_df[\"event_stamp\"] = event_labels[0]\n",
    "\n",
    "test_df['null'] = pd.isnull(test_df).apply(lambda x: sum(x) , axis=1)\n",
    "test_clean = test_df[test_df['null'] == 0]"
   ]
  },
  {
   "cell_type": "markdown",
   "metadata": {
    "deletable": true,
    "editable": true
   },
   "source": [
    "Thats two parts of a bifurcated dataframe. May as well cache it. "
   ]
  },
  {
   "cell_type": "code",
   "execution_count": 37,
   "metadata": {
    "collapsed": true,
    "deletable": true,
    "editable": true
   },
   "outputs": [],
   "source": [
    "dill.dump(train_clean, open(\"final_train_df.pkl\", \"w\"))\n",
    "dill.dump(test_clean, open(\"final_test_df.pkl\", \"w\"))"
   ]
  },
  {
   "cell_type": "markdown",
   "metadata": {
    "deletable": true,
    "editable": true
   },
   "source": [
    "### Checkpoint 4 - Test Train Split"
   ]
  },
  {
   "cell_type": "code",
   "execution_count": 38,
   "metadata": {
    "collapsed": false,
    "deletable": true,
    "editable": true
   },
   "outputs": [],
   "source": [
    "train_clean = dill.load(open(\"final_train_df.pkl\", \"r\"))\n",
    "test_clean = dill.load(open(\"final_test_df.pkl\", \"r\"))"
   ]
  },
  {
   "cell_type": "markdown",
   "metadata": {
    "collapsed": true,
    "deletable": true,
    "editable": true
   },
   "source": [
    "Now for the serious work, extracting features from the pricing data in each case. \n",
    "\n",
    "I'll be using [tsfresh](http://tsfresh.readthedocs.io/en/latest/text/quick_start.html) to do the hard computing here, and then selecting the most relevant features. While I am able to compute almost 800 features for these data points, I'm going to narrow down to around ten of the most meaningful or important features. "
   ]
  },
  {
   "cell_type": "code",
   "execution_count": 39,
   "metadata": {
    "collapsed": false,
    "deletable": true,
    "editable": true
   },
   "outputs": [
    {
     "name": "stderr",
     "output_type": "stream",
     "text": [
      "/opt/conda/lib/python2.7/site-packages/statsmodels/compat/pandas.py:56: FutureWarning: The pandas.core.datetools module is deprecated and will be removed in a future version. Please use the pandas.tseries module instead.\n",
      "  from pandas.core import datetools\n"
     ]
    }
   ],
   "source": [
    "from tsfresh import extract_features"
   ]
  },
  {
   "cell_type": "code",
   "execution_count": 40,
   "metadata": {
    "collapsed": false,
    "deletable": true,
    "editable": true
   },
   "outputs": [
    {
     "name": "stderr",
     "output_type": "stream",
     "text": [
      "Feature Extraction: 100%|██████████| 212/212 [00:00<00:00, 30191.24it/s]\n"
     ]
    }
   ],
   "source": [
    "train_feats = extract_features(train_clean[['norm_price', 'event_stamp', 'date_stamp']], \n",
    "                              column_id=\"event_stamp\", column_sort=\"date_stamp\", \n",
    "                              column_value=\"norm_price\", n_jobs=0).dropna(axis=1)"
   ]
  },
  {
   "cell_type": "code",
   "execution_count": 41,
   "metadata": {
    "collapsed": false,
    "deletable": true,
    "editable": true,
    "scrolled": false
   },
   "outputs": [
    {
     "data": {
      "text/html": [
       "<div>\n",
       "<style>\n",
       "    .dataframe thead tr:only-child th {\n",
       "        text-align: right;\n",
       "    }\n",
       "\n",
       "    .dataframe thead th {\n",
       "        text-align: left;\n",
       "    }\n",
       "\n",
       "    .dataframe tbody tr th {\n",
       "        vertical-align: top;\n",
       "    }\n",
       "</style>\n",
       "<table border=\"1\" class=\"dataframe\">\n",
       "  <thead>\n",
       "    <tr style=\"text-align: right;\">\n",
       "      <th>variable</th>\n",
       "      <th>norm_price__abs_energy</th>\n",
       "      <th>norm_price__absolute_sum_of_changes</th>\n",
       "      <th>norm_price__agg_autocorrelation__f_agg_\"mean\"</th>\n",
       "      <th>norm_price__agg_autocorrelation__f_agg_\"median\"</th>\n",
       "      <th>norm_price__agg_autocorrelation__f_agg_\"var\"</th>\n",
       "      <th>norm_price__agg_linear_trend__f_agg_\"max\"__chunk_len_10__attr_\"intercept\"</th>\n",
       "      <th>norm_price__agg_linear_trend__f_agg_\"max\"__chunk_len_10__attr_\"rvalue\"</th>\n",
       "      <th>norm_price__agg_linear_trend__f_agg_\"max\"__chunk_len_10__attr_\"slope\"</th>\n",
       "      <th>norm_price__agg_linear_trend__f_agg_\"max\"__chunk_len_10__attr_\"stderr\"</th>\n",
       "      <th>norm_price__agg_linear_trend__f_agg_\"max\"__chunk_len_50__attr_\"intercept\"</th>\n",
       "      <th>...</th>\n",
       "      <th>norm_price__time_reversal_asymmetry_statistic__lag_1</th>\n",
       "      <th>norm_price__time_reversal_asymmetry_statistic__lag_2</th>\n",
       "      <th>norm_price__time_reversal_asymmetry_statistic__lag_3</th>\n",
       "      <th>norm_price__value_count__value_-inf</th>\n",
       "      <th>norm_price__value_count__value_0</th>\n",
       "      <th>norm_price__value_count__value_1</th>\n",
       "      <th>norm_price__value_count__value_inf</th>\n",
       "      <th>norm_price__value_count__value_nan</th>\n",
       "      <th>norm_price__variance</th>\n",
       "      <th>norm_price__variance_larger_than_standard_deviation</th>\n",
       "    </tr>\n",
       "    <tr>\n",
       "      <th>id</th>\n",
       "      <th></th>\n",
       "      <th></th>\n",
       "      <th></th>\n",
       "      <th></th>\n",
       "      <th></th>\n",
       "      <th></th>\n",
       "      <th></th>\n",
       "      <th></th>\n",
       "      <th></th>\n",
       "      <th></th>\n",
       "      <th></th>\n",
       "      <th></th>\n",
       "      <th></th>\n",
       "      <th></th>\n",
       "      <th></th>\n",
       "      <th></th>\n",
       "      <th></th>\n",
       "      <th></th>\n",
       "      <th></th>\n",
       "      <th></th>\n",
       "      <th></th>\n",
       "    </tr>\n",
       "  </thead>\n",
       "  <tbody>\n",
       "    <tr>\n",
       "      <th>0</th>\n",
       "      <td>158.826529</td>\n",
       "      <td>2.191306</td>\n",
       "      <td>0.194683</td>\n",
       "      <td>0.185735</td>\n",
       "      <td>0.115427</td>\n",
       "      <td>1.202333</td>\n",
       "      <td>0.261442</td>\n",
       "      <td>0.004621</td>\n",
       "      <td>0.005394</td>\n",
       "      <td>1.313276</td>\n",
       "      <td>...</td>\n",
       "      <td>0.002048</td>\n",
       "      <td>0.006176</td>\n",
       "      <td>0.014571</td>\n",
       "      <td>0.0</td>\n",
       "      <td>0.0</td>\n",
       "      <td>0.0</td>\n",
       "      <td>0.0</td>\n",
       "      <td>0.0</td>\n",
       "      <td>0.006205</td>\n",
       "      <td>0.0</td>\n",
       "    </tr>\n",
       "    <tr>\n",
       "      <th>1</th>\n",
       "      <td>110.104474</td>\n",
       "      <td>1.710732</td>\n",
       "      <td>0.339156</td>\n",
       "      <td>0.255810</td>\n",
       "      <td>0.089518</td>\n",
       "      <td>1.087026</td>\n",
       "      <td>-0.829158</td>\n",
       "      <td>-0.013284</td>\n",
       "      <td>0.002832</td>\n",
       "      <td>1.112564</td>\n",
       "      <td>...</td>\n",
       "      <td>-0.001434</td>\n",
       "      <td>-0.004229</td>\n",
       "      <td>-0.008301</td>\n",
       "      <td>0.0</td>\n",
       "      <td>0.0</td>\n",
       "      <td>0.0</td>\n",
       "      <td>0.0</td>\n",
       "      <td>0.0</td>\n",
       "      <td>0.002936</td>\n",
       "      <td>0.0</td>\n",
       "    </tr>\n",
       "    <tr>\n",
       "      <th>2</th>\n",
       "      <td>25.876205</td>\n",
       "      <td>0.548592</td>\n",
       "      <td>-0.089333</td>\n",
       "      <td>-0.219019</td>\n",
       "      <td>0.392978</td>\n",
       "      <td>-0.470053</td>\n",
       "      <td>0.123129</td>\n",
       "      <td>0.000654</td>\n",
       "      <td>0.001667</td>\n",
       "      <td>-0.430898</td>\n",
       "      <td>...</td>\n",
       "      <td>0.000328</td>\n",
       "      <td>0.000634</td>\n",
       "      <td>0.000871</td>\n",
       "      <td>0.0</td>\n",
       "      <td>0.0</td>\n",
       "      <td>0.0</td>\n",
       "      <td>0.0</td>\n",
       "      <td>0.0</td>\n",
       "      <td>0.000351</td>\n",
       "      <td>0.0</td>\n",
       "    </tr>\n",
       "    <tr>\n",
       "      <th>3</th>\n",
       "      <td>7.586910</td>\n",
       "      <td>5.436295</td>\n",
       "      <td>0.032363</td>\n",
       "      <td>0.050624</td>\n",
       "      <td>0.011449</td>\n",
       "      <td>-0.178790</td>\n",
       "      <td>0.161090</td>\n",
       "      <td>0.001697</td>\n",
       "      <td>0.003289</td>\n",
       "      <td>-0.130614</td>\n",
       "      <td>...</td>\n",
       "      <td>-0.000177</td>\n",
       "      <td>-0.000284</td>\n",
       "      <td>0.000253</td>\n",
       "      <td>0.0</td>\n",
       "      <td>0.0</td>\n",
       "      <td>0.0</td>\n",
       "      <td>0.0</td>\n",
       "      <td>0.0</td>\n",
       "      <td>0.005681</td>\n",
       "      <td>0.0</td>\n",
       "    </tr>\n",
       "    <tr>\n",
       "      <th>4</th>\n",
       "      <td>14.381392</td>\n",
       "      <td>1.117137</td>\n",
       "      <td>0.126168</td>\n",
       "      <td>-0.023299</td>\n",
       "      <td>0.101489</td>\n",
       "      <td>-0.325935</td>\n",
       "      <td>0.034650</td>\n",
       "      <td>0.000471</td>\n",
       "      <td>0.004292</td>\n",
       "      <td>-0.307977</td>\n",
       "      <td>...</td>\n",
       "      <td>0.000149</td>\n",
       "      <td>0.000139</td>\n",
       "      <td>0.000090</td>\n",
       "      <td>0.0</td>\n",
       "      <td>0.0</td>\n",
       "      <td>0.0</td>\n",
       "      <td>0.0</td>\n",
       "      <td>0.0</td>\n",
       "      <td>0.001598</td>\n",
       "      <td>0.0</td>\n",
       "    </tr>\n",
       "  </tbody>\n",
       "</table>\n",
       "<p>5 rows × 622 columns</p>\n",
       "</div>"
      ],
      "text/plain": [
       "variable  norm_price__abs_energy  norm_price__absolute_sum_of_changes  \\\n",
       "id                                                                      \n",
       "0                     158.826529                             2.191306   \n",
       "1                     110.104474                             1.710732   \n",
       "2                      25.876205                             0.548592   \n",
       "3                       7.586910                             5.436295   \n",
       "4                      14.381392                             1.117137   \n",
       "\n",
       "variable  norm_price__agg_autocorrelation__f_agg_\"mean\"  \\\n",
       "id                                                        \n",
       "0                                              0.194683   \n",
       "1                                              0.339156   \n",
       "2                                             -0.089333   \n",
       "3                                              0.032363   \n",
       "4                                              0.126168   \n",
       "\n",
       "variable  norm_price__agg_autocorrelation__f_agg_\"median\"  \\\n",
       "id                                                          \n",
       "0                                                0.185735   \n",
       "1                                                0.255810   \n",
       "2                                               -0.219019   \n",
       "3                                                0.050624   \n",
       "4                                               -0.023299   \n",
       "\n",
       "variable  norm_price__agg_autocorrelation__f_agg_\"var\"  \\\n",
       "id                                                       \n",
       "0                                             0.115427   \n",
       "1                                             0.089518   \n",
       "2                                             0.392978   \n",
       "3                                             0.011449   \n",
       "4                                             0.101489   \n",
       "\n",
       "variable  norm_price__agg_linear_trend__f_agg_\"max\"__chunk_len_10__attr_\"intercept\"  \\\n",
       "id                                                                                    \n",
       "0                                                  1.202333                           \n",
       "1                                                  1.087026                           \n",
       "2                                                 -0.470053                           \n",
       "3                                                 -0.178790                           \n",
       "4                                                 -0.325935                           \n",
       "\n",
       "variable  norm_price__agg_linear_trend__f_agg_\"max\"__chunk_len_10__attr_\"rvalue\"  \\\n",
       "id                                                                                 \n",
       "0                                                  0.261442                        \n",
       "1                                                 -0.829158                        \n",
       "2                                                  0.123129                        \n",
       "3                                                  0.161090                        \n",
       "4                                                  0.034650                        \n",
       "\n",
       "variable  norm_price__agg_linear_trend__f_agg_\"max\"__chunk_len_10__attr_\"slope\"  \\\n",
       "id                                                                                \n",
       "0                                                  0.004621                       \n",
       "1                                                 -0.013284                       \n",
       "2                                                  0.000654                       \n",
       "3                                                  0.001697                       \n",
       "4                                                  0.000471                       \n",
       "\n",
       "variable  norm_price__agg_linear_trend__f_agg_\"max\"__chunk_len_10__attr_\"stderr\"  \\\n",
       "id                                                                                 \n",
       "0                                                  0.005394                        \n",
       "1                                                  0.002832                        \n",
       "2                                                  0.001667                        \n",
       "3                                                  0.003289                        \n",
       "4                                                  0.004292                        \n",
       "\n",
       "variable  norm_price__agg_linear_trend__f_agg_\"max\"__chunk_len_50__attr_\"intercept\"  \\\n",
       "id                                                                                    \n",
       "0                                                  1.313276                           \n",
       "1                                                  1.112564                           \n",
       "2                                                 -0.430898                           \n",
       "3                                                 -0.130614                           \n",
       "4                                                 -0.307977                           \n",
       "\n",
       "variable                         ...                           \\\n",
       "id                               ...                            \n",
       "0                                ...                            \n",
       "1                                ...                            \n",
       "2                                ...                            \n",
       "3                                ...                            \n",
       "4                                ...                            \n",
       "\n",
       "variable  norm_price__time_reversal_asymmetry_statistic__lag_1  \\\n",
       "id                                                               \n",
       "0                                                  0.002048      \n",
       "1                                                 -0.001434      \n",
       "2                                                  0.000328      \n",
       "3                                                 -0.000177      \n",
       "4                                                  0.000149      \n",
       "\n",
       "variable  norm_price__time_reversal_asymmetry_statistic__lag_2  \\\n",
       "id                                                               \n",
       "0                                                  0.006176      \n",
       "1                                                 -0.004229      \n",
       "2                                                  0.000634      \n",
       "3                                                 -0.000284      \n",
       "4                                                  0.000139      \n",
       "\n",
       "variable  norm_price__time_reversal_asymmetry_statistic__lag_3  \\\n",
       "id                                                               \n",
       "0                                                  0.014571      \n",
       "1                                                 -0.008301      \n",
       "2                                                  0.000871      \n",
       "3                                                  0.000253      \n",
       "4                                                  0.000090      \n",
       "\n",
       "variable  norm_price__value_count__value_-inf  \\\n",
       "id                                              \n",
       "0                                         0.0   \n",
       "1                                         0.0   \n",
       "2                                         0.0   \n",
       "3                                         0.0   \n",
       "4                                         0.0   \n",
       "\n",
       "variable  norm_price__value_count__value_0  norm_price__value_count__value_1  \\\n",
       "id                                                                             \n",
       "0                                      0.0                               0.0   \n",
       "1                                      0.0                               0.0   \n",
       "2                                      0.0                               0.0   \n",
       "3                                      0.0                               0.0   \n",
       "4                                      0.0                               0.0   \n",
       "\n",
       "variable  norm_price__value_count__value_inf  \\\n",
       "id                                             \n",
       "0                                        0.0   \n",
       "1                                        0.0   \n",
       "2                                        0.0   \n",
       "3                                        0.0   \n",
       "4                                        0.0   \n",
       "\n",
       "variable  norm_price__value_count__value_nan  norm_price__variance  \\\n",
       "id                                                                   \n",
       "0                                        0.0              0.006205   \n",
       "1                                        0.0              0.002936   \n",
       "2                                        0.0              0.000351   \n",
       "3                                        0.0              0.005681   \n",
       "4                                        0.0              0.001598   \n",
       "\n",
       "variable  norm_price__variance_larger_than_standard_deviation  \n",
       "id                                                             \n",
       "0                                                       0.0    \n",
       "1                                                       0.0    \n",
       "2                                                       0.0    \n",
       "3                                                       0.0    \n",
       "4                                                       0.0    \n",
       "\n",
       "[5 rows x 622 columns]"
      ]
     },
     "execution_count": 41,
     "metadata": {},
     "output_type": "execute_result"
    }
   ],
   "source": [
    "train_feats.head()"
   ]
  },
  {
   "cell_type": "code",
   "execution_count": 42,
   "metadata": {
    "collapsed": false,
    "deletable": true,
    "editable": true
   },
   "outputs": [],
   "source": [
    "train_y =\\\n",
    "train_df[['event_stamp', 'outcome']]\\\n",
    ".groupby('event_stamp')\\\n",
    ".head(1).set_index('event_stamp')['outcome']"
   ]
  },
  {
   "cell_type": "code",
   "execution_count": 43,
   "metadata": {
    "collapsed": false,
    "deletable": true,
    "editable": true
   },
   "outputs": [
    {
     "data": {
      "text/plain": [
       "event_stamp\n",
       "0    0\n",
       "1    1\n",
       "2    1\n",
       "3    0\n",
       "4    0\n",
       "Name: outcome, dtype: int64"
      ]
     },
     "execution_count": 43,
     "metadata": {},
     "output_type": "execute_result"
    }
   ],
   "source": [
    "train_y.head()"
   ]
  },
  {
   "cell_type": "code",
   "execution_count": 44,
   "metadata": {
    "collapsed": false,
    "deletable": true,
    "editable": true
   },
   "outputs": [
    {
     "name": "stderr",
     "output_type": "stream",
     "text": [
      "Feature Extraction: 100%|██████████| 24/24 [00:00<00:00, 23119.73it/s]\n"
     ]
    }
   ],
   "source": [
    "test_feats = extract_features(test_clean[['norm_price', 'event_stamp', 'date_stamp']], \n",
    "                              column_id=\"event_stamp\", column_sort=\"date_stamp\", \n",
    "                              column_value=\"norm_price\", n_jobs=0).dropna(axis=1)"
   ]
  },
  {
   "cell_type": "code",
   "execution_count": 45,
   "metadata": {
    "collapsed": false,
    "deletable": true,
    "editable": true
   },
   "outputs": [
    {
     "data": {
      "text/plain": [
       "(24, 622)"
      ]
     },
     "execution_count": 45,
     "metadata": {},
     "output_type": "execute_result"
    }
   ],
   "source": [
    "test_feats.shape"
   ]
  },
  {
   "cell_type": "code",
   "execution_count": 46,
   "metadata": {
    "collapsed": true,
    "deletable": true,
    "editable": true
   },
   "outputs": [],
   "source": [
    "test_y =\\\n",
    "test_df[['event_stamp', 'outcome']]\\\n",
    ".groupby('event_stamp')\\\n",
    ".head(1).set_index('event_stamp')['outcome']"
   ]
  },
  {
   "cell_type": "code",
   "execution_count": 47,
   "metadata": {
    "collapsed": false,
    "deletable": true,
    "editable": true
   },
   "outputs": [
    {
     "data": {
      "text/plain": [
       "(24,)"
      ]
     },
     "execution_count": 47,
     "metadata": {},
     "output_type": "execute_result"
    }
   ],
   "source": [
    "test_y.shape"
   ]
  },
  {
   "cell_type": "code",
   "execution_count": 48,
   "metadata": {
    "collapsed": true,
    "deletable": true,
    "editable": true
   },
   "outputs": [],
   "source": [
    "dill.dump(train_feats, open('final_train_features.pkl','w'))\n",
    "dill.dump(test_feats, open('final_test_features.pkl','w'))"
   ]
  },
  {
   "cell_type": "markdown",
   "metadata": {
    "deletable": true,
    "editable": true
   },
   "source": [
    "### Checkpoint 4 - Extracted Features"
   ]
  },
  {
   "cell_type": "code",
   "execution_count": 49,
   "metadata": {
    "collapsed": true,
    "deletable": true,
    "editable": true
   },
   "outputs": [],
   "source": [
    "train_feats = dill.load(open(\"final_train_features.pkl\", \"r\"))\n",
    "test_feats = dill.load(open(\"final_test_features.pkl\", \"r\"))"
   ]
  },
  {
   "cell_type": "markdown",
   "metadata": {
    "deletable": true,
    "editable": true
   },
   "source": [
    "Now its time to pick out 10 or so meaningful features from the 622 possible features. Time for some reading. Then itll be time to apply those to a classification model. "
   ]
  },
  {
   "cell_type": "code",
   "execution_count": 50,
   "metadata": {
    "collapsed": false,
    "deletable": true,
    "editable": true
   },
   "outputs": [
    {
     "name": "stdout",
     "output_type": "stream",
     "text": [
      "norm_price__abs_energy\n",
      "norm_price__absolute_sum_of_changes\n",
      "norm_price__agg_autocorrelation__f_agg_\"mean\"\n",
      "norm_price__agg_autocorrelation__f_agg_\"median\"\n",
      "norm_price__agg_autocorrelation__f_agg_\"var\"\n",
      "norm_price__agg_linear_trend__f_agg_\"max\"__chunk_len_10__attr_\"intercept\"\n",
      "norm_price__agg_linear_trend__f_agg_\"max\"__chunk_len_10__attr_\"rvalue\"\n",
      "norm_price__agg_linear_trend__f_agg_\"max\"__chunk_len_10__attr_\"slope\"\n",
      "norm_price__agg_linear_trend__f_agg_\"max\"__chunk_len_10__attr_\"stderr\"\n",
      "norm_price__agg_linear_trend__f_agg_\"max\"__chunk_len_50__attr_\"intercept\"\n",
      "norm_price__agg_linear_trend__f_agg_\"max\"__chunk_len_50__attr_\"rvalue\"\n",
      "norm_price__agg_linear_trend__f_agg_\"max\"__chunk_len_50__attr_\"slope\"\n",
      "norm_price__agg_linear_trend__f_agg_\"max\"__chunk_len_50__attr_\"stderr\"\n",
      "norm_price__agg_linear_trend__f_agg_\"max\"__chunk_len_5__attr_\"intercept\"\n",
      "norm_price__agg_linear_trend__f_agg_\"max\"__chunk_len_5__attr_\"rvalue\"\n",
      "norm_price__agg_linear_trend__f_agg_\"max\"__chunk_len_5__attr_\"slope\"\n",
      "norm_price__agg_linear_trend__f_agg_\"max\"__chunk_len_5__attr_\"stderr\"\n",
      "norm_price__agg_linear_trend__f_agg_\"mean\"__chunk_len_10__attr_\"intercept\"\n",
      "norm_price__agg_linear_trend__f_agg_\"mean\"__chunk_len_10__attr_\"rvalue\"\n",
      "norm_price__agg_linear_trend__f_agg_\"mean\"__chunk_len_10__attr_\"slope\"\n",
      "norm_price__agg_linear_trend__f_agg_\"mean\"__chunk_len_10__attr_\"stderr\"\n",
      "norm_price__agg_linear_trend__f_agg_\"mean\"__chunk_len_50__attr_\"intercept\"\n",
      "norm_price__agg_linear_trend__f_agg_\"mean\"__chunk_len_50__attr_\"rvalue\"\n",
      "norm_price__agg_linear_trend__f_agg_\"mean\"__chunk_len_50__attr_\"slope\"\n",
      "norm_price__agg_linear_trend__f_agg_\"mean\"__chunk_len_50__attr_\"stderr\"\n",
      "norm_price__agg_linear_trend__f_agg_\"mean\"__chunk_len_5__attr_\"intercept\"\n",
      "norm_price__agg_linear_trend__f_agg_\"mean\"__chunk_len_5__attr_\"rvalue\"\n",
      "norm_price__agg_linear_trend__f_agg_\"mean\"__chunk_len_5__attr_\"slope\"\n",
      "norm_price__agg_linear_trend__f_agg_\"mean\"__chunk_len_5__attr_\"stderr\"\n",
      "norm_price__agg_linear_trend__f_agg_\"min\"__chunk_len_10__attr_\"intercept\"\n",
      "norm_price__agg_linear_trend__f_agg_\"min\"__chunk_len_10__attr_\"rvalue\"\n",
      "norm_price__agg_linear_trend__f_agg_\"min\"__chunk_len_10__attr_\"slope\"\n",
      "norm_price__agg_linear_trend__f_agg_\"min\"__chunk_len_10__attr_\"stderr\"\n",
      "norm_price__agg_linear_trend__f_agg_\"min\"__chunk_len_50__attr_\"intercept\"\n",
      "norm_price__agg_linear_trend__f_agg_\"min\"__chunk_len_50__attr_\"rvalue\"\n",
      "norm_price__agg_linear_trend__f_agg_\"min\"__chunk_len_50__attr_\"slope\"\n",
      "norm_price__agg_linear_trend__f_agg_\"min\"__chunk_len_50__attr_\"stderr\"\n",
      "norm_price__agg_linear_trend__f_agg_\"min\"__chunk_len_5__attr_\"intercept\"\n",
      "norm_price__agg_linear_trend__f_agg_\"min\"__chunk_len_5__attr_\"rvalue\"\n",
      "norm_price__agg_linear_trend__f_agg_\"min\"__chunk_len_5__attr_\"slope\"\n",
      "norm_price__agg_linear_trend__f_agg_\"min\"__chunk_len_5__attr_\"stderr\"\n",
      "norm_price__agg_linear_trend__f_agg_\"var\"__chunk_len_10__attr_\"intercept\"\n",
      "norm_price__agg_linear_trend__f_agg_\"var\"__chunk_len_10__attr_\"rvalue\"\n",
      "norm_price__agg_linear_trend__f_agg_\"var\"__chunk_len_10__attr_\"slope\"\n",
      "norm_price__agg_linear_trend__f_agg_\"var\"__chunk_len_10__attr_\"stderr\"\n",
      "norm_price__agg_linear_trend__f_agg_\"var\"__chunk_len_50__attr_\"intercept\"\n",
      "norm_price__agg_linear_trend__f_agg_\"var\"__chunk_len_50__attr_\"rvalue\"\n",
      "norm_price__agg_linear_trend__f_agg_\"var\"__chunk_len_50__attr_\"slope\"\n",
      "norm_price__agg_linear_trend__f_agg_\"var\"__chunk_len_50__attr_\"stderr\"\n",
      "norm_price__agg_linear_trend__f_agg_\"var\"__chunk_len_5__attr_\"intercept\"\n",
      "norm_price__agg_linear_trend__f_agg_\"var\"__chunk_len_5__attr_\"rvalue\"\n",
      "norm_price__agg_linear_trend__f_agg_\"var\"__chunk_len_5__attr_\"slope\"\n",
      "norm_price__agg_linear_trend__f_agg_\"var\"__chunk_len_5__attr_\"stderr\"\n",
      "norm_price__approximate_entropy__m_2__r_0.1\n",
      "norm_price__approximate_entropy__m_2__r_0.3\n",
      "norm_price__approximate_entropy__m_2__r_0.5\n",
      "norm_price__approximate_entropy__m_2__r_0.7\n",
      "norm_price__approximate_entropy__m_2__r_0.9\n",
      "norm_price__ar_coefficient__k_10__coeff_0\n",
      "norm_price__ar_coefficient__k_10__coeff_1\n",
      "norm_price__ar_coefficient__k_10__coeff_2\n",
      "norm_price__ar_coefficient__k_10__coeff_3\n",
      "norm_price__ar_coefficient__k_10__coeff_4\n",
      "norm_price__augmented_dickey_fuller__attr_\"pvalue\"\n",
      "norm_price__augmented_dickey_fuller__attr_\"teststat\"\n",
      "norm_price__augmented_dickey_fuller__attr_\"usedlag\"\n",
      "norm_price__autocorrelation__lag_0\n",
      "norm_price__autocorrelation__lag_1\n",
      "norm_price__autocorrelation__lag_2\n",
      "norm_price__autocorrelation__lag_3\n",
      "norm_price__autocorrelation__lag_4\n",
      "norm_price__autocorrelation__lag_5\n",
      "norm_price__autocorrelation__lag_6\n",
      "norm_price__autocorrelation__lag_7\n",
      "norm_price__autocorrelation__lag_8\n",
      "norm_price__autocorrelation__lag_9\n",
      "norm_price__binned_entropy__max_bins_10\n",
      "norm_price__c3__lag_1\n",
      "norm_price__c3__lag_2\n",
      "norm_price__c3__lag_3\n",
      "norm_price__change_quantiles__f_agg_\"mean\"__isabs_False__qh_0.2__ql_0.0\n",
      "norm_price__change_quantiles__f_agg_\"mean\"__isabs_False__qh_0.2__ql_0.2\n",
      "norm_price__change_quantiles__f_agg_\"mean\"__isabs_False__qh_0.2__ql_0.4\n",
      "norm_price__change_quantiles__f_agg_\"mean\"__isabs_False__qh_0.2__ql_0.6\n",
      "norm_price__change_quantiles__f_agg_\"mean\"__isabs_False__qh_0.2__ql_0.8\n",
      "norm_price__change_quantiles__f_agg_\"mean\"__isabs_False__qh_0.4__ql_0.0\n",
      "norm_price__change_quantiles__f_agg_\"mean\"__isabs_False__qh_0.4__ql_0.2\n",
      "norm_price__change_quantiles__f_agg_\"mean\"__isabs_False__qh_0.4__ql_0.4\n",
      "norm_price__change_quantiles__f_agg_\"mean\"__isabs_False__qh_0.4__ql_0.6\n",
      "norm_price__change_quantiles__f_agg_\"mean\"__isabs_False__qh_0.4__ql_0.8\n",
      "norm_price__change_quantiles__f_agg_\"mean\"__isabs_False__qh_0.6__ql_0.0\n",
      "norm_price__change_quantiles__f_agg_\"mean\"__isabs_False__qh_0.6__ql_0.2\n",
      "norm_price__change_quantiles__f_agg_\"mean\"__isabs_False__qh_0.6__ql_0.4\n",
      "norm_price__change_quantiles__f_agg_\"mean\"__isabs_False__qh_0.6__ql_0.6\n",
      "norm_price__change_quantiles__f_agg_\"mean\"__isabs_False__qh_0.6__ql_0.8\n",
      "norm_price__change_quantiles__f_agg_\"mean\"__isabs_False__qh_0.8__ql_0.0\n",
      "norm_price__change_quantiles__f_agg_\"mean\"__isabs_False__qh_0.8__ql_0.2\n",
      "norm_price__change_quantiles__f_agg_\"mean\"__isabs_False__qh_0.8__ql_0.4\n",
      "norm_price__change_quantiles__f_agg_\"mean\"__isabs_False__qh_0.8__ql_0.6\n",
      "norm_price__change_quantiles__f_agg_\"mean\"__isabs_False__qh_0.8__ql_0.8\n",
      "norm_price__change_quantiles__f_agg_\"mean\"__isabs_False__qh_1.0__ql_0.0\n",
      "norm_price__change_quantiles__f_agg_\"mean\"__isabs_False__qh_1.0__ql_0.2\n",
      "norm_price__change_quantiles__f_agg_\"mean\"__isabs_False__qh_1.0__ql_0.4\n",
      "norm_price__change_quantiles__f_agg_\"mean\"__isabs_False__qh_1.0__ql_0.6\n",
      "norm_price__change_quantiles__f_agg_\"mean\"__isabs_False__qh_1.0__ql_0.8\n",
      "norm_price__change_quantiles__f_agg_\"mean\"__isabs_True__qh_0.2__ql_0.0\n",
      "norm_price__change_quantiles__f_agg_\"mean\"__isabs_True__qh_0.2__ql_0.2\n",
      "norm_price__change_quantiles__f_agg_\"mean\"__isabs_True__qh_0.2__ql_0.4\n",
      "norm_price__change_quantiles__f_agg_\"mean\"__isabs_True__qh_0.2__ql_0.6\n",
      "norm_price__change_quantiles__f_agg_\"mean\"__isabs_True__qh_0.2__ql_0.8\n",
      "norm_price__change_quantiles__f_agg_\"mean\"__isabs_True__qh_0.4__ql_0.0\n",
      "norm_price__change_quantiles__f_agg_\"mean\"__isabs_True__qh_0.4__ql_0.2\n",
      "norm_price__change_quantiles__f_agg_\"mean\"__isabs_True__qh_0.4__ql_0.4\n",
      "norm_price__change_quantiles__f_agg_\"mean\"__isabs_True__qh_0.4__ql_0.6\n",
      "norm_price__change_quantiles__f_agg_\"mean\"__isabs_True__qh_0.4__ql_0.8\n",
      "norm_price__change_quantiles__f_agg_\"mean\"__isabs_True__qh_0.6__ql_0.0\n",
      "norm_price__change_quantiles__f_agg_\"mean\"__isabs_True__qh_0.6__ql_0.2\n",
      "norm_price__change_quantiles__f_agg_\"mean\"__isabs_True__qh_0.6__ql_0.4\n",
      "norm_price__change_quantiles__f_agg_\"mean\"__isabs_True__qh_0.6__ql_0.6\n",
      "norm_price__change_quantiles__f_agg_\"mean\"__isabs_True__qh_0.6__ql_0.8\n",
      "norm_price__change_quantiles__f_agg_\"mean\"__isabs_True__qh_0.8__ql_0.0\n",
      "norm_price__change_quantiles__f_agg_\"mean\"__isabs_True__qh_0.8__ql_0.2\n",
      "norm_price__change_quantiles__f_agg_\"mean\"__isabs_True__qh_0.8__ql_0.4\n",
      "norm_price__change_quantiles__f_agg_\"mean\"__isabs_True__qh_0.8__ql_0.6\n",
      "norm_price__change_quantiles__f_agg_\"mean\"__isabs_True__qh_0.8__ql_0.8\n",
      "norm_price__change_quantiles__f_agg_\"mean\"__isabs_True__qh_1.0__ql_0.0\n",
      "norm_price__change_quantiles__f_agg_\"mean\"__isabs_True__qh_1.0__ql_0.2\n",
      "norm_price__change_quantiles__f_agg_\"mean\"__isabs_True__qh_1.0__ql_0.4\n",
      "norm_price__change_quantiles__f_agg_\"mean\"__isabs_True__qh_1.0__ql_0.6\n",
      "norm_price__change_quantiles__f_agg_\"mean\"__isabs_True__qh_1.0__ql_0.8\n",
      "norm_price__change_quantiles__f_agg_\"var\"__isabs_False__qh_0.2__ql_0.0\n",
      "norm_price__change_quantiles__f_agg_\"var\"__isabs_False__qh_0.2__ql_0.2\n",
      "norm_price__change_quantiles__f_agg_\"var\"__isabs_False__qh_0.2__ql_0.4\n",
      "norm_price__change_quantiles__f_agg_\"var\"__isabs_False__qh_0.2__ql_0.6\n",
      "norm_price__change_quantiles__f_agg_\"var\"__isabs_False__qh_0.2__ql_0.8\n",
      "norm_price__change_quantiles__f_agg_\"var\"__isabs_False__qh_0.4__ql_0.0\n",
      "norm_price__change_quantiles__f_agg_\"var\"__isabs_False__qh_0.4__ql_0.2\n",
      "norm_price__change_quantiles__f_agg_\"var\"__isabs_False__qh_0.4__ql_0.4\n",
      "norm_price__change_quantiles__f_agg_\"var\"__isabs_False__qh_0.4__ql_0.6\n",
      "norm_price__change_quantiles__f_agg_\"var\"__isabs_False__qh_0.4__ql_0.8\n",
      "norm_price__change_quantiles__f_agg_\"var\"__isabs_False__qh_0.6__ql_0.0\n",
      "norm_price__change_quantiles__f_agg_\"var\"__isabs_False__qh_0.6__ql_0.2\n",
      "norm_price__change_quantiles__f_agg_\"var\"__isabs_False__qh_0.6__ql_0.4\n",
      "norm_price__change_quantiles__f_agg_\"var\"__isabs_False__qh_0.6__ql_0.6\n",
      "norm_price__change_quantiles__f_agg_\"var\"__isabs_False__qh_0.6__ql_0.8\n",
      "norm_price__change_quantiles__f_agg_\"var\"__isabs_False__qh_0.8__ql_0.0\n",
      "norm_price__change_quantiles__f_agg_\"var\"__isabs_False__qh_0.8__ql_0.2\n",
      "norm_price__change_quantiles__f_agg_\"var\"__isabs_False__qh_0.8__ql_0.4\n",
      "norm_price__change_quantiles__f_agg_\"var\"__isabs_False__qh_0.8__ql_0.6\n",
      "norm_price__change_quantiles__f_agg_\"var\"__isabs_False__qh_0.8__ql_0.8\n",
      "norm_price__change_quantiles__f_agg_\"var\"__isabs_False__qh_1.0__ql_0.0\n",
      "norm_price__change_quantiles__f_agg_\"var\"__isabs_False__qh_1.0__ql_0.2\n",
      "norm_price__change_quantiles__f_agg_\"var\"__isabs_False__qh_1.0__ql_0.4\n",
      "norm_price__change_quantiles__f_agg_\"var\"__isabs_False__qh_1.0__ql_0.6\n",
      "norm_price__change_quantiles__f_agg_\"var\"__isabs_False__qh_1.0__ql_0.8\n",
      "norm_price__change_quantiles__f_agg_\"var\"__isabs_True__qh_0.2__ql_0.0\n",
      "norm_price__change_quantiles__f_agg_\"var\"__isabs_True__qh_0.2__ql_0.2\n",
      "norm_price__change_quantiles__f_agg_\"var\"__isabs_True__qh_0.2__ql_0.4\n",
      "norm_price__change_quantiles__f_agg_\"var\"__isabs_True__qh_0.2__ql_0.6\n",
      "norm_price__change_quantiles__f_agg_\"var\"__isabs_True__qh_0.2__ql_0.8\n",
      "norm_price__change_quantiles__f_agg_\"var\"__isabs_True__qh_0.4__ql_0.0\n",
      "norm_price__change_quantiles__f_agg_\"var\"__isabs_True__qh_0.4__ql_0.2\n",
      "norm_price__change_quantiles__f_agg_\"var\"__isabs_True__qh_0.4__ql_0.4\n",
      "norm_price__change_quantiles__f_agg_\"var\"__isabs_True__qh_0.4__ql_0.6\n",
      "norm_price__change_quantiles__f_agg_\"var\"__isabs_True__qh_0.4__ql_0.8\n",
      "norm_price__change_quantiles__f_agg_\"var\"__isabs_True__qh_0.6__ql_0.0\n",
      "norm_price__change_quantiles__f_agg_\"var\"__isabs_True__qh_0.6__ql_0.2\n",
      "norm_price__change_quantiles__f_agg_\"var\"__isabs_True__qh_0.6__ql_0.4\n",
      "norm_price__change_quantiles__f_agg_\"var\"__isabs_True__qh_0.6__ql_0.6\n",
      "norm_price__change_quantiles__f_agg_\"var\"__isabs_True__qh_0.6__ql_0.8\n",
      "norm_price__change_quantiles__f_agg_\"var\"__isabs_True__qh_0.8__ql_0.0\n",
      "norm_price__change_quantiles__f_agg_\"var\"__isabs_True__qh_0.8__ql_0.2\n",
      "norm_price__change_quantiles__f_agg_\"var\"__isabs_True__qh_0.8__ql_0.4\n",
      "norm_price__change_quantiles__f_agg_\"var\"__isabs_True__qh_0.8__ql_0.6\n",
      "norm_price__change_quantiles__f_agg_\"var\"__isabs_True__qh_0.8__ql_0.8\n",
      "norm_price__change_quantiles__f_agg_\"var\"__isabs_True__qh_1.0__ql_0.0\n",
      "norm_price__change_quantiles__f_agg_\"var\"__isabs_True__qh_1.0__ql_0.2\n",
      "norm_price__change_quantiles__f_agg_\"var\"__isabs_True__qh_1.0__ql_0.4\n",
      "norm_price__change_quantiles__f_agg_\"var\"__isabs_True__qh_1.0__ql_0.6\n",
      "norm_price__change_quantiles__f_agg_\"var\"__isabs_True__qh_1.0__ql_0.8\n",
      "norm_price__cid_ce__normalize_False\n",
      "norm_price__cid_ce__normalize_True\n",
      "norm_price__count_above_mean\n",
      "norm_price__count_below_mean\n",
      "norm_price__cwt_coefficients__widths_(2, 5, 10, 20)__coeff_0__w_10\n",
      "norm_price__cwt_coefficients__widths_(2, 5, 10, 20)__coeff_0__w_2\n",
      "norm_price__cwt_coefficients__widths_(2, 5, 10, 20)__coeff_0__w_20\n",
      "norm_price__cwt_coefficients__widths_(2, 5, 10, 20)__coeff_0__w_5\n",
      "norm_price__cwt_coefficients__widths_(2, 5, 10, 20)__coeff_10__w_10\n",
      "norm_price__cwt_coefficients__widths_(2, 5, 10, 20)__coeff_10__w_2\n",
      "norm_price__cwt_coefficients__widths_(2, 5, 10, 20)__coeff_10__w_20\n",
      "norm_price__cwt_coefficients__widths_(2, 5, 10, 20)__coeff_10__w_5\n",
      "norm_price__cwt_coefficients__widths_(2, 5, 10, 20)__coeff_11__w_10\n",
      "norm_price__cwt_coefficients__widths_(2, 5, 10, 20)__coeff_11__w_2\n",
      "norm_price__cwt_coefficients__widths_(2, 5, 10, 20)__coeff_11__w_20\n",
      "norm_price__cwt_coefficients__widths_(2, 5, 10, 20)__coeff_11__w_5\n",
      "norm_price__cwt_coefficients__widths_(2, 5, 10, 20)__coeff_12__w_10\n",
      "norm_price__cwt_coefficients__widths_(2, 5, 10, 20)__coeff_12__w_2\n",
      "norm_price__cwt_coefficients__widths_(2, 5, 10, 20)__coeff_12__w_20\n",
      "norm_price__cwt_coefficients__widths_(2, 5, 10, 20)__coeff_12__w_5\n",
      "norm_price__cwt_coefficients__widths_(2, 5, 10, 20)__coeff_13__w_10\n",
      "norm_price__cwt_coefficients__widths_(2, 5, 10, 20)__coeff_13__w_2\n",
      "norm_price__cwt_coefficients__widths_(2, 5, 10, 20)__coeff_13__w_20\n",
      "norm_price__cwt_coefficients__widths_(2, 5, 10, 20)__coeff_13__w_5\n",
      "norm_price__cwt_coefficients__widths_(2, 5, 10, 20)__coeff_14__w_10\n",
      "norm_price__cwt_coefficients__widths_(2, 5, 10, 20)__coeff_14__w_2\n",
      "norm_price__cwt_coefficients__widths_(2, 5, 10, 20)__coeff_14__w_20\n",
      "norm_price__cwt_coefficients__widths_(2, 5, 10, 20)__coeff_14__w_5\n",
      "norm_price__cwt_coefficients__widths_(2, 5, 10, 20)__coeff_1__w_10\n",
      "norm_price__cwt_coefficients__widths_(2, 5, 10, 20)__coeff_1__w_2\n",
      "norm_price__cwt_coefficients__widths_(2, 5, 10, 20)__coeff_1__w_20\n",
      "norm_price__cwt_coefficients__widths_(2, 5, 10, 20)__coeff_1__w_5\n",
      "norm_price__cwt_coefficients__widths_(2, 5, 10, 20)__coeff_2__w_10\n",
      "norm_price__cwt_coefficients__widths_(2, 5, 10, 20)__coeff_2__w_2\n",
      "norm_price__cwt_coefficients__widths_(2, 5, 10, 20)__coeff_2__w_20\n",
      "norm_price__cwt_coefficients__widths_(2, 5, 10, 20)__coeff_2__w_5\n",
      "norm_price__cwt_coefficients__widths_(2, 5, 10, 20)__coeff_3__w_10\n",
      "norm_price__cwt_coefficients__widths_(2, 5, 10, 20)__coeff_3__w_2\n",
      "norm_price__cwt_coefficients__widths_(2, 5, 10, 20)__coeff_3__w_20\n",
      "norm_price__cwt_coefficients__widths_(2, 5, 10, 20)__coeff_3__w_5\n",
      "norm_price__cwt_coefficients__widths_(2, 5, 10, 20)__coeff_4__w_10\n",
      "norm_price__cwt_coefficients__widths_(2, 5, 10, 20)__coeff_4__w_2\n",
      "norm_price__cwt_coefficients__widths_(2, 5, 10, 20)__coeff_4__w_20\n",
      "norm_price__cwt_coefficients__widths_(2, 5, 10, 20)__coeff_4__w_5\n",
      "norm_price__cwt_coefficients__widths_(2, 5, 10, 20)__coeff_5__w_10\n",
      "norm_price__cwt_coefficients__widths_(2, 5, 10, 20)__coeff_5__w_2\n",
      "norm_price__cwt_coefficients__widths_(2, 5, 10, 20)__coeff_5__w_20\n",
      "norm_price__cwt_coefficients__widths_(2, 5, 10, 20)__coeff_5__w_5\n",
      "norm_price__cwt_coefficients__widths_(2, 5, 10, 20)__coeff_6__w_10\n",
      "norm_price__cwt_coefficients__widths_(2, 5, 10, 20)__coeff_6__w_2\n",
      "norm_price__cwt_coefficients__widths_(2, 5, 10, 20)__coeff_6__w_20\n",
      "norm_price__cwt_coefficients__widths_(2, 5, 10, 20)__coeff_6__w_5\n",
      "norm_price__cwt_coefficients__widths_(2, 5, 10, 20)__coeff_7__w_10\n",
      "norm_price__cwt_coefficients__widths_(2, 5, 10, 20)__coeff_7__w_2\n",
      "norm_price__cwt_coefficients__widths_(2, 5, 10, 20)__coeff_7__w_20\n",
      "norm_price__cwt_coefficients__widths_(2, 5, 10, 20)__coeff_7__w_5\n",
      "norm_price__cwt_coefficients__widths_(2, 5, 10, 20)__coeff_8__w_10\n",
      "norm_price__cwt_coefficients__widths_(2, 5, 10, 20)__coeff_8__w_2\n",
      "norm_price__cwt_coefficients__widths_(2, 5, 10, 20)__coeff_8__w_20\n",
      "norm_price__cwt_coefficients__widths_(2, 5, 10, 20)__coeff_8__w_5\n",
      "norm_price__cwt_coefficients__widths_(2, 5, 10, 20)__coeff_9__w_10\n",
      "norm_price__cwt_coefficients__widths_(2, 5, 10, 20)__coeff_9__w_2\n",
      "norm_price__cwt_coefficients__widths_(2, 5, 10, 20)__coeff_9__w_20\n",
      "norm_price__cwt_coefficients__widths_(2, 5, 10, 20)__coeff_9__w_5\n",
      "norm_price__energy_ratio_by_chunks__num_segments_10__segment_focus_0\n",
      "norm_price__energy_ratio_by_chunks__num_segments_10__segment_focus_1\n",
      "norm_price__energy_ratio_by_chunks__num_segments_10__segment_focus_2\n",
      "norm_price__energy_ratio_by_chunks__num_segments_10__segment_focus_3\n",
      "norm_price__energy_ratio_by_chunks__num_segments_10__segment_focus_4\n",
      "norm_price__energy_ratio_by_chunks__num_segments_10__segment_focus_5\n",
      "norm_price__energy_ratio_by_chunks__num_segments_10__segment_focus_6\n",
      "norm_price__energy_ratio_by_chunks__num_segments_10__segment_focus_7\n",
      "norm_price__energy_ratio_by_chunks__num_segments_10__segment_focus_8\n",
      "norm_price__energy_ratio_by_chunks__num_segments_10__segment_focus_9\n",
      "norm_price__fft_aggregated__aggtype_\"centroid\"\n",
      "norm_price__fft_aggregated__aggtype_\"kurtosis\"\n",
      "norm_price__fft_aggregated__aggtype_\"skew\"\n",
      "norm_price__fft_aggregated__aggtype_\"variance\"\n",
      "norm_price__fft_coefficient__coeff_0__attr_\"abs\"\n",
      "norm_price__fft_coefficient__coeff_0__attr_\"angle\"\n",
      "norm_price__fft_coefficient__coeff_0__attr_\"imag\"\n",
      "norm_price__fft_coefficient__coeff_0__attr_\"real\"\n",
      "norm_price__fft_coefficient__coeff_10__attr_\"abs\"\n",
      "norm_price__fft_coefficient__coeff_10__attr_\"angle\"\n",
      "norm_price__fft_coefficient__coeff_10__attr_\"imag\"\n",
      "norm_price__fft_coefficient__coeff_10__attr_\"real\"\n",
      "norm_price__fft_coefficient__coeff_11__attr_\"abs\"\n",
      "norm_price__fft_coefficient__coeff_11__attr_\"angle\"\n",
      "norm_price__fft_coefficient__coeff_11__attr_\"imag\"\n",
      "norm_price__fft_coefficient__coeff_11__attr_\"real\"\n",
      "norm_price__fft_coefficient__coeff_12__attr_\"abs\"\n",
      "norm_price__fft_coefficient__coeff_12__attr_\"angle\"\n",
      "norm_price__fft_coefficient__coeff_12__attr_\"imag\"\n",
      "norm_price__fft_coefficient__coeff_12__attr_\"real\"\n",
      "norm_price__fft_coefficient__coeff_13__attr_\"abs\"\n",
      "norm_price__fft_coefficient__coeff_13__attr_\"angle\"\n",
      "norm_price__fft_coefficient__coeff_13__attr_\"imag\"\n",
      "norm_price__fft_coefficient__coeff_13__attr_\"real\"\n",
      "norm_price__fft_coefficient__coeff_14__attr_\"abs\"\n",
      "norm_price__fft_coefficient__coeff_14__attr_\"angle\"\n",
      "norm_price__fft_coefficient__coeff_14__attr_\"imag\"\n",
      "norm_price__fft_coefficient__coeff_14__attr_\"real\"\n",
      "norm_price__fft_coefficient__coeff_15__attr_\"abs\"\n",
      "norm_price__fft_coefficient__coeff_15__attr_\"angle\"\n",
      "norm_price__fft_coefficient__coeff_15__attr_\"imag\"\n",
      "norm_price__fft_coefficient__coeff_15__attr_\"real\"\n",
      "norm_price__fft_coefficient__coeff_16__attr_\"abs\"\n",
      "norm_price__fft_coefficient__coeff_16__attr_\"angle\"\n",
      "norm_price__fft_coefficient__coeff_16__attr_\"imag\"\n",
      "norm_price__fft_coefficient__coeff_16__attr_\"real\"\n",
      "norm_price__fft_coefficient__coeff_17__attr_\"abs\"\n",
      "norm_price__fft_coefficient__coeff_17__attr_\"angle\"\n",
      "norm_price__fft_coefficient__coeff_17__attr_\"imag\"\n",
      "norm_price__fft_coefficient__coeff_17__attr_\"real\"\n",
      "norm_price__fft_coefficient__coeff_18__attr_\"abs\"\n",
      "norm_price__fft_coefficient__coeff_18__attr_\"angle\"\n",
      "norm_price__fft_coefficient__coeff_18__attr_\"imag\"\n",
      "norm_price__fft_coefficient__coeff_18__attr_\"real\"\n",
      "norm_price__fft_coefficient__coeff_19__attr_\"abs\"\n",
      "norm_price__fft_coefficient__coeff_19__attr_\"angle\"\n",
      "norm_price__fft_coefficient__coeff_19__attr_\"imag\"\n",
      "norm_price__fft_coefficient__coeff_19__attr_\"real\"\n",
      "norm_price__fft_coefficient__coeff_1__attr_\"abs\"\n",
      "norm_price__fft_coefficient__coeff_1__attr_\"angle\"\n",
      "norm_price__fft_coefficient__coeff_1__attr_\"imag\"\n",
      "norm_price__fft_coefficient__coeff_1__attr_\"real\"\n",
      "norm_price__fft_coefficient__coeff_20__attr_\"abs\"\n",
      "norm_price__fft_coefficient__coeff_20__attr_\"angle\"\n",
      "norm_price__fft_coefficient__coeff_20__attr_\"imag\"\n",
      "norm_price__fft_coefficient__coeff_20__attr_\"real\"\n",
      "norm_price__fft_coefficient__coeff_21__attr_\"abs\"\n",
      "norm_price__fft_coefficient__coeff_21__attr_\"angle\"\n",
      "norm_price__fft_coefficient__coeff_21__attr_\"imag\"\n",
      "norm_price__fft_coefficient__coeff_21__attr_\"real\"\n",
      "norm_price__fft_coefficient__coeff_22__attr_\"abs\"\n",
      "norm_price__fft_coefficient__coeff_22__attr_\"angle\"\n",
      "norm_price__fft_coefficient__coeff_22__attr_\"imag\"\n",
      "norm_price__fft_coefficient__coeff_22__attr_\"real\"\n",
      "norm_price__fft_coefficient__coeff_23__attr_\"abs\"\n",
      "norm_price__fft_coefficient__coeff_23__attr_\"angle\"\n",
      "norm_price__fft_coefficient__coeff_23__attr_\"imag\"\n",
      "norm_price__fft_coefficient__coeff_23__attr_\"real\"\n",
      "norm_price__fft_coefficient__coeff_24__attr_\"abs\"\n",
      "norm_price__fft_coefficient__coeff_24__attr_\"angle\"\n",
      "norm_price__fft_coefficient__coeff_24__attr_\"imag\"\n",
      "norm_price__fft_coefficient__coeff_24__attr_\"real\"\n",
      "norm_price__fft_coefficient__coeff_25__attr_\"abs\"\n",
      "norm_price__fft_coefficient__coeff_25__attr_\"angle\"\n",
      "norm_price__fft_coefficient__coeff_25__attr_\"imag\"\n",
      "norm_price__fft_coefficient__coeff_25__attr_\"real\"\n",
      "norm_price__fft_coefficient__coeff_26__attr_\"abs\"\n",
      "norm_price__fft_coefficient__coeff_26__attr_\"angle\"\n",
      "norm_price__fft_coefficient__coeff_26__attr_\"imag\"\n",
      "norm_price__fft_coefficient__coeff_26__attr_\"real\"\n",
      "norm_price__fft_coefficient__coeff_27__attr_\"abs\"\n",
      "norm_price__fft_coefficient__coeff_27__attr_\"angle\"\n",
      "norm_price__fft_coefficient__coeff_27__attr_\"imag\"\n",
      "norm_price__fft_coefficient__coeff_27__attr_\"real\"\n",
      "norm_price__fft_coefficient__coeff_28__attr_\"abs\"\n",
      "norm_price__fft_coefficient__coeff_28__attr_\"angle\"\n",
      "norm_price__fft_coefficient__coeff_28__attr_\"imag\"\n",
      "norm_price__fft_coefficient__coeff_28__attr_\"real\"\n",
      "norm_price__fft_coefficient__coeff_29__attr_\"abs\"\n",
      "norm_price__fft_coefficient__coeff_29__attr_\"angle\"\n",
      "norm_price__fft_coefficient__coeff_29__attr_\"imag\"\n",
      "norm_price__fft_coefficient__coeff_29__attr_\"real\"\n",
      "norm_price__fft_coefficient__coeff_2__attr_\"abs\"\n",
      "norm_price__fft_coefficient__coeff_2__attr_\"angle\"\n",
      "norm_price__fft_coefficient__coeff_2__attr_\"imag\"\n",
      "norm_price__fft_coefficient__coeff_2__attr_\"real\"\n",
      "norm_price__fft_coefficient__coeff_30__attr_\"abs\"\n",
      "norm_price__fft_coefficient__coeff_30__attr_\"angle\"\n",
      "norm_price__fft_coefficient__coeff_30__attr_\"imag\"\n",
      "norm_price__fft_coefficient__coeff_30__attr_\"real\"\n",
      "norm_price__fft_coefficient__coeff_31__attr_\"abs\"\n",
      "norm_price__fft_coefficient__coeff_31__attr_\"angle\"\n",
      "norm_price__fft_coefficient__coeff_31__attr_\"imag\"\n",
      "norm_price__fft_coefficient__coeff_31__attr_\"real\"\n",
      "norm_price__fft_coefficient__coeff_32__attr_\"abs\"\n",
      "norm_price__fft_coefficient__coeff_32__attr_\"angle\"\n",
      "norm_price__fft_coefficient__coeff_32__attr_\"imag\"\n",
      "norm_price__fft_coefficient__coeff_32__attr_\"real\"\n",
      "norm_price__fft_coefficient__coeff_33__attr_\"abs\"\n",
      "norm_price__fft_coefficient__coeff_33__attr_\"angle\"\n",
      "norm_price__fft_coefficient__coeff_33__attr_\"imag\"\n",
      "norm_price__fft_coefficient__coeff_33__attr_\"real\"\n",
      "norm_price__fft_coefficient__coeff_34__attr_\"abs\"\n",
      "norm_price__fft_coefficient__coeff_34__attr_\"angle\"\n",
      "norm_price__fft_coefficient__coeff_34__attr_\"imag\"\n",
      "norm_price__fft_coefficient__coeff_34__attr_\"real\"\n",
      "norm_price__fft_coefficient__coeff_35__attr_\"abs\"\n",
      "norm_price__fft_coefficient__coeff_35__attr_\"angle\"\n",
      "norm_price__fft_coefficient__coeff_35__attr_\"imag\"\n",
      "norm_price__fft_coefficient__coeff_35__attr_\"real\"\n",
      "norm_price__fft_coefficient__coeff_36__attr_\"abs\"\n",
      "norm_price__fft_coefficient__coeff_36__attr_\"angle\"\n",
      "norm_price__fft_coefficient__coeff_36__attr_\"imag\"\n",
      "norm_price__fft_coefficient__coeff_36__attr_\"real\"\n",
      "norm_price__fft_coefficient__coeff_37__attr_\"abs\"\n",
      "norm_price__fft_coefficient__coeff_37__attr_\"angle\"\n",
      "norm_price__fft_coefficient__coeff_37__attr_\"imag\"\n",
      "norm_price__fft_coefficient__coeff_37__attr_\"real\"\n",
      "norm_price__fft_coefficient__coeff_38__attr_\"abs\"\n",
      "norm_price__fft_coefficient__coeff_38__attr_\"angle\"\n",
      "norm_price__fft_coefficient__coeff_38__attr_\"imag\"\n",
      "norm_price__fft_coefficient__coeff_38__attr_\"real\"\n",
      "norm_price__fft_coefficient__coeff_39__attr_\"abs\"\n",
      "norm_price__fft_coefficient__coeff_39__attr_\"angle\"\n",
      "norm_price__fft_coefficient__coeff_39__attr_\"imag\"\n",
      "norm_price__fft_coefficient__coeff_39__attr_\"real\"\n",
      "norm_price__fft_coefficient__coeff_3__attr_\"abs\"\n",
      "norm_price__fft_coefficient__coeff_3__attr_\"angle\"\n",
      "norm_price__fft_coefficient__coeff_3__attr_\"imag\"\n",
      "norm_price__fft_coefficient__coeff_3__attr_\"real\"\n",
      "norm_price__fft_coefficient__coeff_40__attr_\"abs\"\n",
      "norm_price__fft_coefficient__coeff_40__attr_\"angle\"\n",
      "norm_price__fft_coefficient__coeff_40__attr_\"imag\"\n",
      "norm_price__fft_coefficient__coeff_40__attr_\"real\"\n",
      "norm_price__fft_coefficient__coeff_41__attr_\"abs\"\n",
      "norm_price__fft_coefficient__coeff_41__attr_\"angle\"\n",
      "norm_price__fft_coefficient__coeff_41__attr_\"imag\"\n",
      "norm_price__fft_coefficient__coeff_41__attr_\"real\"\n",
      "norm_price__fft_coefficient__coeff_42__attr_\"abs\"\n",
      "norm_price__fft_coefficient__coeff_42__attr_\"angle\"\n",
      "norm_price__fft_coefficient__coeff_42__attr_\"imag\"\n",
      "norm_price__fft_coefficient__coeff_42__attr_\"real\"\n",
      "norm_price__fft_coefficient__coeff_43__attr_\"abs\"\n",
      "norm_price__fft_coefficient__coeff_43__attr_\"angle\"\n",
      "norm_price__fft_coefficient__coeff_43__attr_\"imag\"\n",
      "norm_price__fft_coefficient__coeff_43__attr_\"real\"\n",
      "norm_price__fft_coefficient__coeff_44__attr_\"abs\"\n",
      "norm_price__fft_coefficient__coeff_44__attr_\"angle\"\n",
      "norm_price__fft_coefficient__coeff_44__attr_\"imag\"\n",
      "norm_price__fft_coefficient__coeff_44__attr_\"real\"\n",
      "norm_price__fft_coefficient__coeff_45__attr_\"abs\"\n",
      "norm_price__fft_coefficient__coeff_45__attr_\"angle\"\n",
      "norm_price__fft_coefficient__coeff_45__attr_\"imag\"\n",
      "norm_price__fft_coefficient__coeff_45__attr_\"real\"\n",
      "norm_price__fft_coefficient__coeff_46__attr_\"abs\"\n",
      "norm_price__fft_coefficient__coeff_46__attr_\"angle\"\n",
      "norm_price__fft_coefficient__coeff_46__attr_\"imag\"\n",
      "norm_price__fft_coefficient__coeff_46__attr_\"real\"\n",
      "norm_price__fft_coefficient__coeff_47__attr_\"abs\"\n",
      "norm_price__fft_coefficient__coeff_47__attr_\"angle\"\n",
      "norm_price__fft_coefficient__coeff_47__attr_\"imag\"\n",
      "norm_price__fft_coefficient__coeff_47__attr_\"real\"\n",
      "norm_price__fft_coefficient__coeff_48__attr_\"abs\"\n",
      "norm_price__fft_coefficient__coeff_48__attr_\"angle\"\n",
      "norm_price__fft_coefficient__coeff_48__attr_\"imag\"\n",
      "norm_price__fft_coefficient__coeff_48__attr_\"real\"\n",
      "norm_price__fft_coefficient__coeff_49__attr_\"abs\"\n",
      "norm_price__fft_coefficient__coeff_49__attr_\"angle\"\n",
      "norm_price__fft_coefficient__coeff_49__attr_\"imag\"\n",
      "norm_price__fft_coefficient__coeff_49__attr_\"real\"\n",
      "norm_price__fft_coefficient__coeff_4__attr_\"abs\"\n",
      "norm_price__fft_coefficient__coeff_4__attr_\"angle\"\n",
      "norm_price__fft_coefficient__coeff_4__attr_\"imag\"\n",
      "norm_price__fft_coefficient__coeff_4__attr_\"real\"\n",
      "norm_price__fft_coefficient__coeff_50__attr_\"abs\"\n",
      "norm_price__fft_coefficient__coeff_50__attr_\"angle\"\n",
      "norm_price__fft_coefficient__coeff_50__attr_\"imag\"\n",
      "norm_price__fft_coefficient__coeff_50__attr_\"real\"\n",
      "norm_price__fft_coefficient__coeff_51__attr_\"abs\"\n",
      "norm_price__fft_coefficient__coeff_51__attr_\"angle\"\n",
      "norm_price__fft_coefficient__coeff_51__attr_\"imag\"\n",
      "norm_price__fft_coefficient__coeff_51__attr_\"real\"\n",
      "norm_price__fft_coefficient__coeff_52__attr_\"abs\"\n",
      "norm_price__fft_coefficient__coeff_52__attr_\"angle\"\n",
      "norm_price__fft_coefficient__coeff_52__attr_\"imag\"\n",
      "norm_price__fft_coefficient__coeff_52__attr_\"real\"\n",
      "norm_price__fft_coefficient__coeff_53__attr_\"abs\"\n",
      "norm_price__fft_coefficient__coeff_53__attr_\"angle\"\n",
      "norm_price__fft_coefficient__coeff_53__attr_\"imag\"\n",
      "norm_price__fft_coefficient__coeff_53__attr_\"real\"\n",
      "norm_price__fft_coefficient__coeff_54__attr_\"abs\"\n",
      "norm_price__fft_coefficient__coeff_54__attr_\"angle\"\n",
      "norm_price__fft_coefficient__coeff_54__attr_\"imag\"\n",
      "norm_price__fft_coefficient__coeff_54__attr_\"real\"\n",
      "norm_price__fft_coefficient__coeff_55__attr_\"abs\"\n",
      "norm_price__fft_coefficient__coeff_55__attr_\"angle\"\n",
      "norm_price__fft_coefficient__coeff_55__attr_\"imag\"\n",
      "norm_price__fft_coefficient__coeff_55__attr_\"real\"\n",
      "norm_price__fft_coefficient__coeff_56__attr_\"abs\"\n",
      "norm_price__fft_coefficient__coeff_56__attr_\"angle\"\n",
      "norm_price__fft_coefficient__coeff_56__attr_\"imag\"\n",
      "norm_price__fft_coefficient__coeff_56__attr_\"real\"\n",
      "norm_price__fft_coefficient__coeff_5__attr_\"abs\"\n",
      "norm_price__fft_coefficient__coeff_5__attr_\"angle\"\n",
      "norm_price__fft_coefficient__coeff_5__attr_\"imag\"\n",
      "norm_price__fft_coefficient__coeff_5__attr_\"real\"\n",
      "norm_price__fft_coefficient__coeff_6__attr_\"abs\"\n",
      "norm_price__fft_coefficient__coeff_6__attr_\"angle\"\n",
      "norm_price__fft_coefficient__coeff_6__attr_\"imag\"\n",
      "norm_price__fft_coefficient__coeff_6__attr_\"real\"\n",
      "norm_price__fft_coefficient__coeff_7__attr_\"abs\"\n",
      "norm_price__fft_coefficient__coeff_7__attr_\"angle\"\n",
      "norm_price__fft_coefficient__coeff_7__attr_\"imag\"\n",
      "norm_price__fft_coefficient__coeff_7__attr_\"real\"\n",
      "norm_price__fft_coefficient__coeff_8__attr_\"abs\"\n",
      "norm_price__fft_coefficient__coeff_8__attr_\"angle\"\n",
      "norm_price__fft_coefficient__coeff_8__attr_\"imag\"\n",
      "norm_price__fft_coefficient__coeff_8__attr_\"real\"\n",
      "norm_price__fft_coefficient__coeff_9__attr_\"abs\"\n",
      "norm_price__fft_coefficient__coeff_9__attr_\"angle\"\n",
      "norm_price__fft_coefficient__coeff_9__attr_\"imag\"\n",
      "norm_price__fft_coefficient__coeff_9__attr_\"real\"\n",
      "norm_price__first_location_of_maximum\n",
      "norm_price__first_location_of_minimum\n",
      "norm_price__friedrich_coefficients__m_3__r_30__coeff_0\n",
      "norm_price__friedrich_coefficients__m_3__r_30__coeff_1\n",
      "norm_price__friedrich_coefficients__m_3__r_30__coeff_2\n",
      "norm_price__friedrich_coefficients__m_3__r_30__coeff_3\n",
      "norm_price__has_duplicate\n",
      "norm_price__has_duplicate_max\n",
      "norm_price__has_duplicate_min\n",
      "norm_price__index_mass_quantile__q_0.1\n",
      "norm_price__index_mass_quantile__q_0.2\n",
      "norm_price__index_mass_quantile__q_0.3\n",
      "norm_price__index_mass_quantile__q_0.4\n",
      "norm_price__index_mass_quantile__q_0.6\n",
      "norm_price__index_mass_quantile__q_0.7\n",
      "norm_price__index_mass_quantile__q_0.8\n",
      "norm_price__index_mass_quantile__q_0.9\n",
      "norm_price__kurtosis\n",
      "norm_price__large_standard_deviation__r_0.05\n",
      "norm_price__large_standard_deviation__r_0.1\n",
      "norm_price__large_standard_deviation__r_0.15\n",
      "norm_price__large_standard_deviation__r_0.2\n",
      "norm_price__large_standard_deviation__r_0.25\n",
      "norm_price__large_standard_deviation__r_0.3\n",
      "norm_price__large_standard_deviation__r_0.35\n",
      "norm_price__large_standard_deviation__r_0.4\n",
      "norm_price__large_standard_deviation__r_0.45\n",
      "norm_price__large_standard_deviation__r_0.5\n",
      "norm_price__large_standard_deviation__r_0.55\n",
      "norm_price__large_standard_deviation__r_0.6\n",
      "norm_price__large_standard_deviation__r_0.65\n",
      "norm_price__large_standard_deviation__r_0.7\n",
      "norm_price__large_standard_deviation__r_0.75\n",
      "norm_price__large_standard_deviation__r_0.8\n",
      "norm_price__large_standard_deviation__r_0.85\n",
      "norm_price__large_standard_deviation__r_0.9\n",
      "norm_price__large_standard_deviation__r_0.95\n",
      "norm_price__last_location_of_maximum\n",
      "norm_price__last_location_of_minimum\n",
      "norm_price__length\n",
      "norm_price__linear_trend__attr_\"intercept\"\n",
      "norm_price__linear_trend__attr_\"pvalue\"\n",
      "norm_price__linear_trend__attr_\"rvalue\"\n",
      "norm_price__linear_trend__attr_\"slope\"\n",
      "norm_price__linear_trend__attr_\"stderr\"\n",
      "norm_price__longest_strike_above_mean\n",
      "norm_price__longest_strike_below_mean\n",
      "norm_price__max_langevin_fixed_point__m_3__r_30\n",
      "norm_price__maximum\n",
      "norm_price__mean\n",
      "norm_price__mean_abs_change\n",
      "norm_price__mean_change\n",
      "norm_price__mean_second_derivative_central\n",
      "norm_price__median\n",
      "norm_price__minimum\n",
      "norm_price__number_crossing_m__m_-1\n",
      "norm_price__number_crossing_m__m_0\n",
      "norm_price__number_crossing_m__m_1\n",
      "norm_price__number_cwt_peaks__n_1\n",
      "norm_price__number_cwt_peaks__n_5\n",
      "norm_price__number_peaks__n_1\n",
      "norm_price__number_peaks__n_10\n",
      "norm_price__number_peaks__n_3\n",
      "norm_price__number_peaks__n_5\n",
      "norm_price__number_peaks__n_50\n",
      "norm_price__partial_autocorrelation__lag_0\n",
      "norm_price__partial_autocorrelation__lag_1\n",
      "norm_price__partial_autocorrelation__lag_2\n",
      "norm_price__partial_autocorrelation__lag_3\n",
      "norm_price__partial_autocorrelation__lag_4\n",
      "norm_price__partial_autocorrelation__lag_5\n",
      "norm_price__partial_autocorrelation__lag_6\n",
      "norm_price__partial_autocorrelation__lag_7\n",
      "norm_price__partial_autocorrelation__lag_8\n",
      "norm_price__partial_autocorrelation__lag_9\n",
      "norm_price__percentage_of_reoccurring_datapoints_to_all_datapoints\n",
      "norm_price__percentage_of_reoccurring_values_to_all_values\n",
      "norm_price__quantile__q_0.1\n",
      "norm_price__quantile__q_0.2\n",
      "norm_price__quantile__q_0.3\n",
      "norm_price__quantile__q_0.4\n",
      "norm_price__quantile__q_0.6\n",
      "norm_price__quantile__q_0.7\n",
      "norm_price__quantile__q_0.8\n",
      "norm_price__quantile__q_0.9\n",
      "norm_price__range_count__max_1__min_-1\n",
      "norm_price__ratio_beyond_r_sigma__r_0.5\n",
      "norm_price__ratio_beyond_r_sigma__r_1\n",
      "norm_price__ratio_beyond_r_sigma__r_1.5\n",
      "norm_price__ratio_beyond_r_sigma__r_10\n",
      "norm_price__ratio_beyond_r_sigma__r_2\n",
      "norm_price__ratio_beyond_r_sigma__r_2.5\n",
      "norm_price__ratio_beyond_r_sigma__r_3\n",
      "norm_price__ratio_beyond_r_sigma__r_5\n",
      "norm_price__ratio_beyond_r_sigma__r_6\n",
      "norm_price__ratio_beyond_r_sigma__r_7\n",
      "norm_price__ratio_value_number_to_time_series_length\n",
      "norm_price__sample_entropy\n",
      "norm_price__skewness\n",
      "norm_price__spkt_welch_density__coeff_2\n",
      "norm_price__spkt_welch_density__coeff_5\n",
      "norm_price__spkt_welch_density__coeff_8\n",
      "norm_price__standard_deviation\n",
      "norm_price__sum_of_reoccurring_data_points\n",
      "norm_price__sum_of_reoccurring_values\n",
      "norm_price__sum_values\n",
      "norm_price__symmetry_looking__r_0.0\n",
      "norm_price__symmetry_looking__r_0.05\n",
      "norm_price__symmetry_looking__r_0.1\n",
      "norm_price__symmetry_looking__r_0.15\n",
      "norm_price__symmetry_looking__r_0.2\n",
      "norm_price__symmetry_looking__r_0.25\n",
      "norm_price__symmetry_looking__r_0.3\n",
      "norm_price__symmetry_looking__r_0.35\n",
      "norm_price__symmetry_looking__r_0.4\n",
      "norm_price__symmetry_looking__r_0.45\n",
      "norm_price__symmetry_looking__r_0.5\n",
      "norm_price__symmetry_looking__r_0.55\n",
      "norm_price__symmetry_looking__r_0.6\n",
      "norm_price__symmetry_looking__r_0.65\n",
      "norm_price__symmetry_looking__r_0.7\n",
      "norm_price__symmetry_looking__r_0.75\n",
      "norm_price__symmetry_looking__r_0.8\n",
      "norm_price__symmetry_looking__r_0.85\n",
      "norm_price__symmetry_looking__r_0.9\n",
      "norm_price__symmetry_looking__r_0.95\n",
      "norm_price__time_reversal_asymmetry_statistic__lag_1\n",
      "norm_price__time_reversal_asymmetry_statistic__lag_2\n",
      "norm_price__time_reversal_asymmetry_statistic__lag_3\n",
      "norm_price__value_count__value_-inf\n",
      "norm_price__value_count__value_0\n",
      "norm_price__value_count__value_1\n",
      "norm_price__value_count__value_inf\n",
      "norm_price__value_count__value_nan\n",
      "norm_price__variance\n",
      "norm_price__variance_larger_than_standard_deviation\n"
     ]
    }
   ],
   "source": [
    "print\"\\n\".join(list(train_feats.columns.values))"
   ]
  },
  {
   "cell_type": "code",
   "execution_count": 51,
   "metadata": {
    "collapsed": true,
    "deletable": true,
    "editable": true
   },
   "outputs": [],
   "source": [
    "features_of_interest = ['norm_price__mean',\n",
    "                        'norm_price__median',\n",
    "                        'norm_price__mean_change',\n",
    "                        #'norm_price__mean_abs_change',\n",
    "                        'norm_price__first_location_of_maximum',\n",
    "                        'norm_price__first_location_of_minimum',\n",
    "                        'norm_price__linear_trend__attr_\"slope\"',\n",
    "                        'norm_price__count_above_mean',\n",
    "                        'norm_price__count_below_mean'\n",
    "                       ]"
   ]
  },
  {
   "cell_type": "code",
   "execution_count": 52,
   "metadata": {
    "collapsed": false,
    "deletable": true,
    "editable": true
   },
   "outputs": [
    {
     "name": "stdout",
     "output_type": "stream",
     "text": [
      "(212, 8)\n"
     ]
    },
    {
     "data": {
      "text/html": [
       "<div>\n",
       "<style>\n",
       "    .dataframe thead tr:only-child th {\n",
       "        text-align: right;\n",
       "    }\n",
       "\n",
       "    .dataframe thead th {\n",
       "        text-align: left;\n",
       "    }\n",
       "\n",
       "    .dataframe tbody tr th {\n",
       "        vertical-align: top;\n",
       "    }\n",
       "</style>\n",
       "<table border=\"1\" class=\"dataframe\">\n",
       "  <thead>\n",
       "    <tr style=\"text-align: right;\">\n",
       "      <th>variable</th>\n",
       "      <th>norm_price__mean</th>\n",
       "      <th>norm_price__median</th>\n",
       "      <th>norm_price__mean_change</th>\n",
       "      <th>norm_price__first_location_of_maximum</th>\n",
       "      <th>norm_price__first_location_of_minimum</th>\n",
       "      <th>norm_price__linear_trend__attr_\"slope\"</th>\n",
       "      <th>norm_price__count_above_mean</th>\n",
       "      <th>norm_price__count_below_mean</th>\n",
       "    </tr>\n",
       "    <tr>\n",
       "      <th>id</th>\n",
       "      <th></th>\n",
       "      <th></th>\n",
       "      <th></th>\n",
       "      <th></th>\n",
       "      <th></th>\n",
       "      <th></th>\n",
       "      <th></th>\n",
       "      <th></th>\n",
       "    </tr>\n",
       "  </thead>\n",
       "  <tbody>\n",
       "    <tr>\n",
       "      <th>0</th>\n",
       "      <td>1.182937</td>\n",
       "      <td>1.204903</td>\n",
       "      <td>0.000382</td>\n",
       "      <td>0.389381</td>\n",
       "      <td>0.035398</td>\n",
       "      <td>0.001512</td>\n",
       "      <td>74.0</td>\n",
       "      <td>39.0</td>\n",
       "    </tr>\n",
       "    <tr>\n",
       "      <th>1</th>\n",
       "      <td>0.985616</td>\n",
       "      <td>0.985067</td>\n",
       "      <td>-0.000494</td>\n",
       "      <td>0.132743</td>\n",
       "      <td>0.734513</td>\n",
       "      <td>-0.001266</td>\n",
       "      <td>56.0</td>\n",
       "      <td>57.0</td>\n",
       "    </tr>\n",
       "    <tr>\n",
       "      <th>2</th>\n",
       "      <td>-0.478165</td>\n",
       "      <td>-0.482909</td>\n",
       "      <td>0.000343</td>\n",
       "      <td>0.415929</td>\n",
       "      <td>0.115044</td>\n",
       "      <td>0.000130</td>\n",
       "      <td>45.0</td>\n",
       "      <td>68.0</td>\n",
       "    </tr>\n",
       "    <tr>\n",
       "      <th>3</th>\n",
       "      <td>-0.247912</td>\n",
       "      <td>-0.244275</td>\n",
       "      <td>0.000039</td>\n",
       "      <td>0.805310</td>\n",
       "      <td>0.079646</td>\n",
       "      <td>0.000593</td>\n",
       "      <td>61.0</td>\n",
       "      <td>52.0</td>\n",
       "    </tr>\n",
       "    <tr>\n",
       "      <th>4</th>\n",
       "      <td>-0.354502</td>\n",
       "      <td>-0.365625</td>\n",
       "      <td>0.000786</td>\n",
       "      <td>0.991150</td>\n",
       "      <td>0.796460</td>\n",
       "      <td>-0.000441</td>\n",
       "      <td>50.0</td>\n",
       "      <td>63.0</td>\n",
       "    </tr>\n",
       "  </tbody>\n",
       "</table>\n",
       "</div>"
      ],
      "text/plain": [
       "variable  norm_price__mean  norm_price__median  norm_price__mean_change  \\\n",
       "id                                                                        \n",
       "0                 1.182937            1.204903                 0.000382   \n",
       "1                 0.985616            0.985067                -0.000494   \n",
       "2                -0.478165           -0.482909                 0.000343   \n",
       "3                -0.247912           -0.244275                 0.000039   \n",
       "4                -0.354502           -0.365625                 0.000786   \n",
       "\n",
       "variable  norm_price__first_location_of_maximum  \\\n",
       "id                                                \n",
       "0                                      0.389381   \n",
       "1                                      0.132743   \n",
       "2                                      0.415929   \n",
       "3                                      0.805310   \n",
       "4                                      0.991150   \n",
       "\n",
       "variable  norm_price__first_location_of_minimum  \\\n",
       "id                                                \n",
       "0                                      0.035398   \n",
       "1                                      0.734513   \n",
       "2                                      0.115044   \n",
       "3                                      0.079646   \n",
       "4                                      0.796460   \n",
       "\n",
       "variable  norm_price__linear_trend__attr_\"slope\"  \\\n",
       "id                                                 \n",
       "0                                       0.001512   \n",
       "1                                      -0.001266   \n",
       "2                                       0.000130   \n",
       "3                                       0.000593   \n",
       "4                                      -0.000441   \n",
       "\n",
       "variable  norm_price__count_above_mean  norm_price__count_below_mean  \n",
       "id                                                                    \n",
       "0                                 74.0                          39.0  \n",
       "1                                 56.0                          57.0  \n",
       "2                                 45.0                          68.0  \n",
       "3                                 61.0                          52.0  \n",
       "4                                 50.0                          63.0  "
      ]
     },
     "execution_count": 52,
     "metadata": {},
     "output_type": "execute_result"
    }
   ],
   "source": [
    "print train_feats[features_of_interest].shape\n",
    "train_feats[features_of_interest].head()"
   ]
  },
  {
   "cell_type": "code",
   "execution_count": 53,
   "metadata": {
    "collapsed": false,
    "deletable": true,
    "editable": true
   },
   "outputs": [
    {
     "name": "stdout",
     "output_type": "stream",
     "text": [
      "(24, 8)\n"
     ]
    },
    {
     "data": {
      "text/html": [
       "<div>\n",
       "<style>\n",
       "    .dataframe thead tr:only-child th {\n",
       "        text-align: right;\n",
       "    }\n",
       "\n",
       "    .dataframe thead th {\n",
       "        text-align: left;\n",
       "    }\n",
       "\n",
       "    .dataframe tbody tr th {\n",
       "        vertical-align: top;\n",
       "    }\n",
       "</style>\n",
       "<table border=\"1\" class=\"dataframe\">\n",
       "  <thead>\n",
       "    <tr style=\"text-align: right;\">\n",
       "      <th>variable</th>\n",
       "      <th>norm_price__mean</th>\n",
       "      <th>norm_price__median</th>\n",
       "      <th>norm_price__mean_change</th>\n",
       "      <th>norm_price__first_location_of_maximum</th>\n",
       "      <th>norm_price__first_location_of_minimum</th>\n",
       "      <th>norm_price__linear_trend__attr_\"slope\"</th>\n",
       "      <th>norm_price__count_above_mean</th>\n",
       "      <th>norm_price__count_below_mean</th>\n",
       "    </tr>\n",
       "    <tr>\n",
       "      <th>id</th>\n",
       "      <th></th>\n",
       "      <th></th>\n",
       "      <th></th>\n",
       "      <th></th>\n",
       "      <th></th>\n",
       "      <th></th>\n",
       "      <th></th>\n",
       "      <th></th>\n",
       "    </tr>\n",
       "  </thead>\n",
       "  <tbody>\n",
       "    <tr>\n",
       "      <th>0</th>\n",
       "      <td>0.271306</td>\n",
       "      <td>0.036752</td>\n",
       "      <td>-0.011813</td>\n",
       "      <td>0.044248</td>\n",
       "      <td>0.946903</td>\n",
       "      <td>-0.013196</td>\n",
       "      <td>31.0</td>\n",
       "      <td>82.0</td>\n",
       "    </tr>\n",
       "    <tr>\n",
       "      <th>1</th>\n",
       "      <td>-0.394087</td>\n",
       "      <td>-0.385822</td>\n",
       "      <td>0.000021</td>\n",
       "      <td>0.610619</td>\n",
       "      <td>0.557522</td>\n",
       "      <td>-0.000048</td>\n",
       "      <td>68.0</td>\n",
       "      <td>45.0</td>\n",
       "    </tr>\n",
       "    <tr>\n",
       "      <th>2</th>\n",
       "      <td>0.584367</td>\n",
       "      <td>0.580125</td>\n",
       "      <td>-0.000229</td>\n",
       "      <td>0.274336</td>\n",
       "      <td>0.814159</td>\n",
       "      <td>-0.000379</td>\n",
       "      <td>51.0</td>\n",
       "      <td>62.0</td>\n",
       "    </tr>\n",
       "    <tr>\n",
       "      <th>3</th>\n",
       "      <td>0.059269</td>\n",
       "      <td>0.061939</td>\n",
       "      <td>-0.000667</td>\n",
       "      <td>0.681416</td>\n",
       "      <td>0.973451</td>\n",
       "      <td>0.000506</td>\n",
       "      <td>59.0</td>\n",
       "      <td>54.0</td>\n",
       "    </tr>\n",
       "    <tr>\n",
       "      <th>4</th>\n",
       "      <td>-0.368157</td>\n",
       "      <td>-0.377973</td>\n",
       "      <td>-0.001891</td>\n",
       "      <td>0.389381</td>\n",
       "      <td>0.964602</td>\n",
       "      <td>-0.002048</td>\n",
       "      <td>53.0</td>\n",
       "      <td>60.0</td>\n",
       "    </tr>\n",
       "  </tbody>\n",
       "</table>\n",
       "</div>"
      ],
      "text/plain": [
       "variable  norm_price__mean  norm_price__median  norm_price__mean_change  \\\n",
       "id                                                                        \n",
       "0                 0.271306            0.036752                -0.011813   \n",
       "1                -0.394087           -0.385822                 0.000021   \n",
       "2                 0.584367            0.580125                -0.000229   \n",
       "3                 0.059269            0.061939                -0.000667   \n",
       "4                -0.368157           -0.377973                -0.001891   \n",
       "\n",
       "variable  norm_price__first_location_of_maximum  \\\n",
       "id                                                \n",
       "0                                      0.044248   \n",
       "1                                      0.610619   \n",
       "2                                      0.274336   \n",
       "3                                      0.681416   \n",
       "4                                      0.389381   \n",
       "\n",
       "variable  norm_price__first_location_of_minimum  \\\n",
       "id                                                \n",
       "0                                      0.946903   \n",
       "1                                      0.557522   \n",
       "2                                      0.814159   \n",
       "3                                      0.973451   \n",
       "4                                      0.964602   \n",
       "\n",
       "variable  norm_price__linear_trend__attr_\"slope\"  \\\n",
       "id                                                 \n",
       "0                                      -0.013196   \n",
       "1                                      -0.000048   \n",
       "2                                      -0.000379   \n",
       "3                                       0.000506   \n",
       "4                                      -0.002048   \n",
       "\n",
       "variable  norm_price__count_above_mean  norm_price__count_below_mean  \n",
       "id                                                                    \n",
       "0                                 31.0                          82.0  \n",
       "1                                 68.0                          45.0  \n",
       "2                                 51.0                          62.0  \n",
       "3                                 59.0                          54.0  \n",
       "4                                 53.0                          60.0  "
      ]
     },
     "execution_count": 53,
     "metadata": {},
     "output_type": "execute_result"
    }
   ],
   "source": [
    "print test_feats[features_of_interest].shape\n",
    "test_feats[features_of_interest].head()"
   ]
  },
  {
   "cell_type": "markdown",
   "metadata": {
    "deletable": true,
    "editable": true
   },
   "source": [
    "Thats our split data, with our features of interest. Lets begin Modeling. "
   ]
  },
  {
   "cell_type": "code",
   "execution_count": 54,
   "metadata": {
    "collapsed": false,
    "deletable": true,
    "editable": true
   },
   "outputs": [],
   "source": [
    "from sklearn.preprocessing import StandardScaler\n",
    "from sklearn.svm import SVC\n",
    "from sklearn.model_selection import GridSearchCV, cross_val_score\n",
    "from sklearn.metrics import accuracy_score"
   ]
  },
  {
   "cell_type": "code",
   "execution_count": 55,
   "metadata": {
    "collapsed": false,
    "deletable": true,
    "editable": true
   },
   "outputs": [],
   "source": [
    "scaler = StandardScaler()\n",
    "classifier = SVC(C=1, coef0=1, degree=1)\n",
    "params = {\"C\":range(1,5),\n",
    "          \"degree\":range(1,3),\n",
    "          \"coef0\":range(1,3)\n",
    "         }\n",
    "classifier_gs = GridSearchCV(classifier, params)"
   ]
  },
  {
   "cell_type": "code",
   "execution_count": 56,
   "metadata": {
    "collapsed": false,
    "deletable": true,
    "editable": true
   },
   "outputs": [
    {
     "data": {
      "text/plain": [
       "GridSearchCV(cv=None, error_score='raise',\n",
       "       estimator=SVC(C=1, cache_size=200, class_weight=None, coef0=1,\n",
       "  decision_function_shape='ovr', degree=1, gamma='auto', kernel='rbf',\n",
       "  max_iter=-1, probability=False, random_state=None, shrinking=True,\n",
       "  tol=0.001, verbose=False),\n",
       "       fit_params=None, iid=True, n_jobs=1,\n",
       "       param_grid={'C': [1, 2, 3, 4], 'coef0': [1, 2], 'degree': [1, 2]},\n",
       "       pre_dispatch='2*n_jobs', refit=True, return_train_score=True,\n",
       "       scoring=None, verbose=0)"
      ]
     },
     "execution_count": 56,
     "metadata": {},
     "output_type": "execute_result"
    }
   ],
   "source": [
    "classifier_gs.fit(scaler.fit_transform(train_feats), train_y)"
   ]
  },
  {
   "cell_type": "code",
   "execution_count": 57,
   "metadata": {
    "collapsed": false,
    "deletable": true,
    "editable": true
   },
   "outputs": [
    {
     "data": {
      "text/plain": [
       "{'C': 3, 'coef0': 1, 'degree': 1}"
      ]
     },
     "execution_count": 57,
     "metadata": {},
     "output_type": "execute_result"
    }
   ],
   "source": [
    "classifier_gs.best_params_"
   ]
  },
  {
   "cell_type": "code",
   "execution_count": 58,
   "metadata": {
    "collapsed": false,
    "deletable": true,
    "editable": true
   },
   "outputs": [
    {
     "data": {
      "text/plain": [
       "array([ 0.625,  0.625,  0.625])"
      ]
     },
     "execution_count": 58,
     "metadata": {},
     "output_type": "execute_result"
    }
   ],
   "source": [
    "cross_val_score(classifier, scaler.transform(test_feats), y=test_y)"
   ]
  },
  {
   "cell_type": "markdown",
   "metadata": {
    "deletable": true,
    "editable": true
   },
   "source": [
    "Thats a trained and cross validated model. Lets pickle it for safe keeping."
   ]
  },
  {
   "cell_type": "code",
   "execution_count": 59,
   "metadata": {
    "collapsed": true,
    "deletable": true,
    "editable": true
   },
   "outputs": [],
   "source": [
    "dill.dump(classifier, open(\"final_trained_svc.pkl\",\"w\"))"
   ]
  },
  {
   "cell_type": "markdown",
   "metadata": {
    "deletable": true,
    "editable": true
   },
   "source": [
    "### Checkpoint 5 - Trained Model"
   ]
  },
  {
   "cell_type": "code",
   "execution_count": 60,
   "metadata": {
    "collapsed": false,
    "deletable": true,
    "editable": true
   },
   "outputs": [],
   "source": [
    "classifier = dill.load(open(\"final_trained_svc.pkl\",\"r\"))"
   ]
  },
  {
   "cell_type": "markdown",
   "metadata": {},
   "source": [
    "## That's all Folks?\n",
    "\n",
    "At this point, the dirty work has been done.\n",
    "\n",
    "The model exists, at this point I'm going to work on a visualization to explain how it preforms. That will fufill my work for TDI.\n",
    "\n",
    "Eventually I plan to create a pipeline that can be deployed on a webapp, but this will take some time, and require some skills I'll have to learn along the way. "
   ]
  },
  {
   "cell_type": "markdown",
   "metadata": {
    "deletable": true,
    "editable": true
   },
   "source": [
    "Now that we have a working predictor, lets play with some visualizations to show how powerful is can be.\n",
    "\n",
    "To start, lets collect our data into one large frame to explore (actually, run the same processing steps on the non-split data)."
   ]
  },
  {
   "cell_type": "code",
   "execution_count": 61,
   "metadata": {
    "collapsed": false,
    "deletable": true,
    "editable": true
   },
   "outputs": [
    {
     "name": "stderr",
     "output_type": "stream",
     "text": [
      "Feature Extraction: 100%|██████████| 236/236 [00:00<00:00, 31440.96it/s]\n"
     ]
    }
   ],
   "source": [
    "all_feats = extract_features(cleaned_agg[['norm_price', 'event_stamp', 'date_stamp']], \n",
    "                              column_id=\"event_stamp\", column_sort=\"date_stamp\", \n",
    "                              column_value=\"norm_price\", n_jobs=0).dropna(axis=1)"
   ]
  },
  {
   "cell_type": "code",
   "execution_count": 62,
   "metadata": {
    "collapsed": false
   },
   "outputs": [
    {
     "data": {
      "text/html": [
       "<div>\n",
       "<style>\n",
       "    .dataframe thead tr:only-child th {\n",
       "        text-align: right;\n",
       "    }\n",
       "\n",
       "    .dataframe thead th {\n",
       "        text-align: left;\n",
       "    }\n",
       "\n",
       "    .dataframe tbody tr th {\n",
       "        vertical-align: top;\n",
       "    }\n",
       "</style>\n",
       "<table border=\"1\" class=\"dataframe\">\n",
       "  <thead>\n",
       "    <tr style=\"text-align: right;\">\n",
       "      <th></th>\n",
       "      <th>date</th>\n",
       "      <th>norm_price</th>\n",
       "      <th>event</th>\n",
       "      <th>outcome</th>\n",
       "      <th>date_stamp</th>\n",
       "      <th>event_stamp</th>\n",
       "      <th>null</th>\n",
       "    </tr>\n",
       "  </thead>\n",
       "  <tbody>\n",
       "    <tr>\n",
       "      <th>0</th>\n",
       "      <td>2015-12-08</td>\n",
       "      <td>-0.125217</td>\n",
       "      <td>AAAP/2016-06-01</td>\n",
       "      <td>1</td>\n",
       "      <td>2015-12-08</td>\n",
       "      <td>0</td>\n",
       "      <td>0</td>\n",
       "    </tr>\n",
       "    <tr>\n",
       "      <th>1</th>\n",
       "      <td>2015-12-09</td>\n",
       "      <td>-0.119686</td>\n",
       "      <td>AAAP/2016-06-01</td>\n",
       "      <td>1</td>\n",
       "      <td>2015-12-09</td>\n",
       "      <td>0</td>\n",
       "      <td>0</td>\n",
       "    </tr>\n",
       "    <tr>\n",
       "      <th>2</th>\n",
       "      <td>2015-12-10</td>\n",
       "      <td>-0.118359</td>\n",
       "      <td>AAAP/2016-06-01</td>\n",
       "      <td>1</td>\n",
       "      <td>2015-12-10</td>\n",
       "      <td>0</td>\n",
       "      <td>0</td>\n",
       "    </tr>\n",
       "    <tr>\n",
       "      <th>3</th>\n",
       "      <td>2015-12-11</td>\n",
       "      <td>-0.110503</td>\n",
       "      <td>AAAP/2016-06-01</td>\n",
       "      <td>1</td>\n",
       "      <td>2015-12-11</td>\n",
       "      <td>0</td>\n",
       "      <td>0</td>\n",
       "    </tr>\n",
       "    <tr>\n",
       "      <th>4</th>\n",
       "      <td>2015-12-14</td>\n",
       "      <td>-0.102528</td>\n",
       "      <td>AAAP/2016-06-01</td>\n",
       "      <td>1</td>\n",
       "      <td>2015-12-14</td>\n",
       "      <td>0</td>\n",
       "      <td>0</td>\n",
       "    </tr>\n",
       "    <tr>\n",
       "      <th>5</th>\n",
       "      <td>2015-12-15</td>\n",
       "      <td>-0.116008</td>\n",
       "      <td>AAAP/2016-06-01</td>\n",
       "      <td>1</td>\n",
       "      <td>2015-12-15</td>\n",
       "      <td>0</td>\n",
       "      <td>0</td>\n",
       "    </tr>\n",
       "    <tr>\n",
       "      <th>6</th>\n",
       "      <td>2015-12-16</td>\n",
       "      <td>-0.135902</td>\n",
       "      <td>AAAP/2016-06-01</td>\n",
       "      <td>1</td>\n",
       "      <td>2015-12-16</td>\n",
       "      <td>0</td>\n",
       "      <td>0</td>\n",
       "    </tr>\n",
       "    <tr>\n",
       "      <th>7</th>\n",
       "      <td>2015-12-17</td>\n",
       "      <td>-0.127469</td>\n",
       "      <td>AAAP/2016-06-01</td>\n",
       "      <td>1</td>\n",
       "      <td>2015-12-17</td>\n",
       "      <td>0</td>\n",
       "      <td>0</td>\n",
       "    </tr>\n",
       "    <tr>\n",
       "      <th>8</th>\n",
       "      <td>2015-12-18</td>\n",
       "      <td>-0.084903</td>\n",
       "      <td>AAAP/2016-06-01</td>\n",
       "      <td>1</td>\n",
       "      <td>2015-12-18</td>\n",
       "      <td>0</td>\n",
       "      <td>0</td>\n",
       "    </tr>\n",
       "    <tr>\n",
       "      <th>9</th>\n",
       "      <td>2015-12-21</td>\n",
       "      <td>-0.124031</td>\n",
       "      <td>AAAP/2016-06-01</td>\n",
       "      <td>1</td>\n",
       "      <td>2015-12-21</td>\n",
       "      <td>0</td>\n",
       "      <td>0</td>\n",
       "    </tr>\n",
       "    <tr>\n",
       "      <th>10</th>\n",
       "      <td>2015-12-22</td>\n",
       "      <td>-0.124741</td>\n",
       "      <td>AAAP/2016-06-01</td>\n",
       "      <td>1</td>\n",
       "      <td>2015-12-22</td>\n",
       "      <td>0</td>\n",
       "      <td>0</td>\n",
       "    </tr>\n",
       "    <tr>\n",
       "      <th>11</th>\n",
       "      <td>2015-12-23</td>\n",
       "      <td>-0.131570</td>\n",
       "      <td>AAAP/2016-06-01</td>\n",
       "      <td>1</td>\n",
       "      <td>2015-12-23</td>\n",
       "      <td>0</td>\n",
       "      <td>0</td>\n",
       "    </tr>\n",
       "    <tr>\n",
       "      <th>12</th>\n",
       "      <td>2015-12-24</td>\n",
       "      <td>-0.131826</td>\n",
       "      <td>AAAP/2016-06-01</td>\n",
       "      <td>1</td>\n",
       "      <td>2015-12-24</td>\n",
       "      <td>0</td>\n",
       "      <td>0</td>\n",
       "    </tr>\n",
       "    <tr>\n",
       "      <th>13</th>\n",
       "      <td>2015-12-28</td>\n",
       "      <td>-0.133252</td>\n",
       "      <td>AAAP/2016-06-01</td>\n",
       "      <td>1</td>\n",
       "      <td>2015-12-28</td>\n",
       "      <td>0</td>\n",
       "      <td>0</td>\n",
       "    </tr>\n",
       "    <tr>\n",
       "      <th>14</th>\n",
       "      <td>2015-12-29</td>\n",
       "      <td>-0.136995</td>\n",
       "      <td>AAAP/2016-06-01</td>\n",
       "      <td>1</td>\n",
       "      <td>2015-12-29</td>\n",
       "      <td>0</td>\n",
       "      <td>0</td>\n",
       "    </tr>\n",
       "    <tr>\n",
       "      <th>15</th>\n",
       "      <td>2015-12-30</td>\n",
       "      <td>-0.129012</td>\n",
       "      <td>AAAP/2016-06-01</td>\n",
       "      <td>1</td>\n",
       "      <td>2015-12-30</td>\n",
       "      <td>0</td>\n",
       "      <td>0</td>\n",
       "    </tr>\n",
       "    <tr>\n",
       "      <th>16</th>\n",
       "      <td>2015-12-31</td>\n",
       "      <td>-0.112582</td>\n",
       "      <td>AAAP/2016-06-01</td>\n",
       "      <td>1</td>\n",
       "      <td>2015-12-31</td>\n",
       "      <td>0</td>\n",
       "      <td>0</td>\n",
       "    </tr>\n",
       "    <tr>\n",
       "      <th>17</th>\n",
       "      <td>2016-01-04</td>\n",
       "      <td>-0.096088</td>\n",
       "      <td>AAAP/2016-06-01</td>\n",
       "      <td>1</td>\n",
       "      <td>2016-01-04</td>\n",
       "      <td>0</td>\n",
       "      <td>0</td>\n",
       "    </tr>\n",
       "    <tr>\n",
       "      <th>18</th>\n",
       "      <td>2016-01-05</td>\n",
       "      <td>-0.099075</td>\n",
       "      <td>AAAP/2016-06-01</td>\n",
       "      <td>1</td>\n",
       "      <td>2016-01-05</td>\n",
       "      <td>0</td>\n",
       "      <td>0</td>\n",
       "    </tr>\n",
       "    <tr>\n",
       "      <th>19</th>\n",
       "      <td>2016-01-06</td>\n",
       "      <td>-0.100395</td>\n",
       "      <td>AAAP/2016-06-01</td>\n",
       "      <td>1</td>\n",
       "      <td>2016-01-06</td>\n",
       "      <td>0</td>\n",
       "      <td>0</td>\n",
       "    </tr>\n",
       "    <tr>\n",
       "      <th>20</th>\n",
       "      <td>2016-01-07</td>\n",
       "      <td>-0.088642</td>\n",
       "      <td>AAAP/2016-06-01</td>\n",
       "      <td>1</td>\n",
       "      <td>2016-01-07</td>\n",
       "      <td>0</td>\n",
       "      <td>0</td>\n",
       "    </tr>\n",
       "    <tr>\n",
       "      <th>21</th>\n",
       "      <td>2016-01-08</td>\n",
       "      <td>-0.097488</td>\n",
       "      <td>AAAP/2016-06-01</td>\n",
       "      <td>1</td>\n",
       "      <td>2016-01-08</td>\n",
       "      <td>0</td>\n",
       "      <td>0</td>\n",
       "    </tr>\n",
       "    <tr>\n",
       "      <th>22</th>\n",
       "      <td>2016-01-11</td>\n",
       "      <td>-0.108153</td>\n",
       "      <td>AAAP/2016-06-01</td>\n",
       "      <td>1</td>\n",
       "      <td>2016-01-11</td>\n",
       "      <td>0</td>\n",
       "      <td>0</td>\n",
       "    </tr>\n",
       "    <tr>\n",
       "      <th>23</th>\n",
       "      <td>2016-01-12</td>\n",
       "      <td>-0.155124</td>\n",
       "      <td>AAAP/2016-06-01</td>\n",
       "      <td>1</td>\n",
       "      <td>2016-01-12</td>\n",
       "      <td>0</td>\n",
       "      <td>0</td>\n",
       "    </tr>\n",
       "    <tr>\n",
       "      <th>24</th>\n",
       "      <td>2016-01-13</td>\n",
       "      <td>-0.096219</td>\n",
       "      <td>AAAP/2016-06-01</td>\n",
       "      <td>1</td>\n",
       "      <td>2016-01-13</td>\n",
       "      <td>0</td>\n",
       "      <td>0</td>\n",
       "    </tr>\n",
       "    <tr>\n",
       "      <th>25</th>\n",
       "      <td>2016-01-14</td>\n",
       "      <td>-0.127194</td>\n",
       "      <td>AAAP/2016-06-01</td>\n",
       "      <td>1</td>\n",
       "      <td>2016-01-14</td>\n",
       "      <td>0</td>\n",
       "      <td>0</td>\n",
       "    </tr>\n",
       "    <tr>\n",
       "      <th>26</th>\n",
       "      <td>2016-01-15</td>\n",
       "      <td>-0.124763</td>\n",
       "      <td>AAAP/2016-06-01</td>\n",
       "      <td>1</td>\n",
       "      <td>2016-01-15</td>\n",
       "      <td>0</td>\n",
       "      <td>0</td>\n",
       "    </tr>\n",
       "    <tr>\n",
       "      <th>27</th>\n",
       "      <td>2016-01-19</td>\n",
       "      <td>-0.088658</td>\n",
       "      <td>AAAP/2016-06-01</td>\n",
       "      <td>1</td>\n",
       "      <td>2016-01-19</td>\n",
       "      <td>0</td>\n",
       "      <td>0</td>\n",
       "    </tr>\n",
       "    <tr>\n",
       "      <th>28</th>\n",
       "      <td>2016-01-20</td>\n",
       "      <td>-0.096531</td>\n",
       "      <td>AAAP/2016-06-01</td>\n",
       "      <td>1</td>\n",
       "      <td>2016-01-20</td>\n",
       "      <td>0</td>\n",
       "      <td>0</td>\n",
       "    </tr>\n",
       "    <tr>\n",
       "      <th>29</th>\n",
       "      <td>2016-01-21</td>\n",
       "      <td>-0.076165</td>\n",
       "      <td>AAAP/2016-06-01</td>\n",
       "      <td>1</td>\n",
       "      <td>2016-01-21</td>\n",
       "      <td>0</td>\n",
       "      <td>0</td>\n",
       "    </tr>\n",
       "    <tr>\n",
       "      <th>...</th>\n",
       "      <td>...</td>\n",
       "      <td>...</td>\n",
       "      <td>...</td>\n",
       "      <td>...</td>\n",
       "      <td>...</td>\n",
       "      <td>...</td>\n",
       "      <td>...</td>\n",
       "    </tr>\n",
       "    <tr>\n",
       "      <th>26638</th>\n",
       "      <td>2016-02-03</td>\n",
       "      <td>-0.426571</td>\n",
       "      <td>OPK/2016-03-29</td>\n",
       "      <td>1</td>\n",
       "      <td>2016-02-03</td>\n",
       "      <td>235</td>\n",
       "      <td>0</td>\n",
       "    </tr>\n",
       "    <tr>\n",
       "      <th>26639</th>\n",
       "      <td>2016-02-04</td>\n",
       "      <td>-0.426016</td>\n",
       "      <td>OPK/2016-03-29</td>\n",
       "      <td>1</td>\n",
       "      <td>2016-02-04</td>\n",
       "      <td>235</td>\n",
       "      <td>0</td>\n",
       "    </tr>\n",
       "    <tr>\n",
       "      <th>26640</th>\n",
       "      <td>2016-02-05</td>\n",
       "      <td>-0.416899</td>\n",
       "      <td>OPK/2016-03-29</td>\n",
       "      <td>1</td>\n",
       "      <td>2016-02-05</td>\n",
       "      <td>235</td>\n",
       "      <td>0</td>\n",
       "    </tr>\n",
       "    <tr>\n",
       "      <th>26641</th>\n",
       "      <td>2016-02-08</td>\n",
       "      <td>-0.422374</td>\n",
       "      <td>OPK/2016-03-29</td>\n",
       "      <td>1</td>\n",
       "      <td>2016-02-08</td>\n",
       "      <td>235</td>\n",
       "      <td>0</td>\n",
       "    </tr>\n",
       "    <tr>\n",
       "      <th>26642</th>\n",
       "      <td>2016-02-09</td>\n",
       "      <td>-0.419360</td>\n",
       "      <td>OPK/2016-03-29</td>\n",
       "      <td>1</td>\n",
       "      <td>2016-02-09</td>\n",
       "      <td>235</td>\n",
       "      <td>0</td>\n",
       "    </tr>\n",
       "    <tr>\n",
       "      <th>26643</th>\n",
       "      <td>2016-02-10</td>\n",
       "      <td>-0.419741</td>\n",
       "      <td>OPK/2016-03-29</td>\n",
       "      <td>1</td>\n",
       "      <td>2016-02-10</td>\n",
       "      <td>235</td>\n",
       "      <td>0</td>\n",
       "    </tr>\n",
       "    <tr>\n",
       "      <th>26644</th>\n",
       "      <td>2016-02-11</td>\n",
       "      <td>-0.415240</td>\n",
       "      <td>OPK/2016-03-29</td>\n",
       "      <td>1</td>\n",
       "      <td>2016-02-11</td>\n",
       "      <td>235</td>\n",
       "      <td>0</td>\n",
       "    </tr>\n",
       "    <tr>\n",
       "      <th>26645</th>\n",
       "      <td>2016-02-12</td>\n",
       "      <td>-0.430270</td>\n",
       "      <td>OPK/2016-03-29</td>\n",
       "      <td>1</td>\n",
       "      <td>2016-02-12</td>\n",
       "      <td>235</td>\n",
       "      <td>0</td>\n",
       "    </tr>\n",
       "    <tr>\n",
       "      <th>26646</th>\n",
       "      <td>2016-02-16</td>\n",
       "      <td>-0.433631</td>\n",
       "      <td>OPK/2016-03-29</td>\n",
       "      <td>1</td>\n",
       "      <td>2016-02-16</td>\n",
       "      <td>235</td>\n",
       "      <td>0</td>\n",
       "    </tr>\n",
       "    <tr>\n",
       "      <th>26647</th>\n",
       "      <td>2016-02-17</td>\n",
       "      <td>-0.426396</td>\n",
       "      <td>OPK/2016-03-29</td>\n",
       "      <td>1</td>\n",
       "      <td>2016-02-17</td>\n",
       "      <td>235</td>\n",
       "      <td>0</td>\n",
       "    </tr>\n",
       "    <tr>\n",
       "      <th>26648</th>\n",
       "      <td>2016-02-18</td>\n",
       "      <td>-0.423391</td>\n",
       "      <td>OPK/2016-03-29</td>\n",
       "      <td>1</td>\n",
       "      <td>2016-02-18</td>\n",
       "      <td>235</td>\n",
       "      <td>0</td>\n",
       "    </tr>\n",
       "    <tr>\n",
       "      <th>26649</th>\n",
       "      <td>2016-02-19</td>\n",
       "      <td>-0.423297</td>\n",
       "      <td>OPK/2016-03-29</td>\n",
       "      <td>1</td>\n",
       "      <td>2016-02-19</td>\n",
       "      <td>235</td>\n",
       "      <td>0</td>\n",
       "    </tr>\n",
       "    <tr>\n",
       "      <th>26650</th>\n",
       "      <td>2016-02-22</td>\n",
       "      <td>-0.408577</td>\n",
       "      <td>OPK/2016-03-29</td>\n",
       "      <td>1</td>\n",
       "      <td>2016-02-22</td>\n",
       "      <td>235</td>\n",
       "      <td>0</td>\n",
       "    </tr>\n",
       "    <tr>\n",
       "      <th>26651</th>\n",
       "      <td>2016-02-23</td>\n",
       "      <td>-0.409377</td>\n",
       "      <td>OPK/2016-03-29</td>\n",
       "      <td>1</td>\n",
       "      <td>2016-02-23</td>\n",
       "      <td>235</td>\n",
       "      <td>0</td>\n",
       "    </tr>\n",
       "    <tr>\n",
       "      <th>26652</th>\n",
       "      <td>2016-02-24</td>\n",
       "      <td>-0.410214</td>\n",
       "      <td>OPK/2016-03-29</td>\n",
       "      <td>1</td>\n",
       "      <td>2016-02-24</td>\n",
       "      <td>235</td>\n",
       "      <td>0</td>\n",
       "    </tr>\n",
       "    <tr>\n",
       "      <th>26653</th>\n",
       "      <td>2016-02-25</td>\n",
       "      <td>-0.402962</td>\n",
       "      <td>OPK/2016-03-29</td>\n",
       "      <td>1</td>\n",
       "      <td>2016-02-25</td>\n",
       "      <td>235</td>\n",
       "      <td>0</td>\n",
       "    </tr>\n",
       "    <tr>\n",
       "      <th>26654</th>\n",
       "      <td>2016-02-26</td>\n",
       "      <td>-0.401108</td>\n",
       "      <td>OPK/2016-03-29</td>\n",
       "      <td>1</td>\n",
       "      <td>2016-02-26</td>\n",
       "      <td>235</td>\n",
       "      <td>0</td>\n",
       "    </tr>\n",
       "    <tr>\n",
       "      <th>26655</th>\n",
       "      <td>2016-02-29</td>\n",
       "      <td>-0.402916</td>\n",
       "      <td>OPK/2016-03-29</td>\n",
       "      <td>1</td>\n",
       "      <td>2016-02-29</td>\n",
       "      <td>235</td>\n",
       "      <td>0</td>\n",
       "    </tr>\n",
       "    <tr>\n",
       "      <th>26656</th>\n",
       "      <td>2016-03-01</td>\n",
       "      <td>-0.393990</td>\n",
       "      <td>OPK/2016-03-29</td>\n",
       "      <td>1</td>\n",
       "      <td>2016-03-01</td>\n",
       "      <td>235</td>\n",
       "      <td>0</td>\n",
       "    </tr>\n",
       "    <tr>\n",
       "      <th>26657</th>\n",
       "      <td>2016-03-02</td>\n",
       "      <td>-0.404402</td>\n",
       "      <td>OPK/2016-03-29</td>\n",
       "      <td>1</td>\n",
       "      <td>2016-03-02</td>\n",
       "      <td>235</td>\n",
       "      <td>0</td>\n",
       "    </tr>\n",
       "    <tr>\n",
       "      <th>26658</th>\n",
       "      <td>2016-03-03</td>\n",
       "      <td>-0.394595</td>\n",
       "      <td>OPK/2016-03-29</td>\n",
       "      <td>1</td>\n",
       "      <td>2016-03-03</td>\n",
       "      <td>235</td>\n",
       "      <td>0</td>\n",
       "    </tr>\n",
       "    <tr>\n",
       "      <th>26659</th>\n",
       "      <td>2016-03-04</td>\n",
       "      <td>-0.392689</td>\n",
       "      <td>OPK/2016-03-29</td>\n",
       "      <td>1</td>\n",
       "      <td>2016-03-04</td>\n",
       "      <td>235</td>\n",
       "      <td>0</td>\n",
       "    </tr>\n",
       "    <tr>\n",
       "      <th>26660</th>\n",
       "      <td>2016-03-07</td>\n",
       "      <td>-0.389889</td>\n",
       "      <td>OPK/2016-03-29</td>\n",
       "      <td>1</td>\n",
       "      <td>2016-03-07</td>\n",
       "      <td>235</td>\n",
       "      <td>0</td>\n",
       "    </tr>\n",
       "    <tr>\n",
       "      <th>26661</th>\n",
       "      <td>2016-03-08</td>\n",
       "      <td>-0.396168</td>\n",
       "      <td>OPK/2016-03-29</td>\n",
       "      <td>1</td>\n",
       "      <td>2016-03-08</td>\n",
       "      <td>235</td>\n",
       "      <td>0</td>\n",
       "    </tr>\n",
       "    <tr>\n",
       "      <th>26662</th>\n",
       "      <td>2016-03-09</td>\n",
       "      <td>-0.390016</td>\n",
       "      <td>OPK/2016-03-29</td>\n",
       "      <td>1</td>\n",
       "      <td>2016-03-09</td>\n",
       "      <td>235</td>\n",
       "      <td>0</td>\n",
       "    </tr>\n",
       "    <tr>\n",
       "      <th>26663</th>\n",
       "      <td>2016-03-10</td>\n",
       "      <td>-0.387753</td>\n",
       "      <td>OPK/2016-03-29</td>\n",
       "      <td>1</td>\n",
       "      <td>2016-03-10</td>\n",
       "      <td>235</td>\n",
       "      <td>0</td>\n",
       "    </tr>\n",
       "    <tr>\n",
       "      <th>26664</th>\n",
       "      <td>2016-03-11</td>\n",
       "      <td>-0.391198</td>\n",
       "      <td>OPK/2016-03-29</td>\n",
       "      <td>1</td>\n",
       "      <td>2016-03-11</td>\n",
       "      <td>235</td>\n",
       "      <td>0</td>\n",
       "    </tr>\n",
       "    <tr>\n",
       "      <th>26665</th>\n",
       "      <td>2016-03-14</td>\n",
       "      <td>-0.400337</td>\n",
       "      <td>OPK/2016-03-29</td>\n",
       "      <td>1</td>\n",
       "      <td>2016-03-14</td>\n",
       "      <td>235</td>\n",
       "      <td>0</td>\n",
       "    </tr>\n",
       "    <tr>\n",
       "      <th>26666</th>\n",
       "      <td>2016-03-15</td>\n",
       "      <td>-0.378449</td>\n",
       "      <td>OPK/2016-03-29</td>\n",
       "      <td>1</td>\n",
       "      <td>2016-03-15</td>\n",
       "      <td>235</td>\n",
       "      <td>0</td>\n",
       "    </tr>\n",
       "    <tr>\n",
       "      <th>26667</th>\n",
       "      <td>2016-03-16</td>\n",
       "      <td>-0.368025</td>\n",
       "      <td>OPK/2016-03-29</td>\n",
       "      <td>1</td>\n",
       "      <td>2016-03-16</td>\n",
       "      <td>235</td>\n",
       "      <td>0</td>\n",
       "    </tr>\n",
       "  </tbody>\n",
       "</table>\n",
       "<p>26668 rows × 7 columns</p>\n",
       "</div>"
      ],
      "text/plain": [
       "             date  norm_price            event  outcome date_stamp  \\\n",
       "0      2015-12-08   -0.125217  AAAP/2016-06-01        1 2015-12-08   \n",
       "1      2015-12-09   -0.119686  AAAP/2016-06-01        1 2015-12-09   \n",
       "2      2015-12-10   -0.118359  AAAP/2016-06-01        1 2015-12-10   \n",
       "3      2015-12-11   -0.110503  AAAP/2016-06-01        1 2015-12-11   \n",
       "4      2015-12-14   -0.102528  AAAP/2016-06-01        1 2015-12-14   \n",
       "5      2015-12-15   -0.116008  AAAP/2016-06-01        1 2015-12-15   \n",
       "6      2015-12-16   -0.135902  AAAP/2016-06-01        1 2015-12-16   \n",
       "7      2015-12-17   -0.127469  AAAP/2016-06-01        1 2015-12-17   \n",
       "8      2015-12-18   -0.084903  AAAP/2016-06-01        1 2015-12-18   \n",
       "9      2015-12-21   -0.124031  AAAP/2016-06-01        1 2015-12-21   \n",
       "10     2015-12-22   -0.124741  AAAP/2016-06-01        1 2015-12-22   \n",
       "11     2015-12-23   -0.131570  AAAP/2016-06-01        1 2015-12-23   \n",
       "12     2015-12-24   -0.131826  AAAP/2016-06-01        1 2015-12-24   \n",
       "13     2015-12-28   -0.133252  AAAP/2016-06-01        1 2015-12-28   \n",
       "14     2015-12-29   -0.136995  AAAP/2016-06-01        1 2015-12-29   \n",
       "15     2015-12-30   -0.129012  AAAP/2016-06-01        1 2015-12-30   \n",
       "16     2015-12-31   -0.112582  AAAP/2016-06-01        1 2015-12-31   \n",
       "17     2016-01-04   -0.096088  AAAP/2016-06-01        1 2016-01-04   \n",
       "18     2016-01-05   -0.099075  AAAP/2016-06-01        1 2016-01-05   \n",
       "19     2016-01-06   -0.100395  AAAP/2016-06-01        1 2016-01-06   \n",
       "20     2016-01-07   -0.088642  AAAP/2016-06-01        1 2016-01-07   \n",
       "21     2016-01-08   -0.097488  AAAP/2016-06-01        1 2016-01-08   \n",
       "22     2016-01-11   -0.108153  AAAP/2016-06-01        1 2016-01-11   \n",
       "23     2016-01-12   -0.155124  AAAP/2016-06-01        1 2016-01-12   \n",
       "24     2016-01-13   -0.096219  AAAP/2016-06-01        1 2016-01-13   \n",
       "25     2016-01-14   -0.127194  AAAP/2016-06-01        1 2016-01-14   \n",
       "26     2016-01-15   -0.124763  AAAP/2016-06-01        1 2016-01-15   \n",
       "27     2016-01-19   -0.088658  AAAP/2016-06-01        1 2016-01-19   \n",
       "28     2016-01-20   -0.096531  AAAP/2016-06-01        1 2016-01-20   \n",
       "29     2016-01-21   -0.076165  AAAP/2016-06-01        1 2016-01-21   \n",
       "...           ...         ...              ...      ...        ...   \n",
       "26638  2016-02-03   -0.426571   OPK/2016-03-29        1 2016-02-03   \n",
       "26639  2016-02-04   -0.426016   OPK/2016-03-29        1 2016-02-04   \n",
       "26640  2016-02-05   -0.416899   OPK/2016-03-29        1 2016-02-05   \n",
       "26641  2016-02-08   -0.422374   OPK/2016-03-29        1 2016-02-08   \n",
       "26642  2016-02-09   -0.419360   OPK/2016-03-29        1 2016-02-09   \n",
       "26643  2016-02-10   -0.419741   OPK/2016-03-29        1 2016-02-10   \n",
       "26644  2016-02-11   -0.415240   OPK/2016-03-29        1 2016-02-11   \n",
       "26645  2016-02-12   -0.430270   OPK/2016-03-29        1 2016-02-12   \n",
       "26646  2016-02-16   -0.433631   OPK/2016-03-29        1 2016-02-16   \n",
       "26647  2016-02-17   -0.426396   OPK/2016-03-29        1 2016-02-17   \n",
       "26648  2016-02-18   -0.423391   OPK/2016-03-29        1 2016-02-18   \n",
       "26649  2016-02-19   -0.423297   OPK/2016-03-29        1 2016-02-19   \n",
       "26650  2016-02-22   -0.408577   OPK/2016-03-29        1 2016-02-22   \n",
       "26651  2016-02-23   -0.409377   OPK/2016-03-29        1 2016-02-23   \n",
       "26652  2016-02-24   -0.410214   OPK/2016-03-29        1 2016-02-24   \n",
       "26653  2016-02-25   -0.402962   OPK/2016-03-29        1 2016-02-25   \n",
       "26654  2016-02-26   -0.401108   OPK/2016-03-29        1 2016-02-26   \n",
       "26655  2016-02-29   -0.402916   OPK/2016-03-29        1 2016-02-29   \n",
       "26656  2016-03-01   -0.393990   OPK/2016-03-29        1 2016-03-01   \n",
       "26657  2016-03-02   -0.404402   OPK/2016-03-29        1 2016-03-02   \n",
       "26658  2016-03-03   -0.394595   OPK/2016-03-29        1 2016-03-03   \n",
       "26659  2016-03-04   -0.392689   OPK/2016-03-29        1 2016-03-04   \n",
       "26660  2016-03-07   -0.389889   OPK/2016-03-29        1 2016-03-07   \n",
       "26661  2016-03-08   -0.396168   OPK/2016-03-29        1 2016-03-08   \n",
       "26662  2016-03-09   -0.390016   OPK/2016-03-29        1 2016-03-09   \n",
       "26663  2016-03-10   -0.387753   OPK/2016-03-29        1 2016-03-10   \n",
       "26664  2016-03-11   -0.391198   OPK/2016-03-29        1 2016-03-11   \n",
       "26665  2016-03-14   -0.400337   OPK/2016-03-29        1 2016-03-14   \n",
       "26666  2016-03-15   -0.378449   OPK/2016-03-29        1 2016-03-15   \n",
       "26667  2016-03-16   -0.368025   OPK/2016-03-29        1 2016-03-16   \n",
       "\n",
       "       event_stamp  null  \n",
       "0                0     0  \n",
       "1                0     0  \n",
       "2                0     0  \n",
       "3                0     0  \n",
       "4                0     0  \n",
       "5                0     0  \n",
       "6                0     0  \n",
       "7                0     0  \n",
       "8                0     0  \n",
       "9                0     0  \n",
       "10               0     0  \n",
       "11               0     0  \n",
       "12               0     0  \n",
       "13               0     0  \n",
       "14               0     0  \n",
       "15               0     0  \n",
       "16               0     0  \n",
       "17               0     0  \n",
       "18               0     0  \n",
       "19               0     0  \n",
       "20               0     0  \n",
       "21               0     0  \n",
       "22               0     0  \n",
       "23               0     0  \n",
       "24               0     0  \n",
       "25               0     0  \n",
       "26               0     0  \n",
       "27               0     0  \n",
       "28               0     0  \n",
       "29               0     0  \n",
       "...            ...   ...  \n",
       "26638          235     0  \n",
       "26639          235     0  \n",
       "26640          235     0  \n",
       "26641          235     0  \n",
       "26642          235     0  \n",
       "26643          235     0  \n",
       "26644          235     0  \n",
       "26645          235     0  \n",
       "26646          235     0  \n",
       "26647          235     0  \n",
       "26648          235     0  \n",
       "26649          235     0  \n",
       "26650          235     0  \n",
       "26651          235     0  \n",
       "26652          235     0  \n",
       "26653          235     0  \n",
       "26654          235     0  \n",
       "26655          235     0  \n",
       "26656          235     0  \n",
       "26657          235     0  \n",
       "26658          235     0  \n",
       "26659          235     0  \n",
       "26660          235     0  \n",
       "26661          235     0  \n",
       "26662          235     0  \n",
       "26663          235     0  \n",
       "26664          235     0  \n",
       "26665          235     0  \n",
       "26666          235     0  \n",
       "26667          235     0  \n",
       "\n",
       "[26668 rows x 7 columns]"
      ]
     },
     "execution_count": 62,
     "metadata": {},
     "output_type": "execute_result"
    }
   ],
   "source": [
    "cleaned_agg"
   ]
  },
  {
   "cell_type": "code",
   "execution_count": 63,
   "metadata": {
    "collapsed": false,
    "deletable": true,
    "editable": true
   },
   "outputs": [
    {
     "name": "stdout",
     "output_type": "stream",
     "text": [
      "(236, 8)\n"
     ]
    },
    {
     "data": {
      "text/html": [
       "<div>\n",
       "<style>\n",
       "    .dataframe thead tr:only-child th {\n",
       "        text-align: right;\n",
       "    }\n",
       "\n",
       "    .dataframe thead th {\n",
       "        text-align: left;\n",
       "    }\n",
       "\n",
       "    .dataframe tbody tr th {\n",
       "        vertical-align: top;\n",
       "    }\n",
       "</style>\n",
       "<table border=\"1\" class=\"dataframe\">\n",
       "  <thead>\n",
       "    <tr style=\"text-align: right;\">\n",
       "      <th>variable</th>\n",
       "      <th>norm_price__mean</th>\n",
       "      <th>norm_price__median</th>\n",
       "      <th>norm_price__mean_change</th>\n",
       "      <th>norm_price__first_location_of_maximum</th>\n",
       "      <th>norm_price__first_location_of_minimum</th>\n",
       "      <th>norm_price__linear_trend__attr_\"slope\"</th>\n",
       "      <th>norm_price__count_above_mean</th>\n",
       "      <th>norm_price__count_below_mean</th>\n",
       "    </tr>\n",
       "    <tr>\n",
       "      <th>id</th>\n",
       "      <th></th>\n",
       "      <th></th>\n",
       "      <th></th>\n",
       "      <th></th>\n",
       "      <th></th>\n",
       "      <th></th>\n",
       "      <th></th>\n",
       "      <th></th>\n",
       "    </tr>\n",
       "  </thead>\n",
       "  <tbody>\n",
       "    <tr>\n",
       "      <th>0</th>\n",
       "      <td>0.009741</td>\n",
       "      <td>0.048816</td>\n",
       "      <td>0.000875</td>\n",
       "      <td>0.610619</td>\n",
       "      <td>0.203540</td>\n",
       "      <td>0.002459</td>\n",
       "      <td>60.0</td>\n",
       "      <td>53.0</td>\n",
       "    </tr>\n",
       "    <tr>\n",
       "      <th>1</th>\n",
       "      <td>0.059269</td>\n",
       "      <td>0.061939</td>\n",
       "      <td>-0.000667</td>\n",
       "      <td>0.681416</td>\n",
       "      <td>0.973451</td>\n",
       "      <td>0.000506</td>\n",
       "      <td>59.0</td>\n",
       "      <td>54.0</td>\n",
       "    </tr>\n",
       "    <tr>\n",
       "      <th>2</th>\n",
       "      <td>0.096399</td>\n",
       "      <td>0.077117</td>\n",
       "      <td>0.001571</td>\n",
       "      <td>0.893805</td>\n",
       "      <td>0.681416</td>\n",
       "      <td>0.000712</td>\n",
       "      <td>35.0</td>\n",
       "      <td>78.0</td>\n",
       "    </tr>\n",
       "    <tr>\n",
       "      <th>3</th>\n",
       "      <td>0.394134</td>\n",
       "      <td>0.375288</td>\n",
       "      <td>0.002183</td>\n",
       "      <td>0.699115</td>\n",
       "      <td>0.336283</td>\n",
       "      <td>0.004218</td>\n",
       "      <td>53.0</td>\n",
       "      <td>60.0</td>\n",
       "    </tr>\n",
       "    <tr>\n",
       "      <th>4</th>\n",
       "      <td>0.665529</td>\n",
       "      <td>0.664498</td>\n",
       "      <td>0.001029</td>\n",
       "      <td>0.920354</td>\n",
       "      <td>0.530973</td>\n",
       "      <td>0.001494</td>\n",
       "      <td>54.0</td>\n",
       "      <td>59.0</td>\n",
       "    </tr>\n",
       "  </tbody>\n",
       "</table>\n",
       "</div>"
      ],
      "text/plain": [
       "variable  norm_price__mean  norm_price__median  norm_price__mean_change  \\\n",
       "id                                                                        \n",
       "0                 0.009741            0.048816                 0.000875   \n",
       "1                 0.059269            0.061939                -0.000667   \n",
       "2                 0.096399            0.077117                 0.001571   \n",
       "3                 0.394134            0.375288                 0.002183   \n",
       "4                 0.665529            0.664498                 0.001029   \n",
       "\n",
       "variable  norm_price__first_location_of_maximum  \\\n",
       "id                                                \n",
       "0                                      0.610619   \n",
       "1                                      0.681416   \n",
       "2                                      0.893805   \n",
       "3                                      0.699115   \n",
       "4                                      0.920354   \n",
       "\n",
       "variable  norm_price__first_location_of_minimum  \\\n",
       "id                                                \n",
       "0                                      0.203540   \n",
       "1                                      0.973451   \n",
       "2                                      0.681416   \n",
       "3                                      0.336283   \n",
       "4                                      0.530973   \n",
       "\n",
       "variable  norm_price__linear_trend__attr_\"slope\"  \\\n",
       "id                                                 \n",
       "0                                       0.002459   \n",
       "1                                       0.000506   \n",
       "2                                       0.000712   \n",
       "3                                       0.004218   \n",
       "4                                       0.001494   \n",
       "\n",
       "variable  norm_price__count_above_mean  norm_price__count_below_mean  \n",
       "id                                                                    \n",
       "0                                 60.0                          53.0  \n",
       "1                                 59.0                          54.0  \n",
       "2                                 35.0                          78.0  \n",
       "3                                 53.0                          60.0  \n",
       "4                                 54.0                          59.0  "
      ]
     },
     "execution_count": 63,
     "metadata": {},
     "output_type": "execute_result"
    }
   ],
   "source": [
    "print all_feats[features_of_interest].shape\n",
    "all_feats[features_of_interest].head()"
   ]
  },
  {
   "cell_type": "code",
   "execution_count": 64,
   "metadata": {
    "collapsed": true,
    "deletable": true,
    "editable": true
   },
   "outputs": [],
   "source": [
    "all_y =\\\n",
    "cleaned_agg[['event_stamp', 'outcome']]\\\n",
    ".groupby('event_stamp')\\\n",
    ".head(1).set_index('event_stamp')['outcome']"
   ]
  },
  {
   "cell_type": "code",
   "execution_count": 65,
   "metadata": {
    "collapsed": false
   },
   "outputs": [],
   "source": [
    "all_events =\\\n",
    "cleaned_agg[['event_stamp','event']]\\\n",
    ".groupby('event_stamp')\\\n",
    ".head(1).set_index('event_stamp')['event']"
   ]
  },
  {
   "cell_type": "code",
   "execution_count": 66,
   "metadata": {
    "collapsed": false
   },
   "outputs": [],
   "source": [
    "all_predictions = classifier_gs.predict(scaler.transform(all_feats))"
   ]
  },
  {
   "cell_type": "code",
   "execution_count": 67,
   "metadata": {
    "collapsed": false
   },
   "outputs": [],
   "source": [
    "events_and_predictions = pd.DataFrame(all_events).join(pd.DataFrame(all_predictions))"
   ]
  },
  {
   "cell_type": "code",
   "execution_count": 68,
   "metadata": {
    "collapsed": false
   },
   "outputs": [
    {
     "data": {
      "text/plain": [
       "(236, 2)"
      ]
     },
     "execution_count": 68,
     "metadata": {},
     "output_type": "execute_result"
    }
   ],
   "source": [
    "events_and_predictions.shape"
   ]
  },
  {
   "cell_type": "markdown",
   "metadata": {},
   "source": [
    "Lets generate a random population of guesses to check, In this case, I'm going to generate random 1,000,000 guesses (of 1 or 0) for each row of the data and average these to generate a random distribution. "
   ]
  },
  {
   "cell_type": "code",
   "execution_count": 69,
   "metadata": {
    "collapsed": true
   },
   "outputs": [],
   "source": [
    "random_guesses = np.random.randint(0,2,size=(events_and_predictions.shape[0], 1000000))"
   ]
  },
  {
   "cell_type": "code",
   "execution_count": 70,
   "metadata": {
    "collapsed": false
   },
   "outputs": [
    {
     "name": "stdout",
     "output_type": "stream",
     "text": [
      "(236, 1000000)\n"
     ]
    },
    {
     "data": {
      "text/plain": [
       "array([[0, 0, 0, ..., 1, 0, 1],\n",
       "       [0, 1, 0, ..., 1, 1, 1],\n",
       "       [1, 1, 0, ..., 1, 1, 0],\n",
       "       ..., \n",
       "       [0, 0, 1, ..., 0, 1, 1],\n",
       "       [1, 1, 0, ..., 0, 0, 1],\n",
       "       [1, 1, 1, ..., 0, 1, 0]])"
      ]
     },
     "execution_count": 70,
     "metadata": {},
     "output_type": "execute_result"
    }
   ],
   "source": [
    "print random_guesses.shape\n",
    "random_guesses"
   ]
  },
  {
   "cell_type": "code",
   "execution_count": 71,
   "metadata": {
    "collapsed": false
   },
   "outputs": [],
   "source": [
    "random_guess_means = np.mean(random_guesses, axis = 1)"
   ]
  },
  {
   "cell_type": "code",
   "execution_count": 72,
   "metadata": {
    "collapsed": false
   },
   "outputs": [
    {
     "data": {
      "text/plain": [
       "(236,)"
      ]
     },
     "execution_count": 72,
     "metadata": {},
     "output_type": "execute_result"
    }
   ],
   "source": [
    "random_guess_means.shape"
   ]
  },
  {
   "cell_type": "code",
   "execution_count": 73,
   "metadata": {
    "collapsed": false
   },
   "outputs": [],
   "source": [
    "events_and_predictions.columns = ['event', 'pass_prediction']\n",
    "events_and_predictions['pass_random'] = [int(x) for x in random_guess_means.round()]\n",
    "events_and_predictions['pass_all'] = 1"
   ]
  },
  {
   "cell_type": "code",
   "execution_count": 74,
   "metadata": {
    "collapsed": false
   },
   "outputs": [
    {
     "data": {
      "text/html": [
       "<div>\n",
       "<style>\n",
       "    .dataframe thead tr:only-child th {\n",
       "        text-align: right;\n",
       "    }\n",
       "\n",
       "    .dataframe thead th {\n",
       "        text-align: left;\n",
       "    }\n",
       "\n",
       "    .dataframe tbody tr th {\n",
       "        vertical-align: top;\n",
       "    }\n",
       "</style>\n",
       "<table border=\"1\" class=\"dataframe\">\n",
       "  <thead>\n",
       "    <tr style=\"text-align: right;\">\n",
       "      <th></th>\n",
       "      <th>event</th>\n",
       "      <th>pass_prediction</th>\n",
       "      <th>pass_random</th>\n",
       "      <th>pass_all</th>\n",
       "    </tr>\n",
       "    <tr>\n",
       "      <th>event_stamp</th>\n",
       "      <th></th>\n",
       "      <th></th>\n",
       "      <th></th>\n",
       "      <th></th>\n",
       "    </tr>\n",
       "  </thead>\n",
       "  <tbody>\n",
       "    <tr>\n",
       "      <th>0</th>\n",
       "      <td>AAAP/2016-06-01</td>\n",
       "      <td>0</td>\n",
       "      <td>0</td>\n",
       "      <td>1</td>\n",
       "    </tr>\n",
       "    <tr>\n",
       "      <th>1</th>\n",
       "      <td>AAAP/2016-12-28</td>\n",
       "      <td>0</td>\n",
       "      <td>1</td>\n",
       "      <td>1</td>\n",
       "    </tr>\n",
       "    <tr>\n",
       "      <th>2</th>\n",
       "      <td>AAAP/2017-08-28</td>\n",
       "      <td>0</td>\n",
       "      <td>0</td>\n",
       "      <td>1</td>\n",
       "    </tr>\n",
       "  </tbody>\n",
       "</table>\n",
       "</div>"
      ],
      "text/plain": [
       "                       event  pass_prediction  pass_random  pass_all\n",
       "event_stamp                                                         \n",
       "0            AAAP/2016-06-01                0            0         1\n",
       "1            AAAP/2016-12-28                0            1         1\n",
       "2            AAAP/2017-08-28                0            0         1"
      ]
     },
     "execution_count": 74,
     "metadata": {},
     "output_type": "execute_result"
    }
   ],
   "source": [
    "events_and_predictions.head(3)"
   ]
  },
  {
   "cell_type": "code",
   "execution_count": 75,
   "metadata": {
    "collapsed": false
   },
   "outputs": [],
   "source": [
    "predicted_passes = events_and_predictions[events_and_predictions['pass_prediction'] == 1]\n",
    "predicted_fails = events_and_predictions[events_and_predictions['pass_prediction'] == 0]"
   ]
  },
  {
   "cell_type": "markdown",
   "metadata": {},
   "source": [
    "Thats every event in a human readable format, with it's machine predicted outcome, a randomly guessed outcome, and an all outcomes guess.\n",
    "Now lets pull some price data and see how each model fares."
   ]
  },
  {
   "cell_type": "markdown",
   "metadata": {},
   "source": [
    "First, lets run over our inital dataframe of prices, and grab the prices of interest, the prices from one week before the PDFUA Date and about two months after the PDUFA date. I included the (ugly) try except block to tolerate weekends and market closure days."
   ]
  },
  {
   "cell_type": "code",
   "execution_count": 76,
   "metadata": {
    "collapsed": false
   },
   "outputs": [],
   "source": [
    "def x_days_later(date_str, x):\n",
    "    pdufa_day = datetime.strptime(date_str,\"%Y-%m-%d\")\n",
    "    change = timedelta(days = x)\n",
    "    delta_date = pdufa_day + change\n",
    "    return delta_date.strftime(\"%Y-%m-%d\")"
   ]
  },
  {
   "cell_type": "code",
   "execution_count": 77,
   "metadata": {
    "collapsed": false
   },
   "outputs": [
    {
     "name": "stdout",
     "output_type": "stream",
     "text": [
      "2006-10-06 00:00:00\n",
      "2017-10-06 00:00:00\n"
     ]
    }
   ],
   "source": [
    "lead_price = 7 #how many days before the PDUFA to sample the price history\n",
    "lag_price = 60 #how many days after the PDUFA to sample the price history\n",
    "prior_and_post_prices = []\n",
    "mindate = datetime(9999, 12, 31)\n",
    "maxdate = datetime(1, 1, 1)\n",
    "for stamp in events_and_predictions['event']:\n",
    "    ticker, date = stamp.split(\"/\")\n",
    "    if datetime.strptime(date,\"%Y-%m-%d\") < mindate:\n",
    "        mindate = datetime.strptime(date,\"%Y-%m-%d\")\n",
    "    if datetime.strptime(date,\"%Y-%m-%d\") > maxdate:\n",
    "        maxdate = datetime.strptime(date,\"%Y-%m-%d\")\n",
    "    try:\n",
    "        p_7_day = price_and_fda[ticker].loc[x_days_later(date, -1*lead_price)]['close']\n",
    "    except KeyError:\n",
    "        p_7_day = None\n",
    "    try:\n",
    "        p_60_day = price_and_fda[ticker].loc[x_days_later(date,lag_price)]['close']\n",
    "    except KeyError:\n",
    "        try:\n",
    "            p_60_day = price_and_fda[ticker].loc[x_days_later(date,lag_price-1)]['close']\n",
    "        except KeyError:\n",
    "            try:\n",
    "                p_60_day = price_and_fda[ticker].loc[x_days_later(date,lag_price-2)]['close']\n",
    "            except KeyError:\n",
    "                try:\n",
    "                    p_60_day = price_and_fda[ticker].loc[x_days_later(date,lag_price-3)]['close']\n",
    "                except KeyError:\n",
    "                    p_60_day = None\n",
    "    line = (stamp, p_7_day, p_60_day)\n",
    "    if None not in line:\n",
    "        prior_and_post_prices.append(line)\n",
    "print mindate\n",
    "print maxdate"
   ]
  },
  {
   "cell_type": "code",
   "execution_count": 78,
   "metadata": {
    "collapsed": false
   },
   "outputs": [
    {
     "data": {
      "text/html": [
       "<div>\n",
       "<style>\n",
       "    .dataframe thead tr:only-child th {\n",
       "        text-align: right;\n",
       "    }\n",
       "\n",
       "    .dataframe thead th {\n",
       "        text-align: left;\n",
       "    }\n",
       "\n",
       "    .dataframe tbody tr th {\n",
       "        vertical-align: top;\n",
       "    }\n",
       "</style>\n",
       "<table border=\"1\" class=\"dataframe\">\n",
       "  <thead>\n",
       "    <tr style=\"text-align: right;\">\n",
       "      <th></th>\n",
       "      <th>event</th>\n",
       "      <th>close_-7_Day</th>\n",
       "      <th>close_+60_Day</th>\n",
       "    </tr>\n",
       "  </thead>\n",
       "  <tbody>\n",
       "    <tr>\n",
       "      <th>0</th>\n",
       "      <td>AAAP/2016-06-01</td>\n",
       "      <td>29.29</td>\n",
       "      <td>31.29</td>\n",
       "    </tr>\n",
       "    <tr>\n",
       "      <th>1</th>\n",
       "      <td>AAAP/2016-12-28</td>\n",
       "      <td>24.68</td>\n",
       "      <td>36.96</td>\n",
       "    </tr>\n",
       "    <tr>\n",
       "      <th>2</th>\n",
       "      <td>AAAP/2017-08-28</td>\n",
       "      <td>48.65</td>\n",
       "      <td>72.91</td>\n",
       "    </tr>\n",
       "  </tbody>\n",
       "</table>\n",
       "</div>"
      ],
      "text/plain": [
       "             event  close_-7_Day  close_+60_Day\n",
       "0  AAAP/2016-06-01         29.29          31.29\n",
       "1  AAAP/2016-12-28         24.68          36.96\n",
       "2  AAAP/2017-08-28         48.65          72.91"
      ]
     },
     "execution_count": 78,
     "metadata": {},
     "output_type": "execute_result"
    }
   ],
   "source": [
    "prior_and_post_prices = pd.DataFrame(prior_and_post_prices)\n",
    "prior_and_post_prices.columns = ['event', 'close_-7_Day', 'close_+'+str(lag_price)+'_Day']\n",
    "prior_and_post_prices.head(3)"
   ]
  },
  {
   "cell_type": "code",
   "execution_count": 79,
   "metadata": {
    "collapsed": false
   },
   "outputs": [],
   "source": [
    "predictions_and_prices =\\\n",
    "pd.merge(events_and_predictions, prior_and_post_prices, on='event')"
   ]
  },
  {
   "cell_type": "code",
   "execution_count": 80,
   "metadata": {
    "collapsed": true
   },
   "outputs": [],
   "source": [
    "def get_date_from_stamp(stamp):\n",
    "    return datetime.strptime(stamp.split(\"/\")[1],\"%Y-%m-%d\")"
   ]
  },
  {
   "cell_type": "code",
   "execution_count": 81,
   "metadata": {
    "collapsed": false
   },
   "outputs": [],
   "source": [
    "predictions_and_prices['date'] = predictions_and_prices.event.apply(get_date_from_stamp)"
   ]
  },
  {
   "cell_type": "code",
   "execution_count": 82,
   "metadata": {
    "collapsed": true
   },
   "outputs": [],
   "source": [
    "predictions_and_prices['price_%_change'] = \\\n",
    "((predictions_and_prices['close_+60_Day']-predictions_and_prices['close_-7_Day']) / \\\n",
    " predictions_and_prices['close_-7_Day'])*100"
   ]
  },
  {
   "cell_type": "code",
   "execution_count": 83,
   "metadata": {
    "collapsed": false,
    "deletable": true,
    "editable": true,
    "scrolled": true
   },
   "outputs": [],
   "source": [
    "sim_df = predictions_and_prices.sort_values(['date'], axis=0).dropna(axis=0).set_index('date')"
   ]
  },
  {
   "cell_type": "code",
   "execution_count": 84,
   "metadata": {
    "collapsed": false
   },
   "outputs": [
    {
     "data": {
      "text/html": [
       "<div>\n",
       "<style>\n",
       "    .dataframe thead tr:only-child th {\n",
       "        text-align: right;\n",
       "    }\n",
       "\n",
       "    .dataframe thead th {\n",
       "        text-align: left;\n",
       "    }\n",
       "\n",
       "    .dataframe tbody tr th {\n",
       "        vertical-align: top;\n",
       "    }\n",
       "</style>\n",
       "<table border=\"1\" class=\"dataframe\">\n",
       "  <thead>\n",
       "    <tr style=\"text-align: right;\">\n",
       "      <th></th>\n",
       "      <th>event</th>\n",
       "      <th>pass_prediction</th>\n",
       "      <th>pass_random</th>\n",
       "      <th>pass_all</th>\n",
       "      <th>close_-7_Day</th>\n",
       "      <th>close_+60_Day</th>\n",
       "      <th>price_%_change</th>\n",
       "    </tr>\n",
       "    <tr>\n",
       "      <th>date</th>\n",
       "      <th></th>\n",
       "      <th></th>\n",
       "      <th></th>\n",
       "      <th></th>\n",
       "      <th></th>\n",
       "      <th></th>\n",
       "      <th></th>\n",
       "    </tr>\n",
       "  </thead>\n",
       "  <tbody>\n",
       "    <tr>\n",
       "      <th>2006-10-06</th>\n",
       "      <td>NEW/2006-10-06</td>\n",
       "      <td>0</td>\n",
       "      <td>0</td>\n",
       "      <td>1</td>\n",
       "      <td>12.30</td>\n",
       "      <td>12.0000</td>\n",
       "      <td>-2.439024</td>\n",
       "    </tr>\n",
       "    <tr>\n",
       "      <th>2007-08-15</th>\n",
       "      <td>SPPI/2007-08-15</td>\n",
       "      <td>0</td>\n",
       "      <td>0</td>\n",
       "      <td>1</td>\n",
       "      <td>4.00</td>\n",
       "      <td>4.5400</td>\n",
       "      <td>13.500000</td>\n",
       "    </tr>\n",
       "    <tr>\n",
       "      <th>2007-08-21</th>\n",
       "      <td>NBIX/2007-08-21</td>\n",
       "      <td>0</td>\n",
       "      <td>0</td>\n",
       "      <td>1</td>\n",
       "      <td>10.31</td>\n",
       "      <td>10.0200</td>\n",
       "      <td>-2.812803</td>\n",
       "    </tr>\n",
       "    <tr>\n",
       "      <th>2007-12-12</th>\n",
       "      <td>NBIX/2007-12-12</td>\n",
       "      <td>0</td>\n",
       "      <td>0</td>\n",
       "      <td>1</td>\n",
       "      <td>11.72</td>\n",
       "      <td>5.1000</td>\n",
       "      <td>-56.484642</td>\n",
       "    </tr>\n",
       "    <tr>\n",
       "      <th>2008-01-30</th>\n",
       "      <td>PGNX/2008-01-30</td>\n",
       "      <td>0</td>\n",
       "      <td>1</td>\n",
       "      <td>1</td>\n",
       "      <td>18.04</td>\n",
       "      <td>6.2100</td>\n",
       "      <td>-65.576497</td>\n",
       "    </tr>\n",
       "    <tr>\n",
       "      <th>2008-02-29</th>\n",
       "      <td>JAZZ/2008-02-29</td>\n",
       "      <td>0</td>\n",
       "      <td>0</td>\n",
       "      <td>1</td>\n",
       "      <td>11.52</td>\n",
       "      <td>9.0000</td>\n",
       "      <td>-21.875000</td>\n",
       "    </tr>\n",
       "    <tr>\n",
       "      <th>2008-04-30</th>\n",
       "      <td>PGNX/2008-04-30</td>\n",
       "      <td>1</td>\n",
       "      <td>0</td>\n",
       "      <td>1</td>\n",
       "      <td>8.03</td>\n",
       "      <td>16.3800</td>\n",
       "      <td>103.985056</td>\n",
       "    </tr>\n",
       "    <tr>\n",
       "      <th>2008-06-19</th>\n",
       "      <td>LGND/2008-06-19</td>\n",
       "      <td>0</td>\n",
       "      <td>1</td>\n",
       "      <td>1</td>\n",
       "      <td>2.80</td>\n",
       "      <td>3.3800</td>\n",
       "      <td>20.714286</td>\n",
       "    </tr>\n",
       "    <tr>\n",
       "      <th>2008-12-01</th>\n",
       "      <td>SOMX/2008-12-01</td>\n",
       "      <td>0</td>\n",
       "      <td>0</td>\n",
       "      <td>1</td>\n",
       "      <td>9.12</td>\n",
       "      <td>19.8392</td>\n",
       "      <td>117.535088</td>\n",
       "    </tr>\n",
       "    <tr>\n",
       "      <th>2009-02-25</th>\n",
       "      <td>HEB/2009-02-25</td>\n",
       "      <td>1</td>\n",
       "      <td>0</td>\n",
       "      <td>1</td>\n",
       "      <td>0.32</td>\n",
       "      <td>0.5800</td>\n",
       "      <td>81.250000</td>\n",
       "    </tr>\n",
       "  </tbody>\n",
       "</table>\n",
       "</div>"
      ],
      "text/plain": [
       "                      event  pass_prediction  pass_random  pass_all  \\\n",
       "date                                                                  \n",
       "2006-10-06   NEW/2006-10-06                0            0         1   \n",
       "2007-08-15  SPPI/2007-08-15                0            0         1   \n",
       "2007-08-21  NBIX/2007-08-21                0            0         1   \n",
       "2007-12-12  NBIX/2007-12-12                0            0         1   \n",
       "2008-01-30  PGNX/2008-01-30                0            1         1   \n",
       "2008-02-29  JAZZ/2008-02-29                0            0         1   \n",
       "2008-04-30  PGNX/2008-04-30                1            0         1   \n",
       "2008-06-19  LGND/2008-06-19                0            1         1   \n",
       "2008-12-01  SOMX/2008-12-01                0            0         1   \n",
       "2009-02-25   HEB/2009-02-25                1            0         1   \n",
       "\n",
       "            close_-7_Day  close_+60_Day  price_%_change  \n",
       "date                                                     \n",
       "2006-10-06         12.30        12.0000       -2.439024  \n",
       "2007-08-15          4.00         4.5400       13.500000  \n",
       "2007-08-21         10.31        10.0200       -2.812803  \n",
       "2007-12-12         11.72         5.1000      -56.484642  \n",
       "2008-01-30         18.04         6.2100      -65.576497  \n",
       "2008-02-29         11.52         9.0000      -21.875000  \n",
       "2008-04-30          8.03        16.3800      103.985056  \n",
       "2008-06-19          2.80         3.3800       20.714286  \n",
       "2008-12-01          9.12        19.8392      117.535088  \n",
       "2009-02-25          0.32         0.5800       81.250000  "
      ]
     },
     "execution_count": 84,
     "metadata": {},
     "output_type": "execute_result"
    }
   ],
   "source": [
    "sim_df.head(10)"
   ]
  },
  {
   "cell_type": "markdown",
   "metadata": {},
   "source": [
    "That looks like enough info for a basic viz describing the financial preformance of this algorithm"
   ]
  },
  {
   "cell_type": "code",
   "execution_count": 85,
   "metadata": {
    "collapsed": true
   },
   "outputs": [],
   "source": [
    "dill.dump(sim_df, open(\"final_sim_df.pkl\", \"w\"))"
   ]
  },
  {
   "cell_type": "markdown",
   "metadata": {},
   "source": [
    "### Checkpoint 6 dataframe for portfolio simulation"
   ]
  },
  {
   "cell_type": "code",
   "execution_count": 86,
   "metadata": {
    "collapsed": true
   },
   "outputs": [],
   "source": [
    "sim_df = dill.load(open(\"final_sim_df.pkl\", \"r\"))"
   ]
  },
  {
   "cell_type": "code",
   "execution_count": 87,
   "metadata": {
    "collapsed": false
   },
   "outputs": [],
   "source": [
    "mln_changes = []\n",
    "rnd_changes = []\n",
    "all_changes = []\n",
    "for date in sim_df.iterrows():\n",
    "    info = date[1]\n",
    "    if info['pass_prediction'] == 1:\n",
    "        mln_changes.append(info['price_%_change'])\n",
    "    else:\n",
    "        mln_changes.append(0.0)\n",
    "    if info['pass_random'] == 1:\n",
    "        rnd_changes.append(info['price_%_change'])\n",
    "    else:\n",
    "        rnd_changes.append(0.0)\n",
    "    if info['pass_all'] == 1:\n",
    "        all_changes.append(info['price_%_change'])\n",
    "    else:\n",
    "        all_changes.append(0.0)"
   ]
  },
  {
   "cell_type": "markdown",
   "metadata": {},
   "source": [
    "Now we have a list of every percentage change in value we would have if we were to invest over the 10 year analysis period using each methodology: (<font color='SteelBlue'>support vector machine selection</font>, <font color='SeaGreen'>randomly buying stocks</font>, or <font color='Tomato'>buy all stocks with upcoming clinical trials</font>). This projection approximates the change in portfolio value if every equity is purchased one week prior to a PDUFA date and sold two months following the PDUFA date. \n",
    "\n",
    "In the cell below, you can set the inital investment, and a graph will be generated showing the percentage increase over ten years of trading on pharmaceutical stocks. Line thicknesses are assigned based on `log(starting_dollars)`."
   ]
  },
  {
   "cell_type": "code",
   "execution_count": 88,
   "metadata": {
    "collapsed": false
   },
   "outputs": [
    {
     "data": {
      "text/html": [
       "\n",
       "    <div class=\"bk-root\">\n",
       "        <a href=\"http://bokeh.pydata.org\" target=\"_blank\" class=\"bk-logo bk-logo-small bk-logo-notebook\"></a>\n",
       "        <span id=\"f015b567-ef4b-4893-8d98-b59a37259765\">Loading BokehJS ...</span>\n",
       "    </div>"
      ]
     },
     "metadata": {},
     "output_type": "display_data"
    },
    {
     "data": {
      "application/javascript": [
       "\n",
       "(function(global) {\n",
       "  function now() {\n",
       "    return new Date();\n",
       "  }\n",
       "\n",
       "  var force = true;\n",
       "\n",
       "  if (typeof (window._bokeh_onload_callbacks) === \"undefined\" || force === true) {\n",
       "    window._bokeh_onload_callbacks = [];\n",
       "    window._bokeh_is_loading = undefined;\n",
       "  }\n",
       "\n",
       "\n",
       "  \n",
       "  if (typeof (window._bokeh_timeout) === \"undefined\" || force === true) {\n",
       "    window._bokeh_timeout = Date.now() + 5000;\n",
       "    window._bokeh_failed_load = false;\n",
       "  }\n",
       "\n",
       "  var NB_LOAD_WARNING = {'data': {'text/html':\n",
       "     \"<div style='background-color: #fdd'>\\n\"+\n",
       "     \"<p>\\n\"+\n",
       "     \"BokehJS does not appear to have successfully loaded. If loading BokehJS from CDN, this \\n\"+\n",
       "     \"may be due to a slow or bad network connection. Possible fixes:\\n\"+\n",
       "     \"</p>\\n\"+\n",
       "     \"<ul>\\n\"+\n",
       "     \"<li>re-rerun `output_notebook()` to attempt to load from CDN again, or</li>\\n\"+\n",
       "     \"<li>use INLINE resources instead, as so:</li>\\n\"+\n",
       "     \"</ul>\\n\"+\n",
       "     \"<code>\\n\"+\n",
       "     \"from bokeh.resources import INLINE\\n\"+\n",
       "     \"output_notebook(resources=INLINE)\\n\"+\n",
       "     \"</code>\\n\"+\n",
       "     \"</div>\"}};\n",
       "\n",
       "  function display_loaded() {\n",
       "    if (window.Bokeh !== undefined) {\n",
       "      document.getElementById(\"f015b567-ef4b-4893-8d98-b59a37259765\").textContent = \"BokehJS successfully loaded.\";\n",
       "    } else if (Date.now() < window._bokeh_timeout) {\n",
       "      setTimeout(display_loaded, 100)\n",
       "    }\n",
       "  }\n",
       "\n",
       "  function run_callbacks() {\n",
       "    window._bokeh_onload_callbacks.forEach(function(callback) { callback() });\n",
       "    delete window._bokeh_onload_callbacks\n",
       "    console.info(\"Bokeh: all callbacks have finished\");\n",
       "  }\n",
       "\n",
       "  function load_libs(js_urls, callback) {\n",
       "    window._bokeh_onload_callbacks.push(callback);\n",
       "    if (window._bokeh_is_loading > 0) {\n",
       "      console.log(\"Bokeh: BokehJS is being loaded, scheduling callback at\", now());\n",
       "      return null;\n",
       "    }\n",
       "    if (js_urls == null || js_urls.length === 0) {\n",
       "      run_callbacks();\n",
       "      return null;\n",
       "    }\n",
       "    console.log(\"Bokeh: BokehJS not loaded, scheduling load and callback at\", now());\n",
       "    window._bokeh_is_loading = js_urls.length;\n",
       "    for (var i = 0; i < js_urls.length; i++) {\n",
       "      var url = js_urls[i];\n",
       "      var s = document.createElement('script');\n",
       "      s.src = url;\n",
       "      s.async = false;\n",
       "      s.onreadystatechange = s.onload = function() {\n",
       "        window._bokeh_is_loading--;\n",
       "        if (window._bokeh_is_loading === 0) {\n",
       "          console.log(\"Bokeh: all BokehJS libraries loaded\");\n",
       "          run_callbacks()\n",
       "        }\n",
       "      };\n",
       "      s.onerror = function() {\n",
       "        console.warn(\"failed to load library \" + url);\n",
       "      };\n",
       "      console.log(\"Bokeh: injecting script tag for BokehJS library: \", url);\n",
       "      document.getElementsByTagName(\"head\")[0].appendChild(s);\n",
       "    }\n",
       "  };var element = document.getElementById(\"f015b567-ef4b-4893-8d98-b59a37259765\");\n",
       "  if (element == null) {\n",
       "    console.log(\"Bokeh: ERROR: autoload.js configured with elementid 'f015b567-ef4b-4893-8d98-b59a37259765' but no matching script tag was found. \")\n",
       "    return false;\n",
       "  }\n",
       "\n",
       "  var js_urls = [\"https://cdn.pydata.org/bokeh/release/bokeh-0.12.4.min.js\", \"https://cdn.pydata.org/bokeh/release/bokeh-widgets-0.12.4.min.js\"];\n",
       "\n",
       "  var inline_js = [\n",
       "    function(Bokeh) {\n",
       "      Bokeh.set_log_level(\"info\");\n",
       "    },\n",
       "    \n",
       "    function(Bokeh) {\n",
       "      \n",
       "      document.getElementById(\"f015b567-ef4b-4893-8d98-b59a37259765\").textContent = \"BokehJS is loading...\";\n",
       "    },\n",
       "    function(Bokeh) {\n",
       "      console.log(\"Bokeh: injecting CSS: https://cdn.pydata.org/bokeh/release/bokeh-0.12.4.min.css\");\n",
       "      Bokeh.embed.inject_css(\"https://cdn.pydata.org/bokeh/release/bokeh-0.12.4.min.css\");\n",
       "      console.log(\"Bokeh: injecting CSS: https://cdn.pydata.org/bokeh/release/bokeh-widgets-0.12.4.min.css\");\n",
       "      Bokeh.embed.inject_css(\"https://cdn.pydata.org/bokeh/release/bokeh-widgets-0.12.4.min.css\");\n",
       "    }\n",
       "  ];\n",
       "\n",
       "  function run_inline_js() {\n",
       "    \n",
       "    if ((window.Bokeh !== undefined) || (force === true)) {\n",
       "      for (var i = 0; i < inline_js.length; i++) {\n",
       "        inline_js[i](window.Bokeh);\n",
       "      }if (force === true) {\n",
       "        display_loaded();\n",
       "      }} else if (Date.now() < window._bokeh_timeout) {\n",
       "      setTimeout(run_inline_js, 100);\n",
       "    } else if (!window._bokeh_failed_load) {\n",
       "      console.log(\"Bokeh: BokehJS failed to load within specified timeout.\");\n",
       "      window._bokeh_failed_load = true;\n",
       "    } else if (force !== true) {\n",
       "      var cell = $(document.getElementById(\"f015b567-ef4b-4893-8d98-b59a37259765\")).parents('.cell').data().cell;\n",
       "      cell.output_area.append_execute_result(NB_LOAD_WARNING)\n",
       "    }\n",
       "\n",
       "  }\n",
       "\n",
       "  if (window._bokeh_is_loading === 0) {\n",
       "    console.log(\"Bokeh: BokehJS loaded, going straight to plotting\");\n",
       "    run_inline_js();\n",
       "  } else {\n",
       "    load_libs(js_urls, function() {\n",
       "      console.log(\"Bokeh: BokehJS plotting callback run at\", now());\n",
       "      run_inline_js();\n",
       "    });\n",
       "  }\n",
       "}(this));"
      ]
     },
     "metadata": {},
     "output_type": "display_data"
    }
   ],
   "source": [
    "from bokeh.plotting import figure, show\n",
    "from bokeh.io import output_notebook\n",
    "from math import log\n",
    "output_notebook()\n",
    "def calc_changes(start, events):\n",
    "    prices = [start]\n",
    "    for event in events:\n",
    "        last_price = prices[-1]\n",
    "        prices.append(last_price+(last_price*(event/100)))\n",
    "    return prices"
   ]
  },
  {
   "cell_type": "code",
   "execution_count": 89,
   "metadata": {
    "collapsed": false
   },
   "outputs": [
    {
     "data": {
      "text/html": [
       "\n",
       "\n",
       "    <div class=\"bk-root\">\n",
       "        <div class=\"bk-plotdiv\" id=\"89cb5fa0-2714-49cf-8bed-c0bff5e18154\"></div>\n",
       "    </div>\n",
       "<script type=\"text/javascript\">\n",
       "  \n",
       "  (function(global) {\n",
       "    function now() {\n",
       "      return new Date();\n",
       "    }\n",
       "  \n",
       "    var force = false;\n",
       "  \n",
       "    if (typeof (window._bokeh_onload_callbacks) === \"undefined\" || force === true) {\n",
       "      window._bokeh_onload_callbacks = [];\n",
       "      window._bokeh_is_loading = undefined;\n",
       "    }\n",
       "  \n",
       "  \n",
       "    \n",
       "    if (typeof (window._bokeh_timeout) === \"undefined\" || force === true) {\n",
       "      window._bokeh_timeout = Date.now() + 0;\n",
       "      window._bokeh_failed_load = false;\n",
       "    }\n",
       "  \n",
       "    var NB_LOAD_WARNING = {'data': {'text/html':\n",
       "       \"<div style='background-color: #fdd'>\\n\"+\n",
       "       \"<p>\\n\"+\n",
       "       \"BokehJS does not appear to have successfully loaded. If loading BokehJS from CDN, this \\n\"+\n",
       "       \"may be due to a slow or bad network connection. Possible fixes:\\n\"+\n",
       "       \"</p>\\n\"+\n",
       "       \"<ul>\\n\"+\n",
       "       \"<li>re-rerun `output_notebook()` to attempt to load from CDN again, or</li>\\n\"+\n",
       "       \"<li>use INLINE resources instead, as so:</li>\\n\"+\n",
       "       \"</ul>\\n\"+\n",
       "       \"<code>\\n\"+\n",
       "       \"from bokeh.resources import INLINE\\n\"+\n",
       "       \"output_notebook(resources=INLINE)\\n\"+\n",
       "       \"</code>\\n\"+\n",
       "       \"</div>\"}};\n",
       "  \n",
       "    function display_loaded() {\n",
       "      if (window.Bokeh !== undefined) {\n",
       "        document.getElementById(\"89cb5fa0-2714-49cf-8bed-c0bff5e18154\").textContent = \"BokehJS successfully loaded.\";\n",
       "      } else if (Date.now() < window._bokeh_timeout) {\n",
       "        setTimeout(display_loaded, 100)\n",
       "      }\n",
       "    }\n",
       "  \n",
       "    function run_callbacks() {\n",
       "      window._bokeh_onload_callbacks.forEach(function(callback) { callback() });\n",
       "      delete window._bokeh_onload_callbacks\n",
       "      console.info(\"Bokeh: all callbacks have finished\");\n",
       "    }\n",
       "  \n",
       "    function load_libs(js_urls, callback) {\n",
       "      window._bokeh_onload_callbacks.push(callback);\n",
       "      if (window._bokeh_is_loading > 0) {\n",
       "        console.log(\"Bokeh: BokehJS is being loaded, scheduling callback at\", now());\n",
       "        return null;\n",
       "      }\n",
       "      if (js_urls == null || js_urls.length === 0) {\n",
       "        run_callbacks();\n",
       "        return null;\n",
       "      }\n",
       "      console.log(\"Bokeh: BokehJS not loaded, scheduling load and callback at\", now());\n",
       "      window._bokeh_is_loading = js_urls.length;\n",
       "      for (var i = 0; i < js_urls.length; i++) {\n",
       "        var url = js_urls[i];\n",
       "        var s = document.createElement('script');\n",
       "        s.src = url;\n",
       "        s.async = false;\n",
       "        s.onreadystatechange = s.onload = function() {\n",
       "          window._bokeh_is_loading--;\n",
       "          if (window._bokeh_is_loading === 0) {\n",
       "            console.log(\"Bokeh: all BokehJS libraries loaded\");\n",
       "            run_callbacks()\n",
       "          }\n",
       "        };\n",
       "        s.onerror = function() {\n",
       "          console.warn(\"failed to load library \" + url);\n",
       "        };\n",
       "        console.log(\"Bokeh: injecting script tag for BokehJS library: \", url);\n",
       "        document.getElementsByTagName(\"head\")[0].appendChild(s);\n",
       "      }\n",
       "    };var element = document.getElementById(\"89cb5fa0-2714-49cf-8bed-c0bff5e18154\");\n",
       "    if (element == null) {\n",
       "      console.log(\"Bokeh: ERROR: autoload.js configured with elementid '89cb5fa0-2714-49cf-8bed-c0bff5e18154' but no matching script tag was found. \")\n",
       "      return false;\n",
       "    }\n",
       "  \n",
       "    var js_urls = [];\n",
       "  \n",
       "    var inline_js = [\n",
       "      function(Bokeh) {\n",
       "        (function() {\n",
       "          var fn = function() {\n",
       "            var docs_json = {\"48392a37-9f81-46b9-a3a2-71d73164e82b\":{\"roots\":{\"references\":[{\"attributes\":{\"data_source\":{\"id\":\"14806878-856c-4db2-9515-ac68342cafdb\",\"type\":\"ColumnDataSource\"},\"glyph\":{\"id\":\"19d89209-d076-4542-9a92-e8d082984778\",\"type\":\"Line\"},\"hover_glyph\":null,\"nonselection_glyph\":{\"id\":\"daa648d5-b4b3-4aff-90b4-1a74dcec6a2c\",\"type\":\"Line\"},\"selection_glyph\":null},\"id\":\"d22f4c03-60a9-4838-b71e-c4cebb0dafa5\",\"type\":\"GlyphRenderer\"},{\"attributes\":{\"data_source\":{\"id\":\"117bb050-a2cf-4b22-afba-9ef7bb8427cb\",\"type\":\"ColumnDataSource\"},\"glyph\":{\"id\":\"0c64ccf9-d3b5-4e93-8d85-c4951bfea062\",\"type\":\"Line\"},\"hover_glyph\":null,\"nonselection_glyph\":{\"id\":\"f04f4c6f-bb61-4182-8a3d-6bc7809c14a6\",\"type\":\"Line\"},\"selection_glyph\":null},\"id\":\"e9392195-1b30-4197-a81a-036628761e6b\",\"type\":\"GlyphRenderer\"},{\"attributes\":{\"data_source\":{\"id\":\"211400ee-91d5-4314-a7da-0c26b52b7899\",\"type\":\"ColumnDataSource\"},\"glyph\":{\"id\":\"6d275d08-ada9-4844-8643-a77bf533d5b8\",\"type\":\"Line\"},\"hover_glyph\":null,\"nonselection_glyph\":{\"id\":\"53a968ef-57c5-4613-95ca-e5aff8363ccf\",\"type\":\"Line\"},\"selection_glyph\":null},\"id\":\"67176918-b0b7-4119-85e6-1456f6e031c6\",\"type\":\"GlyphRenderer\"},{\"attributes\":{\"line_alpha\":{\"value\":0.1},\"line_color\":{\"value\":\"#1f77b4\"},\"line_width\":{\"value\":1.6989700043360185},\"x\":{\"field\":\"x\"},\"y\":{\"field\":\"y\"}},\"id\":\"31fbb233-b8b2-423c-9f1a-26705d32f8b5\",\"type\":\"Line\"},{\"attributes\":{\"line_alpha\":{\"value\":0.1},\"line_color\":{\"value\":\"#1f77b4\"},\"line_width\":{\"value\":2.0},\"x\":{\"field\":\"x\"},\"y\":{\"field\":\"y\"}},\"id\":\"eb7ce242-a8cb-4b57-9db3-ace90e5fda1d\",\"type\":\"Line\"},{\"attributes\":{\"plot\":{\"id\":\"c3918aee-ee9d-4ffe-b7cf-577a46d7ac9a\",\"subtype\":\"Figure\",\"type\":\"Plot\"}},\"id\":\"6f87085e-476d-486e-be10-f699de7b1a99\",\"type\":\"HelpTool\"},{\"attributes\":{\"callback\":null},\"id\":\"032a356f-0bfb-4475-8d08-921ad5cbb9fd\",\"type\":\"DataRange1d\"},{\"attributes\":{\"callback\":null,\"column_names\":[\"y\",\"x\"],\"data\":{\"x\":[0,1,2,3,4,5,6,7,8,9,10,11,12,13,14,15,16,17,18,19,20,21,22,23,24,25,26,27,28,29,30,31,32,33,34,35,36,37,38,39,40,41,42,43,44,45,46,47,48,49,50,51,52,53,54,55,56,57,58,59,60,61,62,63,64,65,66,67,68,69,70,71,72,73,74,75,76,77,78,79,80,81,82,83,84,85,86,87,88,89,90,91,92,93,94,95,96,97,98,99,100,101,102,103,104,105,106,107,108,109,110,111,112,113,114,115,116,117,118,119,120,121,122,123,124,125,126,127,128,129,130,131,132,133,134,135,136,137,138,139,140,141,142,143,144,145,146,147,148,149,150,151,152,153,154,155,156,157,158,159,160,161,162,163,164,165,166,167,168,169,170,171,172,173,174,175,176,177,178,179,180,181,182,183,184,185,186,187,188,189,190,191,192,193,194,195,196,197,198,199,200,201,202,203,204,205,206,207,208,209,210,211,212,213,214,215,216,217,218,219,220,221,222,223,224],\"y\":[100,100.0,100.0,100.0,100.0,100.0,100.0,203.98505603985055,203.98505603985055,203.98505603985055,369.72291407222906,361.202245711847,361.202245711847,903.9925056613439,903.9925056613439,903.9925056613439,903.9925056613439,903.9925056613439,1261.7300982136985,1461.508042036165,1461.508042036165,1461.508042036165,1461.508042036165,1494.1177549416373,1494.1177549416373,1494.1177549416373,2107.4986385023967,2107.4986385023967,2107.4986385023967,2043.616781001323,1654.8529472977184,1654.8529472977184,1644.8477904216743,2965.734122596644,2240.2026515860707,1605.6205316500925,1363.6925731649771,1363.6925731649771,1363.6925731649771,1363.6925731649771,1363.6925731649771,1363.6925731649771,1363.6925731649771,1367.9288392776052,1367.9288392776052,1367.9288392776052,1367.9288392776052,1367.9288392776052,1052.5945938597156,1052.5945938597156,1014.3184268102714,1014.3184268102714,1014.3184268102714,1003.595704956249,1003.595704956249,1456.4053765855856,1478.913046314273,1478.913046314273,2179.1125728707757,2179.1125728707757,1927.6765067703016,1927.6765067703016,2357.623962937207,1987.3165342036145,1987.3165342036145,2189.6275361194093,1953.8652994605184,1839.5275556335084,948.5830428550126,948.5830428550126,948.5830428550126,780.5483324064104,606.2084832758895,766.94001783314,804.0706697816561,804.0706697816561,804.0706697816561,261.9200498595693,326.40583519642325,326.40583519642325,381.67281452780026,381.67281452780026,381.67281452780026,390.18189832409814,390.18189832409814,390.18189832409814,362.0507418448205,382.12259259563166,382.12259259563166,382.12259259563166,382.12259259563166,382.12259259563166,409.7920481448224,541.266038212173,529.5503230993555,529.5503230993555,529.5503230993555,567.4263920929667,567.4263920929667,783.0816200970951,783.0816200970951,783.0816200970951,783.0816200970951,783.4345185288648,783.4345185288648,783.4345185288648,783.4345185288648,783.4345185288648,783.4345185288648,897.3886303148815,897.3886303148815,897.3886303148815,897.3886303148815,897.3886303148815,897.3886303148815,897.3886303148815,897.3886303148815,768.5481925735129,768.5481925735129,768.5481925735129,776.1667478062434,888.8796581398457,888.8796581398457,867.3711694366015,867.3711694366015,1049.028150205399,1049.028150205399,1049.028150205399,1066.5204030725263,1058.1688801946382,1107.359014815692,1107.359014815692,1107.359014815692,1033.7269189054466,1033.7269189054466,992.9007171732484,992.9007171732484,992.9007171732484,992.9007171732484,992.9007171732484,992.9007171732484,992.9007171732484,1089.9913252765818,1089.9913252765818,1256.8625799520362,1256.8625799520362,1366.3002655444038,1266.4878409078037,1266.4878409078037,1266.4878409078037,1266.4878409078037,1266.4878409078037,1221.0328082584354,1221.0328082584354,1215.5450203561502,1305.4277520364506,1305.4277520364506,1354.3941111564352,1216.619537780177,1560.2973733113006,1560.2973733113006,1560.2973733113006,1560.2973733113006,1560.2973733113006,2098.422660584005,1654.9074610283951,1931.7314813463286,1931.7314813463286,1931.7314813463286,2137.0756937245724,3185.3431749282245,3185.3431749282245,3185.3431749282245,3185.3431749282245,3185.3431749282245,3751.0798005911524,3751.0798005911524,3751.0798005911524,3751.0798005911524,3751.0798005911524,3751.0798005911524,3059.1186864103647,2781.8306636619063,2306.7803353258223,2306.7803353258223,2306.7803353258223,2306.7803353258223,2306.7803353258223,2306.7803353258223,2306.7803353258223,2306.7803353258223,2306.7803353258223,2306.7803353258223,2890.146270329418,2948.2824373162416,2948.2824373162416,2734.499532866881,2832.9017940364056,2832.9017940364056,2832.9017940364056,3107.503646917033,3831.7235600780896,3869.8457519067238,4008.8050806906954,3979.19423065259,4557.949174037619,4401.128417189533,4189.374109657121,4079.506040593369,3434.0145784741653,3434.0145784741653,3434.0145784741653,3434.0145784741653,3434.0145784741653,3434.0145784741653,3715.4424483554667,3894.8511998713134,5086.642330217101,5086.642330217101,5086.642330217101,5086.642330217101,4065.291667470883,4606.520262665301,3500.441939669112,3500.441939669112]}},\"id\":\"a64fcb54-4af7-4723-b35e-783b723dcc24\",\"type\":\"ColumnDataSource\"},{\"attributes\":{\"line_alpha\":{\"value\":0.1},\"line_color\":{\"value\":\"#1f77b4\"},\"line_width\":{\"value\":1.6989700043360185},\"x\":{\"field\":\"x\"},\"y\":{\"field\":\"y\"}},\"id\":\"f04f4c6f-bb61-4182-8a3d-6bc7809c14a6\",\"type\":\"Line\"},{\"attributes\":{\"line_alpha\":{\"value\":0.1},\"line_color\":{\"value\":\"#1f77b4\"},\"line_width\":{\"value\":2.0},\"x\":{\"field\":\"x\"},\"y\":{\"field\":\"y\"}},\"id\":\"daa648d5-b4b3-4aff-90b4-1a74dcec6a2c\",\"type\":\"Line\"},{\"attributes\":{\"data_source\":{\"id\":\"1867417b-6b18-4767-a4b7-21b0781f6137\",\"type\":\"ColumnDataSource\"},\"glyph\":{\"id\":\"477e4616-93cd-4427-888a-5ec67f4dc2b4\",\"type\":\"Line\"},\"hover_glyph\":null,\"nonselection_glyph\":{\"id\":\"31fbb233-b8b2-423c-9f1a-26705d32f8b5\",\"type\":\"Line\"},\"selection_glyph\":null},\"id\":\"3a54899a-9421-495c-a4c9-5775d7f5e35d\",\"type\":\"GlyphRenderer\"},{\"attributes\":{\"plot\":{\"id\":\"c3918aee-ee9d-4ffe-b7cf-577a46d7ac9a\",\"subtype\":\"Figure\",\"type\":\"Plot\"}},\"id\":\"bbf32001-adf3-4f8b-91b8-0e6383b03dd8\",\"type\":\"WheelZoomTool\"},{\"attributes\":{\"data_source\":{\"id\":\"329f51ad-0d8c-452e-a8cb-1b0258591e41\",\"type\":\"ColumnDataSource\"},\"glyph\":{\"id\":\"f48fb56a-aafb-4b7c-8dc1-4212eb94dc61\",\"type\":\"Line\"},\"hover_glyph\":null,\"nonselection_glyph\":{\"id\":\"740815ce-4779-42af-a6da-f5bf23b486d9\",\"type\":\"Line\"},\"selection_glyph\":null},\"id\":\"e79cea7a-bd77-4834-bf56-e7ba8db126da\",\"type\":\"GlyphRenderer\"},{\"attributes\":{\"plot\":{\"id\":\"c3918aee-ee9d-4ffe-b7cf-577a46d7ac9a\",\"subtype\":\"Figure\",\"type\":\"Plot\"}},\"id\":\"0400ec85-e048-4985-8224-7d4cd25cac3b\",\"type\":\"ResetTool\"},{\"attributes\":{\"callback\":null,\"column_names\":[\"y\",\"x\"],\"data\":{\"x\":[0,1,2,3,4,5,6,7,8,9,10,11,12,13,14,15,16,17,18,19,20,21,22,23,24,25,26,27,28,29,30,31,32,33,34,35,36,37,38,39,40,41,42,43,44,45,46,47,48,49,50,51,52,53,54,55,56,57,58,59,60,61,62,63,64,65,66,67,68,69,70,71,72,73,74,75,76,77,78,79,80,81,82,83,84,85,86,87,88,89,90,91,92,93,94,95,96,97,98,99,100,101,102,103,104,105,106,107,108,109,110,111,112,113,114,115,116,117,118,119,120,121,122,123,124,125,126,127,128,129,130,131,132,133,134,135,136,137,138,139,140,141,142,143,144,145,146,147,148,149,150,151,152,153,154,155,156,157,158,159,160,161,162,163,164,165,166,167,168,169,170,171,172,173,174,175,176,177,178,179,180,181,182,183,184,185,186,187,188,189,190,191,192,193,194,195,196,197,198,199,200,201,202,203,204,205,206,207,208,209,210,211,212,213,214,215,216,217,218,219,220,221,222,223,224],\"y\":[50,50.0,50.0,50.0,50.0,50.0,50.0,101.99252801992527,101.99252801992527,101.99252801992527,184.86145703611453,180.6011228559235,180.6011228559235,451.99625283067195,451.99625283067195,451.99625283067195,451.99625283067195,451.99625283067195,630.8650491068493,730.7540210180825,730.7540210180825,730.7540210180825,730.7540210180825,747.0588774708186,747.0588774708186,747.0588774708186,1053.7493192511984,1053.7493192511984,1053.7493192511984,1021.8083905006615,827.4264736488592,827.4264736488592,822.4238952108371,1482.867061298322,1120.1013257930354,802.8102658250463,681.8462865824886,681.8462865824886,681.8462865824886,681.8462865824886,681.8462865824886,681.8462865824886,681.8462865824886,683.9644196388026,683.9644196388026,683.9644196388026,683.9644196388026,683.9644196388026,526.2972969298578,526.2972969298578,507.1592134051357,507.1592134051357,507.1592134051357,501.7978524781245,501.7978524781245,728.2026882927928,739.4565231571365,739.4565231571365,1089.5562864353878,1089.5562864353878,963.8382533851508,963.8382533851508,1178.8119814686036,993.6582671018073,993.6582671018073,1094.8137680597047,976.9326497302592,919.7637778167542,474.2915214275063,474.2915214275063,474.2915214275063,390.2741662032052,303.10424163794477,383.47000891657,402.03533489082804,402.03533489082804,402.03533489082804,130.96002492978465,163.20291759821163,163.20291759821163,190.83640726390013,190.83640726390013,190.83640726390013,195.09094916204907,195.09094916204907,195.09094916204907,181.02537092241025,191.06129629781583,191.06129629781583,191.06129629781583,191.06129629781583,191.06129629781583,204.8960240724112,270.6330191060865,264.77516154967776,264.77516154967776,264.77516154967776,283.71319604648335,283.71319604648335,391.54081004854754,391.54081004854754,391.54081004854754,391.54081004854754,391.7172592644324,391.7172592644324,391.7172592644324,391.7172592644324,391.7172592644324,391.7172592644324,448.69431515744077,448.69431515744077,448.69431515744077,448.69431515744077,448.69431515744077,448.69431515744077,448.69431515744077,448.69431515744077,384.27409628675645,384.27409628675645,384.27409628675645,388.0833739031217,444.43982906992284,444.43982906992284,433.68558471830073,433.68558471830073,524.5140751026995,524.5140751026995,524.5140751026995,533.2602015362631,529.0844400973191,553.679507407846,553.679507407846,553.679507407846,516.8634594527233,516.8634594527233,496.4503585866242,496.4503585866242,496.4503585866242,496.4503585866242,496.4503585866242,496.4503585866242,496.4503585866242,544.9956626382909,544.9956626382909,628.4312899760181,628.4312899760181,683.1501327722019,633.2439204539019,633.2439204539019,633.2439204539019,633.2439204539019,633.2439204539019,610.5164041292177,610.5164041292177,607.7725101780751,652.7138760182253,652.7138760182253,677.1970555782176,608.3097688900885,780.1486866556503,780.1486866556503,780.1486866556503,780.1486866556503,780.1486866556503,1049.2113302920025,827.4537305141976,965.8657406731643,965.8657406731643,965.8657406731643,1068.5378468622862,1592.6715874641122,1592.6715874641122,1592.6715874641122,1592.6715874641122,1592.6715874641122,1875.5399002955762,1875.5399002955762,1875.5399002955762,1875.5399002955762,1875.5399002955762,1875.5399002955762,1529.5593432051824,1390.9153318309532,1153.3901676629112,1153.3901676629112,1153.3901676629112,1153.3901676629112,1153.3901676629112,1153.3901676629112,1153.3901676629112,1153.3901676629112,1153.3901676629112,1153.3901676629112,1445.073135164709,1474.1412186581208,1474.1412186581208,1367.2497664334405,1416.4508970182028,1416.4508970182028,1416.4508970182028,1553.7518234585166,1915.8617800390448,1934.9228759533619,2004.4025403453477,1989.597115326295,2278.9745870188094,2200.5642085947666,2094.6870548285606,2039.7530202966846,1717.0072892370827,1717.0072892370827,1717.0072892370827,1717.0072892370827,1717.0072892370827,1717.0072892370827,1857.7212241777333,1947.4255999356567,2543.3211651085503,2543.3211651085503,2543.3211651085503,2543.3211651085503,2032.6458337354416,2303.2601313326504,1750.220969834556,1750.220969834556]}},\"id\":\"1867417b-6b18-4767-a4b7-21b0781f6137\",\"type\":\"ColumnDataSource\"},{\"attributes\":{\"below\":[{\"id\":\"7a9dab52-188d-4b7e-8a1c-f357ffa191d3\",\"type\":\"LinearAxis\"}],\"left\":[{\"id\":\"a0370b21-3a7b-41d2-9193-e6acebaec2e5\",\"type\":\"LinearAxis\"}],\"plot_height\":500,\"plot_width\":500,\"renderers\":[{\"id\":\"7a9dab52-188d-4b7e-8a1c-f357ffa191d3\",\"type\":\"LinearAxis\"},{\"id\":\"18528820-1a2d-4865-9ea5-1c70a0e1cdfb\",\"type\":\"Grid\"},{\"id\":\"a0370b21-3a7b-41d2-9193-e6acebaec2e5\",\"type\":\"LinearAxis\"},{\"id\":\"0f820c0d-8817-4827-bcb6-34445e071d3b\",\"type\":\"Grid\"},{\"id\":\"94ee1648-53f3-45de-baf9-fcb494873aef\",\"type\":\"BoxAnnotation\"},{\"id\":\"3a54899a-9421-495c-a4c9-5775d7f5e35d\",\"type\":\"GlyphRenderer\"},{\"id\":\"e79cea7a-bd77-4834-bf56-e7ba8db126da\",\"type\":\"GlyphRenderer\"},{\"id\":\"e9392195-1b30-4197-a81a-036628761e6b\",\"type\":\"GlyphRenderer\"},{\"id\":\"b932117b-50ca-4b02-9fba-ff8b5413204e\",\"type\":\"GlyphRenderer\"},{\"id\":\"67176918-b0b7-4119-85e6-1456f6e031c6\",\"type\":\"GlyphRenderer\"},{\"id\":\"d22f4c03-60a9-4838-b71e-c4cebb0dafa5\",\"type\":\"GlyphRenderer\"}],\"title\":{\"id\":\"2ba0b0d2-4691-4547-b00b-ac3cade5e046\",\"type\":\"Title\"},\"tool_events\":{\"id\":\"c89bbe33-3e94-4fc9-8d42-ecee29cb3abe\",\"type\":\"ToolEvents\"},\"toolbar\":{\"id\":\"86021d7e-4c13-4b57-ac19-0c376c1e03b1\",\"type\":\"Toolbar\"},\"x_range\":{\"id\":\"032a356f-0bfb-4475-8d08-921ad5cbb9fd\",\"type\":\"DataRange1d\"},\"y_range\":{\"id\":\"3d4748a9-0673-487a-866d-d3c5890f47df\",\"type\":\"DataRange1d\"}},\"id\":\"c3918aee-ee9d-4ffe-b7cf-577a46d7ac9a\",\"subtype\":\"Figure\",\"type\":\"Plot\"},{\"attributes\":{\"axis_label\":\"# of trials traded on\",\"formatter\":{\"id\":\"449c342e-d4e4-4199-babb-d0d7609cad7f\",\"type\":\"BasicTickFormatter\"},\"plot\":{\"id\":\"c3918aee-ee9d-4ffe-b7cf-577a46d7ac9a\",\"subtype\":\"Figure\",\"type\":\"Plot\"},\"ticker\":{\"id\":\"9a82a75a-78ea-416e-a084-2f9f2909572c\",\"type\":\"BasicTicker\"}},\"id\":\"7a9dab52-188d-4b7e-8a1c-f357ffa191d3\",\"type\":\"LinearAxis\"},{\"attributes\":{\"line_color\":{\"value\":\"SteelBlue\"},\"line_width\":{\"value\":2.0},\"x\":{\"field\":\"x\"},\"y\":{\"field\":\"y\"}},\"id\":\"951c6eb3-d9de-4040-8101-edab85a04271\",\"type\":\"Line\"},{\"attributes\":{\"line_color\":{\"value\":\"SteelBlue\"},\"line_width\":{\"value\":1.6989700043360185},\"x\":{\"field\":\"x\"},\"y\":{\"field\":\"y\"}},\"id\":\"477e4616-93cd-4427-888a-5ec67f4dc2b4\",\"type\":\"Line\"},{\"attributes\":{\"callback\":null,\"column_names\":[\"y\",\"x\"],\"data\":{\"x\":[0,1,2,3,4,5,6,7,8,9,10,11,12,13,14,15,16,17,18,19,20,21,22,23,24,25,26,27,28,29,30,31,32,33,34,35,36,37,38,39,40,41,42,43,44,45,46,47,48,49,50,51,52,53,54,55,56,57,58,59,60,61,62,63,64,65,66,67,68,69,70,71,72,73,74,75,76,77,78,79,80,81,82,83,84,85,86,87,88,89,90,91,92,93,94,95,96,97,98,99,100,101,102,103,104,105,106,107,108,109,110,111,112,113,114,115,116,117,118,119,120,121,122,123,124,125,126,127,128,129,130,131,132,133,134,135,136,137,138,139,140,141,142,143,144,145,146,147,148,149,150,151,152,153,154,155,156,157,158,159,160,161,162,163,164,165,166,167,168,169,170,171,172,173,174,175,176,177,178,179,180,181,182,183,184,185,186,187,188,189,190,191,192,193,194,195,196,197,198,199,200,201,202,203,204,205,206,207,208,209,210,211,212,213,214,215,216,217,218,219,220,221,222,223,224],\"y\":[100,100.0,100.0,100.0,100.0,34.42350332594236,34.42350332594236,34.42350332594236,41.55408615774471,41.55408615774471,41.55408615774471,40.59642685751613,40.59642685751613,40.59642685751613,131.15768677043673,193.36787288732347,225.58001485725106,225.58001485725106,314.8489534132404,364.7010387495604,364.7010387495604,364.7010387495604,279.6998517654109,285.94061924902053,285.94061924902053,285.94061924902053,285.94061924902053,252.4447181369924,174.89711566560067,174.89711566560067,141.6258713589521,141.6258713589521,141.6258713589521,255.35777947213535,192.88754521789312,192.88754521789312,163.82408401276462,196.58890081531754,323.67667507976523,269.3076927035449,269.3076927035449,269.3076927035449,115.37242703849049,115.37242703849049,115.37242703849049,83.71097096971556,28.979407731451495,25.79658121441238,19.84996671368745,16.160574994651302,15.572917722118529,8.231399367405508,8.231399367405508,8.144382308902859,8.144382308902859,8.144382308902859,8.144382308902859,8.144382308902859,12.000384966395881,12.000384966395881,12.000384966395881,16.39183018960597,16.39183018960597,13.817197175531735,10.652217365654224,10.652217365654224,9.505268603786643,8.949032220998761,4.614717615295028,3.7086019545077855,4.577525600853813,4.577525600853813,4.577525600853813,5.79122144081369,5.79122144081369,4.712908073578849,4.712908073578849,4.712908073578849,5.873245277653446,5.873245277653446,5.873245277653446,5.873245277653446,5.853909490731129,5.984417623604571,3.1865080852959404,3.1865080852959404,2.956768679252338,2.956768679252338,2.956768679252338,2.956768679252338,2.956768679252338,2.312344736338367,2.312344736338367,3.0542165961607948,2.9881080118283103,2.9881080118283103,3.2366942471077453,3.2366942471077453,3.2366942471077453,4.4668274336608835,3.8949157534129117,2.2978373273272825,2.2978373273272825,2.298872855640634,2.298872855640634,2.298872855640634,2.4316927497437586,2.2742450177459617,2.2742450177459617,2.605044293054465,2.404656270511814,2.404656270511814,1.7232583332102576,1.5741323388357555,1.643805565559469,1.643805565559469,1.643805565559469,1.643805565559469,1.911171531042033,1.911171531042033,1.911171531042033,2.188706875115093,1.1832819781590695,1.1832819781590695,1.1740285511548931,1.1740285511548931,1.2565774336579716,1.2565774336579716,1.2565774336579716,1.2565774336579716,1.3149908063060545,1.3567906278159094,1.4965586167832705,1.3970473055174921,1.5013769931473153,1.4420813330679436,1.4420813330679436,1.4420813330679436,0.5575909888978633,0.5575909888978633,0.548698597700423,0.6036790821877436,0.6036790821877436,0.5428572799222116,0.5428572799222116,0.5428572799222116,0.5428572799222116,0.5031998907618019,0.4515943713356306,0.35596689978871365,0.35596689978871365,0.28093504826901583,0.2708521154693873,0.24713509006744627,0.24713509006744627,0.24713509006744627,0.2522331616700164,0.2616943819918886,0.2350737465823689,0.2350737465823689,0.22417222077743865,0.04529265781430955,0.03258954176622273,0.030154819317615274,0.030154819317615274,0.02378140324733066,0.02378140324733066,0.02378140324733066,0.013712396858488707,0.01517003284978177,0.02261116007420047,0.03971535324110326,0.03971535324110326,0.04509675213510378,0.023778986700004976,0.028002281635140996,0.03289846007780562,0.03289846007780562,0.03550606569659611,0.03550606569659611,0.03550606569659611,0.02895626721571043,0.02895626721571043,0.024011435588143594,0.02089805228808235,0.01974973163934959,0.01974973163934959,0.020453228914367152,0.020453228914367152,0.013148504302093168,0.019690790883523643,0.019690790883523643,0.019690790883523643,0.02467043131951018,0.02467043131951018,0.0156753142700373,0.0156753142700373,0.0156753142700373,0.0156753142700373,0.0156753142700373,0.0156753142700373,0.01932852791974015,0.01932852791974015,0.01932852791974015,0.019185758658035325,0.019185758658035325,0.019185758658035325,0.019185758658035325,0.019185758658035325,0.016150037351384167,0.016150037351384167,0.016150037351384167,0.016150037351384167,0.016150037351384167,0.015714204259442765,0.015714204259442765,0.015714204259442765,0.02052261626179722,0.02052261626179722,0.02052261626179722,0.024579412499594347,0.019644094146809378,0.022259391239516854,0.016914656227133444,0.016914656227133444]}},\"id\":\"211400ee-91d5-4314-a7da-0c26b52b7899\",\"type\":\"ColumnDataSource\"},{\"attributes\":{},\"id\":\"d8a58561-8428-4ef7-9805-353791914d8d\",\"type\":\"BasicTickFormatter\"},{\"attributes\":{},\"id\":\"449c342e-d4e4-4199-babb-d0d7609cad7f\",\"type\":\"BasicTickFormatter\"},{\"attributes\":{\"plot\":{\"id\":\"c3918aee-ee9d-4ffe-b7cf-577a46d7ac9a\",\"subtype\":\"Figure\",\"type\":\"Plot\"},\"ticker\":{\"id\":\"9a82a75a-78ea-416e-a084-2f9f2909572c\",\"type\":\"BasicTicker\"}},\"id\":\"18528820-1a2d-4865-9ea5-1c70a0e1cdfb\",\"type\":\"Grid\"},{\"attributes\":{\"callback\":null,\"column_names\":[\"y\",\"x\"],\"data\":{\"x\":[0,1,2,3,4,5,6,7,8,9,10,11,12,13,14,15,16,17,18,19,20,21,22,23,24,25,26,27,28,29,30,31,32,33,34,35,36,37,38,39,40,41,42,43,44,45,46,47,48,49,50,51,52,53,54,55,56,57,58,59,60,61,62,63,64,65,66,67,68,69,70,71,72,73,74,75,76,77,78,79,80,81,82,83,84,85,86,87,88,89,90,91,92,93,94,95,96,97,98,99,100,101,102,103,104,105,106,107,108,109,110,111,112,113,114,115,116,117,118,119,120,121,122,123,124,125,126,127,128,129,130,131,132,133,134,135,136,137,138,139,140,141,142,143,144,145,146,147,148,149,150,151,152,153,154,155,156,157,158,159,160,161,162,163,164,165,166,167,168,169,170,171,172,173,174,175,176,177,178,179,180,181,182,183,184,185,186,187,188,189,190,191,192,193,194,195,196,197,198,199,200,201,202,203,204,205,206,207,208,209,210,211,212,213,214,215,216,217,218,219,220,221,222,223,224],\"y\":[50,50.0,50.0,50.0,50.0,17.21175166297118,17.21175166297118,17.21175166297118,20.777043078872357,20.777043078872357,20.777043078872357,20.298213428758064,20.298213428758064,20.298213428758064,65.57884338521836,96.68393644366174,112.79000742862553,112.79000742862553,157.4244767066202,182.3505193747802,182.3505193747802,182.3505193747802,139.84992588270546,142.97030962451026,142.97030962451026,142.97030962451026,142.97030962451026,126.2223590684962,87.44855783280033,87.44855783280033,70.81293567947606,70.81293567947606,70.81293567947606,127.67888973606767,96.44377260894656,96.44377260894656,81.91204200638231,98.29445040765877,161.83833753988262,134.65384635177244,134.65384635177244,134.65384635177244,57.68621351924524,57.68621351924524,57.68621351924524,41.85548548485778,14.489703865725748,12.89829060720619,9.924983356843725,8.080287497325651,7.786458861059264,4.115699683702754,4.115699683702754,4.0721911544514295,4.0721911544514295,4.0721911544514295,4.0721911544514295,4.0721911544514295,6.0001924831979405,6.0001924831979405,6.0001924831979405,8.195915094802984,8.195915094802984,6.9085985877658675,5.326108682827112,5.326108682827112,4.7526343018933215,4.474516110499381,2.307358807647514,1.8543009772538928,2.2887628004269067,2.2887628004269067,2.2887628004269067,2.895610720406845,2.895610720406845,2.3564540367894247,2.3564540367894247,2.3564540367894247,2.936622638826723,2.936622638826723,2.936622638826723,2.936622638826723,2.9269547453655647,2.9922088118022856,1.5932540426479702,1.5932540426479702,1.478384339626169,1.478384339626169,1.478384339626169,1.478384339626169,1.478384339626169,1.1561723681691836,1.1561723681691836,1.5271082980803974,1.4940540059141552,1.4940540059141552,1.6183471235538727,1.6183471235538727,1.6183471235538727,2.2334137168304418,1.9474578767064559,1.1489186636636413,1.1489186636636413,1.149436427820317,1.149436427820317,1.149436427820317,1.2158463748718793,1.1371225088729808,1.1371225088729808,1.3025221465272325,1.202328135255907,1.202328135255907,0.8616291666051288,0.7870661694178778,0.8219027827797345,0.8219027827797345,0.8219027827797345,0.8219027827797345,0.9555857655210165,0.9555857655210165,0.9555857655210165,1.0943534375575465,0.5916409890795348,0.5916409890795348,0.5870142755774466,0.5870142755774466,0.6282887168289858,0.6282887168289858,0.6282887168289858,0.6282887168289858,0.6574954031530272,0.6783953139079547,0.7482793083916353,0.6985236527587461,0.7506884965736577,0.7210406665339718,0.7210406665339718,0.7210406665339718,0.27879549444893165,0.27879549444893165,0.2743492988502115,0.3018395410938718,0.3018395410938718,0.2714286399611058,0.2714286399611058,0.2714286399611058,0.2714286399611058,0.25159994538090097,0.2257971856678153,0.17798344989435683,0.17798344989435683,0.14046752413450792,0.13542605773469366,0.12356754503372314,0.12356754503372314,0.12356754503372314,0.1261165808350082,0.1308471909959443,0.11753687329118445,0.11753687329118445,0.11208611038871932,0.022646328907154775,0.016294770883111365,0.015077409658807637,0.015077409658807637,0.01189070162366533,0.01189070162366533,0.01189070162366533,0.006856198429244354,0.007585016424890885,0.011305580037100235,0.01985767662055163,0.01985767662055163,0.02254837606755189,0.011889493350002488,0.014001140817570498,0.01644923003890281,0.01644923003890281,0.017753032848298055,0.017753032848298055,0.017753032848298055,0.014478133607855215,0.014478133607855215,0.012005717794071797,0.010449026144041175,0.009874865819674795,0.009874865819674795,0.010226614457183576,0.010226614457183576,0.006574252151046584,0.009845395441761821,0.009845395441761821,0.009845395441761821,0.01233521565975509,0.01233521565975509,0.00783765713501865,0.00783765713501865,0.00783765713501865,0.00783765713501865,0.00783765713501865,0.00783765713501865,0.009664263959870075,0.009664263959870075,0.009664263959870075,0.009592879329017662,0.009592879329017662,0.009592879329017662,0.009592879329017662,0.009592879329017662,0.008075018675692084,0.008075018675692084,0.008075018675692084,0.008075018675692084,0.008075018675692084,0.007857102129721382,0.007857102129721382,0.007857102129721382,0.01026130813089861,0.01026130813089861,0.01026130813089861,0.012289706249797173,0.009822047073404689,0.011129695619758427,0.008457328113566722,0.008457328113566722]}},\"id\":\"329f51ad-0d8c-452e-a8cb-1b0258591e41\",\"type\":\"ColumnDataSource\"},{\"attributes\":{\"plot\":null,\"text\":\"\"},\"id\":\"2ba0b0d2-4691-4547-b00b-ac3cade5e046\",\"type\":\"Title\"},{\"attributes\":{\"line_color\":{\"value\":\"Tomato\"},\"line_width\":{\"value\":2.0},\"x\":{\"field\":\"x\"},\"y\":{\"field\":\"y\"}},\"id\":\"6d275d08-ada9-4844-8643-a77bf533d5b8\",\"type\":\"Line\"},{\"attributes\":{\"callback\":null,\"column_names\":[\"y\",\"x\"],\"data\":{\"x\":[0,1,2,3,4,5,6,7,8,9,10,11,12,13,14,15,16,17,18,19,20,21,22,23,24,25,26,27,28,29,30,31,32,33,34,35,36,37,38,39,40,41,42,43,44,45,46,47,48,49,50,51,52,53,54,55,56,57,58,59,60,61,62,63,64,65,66,67,68,69,70,71,72,73,74,75,76,77,78,79,80,81,82,83,84,85,86,87,88,89,90,91,92,93,94,95,96,97,98,99,100,101,102,103,104,105,106,107,108,109,110,111,112,113,114,115,116,117,118,119,120,121,122,123,124,125,126,127,128,129,130,131,132,133,134,135,136,137,138,139,140,141,142,143,144,145,146,147,148,149,150,151,152,153,154,155,156,157,158,159,160,161,162,163,164,165,166,167,168,169,170,171,172,173,174,175,176,177,178,179,180,181,182,183,184,185,186,187,188,189,190,191,192,193,194,195,196,197,198,199,200,201,202,203,204,205,206,207,208,209,210,211,212,213,214,215,216,217,218,219,220,221,222,223,224],\"y\":[100,97.5609756097561,110.73170731707317,107.61704241678692,46.82994166600795,16.120506526935113,12.594145724168058,25.690175213184656,31.011711507344337,67.46135383075722,122.27370381824744,119.4557727683279,122.56336311089626,306.74328035404636,991.016751913073,1461.0718291223275,1704.4641387402482,1768.1283340751984,2467.8310081509335,2858.5787641153124,1777.4496161486236,1405.531403783764,1077.9429821144774,1101.9944482468493,488.1642073374202,444.71503705084353,627.284115998478,553.8022624100848,383.68169894545565,372.05165602631973,301.27506548486963,60.589298883919696,60.22297905995405,108.58472437546425,82.02076700479103,58.786747454004214,49.92901456059682,59.91481747271619,98.64762876820947,82.07747835921572,57.01142764643018,60.10707394064825,25.750096230442033,25.83008805719574,8.274822425442014,6.003977186027575,2.0784814806075005,1.8502005566853565,1.4236932855013946,1.1590801355783604,1.1169317670118746,0.5903782197062767,0.29518910985313834,0.2920685604914893,0.18564357817541238,0.26940360948938474,0.27356704335442517,0.24947046440610793,0.36758362968132163,0.38066913106156286,0.3367457697852287,0.45997520003272185,0.5625677078831574,0.47420628779679763,0.36558416222913015,0.40280103074110113,0.35943051663789805,0.3383970941464392,0.1745001015481805,0.14023640699454057,0.17309372940630494,0.1424314116257595,0.11061855676035068,0.1399482195234297,0.146723675894347,0.11940403311714438,0.05836039820894135,0.019010466347269023,0.02369092075570685,0.0,0.0,0.0,0.0,0.0,0.0,0.0,0.0,0.0,0.0,0.0,0.0,0.0,0.0,0.0,0.0,0.0,0.0,0.0,0.0,0.0,0.0,0.0,0.0,0.0,0.0,0.0,0.0,0.0,0.0,0.0,0.0,0.0,0.0,0.0,0.0,0.0,0.0,0.0,0.0,0.0,0.0,0.0,0.0,0.0,0.0,0.0,0.0,0.0,0.0,0.0,0.0,0.0,0.0,0.0,0.0,0.0,0.0,0.0,0.0,0.0,0.0,0.0,0.0,0.0,0.0,0.0,0.0,0.0,0.0,0.0,0.0,0.0,0.0,0.0,0.0,0.0,0.0,0.0,0.0,0.0,0.0,0.0,0.0,0.0,0.0,0.0,0.0,0.0,0.0,0.0,0.0,0.0,0.0,0.0,0.0,0.0,0.0,0.0,0.0,0.0,0.0,0.0,0.0,0.0,0.0,0.0,0.0,0.0,0.0,0.0,0.0,0.0,0.0,0.0,0.0,0.0,0.0,0.0,0.0,0.0,0.0,0.0,0.0,0.0,0.0,0.0,0.0,0.0,0.0,0.0,0.0,0.0,0.0,0.0,0.0,0.0,0.0,0.0,0.0,0.0,0.0,0.0,0.0,0.0,0.0]}},\"id\":\"14806878-856c-4db2-9515-ac68342cafdb\",\"type\":\"ColumnDataSource\"},{\"attributes\":{\"line_alpha\":{\"value\":0.1},\"line_color\":{\"value\":\"#1f77b4\"},\"line_width\":{\"value\":2.0},\"x\":{\"field\":\"x\"},\"y\":{\"field\":\"y\"}},\"id\":\"53a968ef-57c5-4613-95ca-e5aff8363ccf\",\"type\":\"Line\"},{\"attributes\":{\"plot\":{\"id\":\"c3918aee-ee9d-4ffe-b7cf-577a46d7ac9a\",\"subtype\":\"Figure\",\"type\":\"Plot\"}},\"id\":\"f129a35d-37bc-41a8-88bc-fb3e6f28a445\",\"type\":\"PanTool\"},{\"attributes\":{},\"id\":\"38ec9318-74de-443c-80e2-fa2b99abddf7\",\"type\":\"BasicTicker\"},{\"attributes\":{\"active_drag\":\"auto\",\"active_scroll\":\"auto\",\"active_tap\":\"auto\",\"tools\":[{\"id\":\"f129a35d-37bc-41a8-88bc-fb3e6f28a445\",\"type\":\"PanTool\"},{\"id\":\"bbf32001-adf3-4f8b-91b8-0e6383b03dd8\",\"type\":\"WheelZoomTool\"},{\"id\":\"c28797ca-de0a-4540-89f6-da58bd12415a\",\"type\":\"BoxZoomTool\"},{\"id\":\"0e696ddf-b1c7-466d-9405-03d0d08bebb0\",\"type\":\"SaveTool\"},{\"id\":\"0400ec85-e048-4985-8224-7d4cd25cac3b\",\"type\":\"ResetTool\"},{\"id\":\"6f87085e-476d-486e-be10-f699de7b1a99\",\"type\":\"HelpTool\"}]},\"id\":\"86021d7e-4c13-4b57-ac19-0c376c1e03b1\",\"type\":\"Toolbar\"},{\"attributes\":{\"plot\":{\"id\":\"c3918aee-ee9d-4ffe-b7cf-577a46d7ac9a\",\"subtype\":\"Figure\",\"type\":\"Plot\"}},\"id\":\"0e696ddf-b1c7-466d-9405-03d0d08bebb0\",\"type\":\"SaveTool\"},{\"attributes\":{\"line_alpha\":{\"value\":0.1},\"line_color\":{\"value\":\"#1f77b4\"},\"line_width\":{\"value\":1.6989700043360185},\"x\":{\"field\":\"x\"},\"y\":{\"field\":\"y\"}},\"id\":\"740815ce-4779-42af-a6da-f5bf23b486d9\",\"type\":\"Line\"},{\"attributes\":{\"callback\":null,\"column_names\":[\"y\",\"x\"],\"data\":{\"x\":[0,1,2,3,4,5,6,7,8,9,10,11,12,13,14,15,16,17,18,19,20,21,22,23,24,25,26,27,28,29,30,31,32,33,34,35,36,37,38,39,40,41,42,43,44,45,46,47,48,49,50,51,52,53,54,55,56,57,58,59,60,61,62,63,64,65,66,67,68,69,70,71,72,73,74,75,76,77,78,79,80,81,82,83,84,85,86,87,88,89,90,91,92,93,94,95,96,97,98,99,100,101,102,103,104,105,106,107,108,109,110,111,112,113,114,115,116,117,118,119,120,121,122,123,124,125,126,127,128,129,130,131,132,133,134,135,136,137,138,139,140,141,142,143,144,145,146,147,148,149,150,151,152,153,154,155,156,157,158,159,160,161,162,163,164,165,166,167,168,169,170,171,172,173,174,175,176,177,178,179,180,181,182,183,184,185,186,187,188,189,190,191,192,193,194,195,196,197,198,199,200,201,202,203,204,205,206,207,208,209,210,211,212,213,214,215,216,217,218,219,220,221,222,223,224],\"y\":[50,48.78048780487805,55.36585365853659,53.80852120839346,23.414970833003974,8.060253263467557,6.297072862084029,12.845087606592328,15.505855753672169,33.73067691537861,61.13685190912372,59.72788638416395,61.28168155544813,153.37164017702318,495.5083759565365,730.5359145611637,852.2320693701241,884.0641670375992,1233.9155040754667,1429.2893820576562,888.7248080743118,702.765701891882,538.9714910572387,550.9972241234246,244.0821036687101,222.35751852542177,313.642057999239,276.9011312050424,191.84084947272783,186.02582801315987,150.63753274243481,30.294649441959848,30.111489529977025,54.292362187732124,41.01038350239551,29.393373727002107,24.96450728029841,29.957408736358094,49.323814384104736,41.03873917960786,28.50571382321509,30.053536970324124,12.875048115221016,12.91504402859787,4.137411212721007,3.0019885930137873,1.0392407403037502,0.9251002783426783,0.7118466427506973,0.5795400677891802,0.5584658835059373,0.29518910985313834,0.14759455492656917,0.14603428024574466,0.09282178908770619,0.13470180474469237,0.13678352167721258,0.12473523220305396,0.18379181484066082,0.19033456553078143,0.16837288489261434,0.22998760001636093,0.2812838539415787,0.23710314389839882,0.18279208111456507,0.20140051537055056,0.17971525831894902,0.1691985470732196,0.08725005077409025,0.07011820349727028,0.08654686470315247,0.07121570581287975,0.05530927838017534,0.06997410976171485,0.0733618379471735,0.05970201655857219,0.029180199104470676,0.009505233173634511,0.011845460377853424,0.0,0.0,0.0,0.0,0.0,0.0,0.0,0.0,0.0,0.0,0.0,0.0,0.0,0.0,0.0,0.0,0.0,0.0,0.0,0.0,0.0,0.0,0.0,0.0,0.0,0.0,0.0,0.0,0.0,0.0,0.0,0.0,0.0,0.0,0.0,0.0,0.0,0.0,0.0,0.0,0.0,0.0,0.0,0.0,0.0,0.0,0.0,0.0,0.0,0.0,0.0,0.0,0.0,0.0,0.0,0.0,0.0,0.0,0.0,0.0,0.0,0.0,0.0,0.0,0.0,0.0,0.0,0.0,0.0,0.0,0.0,0.0,0.0,0.0,0.0,0.0,0.0,0.0,0.0,0.0,0.0,0.0,0.0,0.0,0.0,0.0,0.0,0.0,0.0,0.0,0.0,0.0,0.0,0.0,0.0,0.0,0.0,0.0,0.0,0.0,0.0,0.0,0.0,0.0,0.0,0.0,0.0,0.0,0.0,0.0,0.0,0.0,0.0,0.0,0.0,0.0,0.0,0.0,0.0,0.0,0.0,0.0,0.0,0.0,0.0,0.0,0.0,0.0,0.0,0.0,0.0,0.0,0.0,0.0,0.0,0.0,0.0,0.0,0.0,0.0,0.0,0.0,0.0,0.0,0.0,0.0]}},\"id\":\"117bb050-a2cf-4b22-afba-9ef7bb8427cb\",\"type\":\"ColumnDataSource\"},{\"attributes\":{\"line_color\":{\"value\":\"seagreen\"},\"line_width\":{\"value\":2.0},\"x\":{\"field\":\"x\"},\"y\":{\"field\":\"y\"}},\"id\":\"19d89209-d076-4542-9a92-e8d082984778\",\"type\":\"Line\"},{\"attributes\":{\"data_source\":{\"id\":\"a64fcb54-4af7-4723-b35e-783b723dcc24\",\"type\":\"ColumnDataSource\"},\"glyph\":{\"id\":\"951c6eb3-d9de-4040-8101-edab85a04271\",\"type\":\"Line\"},\"hover_glyph\":null,\"nonselection_glyph\":{\"id\":\"eb7ce242-a8cb-4b57-9db3-ace90e5fda1d\",\"type\":\"Line\"},\"selection_glyph\":null},\"id\":\"b932117b-50ca-4b02-9fba-ff8b5413204e\",\"type\":\"GlyphRenderer\"},{\"attributes\":{\"bottom_units\":\"screen\",\"fill_alpha\":{\"value\":0.5},\"fill_color\":{\"value\":\"lightgrey\"},\"left_units\":\"screen\",\"level\":\"overlay\",\"line_alpha\":{\"value\":1.0},\"line_color\":{\"value\":\"black\"},\"line_dash\":[4,4],\"line_width\":{\"value\":2},\"plot\":null,\"render_mode\":\"css\",\"right_units\":\"screen\",\"top_units\":\"screen\"},\"id\":\"94ee1648-53f3-45de-baf9-fcb494873aef\",\"type\":\"BoxAnnotation\"},{\"attributes\":{},\"id\":\"9a82a75a-78ea-416e-a084-2f9f2909572c\",\"type\":\"BasicTicker\"},{\"attributes\":{\"line_color\":{\"value\":\"Tomato\"},\"line_width\":{\"value\":1.6989700043360185},\"x\":{\"field\":\"x\"},\"y\":{\"field\":\"y\"}},\"id\":\"f48fb56a-aafb-4b7c-8dc1-4212eb94dc61\",\"type\":\"Line\"},{\"attributes\":{\"overlay\":{\"id\":\"94ee1648-53f3-45de-baf9-fcb494873aef\",\"type\":\"BoxAnnotation\"},\"plot\":{\"id\":\"c3918aee-ee9d-4ffe-b7cf-577a46d7ac9a\",\"subtype\":\"Figure\",\"type\":\"Plot\"}},\"id\":\"c28797ca-de0a-4540-89f6-da58bd12415a\",\"type\":\"BoxZoomTool\"},{\"attributes\":{\"callback\":null},\"id\":\"3d4748a9-0673-487a-866d-d3c5890f47df\",\"type\":\"DataRange1d\"},{\"attributes\":{\"axis_label\":\"approximate portfolio value\",\"formatter\":{\"id\":\"d8a58561-8428-4ef7-9805-353791914d8d\",\"type\":\"BasicTickFormatter\"},\"plot\":{\"id\":\"c3918aee-ee9d-4ffe-b7cf-577a46d7ac9a\",\"subtype\":\"Figure\",\"type\":\"Plot\"},\"ticker\":{\"id\":\"38ec9318-74de-443c-80e2-fa2b99abddf7\",\"type\":\"BasicTicker\"}},\"id\":\"a0370b21-3a7b-41d2-9193-e6acebaec2e5\",\"type\":\"LinearAxis\"},{\"attributes\":{\"line_color\":{\"value\":\"seagreen\"},\"line_width\":{\"value\":1.6989700043360185},\"x\":{\"field\":\"x\"},\"y\":{\"field\":\"y\"}},\"id\":\"0c64ccf9-d3b5-4e93-8d85-c4951bfea062\",\"type\":\"Line\"},{\"attributes\":{},\"id\":\"c89bbe33-3e94-4fc9-8d42-ecee29cb3abe\",\"type\":\"ToolEvents\"},{\"attributes\":{\"dimension\":1,\"plot\":{\"id\":\"c3918aee-ee9d-4ffe-b7cf-577a46d7ac9a\",\"subtype\":\"Figure\",\"type\":\"Plot\"},\"ticker\":{\"id\":\"38ec9318-74de-443c-80e2-fa2b99abddf7\",\"type\":\"BasicTicker\"}},\"id\":\"0f820c0d-8817-4827-bcb6-34445e071d3b\",\"type\":\"Grid\"}],\"root_ids\":[\"c3918aee-ee9d-4ffe-b7cf-577a46d7ac9a\"]},\"title\":\"Bokeh Application\",\"version\":\"0.12.4\"}};\n",
       "            var render_items = [{\"docid\":\"48392a37-9f81-46b9-a3a2-71d73164e82b\",\"elementid\":\"89cb5fa0-2714-49cf-8bed-c0bff5e18154\",\"modelid\":\"c3918aee-ee9d-4ffe-b7cf-577a46d7ac9a\"}];\n",
       "            \n",
       "            Bokeh.embed.embed_items(docs_json, render_items);\n",
       "          };\n",
       "          if (document.readyState != \"loading\") fn();\n",
       "          else document.addEventListener(\"DOMContentLoaded\", fn);\n",
       "        })();\n",
       "      },\n",
       "      function(Bokeh) {\n",
       "      }\n",
       "    ];\n",
       "  \n",
       "    function run_inline_js() {\n",
       "      \n",
       "      if ((window.Bokeh !== undefined) || (force === true)) {\n",
       "        for (var i = 0; i < inline_js.length; i++) {\n",
       "          inline_js[i](window.Bokeh);\n",
       "        }if (force === true) {\n",
       "          display_loaded();\n",
       "        }} else if (Date.now() < window._bokeh_timeout) {\n",
       "        setTimeout(run_inline_js, 100);\n",
       "      } else if (!window._bokeh_failed_load) {\n",
       "        console.log(\"Bokeh: BokehJS failed to load within specified timeout.\");\n",
       "        window._bokeh_failed_load = true;\n",
       "      } else if (force !== true) {\n",
       "        var cell = $(document.getElementById(\"89cb5fa0-2714-49cf-8bed-c0bff5e18154\")).parents('.cell').data().cell;\n",
       "        cell.output_area.append_execute_result(NB_LOAD_WARNING)\n",
       "      }\n",
       "  \n",
       "    }\n",
       "  \n",
       "    if (window._bokeh_is_loading === 0) {\n",
       "      console.log(\"Bokeh: BokehJS loaded, going straight to plotting\");\n",
       "      run_inline_js();\n",
       "    } else {\n",
       "      load_libs(js_urls, function() {\n",
       "        console.log(\"Bokeh: BokehJS plotting callback run at\", now());\n",
       "        run_inline_js();\n",
       "      });\n",
       "    }\n",
       "  }(this));\n",
       "</script>"
      ]
     },
     "metadata": {},
     "output_type": "display_data"
    }
   ],
   "source": [
    "starting_dollars = [50, 100] #a list of staring values for each investment strategy\n",
    "p = figure(plot_width=500, \n",
    "           plot_height=500, \n",
    "           x_axis_label=\"# of trials traded on\",\n",
    "           y_axis_label=\"approximate portfolio value\"\n",
    "          )\n",
    "for start in starting_dollars:\n",
    "    line_y = calc_changes(start, mln_changes)\n",
    "    line_x = [x for x in range(len(line_y))]\n",
    "    p.line(line_x,\n",
    "           line_y,\n",
    "           line_width=log(start, 10),\n",
    "           color = \"SteelBlue\"\n",
    "          )\n",
    "    \n",
    "    line_y = calc_changes(start, rnd_changes)\n",
    "    line_x = [x for x in range(len(line_y))]\n",
    "    p.line(line_x,\n",
    "           line_y,\n",
    "           line_width=log(start, 10),\n",
    "           color = \"Tomato\"\n",
    "          )\n",
    "    \n",
    "    line_y = calc_changes(start, all_changes)\n",
    "    line_x = [x for x in range(len(line_y))]\n",
    "    p.line(line_x,\n",
    "           line_y,\n",
    "           line_width=log(start, 10),\n",
    "           color = \"seagreen\"\n",
    "          )\n",
    "show(p)"
   ]
  },
  {
   "cell_type": "markdown",
   "metadata": {},
   "source": [
    "This plot shows the percentage change in portfolio value over time, This plot assumes that all profits are reinvested into upcoming PDUFA equities based on thier strategy (<font color='SteelBlue'>support vector machine selection</font>, <font color='SeaGreen'>randomly buying stocks</font>, or <font color='Tomato'>buy all stocks with upcoming clinical trials</font>).  "
   ]
  },
  {
   "cell_type": "markdown",
   "metadata": {},
   "source": [
    "# Closing Remarks"
   ]
  },
  {
   "cell_type": "markdown",
   "metadata": {},
   "source": [
    "The ability of a Machine learning model to predict the failure or passage of drugs through the FDA, based on statistically extracted features, suggests that fundamental information regarding pharmaceutical approvals may be more exposed than in other industries. One obvious application of these techniques is informing trading decisions in the pharmaceutical space (or another industry with similarly high information exposure). This model could also be applied to other industries as a measure of information exposure and its effects on the public markets. \n",
    "\n",
    "I think the obvious next step for this project is to package the model into a webapp, that makes buying and short-selling reccomendations based on upcoming FDA action dates. Unfortunately, my web development skillset will need some buffing up to fully realize this ambition. "
   ]
  }
 ],
 "metadata": {
  "kernelspec": {
   "display_name": "Python 2",
   "language": "python",
   "name": "python2"
  },
  "language_info": {
   "codemirror_mode": {
    "name": "ipython",
    "version": 2
   },
   "file_extension": ".py",
   "mimetype": "text/x-python",
   "name": "python",
   "nbconvert_exporter": "python",
   "pygments_lexer": "ipython2",
   "version": "2.7.13"
  }
 },
 "nbformat": 4,
 "nbformat_minor": 2
}
