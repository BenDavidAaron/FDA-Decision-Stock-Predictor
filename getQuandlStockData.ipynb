{
 "cells": [
  {
   "cell_type": "markdown",
   "metadata": {
    "deletable": true,
    "editable": true
   },
   "source": [
    "# Getting Stock Data\n",
    "First, lets import all the stuff we'll need to get pricing data"
   ]
  },
  {
   "cell_type": "code",
   "execution_count": 2,
   "metadata": {
    "collapsed": false,
    "deletable": true,
    "editable": true
   },
   "outputs": [],
   "source": [
    "import numpy as np\n",
    "import pandas as pd\n",
    "import dill\n",
    "import quandl\n",
    "from sqlalchemy import create_engine, inspect\n",
    "from tqdm import tqdm_notebook"
   ]
  },
  {
   "cell_type": "markdown",
   "metadata": {
    "deletable": true,
    "editable": true
   },
   "source": [
    "Second things second, lets get our set of ticker symbols out of the pickle jar, and into a sorted list"
   ]
  },
  {
   "cell_type": "code",
   "execution_count": 2,
   "metadata": {
    "collapsed": false,
    "deletable": true,
    "editable": true
   },
   "outputs": [],
   "source": [
    "tickSymbs = sorted(dill.load(open('setOfTickerSymbols.pkl', 'r')))"
   ]
  },
  {
   "cell_type": "markdown",
   "metadata": {
    "deletable": true,
    "editable": true
   },
   "source": [
    "Now lets open my Quandl API key from its hidden and ignored file (so nobody scrapes it off this github repo)"
   ]
  },
  {
   "cell_type": "code",
   "execution_count": 3,
   "metadata": {
    "collapsed": false,
    "deletable": true,
    "editable": true
   },
   "outputs": [],
   "source": [
    "quandl_key_handle = open(\"quandl.apikey\", \"r\")\n",
    "quandl.ApiConfig.api_key = quandl_key_handle.read()\n",
    "quandl_key_handle.close()"
   ]
  },
  {
   "cell_type": "markdown",
   "metadata": {
    "deletable": true,
    "editable": true
   },
   "source": [
    "#### Now lets download some pricing data!\n",
    "...straight to a sqlite database now, no more dicts!"
   ]
  },
  {
   "cell_type": "code",
   "execution_count": 4,
   "metadata": {
    "collapsed": false,
    "deletable": true,
    "editable": true
   },
   "outputs": [],
   "source": [
    "engine = create_engine('sqlite:///capstone.db')"
   ]
  },
  {
   "cell_type": "code",
   "execution_count": 5,
   "metadata": {
    "collapsed": false,
    "deletable": true,
    "editable": true,
    "scrolled": true
   },
   "outputs": [
    {
     "name": "stdout",
     "output_type": "stream",
     "text": [
      "\n"
     ]
    }
   ],
   "source": [
    "dlFails = []\n",
    "dlWins = []\n",
    "for ticker in tqdm_notebook(tickSymbs):\n",
    "    try:\n",
    "        #tickerDF = quandl.get(\"WIKI/%s\" % ticker)\n",
    "        quandl.get(\"WIKI/%s\" % ticker).to_sql(ticker, engine, if_exists = 'replace')\n",
    "    except:\n",
    "        dlFails.append(ticker)\n",
    "    else:\n",
    "        dlWins.append(ticker)"
   ]
  },
  {
   "cell_type": "markdown",
   "metadata": {
    "deletable": true,
    "editable": true
   },
   "source": [
    "So I was able to download about 1/3 of my tickers of interest from Quandl. Lets make sure that the API request and `pandas.to_sql()` method actually did what I intended."
   ]
  },
  {
   "cell_type": "code",
   "execution_count": 6,
   "metadata": {
    "collapsed": false,
    "deletable": true,
    "editable": true,
    "scrolled": false
   },
   "outputs": [
    {
     "name": "stdout",
     "output_type": "stream",
     "text": [
      "279\n",
      "[u'AAAP', u'ABBV', u'ABIO', u'ACOR', u'ACRS', u'ACRX', u'ADHD', u'ADMP', u'ADMS', u'ADRO', u'ADXS', u'AERI', u'AEZS', u'AFMD', u'AGEN', u'AGIO', u'AGLE', u'AGN', u'AGRX', u'AGTC', u'AIMT', u'AKAO', u'AKBA', u'ALDR', u'ALDX', u'ALKS', u'ALNY', u'ALRN', u'ALXN', u'AMAG', u'AMGN', u'AMPH', u'AMRN', u'ANAB', u'ANIK', u'ANTH', u'APRI', u'AQXP', u'ARDM', u'ARDX', u'ARGS', u'ARGX', u'ARNA', u'ARQL', u'ARRY', u'AST', u'ATNM', u'ATNX', u'ATRS', u'AVEO', u'AVIR', u'AXON', u'AXSM', u'AZN', u'AZRX', u'BCRX', u'BHVN', u'BIIB', u'BLPH', u'BLRX', u'BLUE', u'BMRN', u'BMY', u'BOLD', u'BPTH', u'BTX', u'BYSI', u'CALA', u'CAPR', u'CATB', u'CBIO', u'CDTX', u'CELG', u'CEMP', u'CERC', u'CFRX', u'CHMA', u'CHRS', u'CLBS', u'CLDX', u'CLRB', u'CLSD', u'CLSN', u'CNAT', u'CNCE', u'CORI', u'CORT', u'CPRX', u'CRBP', u'CRMD', u'CTIC', u'CYCC', u'CYTK', u'CYTR', u'DARE', u'DBVT', u'DCTH', u'DERM', u'DMTX', u'DRRX', u'DVAX', u'EARS', u'EBIO', u'EGLT', u'EGRX', u'EIGR', u'EPZM', u'ESPR', u'EVOK', u'EXEL', u'EYEG', u'FBIO', u'FCSC', u'FENC', u'FGEN', u'FLKS', u'FLXN', u'FOLD', u'FOMX', u'GALE', u'GALT', u'GBT', u'GEMP', u'GERN', u'GILD', u'GLMD', u'GNMX', u'GSK', u'GTHX', u'GTXI', u'GWPH', u'HALO', u'HRTX', u'HSGX', u'HTBX', u'HZNP', u'ICPT', u'IDRA', u'IMDZ', u'IMGN', u'IMRN', u'INCY', u'INNL', u'INVA', u'IONS', u'IOVA', u'IPCI', u'IRWD', u'ITEK', u'JAZZ', u'JNCE', u'JNJ', u'KALA', u'KDMN', u'KERX', u'KITE', u'KMDA', u'KMPH', u'KPTI', u'KURA', u'LGND', u'LJPC', u'LLY', u'LOXO', u'LPCN', u'LXRX', u'MACK', u'MBIO', u'MBRX', u'MBVX', u'MCRB', u'MDCO', u'MDGL', u'MDWD', u'MEIP', u'MESO', u'MNOV', u'MRK', u'MRNS', u'MRSN', u'MRTX', u'MRUS', u'MTFB', u'MTNB', u'MYL', u'MYOK', u'NBIX', u'NBRV', u'NEOS', u'NKTR', u'NLNK', u'NVAX', u'NVCR', u'NVLS', u'NVO', u'NVS', u'OBSV', u'OCRX', u'OCUL', u'OGEN', u'OHRP', u'ONCE', u'ONCS', u'ONTX', u'OPHT', u'OPK', u'OTIC', u'PBYI', u'PFE', u'PGNX', u'PHMMF', u'PLX', u'PRTA', u'PRTO', u'PSTI', u'PTCT', u'PTGX', u'PTI', u'PTLA', u'PULM', u'RARE', u'RDHL', u'RDUS', u'REGN', u'RETA', u'RGLS', u'RGNX', u'RIGL', u'RNN', u'RVNC', u'RXDX', u'RXII', u'SAGE', u'SBBP', u'SCYX', u'SGEN', u'SGMO', u'SGYP', u'SMMT', u'SNDX', u'SNGX', u'SNNA', u'SNY', u'SPHS', u'SPPI', u'SRNE', u'SRPT', u'STML', u'SVRA', u'TBPH', u'TCON', u'TENX', u'TEVA', u'TGTX', u'TNXP', u'TOCA', u'TRVN', u'TSRO', u'TTPH', u'TXMD', u'UTHR', u'VBLT', u'VCEL', u'VICL', u'VKTX', u'VNDA', u'VRNA', u'VRTX', u'VRX', u'VSAR', u'VTL', u'VTVT', u'XBIT', u'XENT', u'XLRN', u'XNCR', u'ZFGN', u'ZGNX', u'ZYNE']\n"
     ]
    }
   ],
   "source": [
    "inspector = inspect(engine)\n",
    "print len(inspector.get_table_names())\n",
    "print inspector.get_table_names()"
   ]
  },
  {
   "cell_type": "markdown",
   "metadata": {
    "deletable": true,
    "editable": true
   },
   "source": [
    "So now we have a sqlite DB with _some_ of the stock histories we wanted. Lets start feature extractions.\n",
    "If needed, I'll buy premium DB access from Quandl and get the whole NYSE. "
   ]
  }
 ],
 "metadata": {
  "kernelspec": {
   "display_name": "Python 2",
   "language": "python",
   "name": "python2"
  },
  "language_info": {
   "codemirror_mode": {
    "name": "ipython",
    "version": 2
   },
   "file_extension": ".py",
   "mimetype": "text/x-python",
   "name": "python",
   "nbconvert_exporter": "python",
   "pygments_lexer": "ipython2",
   "version": "2.7.13"
  }
 },
 "nbformat": 4,
 "nbformat_minor": 2
}
