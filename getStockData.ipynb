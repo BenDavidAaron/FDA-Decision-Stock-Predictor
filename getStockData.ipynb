{
 "cells": [
  {
   "cell_type": "markdown",
   "metadata": {
    "deletable": true,
    "editable": true
   },
   "source": [
    "# Getting Stock Data\n",
    "First, lets import all the stuff we'll need to get pricing data"
   ]
  },
  {
   "cell_type": "code",
   "execution_count": 12,
   "metadata": {
    "collapsed": false,
    "deletable": true,
    "editable": true
   },
   "outputs": [],
   "source": [
    "import numpy as np\n",
    "import pandas as pd\n",
    "import dill\n",
    "import quandl\n",
    "from tqdm import tqdm_notebook"
   ]
  },
  {
   "cell_type": "markdown",
   "metadata": {
    "deletable": true,
    "editable": true
   },
   "source": [
    "Second things second, lets get our set of ticker symbols out of the pickle jar, and into a sorted list"
   ]
  },
  {
   "cell_type": "code",
   "execution_count": 4,
   "metadata": {
    "collapsed": false,
    "deletable": true,
    "editable": true
   },
   "outputs": [],
   "source": [
    "tickSymbs = sorted(dill.load(open('Set_of_Ticker_Symbols.pkl', 'r')))"
   ]
  },
  {
   "cell_type": "markdown",
   "metadata": {
    "deletable": true,
    "editable": true
   },
   "source": [
    "Now lets open my Quandl API key from its hidden and ignored file (so nobody scrapes it off this github repo)"
   ]
  },
  {
   "cell_type": "code",
   "execution_count": 5,
   "metadata": {
    "collapsed": false,
    "deletable": true,
    "editable": true
   },
   "outputs": [],
   "source": [
    "quandl_key_handle = open(\".quandlKey\", \"r\")\n",
    "qKey = quandl_key_handle.read()\n",
    "quandl_key_handle.close()"
   ]
  },
  {
   "cell_type": "code",
   "execution_count": 6,
   "metadata": {
    "collapsed": true
   },
   "outputs": [],
   "source": [
    "stock_dfs = {} #putting dataframes in a dict cause I will learn SQL tonight"
   ]
  },
  {
   "cell_type": "code",
   "execution_count": 13,
   "metadata": {
    "collapsed": false
   },
   "outputs": [
    {
     "ename": "NotFoundError",
     "evalue": "(Status 404) (Quandl Error QECx02) You have submitted an incorrect Quandl code. Please check your Quandl codes and try again.",
     "output_type": "error",
     "traceback": [
      "\u001b[0;31m---------------------------------------------------------------------------\u001b[0m",
      "\u001b[0;31mNotFoundError\u001b[0m                             Traceback (most recent call last)",
      "\u001b[0;32m<ipython-input-13-d9e6167e99a1>\u001b[0m in \u001b[0;36m<module>\u001b[0;34m()\u001b[0m\n\u001b[1;32m      1\u001b[0m \u001b[0mtick\u001b[0m \u001b[0;34m=\u001b[0m \u001b[0;34m\"GSK\"\u001b[0m\u001b[0;34m\u001b[0m\u001b[0m\n\u001b[0;32m----> 2\u001b[0;31m \u001b[0mquandl\u001b[0m\u001b[0;34m.\u001b[0m\u001b[0mget\u001b[0m\u001b[0;34m(\u001b[0m\u001b[0;34m\"WIKI/GSK\"\u001b[0m\u001b[0;34m,\u001b[0m \u001b[0mapi_key\u001b[0m \u001b[0;34m=\u001b[0m \u001b[0mqKey\u001b[0m\u001b[0;34m)\u001b[0m\u001b[0;34m\u001b[0m\u001b[0m\n\u001b[0m",
      "\u001b[0;32m/opt/conda/lib/python2.7/site-packages/quandl/get.pyc\u001b[0m in \u001b[0;36mget\u001b[0;34m(dataset, **kwargs)\u001b[0m\n\u001b[1;32m     46\u001b[0m         \u001b[0;32mif\u001b[0m \u001b[0mdataset_args\u001b[0m\u001b[0;34m[\u001b[0m\u001b[0;34m'column_index'\u001b[0m\u001b[0;34m]\u001b[0m \u001b[0;32mis\u001b[0m \u001b[0;32mnot\u001b[0m \u001b[0mNone\u001b[0m\u001b[0;34m:\u001b[0m\u001b[0;34m\u001b[0m\u001b[0m\n\u001b[1;32m     47\u001b[0m             \u001b[0mkwargs\u001b[0m\u001b[0;34m.\u001b[0m\u001b[0mupdate\u001b[0m\u001b[0;34m(\u001b[0m\u001b[0;34m{\u001b[0m\u001b[0;34m'column_index'\u001b[0m\u001b[0;34m:\u001b[0m \u001b[0mdataset_args\u001b[0m\u001b[0;34m[\u001b[0m\u001b[0;34m'column_index'\u001b[0m\u001b[0;34m]\u001b[0m\u001b[0;34m}\u001b[0m\u001b[0;34m)\u001b[0m\u001b[0;34m\u001b[0m\u001b[0m\n\u001b[0;32m---> 48\u001b[0;31m         \u001b[0mdata\u001b[0m \u001b[0;34m=\u001b[0m \u001b[0mDataset\u001b[0m\u001b[0;34m(\u001b[0m\u001b[0mdataset_args\u001b[0m\u001b[0;34m[\u001b[0m\u001b[0;34m'code'\u001b[0m\u001b[0;34m]\u001b[0m\u001b[0;34m)\u001b[0m\u001b[0;34m.\u001b[0m\u001b[0mdata\u001b[0m\u001b[0;34m(\u001b[0m\u001b[0mparams\u001b[0m\u001b[0;34m=\u001b[0m\u001b[0mkwargs\u001b[0m\u001b[0;34m,\u001b[0m \u001b[0mhandle_column_not_found\u001b[0m\u001b[0;34m=\u001b[0m\u001b[0mTrue\u001b[0m\u001b[0;34m)\u001b[0m\u001b[0;34m\u001b[0m\u001b[0m\n\u001b[0m\u001b[1;32m     49\u001b[0m     \u001b[0;31m# Array\u001b[0m\u001b[0;34m\u001b[0m\u001b[0;34m\u001b[0m\u001b[0m\n\u001b[1;32m     50\u001b[0m     \u001b[0;32melif\u001b[0m \u001b[0misinstance\u001b[0m\u001b[0;34m(\u001b[0m\u001b[0mdataset\u001b[0m\u001b[0;34m,\u001b[0m \u001b[0mlist\u001b[0m\u001b[0;34m)\u001b[0m\u001b[0;34m:\u001b[0m\u001b[0;34m\u001b[0m\u001b[0m\n",
      "\u001b[0;32m/opt/conda/lib/python2.7/site-packages/quandl/model/dataset.pyc\u001b[0m in \u001b[0;36mdata\u001b[0;34m(self, **options)\u001b[0m\n\u001b[1;32m     45\u001b[0m         \u001b[0mupdated_options\u001b[0m \u001b[0;34m=\u001b[0m \u001b[0mUtil\u001b[0m\u001b[0;34m.\u001b[0m\u001b[0mmerge_options\u001b[0m\u001b[0;34m(\u001b[0m\u001b[0;34m'params'\u001b[0m\u001b[0;34m,\u001b[0m \u001b[0mparams\u001b[0m\u001b[0;34m,\u001b[0m \u001b[0;34m**\u001b[0m\u001b[0moptions\u001b[0m\u001b[0;34m)\u001b[0m\u001b[0;34m\u001b[0m\u001b[0m\n\u001b[1;32m     46\u001b[0m         \u001b[0;32mtry\u001b[0m\u001b[0;34m:\u001b[0m\u001b[0;34m\u001b[0m\u001b[0m\n\u001b[0;32m---> 47\u001b[0;31m             \u001b[0;32mreturn\u001b[0m \u001b[0mData\u001b[0m\u001b[0;34m.\u001b[0m\u001b[0mall\u001b[0m\u001b[0;34m(\u001b[0m\u001b[0;34m**\u001b[0m\u001b[0mupdated_options\u001b[0m\u001b[0;34m)\u001b[0m\u001b[0;34m\u001b[0m\u001b[0m\n\u001b[0m\u001b[1;32m     48\u001b[0m         \u001b[0;32mexcept\u001b[0m \u001b[0mNotFoundError\u001b[0m\u001b[0;34m:\u001b[0m\u001b[0;34m\u001b[0m\u001b[0m\n\u001b[1;32m     49\u001b[0m             \u001b[0;32mif\u001b[0m \u001b[0mhandle_not_found_error\u001b[0m\u001b[0;34m:\u001b[0m\u001b[0;34m\u001b[0m\u001b[0m\n",
      "\u001b[0;32m/opt/conda/lib/python2.7/site-packages/quandl/operations/list.pyc\u001b[0m in \u001b[0;36mall\u001b[0;34m(cls, **options)\u001b[0m\n\u001b[1;32m     12\u001b[0m             \u001b[0moptions\u001b[0m\u001b[0;34m[\u001b[0m\u001b[0;34m'params'\u001b[0m\u001b[0;34m]\u001b[0m \u001b[0;34m=\u001b[0m \u001b[0;34m{\u001b[0m\u001b[0;34m}\u001b[0m\u001b[0;34m\u001b[0m\u001b[0m\n\u001b[1;32m     13\u001b[0m         \u001b[0mpath\u001b[0m \u001b[0;34m=\u001b[0m \u001b[0mUtil\u001b[0m\u001b[0;34m.\u001b[0m\u001b[0mconstructed_path\u001b[0m\u001b[0;34m(\u001b[0m\u001b[0mcls\u001b[0m\u001b[0;34m.\u001b[0m\u001b[0mlist_path\u001b[0m\u001b[0;34m(\u001b[0m\u001b[0;34m)\u001b[0m\u001b[0;34m,\u001b[0m \u001b[0moptions\u001b[0m\u001b[0;34m[\u001b[0m\u001b[0;34m'params'\u001b[0m\u001b[0;34m]\u001b[0m\u001b[0;34m)\u001b[0m\u001b[0;34m\u001b[0m\u001b[0m\n\u001b[0;32m---> 14\u001b[0;31m         \u001b[0mr\u001b[0m \u001b[0;34m=\u001b[0m \u001b[0mConnection\u001b[0m\u001b[0;34m.\u001b[0m\u001b[0mrequest\u001b[0m\u001b[0;34m(\u001b[0m\u001b[0;34m'get'\u001b[0m\u001b[0;34m,\u001b[0m \u001b[0mpath\u001b[0m\u001b[0;34m,\u001b[0m \u001b[0;34m**\u001b[0m\u001b[0moptions\u001b[0m\u001b[0;34m)\u001b[0m\u001b[0;34m\u001b[0m\u001b[0m\n\u001b[0m\u001b[1;32m     15\u001b[0m         \u001b[0mresponse_data\u001b[0m \u001b[0;34m=\u001b[0m \u001b[0mr\u001b[0m\u001b[0;34m.\u001b[0m\u001b[0mjson\u001b[0m\u001b[0;34m(\u001b[0m\u001b[0;34m)\u001b[0m\u001b[0;34m\u001b[0m\u001b[0m\n\u001b[1;32m     16\u001b[0m         \u001b[0mUtil\u001b[0m\u001b[0;34m.\u001b[0m\u001b[0mconvert_to_dates\u001b[0m\u001b[0;34m(\u001b[0m\u001b[0mresponse_data\u001b[0m\u001b[0;34m)\u001b[0m\u001b[0;34m\u001b[0m\u001b[0m\n",
      "\u001b[0;32m/opt/conda/lib/python2.7/site-packages/quandl/connection.pyc\u001b[0m in \u001b[0;36mrequest\u001b[0;34m(cls, http_verb, url, **options)\u001b[0m\n\u001b[1;32m     34\u001b[0m         \u001b[0mabs_url\u001b[0m \u001b[0;34m=\u001b[0m \u001b[0;34m'%s/%s'\u001b[0m \u001b[0;34m%\u001b[0m \u001b[0;34m(\u001b[0m\u001b[0mApiConfig\u001b[0m\u001b[0;34m.\u001b[0m\u001b[0mapi_base\u001b[0m\u001b[0;34m,\u001b[0m \u001b[0murl\u001b[0m\u001b[0;34m)\u001b[0m\u001b[0;34m\u001b[0m\u001b[0m\n\u001b[1;32m     35\u001b[0m \u001b[0;34m\u001b[0m\u001b[0m\n\u001b[0;32m---> 36\u001b[0;31m         \u001b[0;32mreturn\u001b[0m \u001b[0mcls\u001b[0m\u001b[0;34m.\u001b[0m\u001b[0mexecute_request\u001b[0m\u001b[0;34m(\u001b[0m\u001b[0mhttp_verb\u001b[0m\u001b[0;34m,\u001b[0m \u001b[0mabs_url\u001b[0m\u001b[0;34m,\u001b[0m \u001b[0;34m**\u001b[0m\u001b[0moptions\u001b[0m\u001b[0;34m)\u001b[0m\u001b[0;34m\u001b[0m\u001b[0m\n\u001b[0m\u001b[1;32m     37\u001b[0m \u001b[0;34m\u001b[0m\u001b[0m\n\u001b[1;32m     38\u001b[0m     \u001b[0;34m@\u001b[0m\u001b[0mclassmethod\u001b[0m\u001b[0;34m\u001b[0m\u001b[0m\n",
      "\u001b[0;32m/opt/conda/lib/python2.7/site-packages/quandl/connection.pyc\u001b[0m in \u001b[0;36mexecute_request\u001b[0;34m(cls, http_verb, url, **options)\u001b[0m\n\u001b[1;32m     42\u001b[0m             \u001b[0mresponse\u001b[0m \u001b[0;34m=\u001b[0m \u001b[0mfunc\u001b[0m\u001b[0;34m(\u001b[0m\u001b[0murl\u001b[0m\u001b[0;34m,\u001b[0m \u001b[0;34m**\u001b[0m\u001b[0moptions\u001b[0m\u001b[0;34m)\u001b[0m\u001b[0;34m\u001b[0m\u001b[0m\n\u001b[1;32m     43\u001b[0m             \u001b[0;32mif\u001b[0m \u001b[0mresponse\u001b[0m\u001b[0;34m.\u001b[0m\u001b[0mstatus_code\u001b[0m \u001b[0;34m<\u001b[0m \u001b[0;36m200\u001b[0m \u001b[0;32mor\u001b[0m \u001b[0mresponse\u001b[0m\u001b[0;34m.\u001b[0m\u001b[0mstatus_code\u001b[0m \u001b[0;34m>=\u001b[0m \u001b[0;36m300\u001b[0m\u001b[0;34m:\u001b[0m\u001b[0;34m\u001b[0m\u001b[0m\n\u001b[0;32m---> 44\u001b[0;31m                 \u001b[0mcls\u001b[0m\u001b[0;34m.\u001b[0m\u001b[0mhandle_api_error\u001b[0m\u001b[0;34m(\u001b[0m\u001b[0mresponse\u001b[0m\u001b[0;34m)\u001b[0m\u001b[0;34m\u001b[0m\u001b[0m\n\u001b[0m\u001b[1;32m     45\u001b[0m             \u001b[0;32melse\u001b[0m\u001b[0;34m:\u001b[0m\u001b[0;34m\u001b[0m\u001b[0m\n\u001b[1;32m     46\u001b[0m                 \u001b[0;32mreturn\u001b[0m \u001b[0mresponse\u001b[0m\u001b[0;34m\u001b[0m\u001b[0m\n",
      "\u001b[0;32m/opt/conda/lib/python2.7/site-packages/quandl/connection.pyc\u001b[0m in \u001b[0;36mhandle_api_error\u001b[0;34m(cls, resp)\u001b[0m\n\u001b[1;32m     83\u001b[0m         \u001b[0mklass\u001b[0m \u001b[0;34m=\u001b[0m \u001b[0md_klass\u001b[0m\u001b[0;34m.\u001b[0m\u001b[0mget\u001b[0m\u001b[0;34m(\u001b[0m\u001b[0mcode_letter\u001b[0m\u001b[0;34m,\u001b[0m \u001b[0mQuandlError\u001b[0m\u001b[0;34m)\u001b[0m\u001b[0;34m\u001b[0m\u001b[0m\n\u001b[1;32m     84\u001b[0m \u001b[0;34m\u001b[0m\u001b[0m\n\u001b[0;32m---> 85\u001b[0;31m         \u001b[0;32mraise\u001b[0m \u001b[0mklass\u001b[0m\u001b[0;34m(\u001b[0m\u001b[0mmessage\u001b[0m\u001b[0;34m,\u001b[0m \u001b[0mresp\u001b[0m\u001b[0;34m.\u001b[0m\u001b[0mstatus_code\u001b[0m\u001b[0;34m,\u001b[0m \u001b[0mresp\u001b[0m\u001b[0;34m.\u001b[0m\u001b[0mtext\u001b[0m\u001b[0;34m,\u001b[0m \u001b[0mresp\u001b[0m\u001b[0;34m.\u001b[0m\u001b[0mheaders\u001b[0m\u001b[0;34m,\u001b[0m \u001b[0mcode\u001b[0m\u001b[0;34m)\u001b[0m\u001b[0;34m\u001b[0m\u001b[0m\n\u001b[0m",
      "\u001b[0;31mNotFoundError\u001b[0m: (Status 404) (Quandl Error QECx02) You have submitted an incorrect Quandl code. Please check your Quandl codes and try again."
     ]
    }
   ],
   "source": [
    "tick = \"GSK\"\n",
    "quandl.get(\"WIKI/GSK\", api_key = qKey)"
   ]
  },
  {
   "cell_type": "code",
   "execution_count": 15,
   "metadata": {
    "collapsed": false,
    "scrolled": false
   },
   "outputs": [
    {
     "name": "stdout",
     "output_type": "stream",
     "text": [
      "AAAP broke it\n",
      "Success pulling: ABBV\n",
      "ABIO broke it\n",
      "ABUS broke it\n",
      "Success pulling: ACOR\n",
      "ACRS broke it\n",
      "Success pulling: ACRX\n",
      "ADHD broke it\n",
      "ADMP broke it\n",
      "Success pulling: ADMS\n",
      "ADRO broke it\n",
      "ADXS broke it\n",
      "Success pulling: AERI\n",
      "AEZS broke it\n",
      "AFMD broke it\n",
      "Success pulling: AGEN\n",
      "Success pulling: AGIO\n",
      "AGLE broke it\n",
      "Success pulling: AGN\n",
      "AGRX broke it\n",
      "Success pulling: AGTC\n",
      "AIMT broke it\n",
      "Success pulling: AKAO\n",
      "Success pulling: AKBA\n",
      "Success pulling: ALDR\n",
      "ALDX broke it\n",
      "Success pulling: ALKS\n",
      "Success pulling: ALNY\n",
      "ALRN broke it\n",
      "Success pulling: ALXN\n",
      "Success pulling: AMAG\n",
      "Success pulling: AMGN\n",
      "AMPH broke it\n",
      "AMRN broke it\n",
      "ANAB broke it\n",
      "Success pulling: ANIK\n",
      "ANTH broke it\n",
      "APRI broke it\n",
      "AQXP broke it\n",
      "ARDX broke it\n",
      "ARGS broke it\n",
      "ARGX broke it\n",
      "Success pulling: ARNA\n",
      "Success pulling: ARQL\n",
      "Success pulling: ARRY\n",
      "AST broke it\n",
      "Success pulling: ATNM\n",
      "ATNX broke it\n",
      "Success pulling: ATRS\n",
      "Success pulling: AVEO\n",
      "AVIR broke it\n",
      "AXON broke it\n",
      "AXSM broke it\n",
      "AZN broke it\n",
      "AZRX broke it\n",
      "Success pulling: BCRX\n",
      "BHVN broke it\n",
      "Success pulling: BIIB\n",
      "BLPH broke it\n",
      "BLRX broke it\n",
      "Success pulling: BLUE\n",
      "Success pulling: BMRN\n",
      "Success pulling: BMY\n",
      "BOLD broke it\n",
      "Success pulling: BPTH\n",
      "Success pulling: BTX\n",
      "BYSI broke it\n",
      "CALA broke it\n",
      "CAPR broke it\n",
      "CATB broke it\n",
      "CBIO broke it\n",
      "CDTX broke it\n",
      "Success pulling: CELG\n",
      "Success pulling: CEMP\n",
      "CERC broke it\n",
      "CFRX broke it\n",
      "CHMA broke it\n",
      "CHRS broke it\n",
      "CLBS broke it\n",
      "Success pulling: CLDX\n",
      "CLRB broke it\n",
      "CLSD broke it\n",
      "CLSN broke it\n",
      "CNAT broke it\n",
      "CNCE broke it\n",
      "CORI broke it\n",
      "Success pulling: CORT\n",
      "CPRX broke it\n",
      "CRBP broke it\n",
      "CRMD broke it\n",
      "Success pulling: CTIC\n",
      "CYCC broke it\n",
      "Success pulling: CYTK\n",
      "Success pulling: CYTR\n",
      "DARE broke it\n",
      "DBVT broke it\n",
      "DCTH broke it\n",
      "DERM broke it\n",
      "DMTX broke it\n",
      "DRRX broke it\n",
      "Success pulling: DVAX\n",
      "EARS broke it\n",
      "Success pulling: EBIO\n",
      "Success pulling: EGLT\n",
      "EGRX broke it\n",
      "EIGR broke it\n",
      "Success pulling: EPZM\n",
      "Success pulling: ESPR\n",
      "EVOK broke it\n",
      "Success pulling: EXEL\n",
      "EYEG broke it\n",
      "FBIO broke it\n",
      "Success pulling: FCSC\n",
      "FENC broke it\n",
      "FGEN broke it\n",
      "FLKS broke it\n",
      "Success pulling: FLXN\n",
      "Success pulling: FOLD\n",
      "FOMX broke it\n",
      "Success pulling: GALE\n",
      "Success pulling: GALT\n",
      "GBT broke it\n",
      "GEMP broke it\n",
      "Success pulling: GERN\n",
      "Success pulling: GILD\n",
      "GLMD broke it\n",
      "GNMX broke it\n",
      "GSK broke it\n",
      "GTHX broke it\n",
      "Success pulling: GTXI\n",
      "GWPH broke it\n",
      "Success pulling: HALO\n",
      "Success pulling: HRTX\n",
      "HSGX broke it\n",
      "HTBX broke it\n",
      "Success pulling: HZNP\n",
      "Success pulling: ICPT\n",
      "Success pulling: IDRA\n",
      "IMDZ broke it\n",
      "Success pulling: IMGN\n",
      "IMRN broke it\n",
      "Success pulling: INCY\n",
      "INNL broke it\n",
      "INVA broke it\n",
      "IONS broke it\n",
      "IOVA broke it\n",
      "IPCI broke it\n",
      "Success pulling: IRWD\n",
      "ITEK broke it\n",
      "JAZZ broke it\n",
      "JNCE broke it\n",
      "Success pulling: JNJ\n",
      "KALA broke it\n",
      "KDMN broke it\n",
      "Success pulling: KERX\n",
      "KIND broke it\n",
      "KITE broke it\n",
      "KMDA broke it\n",
      "KMPH broke it\n",
      "Success pulling: KPTI\n",
      "KURA broke it\n",
      "Success pulling: LGND\n",
      "LJPC broke it\n",
      "Success pulling: LLY\n",
      "LOXO broke it\n",
      "LPCN broke it\n",
      "Success pulling: LXRX\n",
      "Success pulling: MACK\n",
      "MBIO broke it\n",
      "MBRX broke it\n",
      "MBVX broke it\n",
      "MCRB broke it\n",
      "Success pulling: MDCO\n",
      "MDGL broke it\n",
      "MDWD broke it\n",
      "Success pulling: MEIP\n",
      "MESO broke it\n",
      "MNOV broke it\n",
      "Success pulling: MRK\n",
      "MRNS broke it\n",
      "MRSN broke it\n",
      "Success pulling: MRTX\n",
      "MRUS broke it\n",
      "MTFB broke it\n",
      "MTNB broke it\n",
      "Success pulling: MYL\n",
      "MYOK broke it\n",
      "Success pulling: NBIX\n",
      "NBRV broke it\n",
      "NEOS broke it\n",
      "Success pulling: NKTR\n",
      "Success pulling: NLNK\n",
      "Success pulling: NVAX\n",
      "NVCR broke it\n",
      "NVLS broke it\n",
      "NVO broke it\n",
      "NVS broke it\n",
      "OBSV broke it\n",
      "OCRX broke it\n",
      "OCUL broke it\n",
      "OGEN broke it\n",
      "Success pulling: OHRP\n",
      "ONCE broke it\n",
      "ONCS broke it\n",
      "ONTX broke it\n",
      "Success pulling: OPHT\n",
      "Success pulling: OPK\n",
      "OTIC broke it\n",
      "Success pulling: PBYI\n",
      "Success pulling: PFE\n",
      "Success pulling: PGNX\n",
      "PHMMF broke it\n",
      "PLX broke it\n",
      "PRQR broke it\n",
      "Success pulling: PRTA\n",
      "PRTO broke it\n",
      "PSTI broke it\n",
      "Success pulling: PTCT\n",
      "PTGX broke it\n",
      "PTI broke it\n",
      "Success pulling: PTLA\n",
      "PULM broke it\n",
      "Success pulling: RARE\n",
      "RDHL broke it\n",
      "RDUS broke it\n",
      "Success pulling: REGN\n",
      "RETA broke it\n",
      "Success pulling: RGLS\n",
      "RGNX broke it\n",
      "RHHBY broke it\n",
      "Success pulling: RIGL\n",
      "RNN broke it\n",
      "Success pulling: RVNC\n",
      "RXDX broke it\n",
      "RXII broke it\n",
      "SAGE broke it\n",
      "SBBP broke it\n",
      "SCYX broke it\n",
      "Success pulling: SGEN\n",
      "Success pulling: SGMO\n",
      "Success pulling: SGYP\n",
      "SMMT broke it\n",
      "SNDX broke it\n",
      "SNGX broke it\n",
      "SNNA broke it\n",
      "SNY broke it\n",
      "SPHS broke it\n",
      "Success pulling: SPPI\n",
      "SRNE broke it\n",
      "Success pulling: STML\n",
      "SVRA broke it\n",
      "Success pulling: TBPH\n",
      "TCON broke it\n",
      "TENX broke it\n",
      "TEVA broke it\n",
      "Success pulling: TGTX\n",
      "TNXP broke it\n",
      "TOCA broke it\n",
      "TRVN broke it\n",
      "Success pulling: TSRO\n",
      "Success pulling: TTPH\n",
      "Success pulling: TXMD\n",
      "Success pulling: UTHR\n",
      "VBLT broke it\n",
      "VCEL broke it\n",
      "Success pulling: VICL\n",
      "VKTX broke it\n",
      "Success pulling: VNDA\n",
      "VRNA broke it\n",
      "Success pulling: VRTX\n",
      "Success pulling: VRX\n",
      "Success pulling: VSAR\n",
      "Success pulling: VTL\n",
      "VTVT broke it\n",
      "XBIT broke it\n",
      "XENT broke it\n",
      "Success pulling: XLRN\n",
      "Success pulling: XNCR\n",
      "ZFGN broke it\n",
      "Success pulling: ZGNX\n",
      "ZYNE broke it\n"
     ]
    }
   ],
   "source": [
    "for tick in tqdm_notebook(tickSymbs):\n",
    "    try:\n",
    "        stock_dfs[tick] = quandl.get(\"WIKI/%s\" %tick, api_key = qKey)\n",
    "        print \"Success pulling: %s\" % tick\n",
    "    except:\n",
    "        print \"%s broke it\" % tick"
   ]
  },
  {
   "cell_type": "code",
   "execution_count": 9,
   "metadata": {
    "collapsed": false
   },
   "outputs": [
    {
     "data": {
      "text/plain": [
       "110"
      ]
     },
     "execution_count": 9,
     "metadata": {},
     "output_type": "execute_result"
    }
   ],
   "source": [
    "len(stock_dfs)"
   ]
  },
  {
   "cell_type": "code",
   "execution_count": null,
   "metadata": {
    "collapsed": true
   },
   "outputs": [],
   "source": []
  }
 ],
 "metadata": {
  "kernelspec": {
   "display_name": "Python 2",
   "language": "python",
   "name": "python2"
  },
  "language_info": {
   "codemirror_mode": {
    "name": "ipython",
    "version": 2
   },
   "file_extension": ".py",
   "mimetype": "text/x-python",
   "name": "python",
   "nbconvert_exporter": "python",
   "pygments_lexer": "ipython2",
   "version": "2.7.13"
  }
 },
 "nbformat": 4,
 "nbformat_minor": 2
}
